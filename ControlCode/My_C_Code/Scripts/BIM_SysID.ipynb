{
 "cells": [
  {
   "cell_type": "markdown",
   "metadata": {},
   "source": [
    "# Cabinet Start-Up Procedure"
   ]
  },
  {
   "cell_type": "markdown",
   "metadata": {},
   "source": [
    "1. Turn on cabinet power in back of cabinet\n",
    "2. Turn on sensor power (24 Volts). The sensor power inputs are labeled.\n",
    "3. Compile code to AMDC\n",
    "4. Turn on power to DC bus of cabinet.\n",
    "5. Run Jupyter Notebook. "
   ]
  },
  {
   "cell_type": "markdown",
   "metadata": {},
   "source": [
    "Import neccessary modules"
   ]
  },
  {
   "cell_type": "code",
   "execution_count": null,
   "metadata": {},
   "outputs": [],
   "source": [
    "amdc.disconnect()"
   ]
  },
  {
   "cell_type": "code",
   "execution_count": 3,
   "metadata": {},
   "outputs": [
    {
     "ename": "ModuleNotFoundError",
     "evalue": "No module named 'serial'",
     "output_type": "error",
     "traceback": [
      "\u001b[1;31m---------------------------------------------------------------------------\u001b[0m",
      "\u001b[1;31mModuleNotFoundError\u001b[0m                       Traceback (most recent call last)",
      "\u001b[1;32mC:\\Users\\ZWANG2~1\\AppData\\Local\\Temp/ipykernel_1032/1963361874.py\u001b[0m in \u001b[0;36m<module>\u001b[1;34m\u001b[0m\n\u001b[1;32m----> 1\u001b[1;33m \u001b[1;32mfrom\u001b[0m \u001b[0mAMDC\u001b[0m \u001b[1;32mimport\u001b[0m \u001b[0mAMDC\u001b[0m\u001b[1;33m\u001b[0m\u001b[1;33m\u001b[0m\u001b[0m\n\u001b[0m\u001b[0;32m      2\u001b[0m \u001b[1;32mfrom\u001b[0m \u001b[0mCabinet_CMD\u001b[0m \u001b[1;32mimport\u001b[0m \u001b[0mcmd\u001b[0m\u001b[1;33m\u001b[0m\u001b[1;33m\u001b[0m\u001b[0m\n\u001b[0;32m      3\u001b[0m \u001b[1;32mimport\u001b[0m \u001b[0msys\u001b[0m\u001b[1;33m\u001b[0m\u001b[1;33m\u001b[0m\u001b[0m\n\u001b[0;32m      4\u001b[0m \u001b[0msys\u001b[0m\u001b[1;33m.\u001b[0m\u001b[0mpath\u001b[0m\u001b[1;33m.\u001b[0m\u001b[0mappend\u001b[0m\u001b[1;33m(\u001b[0m\u001b[1;34mr'..\\AMDC-Firmware\\scripts'\u001b[0m\u001b[1;33m)\u001b[0m\u001b[1;33m\u001b[0m\u001b[1;33m\u001b[0m\u001b[0m\n\u001b[0;32m      5\u001b[0m \u001b[1;33m\u001b[0m\u001b[0m\n",
      "\u001b[1;32m~\\Zhouzhou_AMDC\\AMDC-Firmware\\scripts\\AMDC.py\u001b[0m in \u001b[0;36m<module>\u001b[1;34m\u001b[0m\n\u001b[1;32m----> 1\u001b[1;33m \u001b[1;32mimport\u001b[0m \u001b[0mserial\u001b[0m\u001b[1;33m\u001b[0m\u001b[1;33m\u001b[0m\u001b[0m\n\u001b[0m\u001b[0;32m      2\u001b[0m \u001b[1;32mimport\u001b[0m \u001b[0msocket\u001b[0m\u001b[1;33m\u001b[0m\u001b[1;33m\u001b[0m\u001b[0m\n\u001b[0;32m      3\u001b[0m \u001b[1;32mimport\u001b[0m \u001b[0mselect\u001b[0m\u001b[1;33m\u001b[0m\u001b[1;33m\u001b[0m\u001b[0m\n\u001b[0;32m      4\u001b[0m \u001b[1;32mimport\u001b[0m \u001b[0mtime\u001b[0m\u001b[1;33m\u001b[0m\u001b[1;33m\u001b[0m\u001b[0m\n\u001b[0;32m      5\u001b[0m \u001b[1;33m\u001b[0m\u001b[0m\n",
      "\u001b[1;31mModuleNotFoundError\u001b[0m: No module named 'serial'"
     ]
    }
   ],
   "source": [
    "\n",
    "from AMDC import AMDC\n",
    "from Cabinet_CMD import cmd\n",
    "import sys\n",
    "sys.path.append(r'..\\AMDC-Firmware\\scripts')\n",
    "\n",
    "\n",
    "\n",
    "USE_ETHERNET = True\n",
    "\n",
    "if not USE_ETHERNET:\n",
    "    amdc = AMDC()\n",
    "    amdc.setup_comm_defaults('uart')\n",
    "    amdc.uart_init('COM5')\n",
    "else:\n",
    "    amdc = AMDC()\n",
    "    amdc.setup_comm_defaults('eth')\n",
    "    amdc.eth_init()\n",
    "    s0, s0_id = amdc.eth_new_socket('ascii_cmd')\n",
    "    amdc.eth_set_default_ascii_cmd_socket(s0)\n",
    "\n"
   ]
  },
  {
   "cell_type": "code",
   "execution_count": 6,
   "metadata": {},
   "outputs": [
    {
     "ename": "SerialException",
     "evalue": "Attempting to use a port that is not open",
     "output_type": "error",
     "traceback": [
      "\u001b[1;31m---------------------------------------------------------------------------\u001b[0m",
      "\u001b[1;31mSerialException\u001b[0m                           Traceback (most recent call last)",
      "\u001b[1;32m<ipython-input-6-21666a1e9c72>\u001b[0m in \u001b[0;36m<module>\u001b[1;34m\u001b[0m\n\u001b[0;32m      1\u001b[0m \u001b[0mVdc\u001b[0m \u001b[1;33m=\u001b[0m \u001b[1;36m200\u001b[0m\u001b[1;33m\u001b[0m\u001b[1;33m\u001b[0m\u001b[0m\n\u001b[1;32m----> 2\u001b[1;33m \u001b[0mcmd\u001b[0m \u001b[1;33m=\u001b[0m \u001b[0mcmd\u001b[0m\u001b[1;33m(\u001b[0m\u001b[0mVdc\u001b[0m\u001b[1;33m,\u001b[0m \u001b[0mamdc\u001b[0m\u001b[1;33m,\u001b[0m \u001b[0mdebug\u001b[0m \u001b[1;33m=\u001b[0m \u001b[1;32mFalse\u001b[0m\u001b[1;33m)\u001b[0m\u001b[1;33m\u001b[0m\u001b[1;33m\u001b[0m\u001b[0m\n\u001b[0m",
      "\u001b[1;32mc:\\Users\\zwang2299\\Zhouzhou_AMDC\\My_C_Code\\Scripts\\Cabinet_CMD.py\u001b[0m in \u001b[0;36m__init__\u001b[1;34m(self, Vdc, amdc, debug)\u001b[0m\n\u001b[0;32m     17\u001b[0m         \u001b[1;31m#self.disconnect()\u001b[0m\u001b[1;33m\u001b[0m\u001b[1;33m\u001b[0m\u001b[1;33m\u001b[0m\u001b[0m\n\u001b[0;32m     18\u001b[0m         \u001b[1;31m#self.connect()\u001b[0m\u001b[1;33m\u001b[0m\u001b[1;33m\u001b[0m\u001b[1;33m\u001b[0m\u001b[0m\n\u001b[1;32m---> 19\u001b[1;33m         \u001b[0mself\u001b[0m\u001b[1;33m.\u001b[0m\u001b[0mcabinet_init\u001b[0m\u001b[1;33m(\u001b[0m\u001b[1;33m)\u001b[0m\u001b[1;33m\u001b[0m\u001b[1;33m\u001b[0m\u001b[0m\n\u001b[0m\u001b[0;32m     20\u001b[0m         \u001b[0mself\u001b[0m\u001b[1;33m.\u001b[0m\u001b[0mVdc_init\u001b[0m \u001b[1;33m=\u001b[0m \u001b[0mVdc\u001b[0m\u001b[1;33m\u001b[0m\u001b[1;33m\u001b[0m\u001b[0m\n\u001b[0;32m     21\u001b[0m         \u001b[0mself\u001b[0m\u001b[1;33m.\u001b[0m\u001b[0mset_vdc_all\u001b[0m\u001b[1;33m(\u001b[0m\u001b[0mVdc\u001b[0m\u001b[1;33m)\u001b[0m\u001b[1;33m\u001b[0m\u001b[1;33m\u001b[0m\u001b[0m\n",
      "\u001b[1;32mc:\\Users\\zwang2299\\Zhouzhou_AMDC\\My_C_Code\\Scripts\\Cabinet_CMD.py\u001b[0m in \u001b[0;36mcabinet_init\u001b[1;34m(self)\u001b[0m\n\u001b[0;32m     39\u001b[0m     \u001b[1;32mdef\u001b[0m \u001b[0mcabinet_init\u001b[0m\u001b[1;33m(\u001b[0m\u001b[0mself\u001b[0m\u001b[1;33m)\u001b[0m\u001b[1;33m:\u001b[0m\u001b[1;33m\u001b[0m\u001b[1;33m\u001b[0m\u001b[0m\n\u001b[0;32m     40\u001b[0m \u001b[1;33m\u001b[0m\u001b[0m\n\u001b[1;32m---> 41\u001b[1;33m         \u001b[0mout\u001b[0m \u001b[1;33m=\u001b[0m \u001b[0mself\u001b[0m\u001b[1;33m.\u001b[0m\u001b[0mamdc\u001b[0m\u001b[1;33m.\u001b[0m\u001b[0mcmd\u001b[0m\u001b[1;33m(\u001b[0m\u001b[1;34m'cabinet init_cb'\u001b[0m\u001b[1;33m)\u001b[0m\u001b[1;33m\u001b[0m\u001b[1;33m\u001b[0m\u001b[0m\n\u001b[0m\u001b[0;32m     42\u001b[0m         \u001b[1;32mif\u001b[0m \u001b[0mself\u001b[0m\u001b[1;33m.\u001b[0m\u001b[0mdebug\u001b[0m\u001b[1;33m:\u001b[0m\u001b[1;33m\u001b[0m\u001b[1;33m\u001b[0m\u001b[0m\n\u001b[0;32m     43\u001b[0m             \u001b[1;32mreturn\u001b[0m \u001b[0mout\u001b[0m\u001b[1;33m\u001b[0m\u001b[1;33m\u001b[0m\u001b[0m\n",
      "\u001b[1;32m~\\Zhouzhou_AMDC\\AMDC-Firmware\\scripts\\AMDC.py\u001b[0m in \u001b[0;36mcmd\u001b[1;34m(self, cmd_str, timeout_sec)\u001b[0m\n\u001b[0;32m    159\u001b[0m         \u001b[1;32mif\u001b[0m \u001b[0mself\u001b[0m\u001b[1;33m.\u001b[0m\u001b[0mcomm_method\u001b[0m \u001b[1;32mis\u001b[0m \u001b[1;34m'uart'\u001b[0m\u001b[1;33m:\u001b[0m\u001b[1;33m\u001b[0m\u001b[1;33m\u001b[0m\u001b[0m\n\u001b[0;32m    160\u001b[0m             \u001b[1;32mfor\u001b[0m \u001b[0mb\u001b[0m \u001b[1;32min\u001b[0m \u001b[0mto_send_bytes\u001b[0m\u001b[1;33m:\u001b[0m\u001b[1;33m\u001b[0m\u001b[1;33m\u001b[0m\u001b[0m\n\u001b[1;32m--> 161\u001b[1;33m                 \u001b[0mself\u001b[0m\u001b[1;33m.\u001b[0m\u001b[0mcomm_uart_ser\u001b[0m\u001b[1;33m.\u001b[0m\u001b[0mwrite\u001b[0m\u001b[1;33m(\u001b[0m\u001b[0mbytes\u001b[0m\u001b[1;33m(\u001b[0m\u001b[1;33m[\u001b[0m\u001b[0mb\u001b[0m\u001b[1;33m]\u001b[0m\u001b[1;33m)\u001b[0m\u001b[1;33m)\u001b[0m\u001b[1;33m\u001b[0m\u001b[1;33m\u001b[0m\u001b[0m\n\u001b[0m\u001b[0;32m    162\u001b[0m         \u001b[1;32melif\u001b[0m \u001b[0mself\u001b[0m\u001b[1;33m.\u001b[0m\u001b[0mcomm_method\u001b[0m \u001b[1;32mis\u001b[0m \u001b[1;34m'eth'\u001b[0m\u001b[1;33m:\u001b[0m\u001b[1;33m\u001b[0m\u001b[1;33m\u001b[0m\u001b[0m\n\u001b[0;32m    163\u001b[0m             \u001b[0mself\u001b[0m\u001b[1;33m.\u001b[0m\u001b[0mcomm_eth_default_ascii_cmd_socket\u001b[0m\u001b[1;33m.\u001b[0m\u001b[0msend\u001b[0m\u001b[1;33m(\u001b[0m\u001b[0mto_send_bytes\u001b[0m\u001b[1;33m)\u001b[0m\u001b[1;33m\u001b[0m\u001b[1;33m\u001b[0m\u001b[0m\n",
      "\u001b[1;32mC:\\ProgramData\\Anaconda3\\lib\\site-packages\\serial\\serialwin32.py\u001b[0m in \u001b[0;36mwrite\u001b[1;34m(self, data)\u001b[0m\n\u001b[0;32m    302\u001b[0m         \u001b[1;34m\"\"\"Output the given byte string over the serial port.\"\"\"\u001b[0m\u001b[1;33m\u001b[0m\u001b[1;33m\u001b[0m\u001b[0m\n\u001b[0;32m    303\u001b[0m         \u001b[1;32mif\u001b[0m \u001b[1;32mnot\u001b[0m \u001b[0mself\u001b[0m\u001b[1;33m.\u001b[0m\u001b[0mis_open\u001b[0m\u001b[1;33m:\u001b[0m\u001b[1;33m\u001b[0m\u001b[1;33m\u001b[0m\u001b[0m\n\u001b[1;32m--> 304\u001b[1;33m             \u001b[1;32mraise\u001b[0m \u001b[0mportNotOpenError\u001b[0m\u001b[1;33m\u001b[0m\u001b[1;33m\u001b[0m\u001b[0m\n\u001b[0m\u001b[0;32m    305\u001b[0m         \u001b[1;31m#~ if not isinstance(data, (bytes, bytearray)):\u001b[0m\u001b[1;33m\u001b[0m\u001b[1;33m\u001b[0m\u001b[1;33m\u001b[0m\u001b[0m\n\u001b[0;32m    306\u001b[0m             \u001b[1;31m#~ raise TypeError('expected %s or bytearray, got %s' % (bytes, type(data)))\u001b[0m\u001b[1;33m\u001b[0m\u001b[1;33m\u001b[0m\u001b[1;33m\u001b[0m\u001b[0m\n",
      "\u001b[1;32mC:\\ProgramData\\Anaconda3\\lib\\site-packages\\IPython\\core\\interactiveshell.py\u001b[0m in \u001b[0;36mrun_code\u001b[1;34m(self, code_obj, result, async_)\u001b[0m\n\u001b[0;32m   3294\u001b[0m                     \u001b[0mexec\u001b[0m\u001b[1;33m(\u001b[0m\u001b[0mcode\u001b[0m\u001b[1;33m,\u001b[0m \u001b[1;33m{\u001b[0m\u001b[1;34m'last_expr'\u001b[0m\u001b[1;33m:\u001b[0m \u001b[0mlast_expr\u001b[0m\u001b[1;33m}\u001b[0m\u001b[1;33m)\u001b[0m\u001b[1;33m\u001b[0m\u001b[1;33m\u001b[0m\u001b[0m\n\u001b[0;32m   3295\u001b[0m                 \u001b[1;32melse\u001b[0m\u001b[1;33m:\u001b[0m\u001b[1;33m\u001b[0m\u001b[1;33m\u001b[0m\u001b[0m\n\u001b[1;32m-> 3296\u001b[1;33m                     \u001b[0mexec\u001b[0m\u001b[1;33m(\u001b[0m\u001b[0mcode_obj\u001b[0m\u001b[1;33m,\u001b[0m \u001b[0mself\u001b[0m\u001b[1;33m.\u001b[0m\u001b[0muser_global_ns\u001b[0m\u001b[1;33m,\u001b[0m \u001b[0mself\u001b[0m\u001b[1;33m.\u001b[0m\u001b[0muser_ns\u001b[0m\u001b[1;33m)\u001b[0m\u001b[1;33m\u001b[0m\u001b[1;33m\u001b[0m\u001b[0m\n\u001b[0m\u001b[0;32m   3297\u001b[0m             \u001b[1;32mfinally\u001b[0m\u001b[1;33m:\u001b[0m\u001b[1;33m\u001b[0m\u001b[1;33m\u001b[0m\u001b[0m\n\u001b[0;32m   3298\u001b[0m                 \u001b[1;31m# Reset our crash handler in place\u001b[0m\u001b[1;33m\u001b[0m\u001b[1;33m\u001b[0m\u001b[1;33m\u001b[0m\u001b[0m\n",
      "\u001b[1;32m<ipython-input-4-21666a1e9c72>\u001b[0m in \u001b[0;36m<module>\u001b[1;34m\u001b[0m\n\u001b[0;32m      1\u001b[0m \u001b[0mVdc\u001b[0m \u001b[1;33m=\u001b[0m \u001b[1;36m200\u001b[0m\u001b[1;33m\u001b[0m\u001b[1;33m\u001b[0m\u001b[0m\n\u001b[1;32m----> 2\u001b[1;33m \u001b[0mcmd\u001b[0m \u001b[1;33m=\u001b[0m \u001b[0mcmd\u001b[0m\u001b[1;33m(\u001b[0m\u001b[0mVdc\u001b[0m\u001b[1;33m,\u001b[0m \u001b[0mamdc\u001b[0m\u001b[1;33m,\u001b[0m \u001b[0mdebug\u001b[0m \u001b[1;33m=\u001b[0m \u001b[1;32mFalse\u001b[0m\u001b[1;33m)\u001b[0m\u001b[1;33m\u001b[0m\u001b[1;33m\u001b[0m\u001b[0m\n\u001b[0m",
      "\u001b[1;32mc:\\Users\\zwang2299\\Zhouzhou_AMDC\\My_C_Code\\Scripts\\Cabinet_CMD.py\u001b[0m in \u001b[0;36m__init__\u001b[1;34m(self, Vdc, amdc, debug)\u001b[0m\n\u001b[0;32m     17\u001b[0m         \u001b[1;31m#self.disconnect()\u001b[0m\u001b[1;33m\u001b[0m\u001b[1;33m\u001b[0m\u001b[1;33m\u001b[0m\u001b[0m\n\u001b[0;32m     18\u001b[0m         \u001b[1;31m#self.connect()\u001b[0m\u001b[1;33m\u001b[0m\u001b[1;33m\u001b[0m\u001b[1;33m\u001b[0m\u001b[0m\n\u001b[1;32m---> 19\u001b[1;33m         \u001b[0mself\u001b[0m\u001b[1;33m.\u001b[0m\u001b[0mcabinet_init\u001b[0m\u001b[1;33m(\u001b[0m\u001b[1;33m)\u001b[0m\u001b[1;33m\u001b[0m\u001b[1;33m\u001b[0m\u001b[0m\n\u001b[0m\u001b[0;32m     20\u001b[0m         \u001b[0mself\u001b[0m\u001b[1;33m.\u001b[0m\u001b[0mVdc_init\u001b[0m \u001b[1;33m=\u001b[0m \u001b[0mVdc\u001b[0m\u001b[1;33m\u001b[0m\u001b[1;33m\u001b[0m\u001b[0m\n\u001b[0;32m     21\u001b[0m         \u001b[0mself\u001b[0m\u001b[1;33m.\u001b[0m\u001b[0mset_vdc_all\u001b[0m\u001b[1;33m(\u001b[0m\u001b[0mVdc\u001b[0m\u001b[1;33m)\u001b[0m\u001b[1;33m\u001b[0m\u001b[1;33m\u001b[0m\u001b[0m\n",
      "\u001b[1;32mc:\\Users\\zwang2299\\Zhouzhou_AMDC\\My_C_Code\\Scripts\\Cabinet_CMD.py\u001b[0m in \u001b[0;36mcabinet_init\u001b[1;34m(self)\u001b[0m\n\u001b[0;32m     39\u001b[0m     \u001b[1;32mdef\u001b[0m \u001b[0mcabinet_init\u001b[0m\u001b[1;33m(\u001b[0m\u001b[0mself\u001b[0m\u001b[1;33m)\u001b[0m\u001b[1;33m:\u001b[0m\u001b[1;33m\u001b[0m\u001b[1;33m\u001b[0m\u001b[0m\n\u001b[0;32m     40\u001b[0m \u001b[1;33m\u001b[0m\u001b[0m\n\u001b[1;32m---> 41\u001b[1;33m         \u001b[0mout\u001b[0m \u001b[1;33m=\u001b[0m \u001b[0mself\u001b[0m\u001b[1;33m.\u001b[0m\u001b[0mamdc\u001b[0m\u001b[1;33m.\u001b[0m\u001b[0mcmd\u001b[0m\u001b[1;33m(\u001b[0m\u001b[1;34m'cabinet init_cb'\u001b[0m\u001b[1;33m)\u001b[0m\u001b[1;33m\u001b[0m\u001b[1;33m\u001b[0m\u001b[0m\n\u001b[0m\u001b[0;32m     42\u001b[0m         \u001b[1;32mif\u001b[0m \u001b[0mself\u001b[0m\u001b[1;33m.\u001b[0m\u001b[0mdebug\u001b[0m\u001b[1;33m:\u001b[0m\u001b[1;33m\u001b[0m\u001b[1;33m\u001b[0m\u001b[0m\n\u001b[0;32m     43\u001b[0m             \u001b[1;32mreturn\u001b[0m \u001b[0mout\u001b[0m\u001b[1;33m\u001b[0m\u001b[1;33m\u001b[0m\u001b[0m\n",
      "\u001b[1;32m~\\Zhouzhou_AMDC\\AMDC-Firmware\\scripts\\AMDC.py\u001b[0m in \u001b[0;36mcmd\u001b[1;34m(self, cmd_str, timeout_sec)\u001b[0m\n\u001b[0;32m    159\u001b[0m         \u001b[1;32mif\u001b[0m \u001b[0mself\u001b[0m\u001b[1;33m.\u001b[0m\u001b[0mcomm_method\u001b[0m \u001b[1;32mis\u001b[0m \u001b[1;34m'uart'\u001b[0m\u001b[1;33m:\u001b[0m\u001b[1;33m\u001b[0m\u001b[1;33m\u001b[0m\u001b[0m\n\u001b[0;32m    160\u001b[0m             \u001b[1;32mfor\u001b[0m \u001b[0mb\u001b[0m \u001b[1;32min\u001b[0m \u001b[0mto_send_bytes\u001b[0m\u001b[1;33m:\u001b[0m\u001b[1;33m\u001b[0m\u001b[1;33m\u001b[0m\u001b[0m\n\u001b[1;32m--> 161\u001b[1;33m                 \u001b[0mself\u001b[0m\u001b[1;33m.\u001b[0m\u001b[0mcomm_uart_ser\u001b[0m\u001b[1;33m.\u001b[0m\u001b[0mwrite\u001b[0m\u001b[1;33m(\u001b[0m\u001b[0mbytes\u001b[0m\u001b[1;33m(\u001b[0m\u001b[1;33m[\u001b[0m\u001b[0mb\u001b[0m\u001b[1;33m]\u001b[0m\u001b[1;33m)\u001b[0m\u001b[1;33m)\u001b[0m\u001b[1;33m\u001b[0m\u001b[1;33m\u001b[0m\u001b[0m\n\u001b[0m\u001b[0;32m    162\u001b[0m         \u001b[1;32melif\u001b[0m \u001b[0mself\u001b[0m\u001b[1;33m.\u001b[0m\u001b[0mcomm_method\u001b[0m \u001b[1;32mis\u001b[0m \u001b[1;34m'eth'\u001b[0m\u001b[1;33m:\u001b[0m\u001b[1;33m\u001b[0m\u001b[1;33m\u001b[0m\u001b[0m\n\u001b[0;32m    163\u001b[0m             \u001b[0mself\u001b[0m\u001b[1;33m.\u001b[0m\u001b[0mcomm_eth_default_ascii_cmd_socket\u001b[0m\u001b[1;33m.\u001b[0m\u001b[0msend\u001b[0m\u001b[1;33m(\u001b[0m\u001b[0mto_send_bytes\u001b[0m\u001b[1;33m)\u001b[0m\u001b[1;33m\u001b[0m\u001b[1;33m\u001b[0m\u001b[0m\n",
      "\u001b[1;32mC:\\ProgramData\\Anaconda3\\lib\\site-packages\\serial\\serialwin32.py\u001b[0m in \u001b[0;36mwrite\u001b[1;34m(self, data)\u001b[0m\n\u001b[0;32m    302\u001b[0m         \u001b[1;34m\"\"\"Output the given byte string over the serial port.\"\"\"\u001b[0m\u001b[1;33m\u001b[0m\u001b[1;33m\u001b[0m\u001b[0m\n\u001b[0;32m    303\u001b[0m         \u001b[1;32mif\u001b[0m \u001b[1;32mnot\u001b[0m \u001b[0mself\u001b[0m\u001b[1;33m.\u001b[0m\u001b[0mis_open\u001b[0m\u001b[1;33m:\u001b[0m\u001b[1;33m\u001b[0m\u001b[1;33m\u001b[0m\u001b[0m\n\u001b[1;32m--> 304\u001b[1;33m             \u001b[1;32mraise\u001b[0m \u001b[0mportNotOpenError\u001b[0m\u001b[1;33m\u001b[0m\u001b[1;33m\u001b[0m\u001b[0m\n\u001b[0m\u001b[0;32m    305\u001b[0m         \u001b[1;31m#~ if not isinstance(data, (bytes, bytearray)):\u001b[0m\u001b[1;33m\u001b[0m\u001b[1;33m\u001b[0m\u001b[1;33m\u001b[0m\u001b[0m\n\u001b[0;32m    306\u001b[0m             \u001b[1;31m#~ raise TypeError('expected %s or bytearray, got %s' % (bytes, type(data)))\u001b[0m\u001b[1;33m\u001b[0m\u001b[1;33m\u001b[0m\u001b[1;33m\u001b[0m\u001b[0m\n",
      "\u001b[1;31mSerialException\u001b[0m: Attempting to use a port that is not open"
     ]
    }
   ],
   "source": [
    "Vdc = 200\n",
    "cmd = cmd(Vdc, amdc, debug = False)"
   ]
  },
  {
   "cell_type": "code",
   "execution_count": 11,
   "metadata": {},
   "outputs": [
    {
     "name": "stdout",
     "output_type": "stream",
     "text": [
      "\t> bim init\n",
      "['bim init', 'SUCCESS']\n"
     ]
    },
    {
     "data": {
      "text/plain": [
       "['bim init', 'SUCCESS']"
      ]
     },
     "execution_count": 11,
     "metadata": {},
     "output_type": "execute_result"
    }
   ],
   "source": [
    "\n",
    "Vdc = 60\n",
    "cmd_str = 'bim init'\n",
    "amdc.cmd(cmd_str) \n",
    "#amdc.cmd(set_vdc_all(60))"
   ]
  },
  {
   "cell_type": "code",
   "execution_count": null,
   "metadata": {},
   "outputs": [],
   "source": [
    "cmd.disable_pwm()\n",
    "cmd.bim_deinit()"
   ]
  },
  {
   "cell_type": "code",
   "execution_count": null,
   "metadata": {},
   "outputs": [],
   "source": [
    "amdc.cmd(bim_init())"
   ]
  },
  {
   "cell_type": "code",
   "execution_count": null,
   "metadata": {},
   "outputs": [],
   "source": [
    "cmd.bim_init()"
   ]
  },
  {
   "cell_type": "code",
   "execution_count": null,
   "metadata": {},
   "outputs": [],
   "source": [
    "cmd.bim_set_Vdc_tq(60)\n",
    "cmd.bim_set_Vdc_s1(60)\n",
    "cmd.bim_set_id(1)\n",
    "cmd.bim_enable_ctrl()\n",
    "cmd.enable_pwm()\n",
    "\n"
   ]
  },
  {
   "cell_type": "code",
   "execution_count": null,
   "metadata": {},
   "outputs": [],
   "source": [
    "cmd.bim_enable_ob()\n",
    "#logger.clear_all()\n"
   ]
  },
  {
   "cell_type": "code",
   "execution_count": null,
   "metadata": {},
   "outputs": [],
   "source": [
    "#logger.start()\n",
    "cmd.bim_set_id(13.5)\n",
    "cmd.bim_enable_vctrl()\n"
   ]
  },
  {
   "cell_type": "code",
   "execution_count": null,
   "metadata": {},
   "outputs": [],
   "source": [
    "\n",
    "cmd.bim_set_deltaxy(0E-5, 0E-5)\n",
    "cmd.bim_enable_levctrl()\n"
   ]
  },
  {
   "cell_type": "code",
   "execution_count": null,
   "metadata": {},
   "outputs": [],
   "source": [
    "PI = 3.141592653589793238462643383279\n",
    "cmd.bim_set_w(000.0*PI/30)"
   ]
  },
  {
   "cell_type": "code",
   "execution_count": null,
   "metadata": {},
   "outputs": [],
   "source": [
    "cmd.bim_disable_levctrl()\n",
    "cmd.bim_disable_vctrl()\n"
   ]
  },
  {
   "cell_type": "code",
   "execution_count": null,
   "metadata": {},
   "outputs": [],
   "source": [
    "cmd.bim_set_Vdc_tq(60)\n",
    "cmd.bim_set_Vdc_s1(60)\n",
    "cmd.openloop_vsi_3_enable(2)\n",
    "cmd.openloop_vsi_3(2,0,3)\n",
    "\n",
    "cmd.enable_pwm()"
   ]
  },
  {
   "cell_type": "code",
   "execution_count": 15,
   "metadata": {},
   "outputs": [
    {
     "name": "stdout",
     "output_type": "stream",
     "text": [
      "\t> log info\n",
      "\t> log info\n",
      "###################   AMDC LOGGER INFO   ###################\n",
      "\n",
      "Variable Name:      Index:         Type:         Sample Rate [Hz]:    Number of Samples:\n",
      "LOG_Iabc1_a           0            double              100.0                 0       \n",
      "LOG_Iabc1_b           1            double              100.0                 0       \n",
      "LOG_Iabc1_c           2            double              100.0                 0       \n",
      "\n",
      "\t> bim enable_log\n",
      "['bim enable_log', 'SUCCESS']\n",
      "\t> log unreg 0\n",
      "['log unreg 0', 'SUCCESS']\n",
      "\t> log unreg 1\n",
      "['log unreg 1', 'SUCCESS']\n",
      "\t> log unreg 2\n",
      "['log unreg 2', 'SUCCESS']\n",
      "\t> log reg 0 LOG_Iabc1_a 537636424 100 double\n",
      "['log reg 0 LOG_Iabc1_a 537636424 100 double', 'SUCCESS']\n",
      "\t> log reg 1 LOG_Iabc1_b 537636432 100 double\n",
      "['log reg 1 LOG_Iabc1_b 537636432 100 double', 'SUCCESS']\n",
      "\t> log reg 2 LOG_Iabc1_c 537636440 100 double\n",
      "['log reg 2 LOG_Iabc1_c 537636440 100 double', 'SUCCESS']\n"
     ]
    }
   ],
   "source": [
    "import matplotlib\n",
    "import time\n",
    "import pathlib as pl\n",
    "import sys\n",
    "repo_dir = '..'                                      # CHANGE THIS TO YOUR REPO DIRECTORY\n",
    "repo_dir = pl.Path(repo_dir)\n",
    "\n",
    "from AMDC_Logger import AMDC_Logger, find_mapfile\n",
    "from AMDC_LivePlot import AMDC_LivePlot\n",
    "mapfile_path = find_mapfile(repo_dir)\n",
    "logger = AMDC_Logger(AMDC = amdc, mapfile = mapfile_path)\n",
    "logger.sync()\n",
    "\n",
    "# View which variables are logged\n",
    "logger.info()\n",
    "#amdc.connect()\n",
    "amdc.cmd('bim enable_log')\n",
    "#cmd.enable_log()\n",
    "logger.unregister_all()\n",
    "samples_per_sec = 100\n",
    "logger.register('Iabc1_a', var_type = 'double', samples_per_sec = samples_per_sec)\n",
    "logger.register('Iabc1_b', var_type = 'double', samples_per_sec = samples_per_sec)\n",
    "logger.register('Iabc1_c', var_type = 'double', samples_per_sec = samples_per_sec)\n"
   ]
  },
  {
   "cell_type": "code",
   "execution_count": 16,
   "metadata": {},
   "outputs": [
    {
     "name": "stdout",
     "output_type": "stream",
     "text": [
      "\t> log stream start 0 7\n",
      "['log stream start 0 7', 'INVALID ARGUMENTS']\n"
     ]
    },
    {
     "data": {
      "image/png": "[encoded data removed]",
      "text/plain": [
       "<Figure size 432x288 with 1 Axes>"
      ]
     },
     "metadata": {
      "needs_background": "light"
     },
     "output_type": "display_data"
    }
   ],
   "source": [
    "\n",
    "##### CELL START #####\n",
    "p1 = AMDC_LivePlot(logger, 'Iabc1_a', window_sec = 1)\n",
    "p1.start_stream()\n",
    "p1.show()\n",
    "\n",
    "##### CELL START #####\n",
    "p2 = AMDC_LivePlot(logger, 'Iabc1_b', window_sec = 1)\n",
    "p2.start_stream()\n",
    "p2.show()\n",
    "\n",
    "##### CELL START #####\n",
    "p3 = AMDC_LivePlot(logger, 'Iabc1_c', window_sec = 1)\n",
    "p3.start_stream()\n",
    "p3.show()"
   ]
  },
  {
   "cell_type": "code",
   "execution_count": null,
   "metadata": {},
   "outputs": [],
   "source": [
    "logger.unregister_all()\n",
    "#logger.register('wrm_ref wrm wrm_hf Is1_x Is1_y Is1_x_ref Is1_y_ref Itq_d_ref Itq_q_ref Itq_d Itq_q delta_x delta_y', samples_per_sec = 5000, var_type = 'double')\n",
    "#logger.register('delta_x delta_y F_x F_y Is1_x Is1_y Is1_x_ref Is1_y_ref Itq_d_ref Itq_q_ref Itq_d Itq_q wrm_ref wrm wrm_hf va1_ref vb1_ref vc1_ref', samples_per_sec = 10000, var_type = 'double')\n",
    "logger.register('delta_x delta_y F_x F_y Is1_x Is1_y Is1_x_ref Is1_y_ref Itq_d_ref Itq_q_ref Itq_d Itq_q theta_rm theta_e wrm_ref wrm wsl', samples_per_sec = 500, var_type = 'double')\n",
    "\n",
    "#logger.register('delta_x delta_y F_x F_y Is1_x Is1_y Is1_x_ref Is1_y_ref Itq_d_ref Itq_q_ref Itq_d Itq_q theta_rm theta_e wrm_ref wrm wsl', samples_per_sec = 500, var_type = 'double')\n",
    "#logger.register('delta_x delta_y F_x F_y Is1_x Is1_y Is1_x_ref Is1_y_ref Itq_d_ref Itq_q_ref Itq_d Itq_q wrm_ref wrm', samples_per_sec = 5000, var_type = 'double')\n",
    "#logger.register('delta_x delta_y F_x F_y' , samples_per_sec = 500, var_type = 'double')\n",
    "#logger.register('theta_rm' , samples_per_sec = 500, var_type = 'double')\n",
    "# View which variables are logged\n",
    "logger.info()\n"
   ]
  },
  {
   "cell_type": "code",
   "execution_count": null,
   "metadata": {},
   "outputs": [],
   "source": [
    "logger.empty_all()\n",
    "logger.start()\n",
    "#time.sleep(10)\n"
   ]
  },
  {
   "cell_type": "code",
   "execution_count": null,
   "metadata": {},
   "outputs": [],
   "source": [
    "logger.stop()\n",
    "\n",
    "####################   DUMP DATA AND PLOT   ####################\n",
    "data = logger.dump(file = 'bim_data_test.csv')"
   ]
  },
  {
   "cell_type": "code",
   "execution_count": null,
   "metadata": {},
   "outputs": [],
   "source": [
    "PI = 3.141592653589793238462643383279"
   ]
  },
  {
   "cell_type": "code",
   "execution_count": null,
   "metadata": {},
   "outputs": [],
   "source": [
    "cmd.bim_set_theta_offset(PI/24)\n"
   ]
  },
  {
   "cell_type": "code",
   "execution_count": null,
   "metadata": {},
   "outputs": [],
   "source": [
    "PI = 3.141592653589793238462643383279\n",
    "cmd.bim_set_w(00.0*PI/30)\n",
    "cmd.bim_set_deltaxy(0E-5, 0e-5)"
   ]
  },
  {
   "cell_type": "code",
   "execution_count": null,
   "metadata": {},
   "outputs": [],
   "source": [
    "for x in [-10E-5, -9E-5,-8E-5, -7E-5, -6E-5, -5e-5]:\n",
    "    for y in [-15e-5, -10e-5]:\n",
    "        cmd.bim_set_deltaxy(x, y)\n",
    "        time.sleep(10)\n",
    "        logger.clear_all()\n",
    "        logger.start()\n",
    "        #DATA IS BEING RECORDED\n",
    "        time.sleep(0.05)\n",
    "        logger.stop()\n",
    "        filename = 'bim_data_standstill_x_'+ str(x)+'_y_'+str(y)+'.csv'\n",
    "        data = logger.dump(file = filename)"
   ]
  },
  {
   "cell_type": "code",
   "execution_count": null,
   "metadata": {},
   "outputs": [],
   "source": [
    "\n",
    "###################   COLLECT DATA   ####################\n",
    "# Clear the logger, then record data\n",
    "logger.clear_all()\n",
    "logger.start()\n",
    "#DATA IS BEING RECORDED\n",
    "time.sleep(0.05)\n",
    "logger.stop()\n",
    "\n",
    "####################   DUMP DATA AND PLOT   ####################\n",
    "data = logger.dump(file = 'bim_data_w000RPM_vdc_100_80_ob1.8_lev10Hz_ba1.8_M1.5_lpf_300_x_5e-7.csv')\n"
   ]
  },
  {
   "cell_type": "code",
   "execution_count": null,
   "metadata": {},
   "outputs": [],
   "source": [
    "\n",
    "logger.stop()\n",
    "\n",
    "####################   DUMP DATA AND PLOT   ####################\n",
    "data = logger.dump(file = 'bim_data_w2000RPM_vdc_60_distr.csv')\n"
   ]
  },
  {
   "cell_type": "code",
   "execution_count": null,
   "metadata": {},
   "outputs": [],
   "source": [
    "data.filter(regex=\"^wrm|wrm_ref|wrm_hf$\").plot()\n"
   ]
  },
  {
   "cell_type": "code",
   "execution_count": null,
   "metadata": {},
   "outputs": [],
   "source": [
    "logger.unregister_all()\n",
    "logger.clear_all()\n"
   ]
  },
  {
   "cell_type": "code",
   "execution_count": null,
   "metadata": {},
   "outputs": [],
   "source": [
    "for i in [0, 1, 2, 5, 10, 12, 15, 20, 30, 40, 50, 100,150, 200]:\n",
    "   \n",
    "    logger.stop()\n",
    "    logger.unregister_all()\n",
    "    logger.clear_all()\n",
    "    sampling = 1000\n",
    "    period = 1\n",
    "    if i <= 10:\n",
    "        sampling = 5000\n",
    "        #period = 1\n",
    "    elif i<= 100:\n",
    "        sampling = 5000\n",
    "        #period = 0.2\n",
    "\n",
    "    else:\n",
    "        sampling = 5000\n",
    "        #period = 0.1\n",
    "    \n",
    "    logger.clear_all()\n",
    "    vd_ref_chirp_gain     = 2000 * 1e-3; # [m]\n",
    "    vd_ref_chirp_freq_min = i; # [Hz]\n",
    "    vd_ref_chirp_freq_max = i; # [Hz]\n",
    "    vd_ref_chirp_period   = 1; # [sec]\n",
    "\n",
    "    amdc.cmd(\"inj chirp wrm_ref set {:.6f} {:.6f} {:.6f} {:.6f}\".format(vd_ref_chirp_gain, vd_ref_chirp_freq_min, vd_ref_chirp_freq_max, vd_ref_chirp_period))\n",
    "    logger.unregister_all()\n",
    "    logger.register('wrm_ref wrm wrm_hf wrm_ref_inject delta_x delta_y', samples_per_sec = sampling, var_type = 'double')\n",
    "    logger.start()\n",
    "    #DATA IS BEING RECORDED\n",
    "    time.sleep(period*1.1)\n",
    "\n",
    "    logger.stop()\n",
    "\n",
    "    ####################   DUMP DATA AND PLOT   ####################\n",
    "    filename = 'bim_data_Vdc_100_80_id13_5_wrm_00rpm_wrm_inj_'+ str(i)+'.csv'\n",
    "    data = logger.dump(file = filename)"
   ]
  },
  {
   "cell_type": "code",
   "execution_count": null,
   "metadata": {},
   "outputs": [],
   "source": [
    "logger.unregister_all()\n",
    "    #logger.register('Ia1_a Ia1_b Ia1_c Ib1_a Ib1_b Ib1_c Ia2_a Ia2_b Ia2_c Ib2_a Ib2_b Ib2_c', samples_per_sec = 1000, var_type = 'double')\n",
    "logger.register('Itq_d Itq_q vd_ref vq_ref Is1_x Is1_y vx_ref vy_ref', samples_per_sec = 1000, var_type = 'double')\n",
    "    #logger.register('Itq_d vd_ref', samples_per_sec = sampling, var_type = 'double')\n",
    "    ###################   COLLECT DATA   ####################\n",
    "    # Clear the logger, then record data\n",
    "\n",
    "for i in [50, 60, 75, 100, 150, 200]:\n",
    "   \n",
    "    logger.stop()\n",
    "    #logger.unregister_all()\n",
    "    logger.clear_all()\n",
    "    sampling = 1000\n",
    "    period = 1\n",
    "    if i <= 10:\n",
    "        sampling = 1000\n",
    "        period = 1\n",
    "    elif i<= 100:\n",
    "        sampling = 1000\n",
    "        period = 0.15\n",
    "\n",
    "    else:\n",
    "        sampling = 2500\n",
    "        period = 0.1\n",
    "\n",
    "    \n",
    "   \n",
    "    logger.clear_all()\n",
    "    vd_ref_chirp_gain     = 1000 * 1e-3; # [m]\n",
    "    vd_ref_chirp_freq_min = i; # [Hz]\n",
    "    vd_ref_chirp_freq_max = i; # [Hz]\n",
    "    vd_ref_chirp_period   = period; # [sec]\n",
    "    amdc.cmd(\"inj const vq_ref set 0\")\n",
    "    amdc.cmd(\"inj const vx_ref set 0\")\n",
    "    amdc.cmd(\"inj const vy_ref set 0\")\n",
    "    amdc.cmd(\"inj chirp vd_ref set {:.6f} {:.6f} {:.6f} {:.6f}\".format(vd_ref_chirp_gain, vd_ref_chirp_freq_min, vd_ref_chirp_freq_max, vd_ref_chirp_period))\n",
    "    logger.unregister_all()\n",
    "    #logger.register('Ia1_a Ia1_b Ia1_c Ib1_a Ib1_b Ib1_c Ia2_a Ia2_b Ia2_c Ib2_a Ib2_b Ib2_c', samples_per_sec = 1000, var_type = 'double')\n",
    "    logger.register('Itq_d Itq_q vd_ref vq_ref Is1_x Is1_y vx_ref vy_ref', samples_per_sec = sampling, var_type = 'double')\n",
    "    logger.start()\n",
    "    #DATA IS BEING RECORDED\n",
    "    time.sleep(period*1.1)\n",
    "\n",
    "    logger.stop()\n",
    "\n",
    "    ####################   DUMP DATA AND PLOT   ####################\n",
    "    filename = 'bim_data_vdc_50_w_00RPM_id_13_5_id_vd'+ str(i)+'.csv'\n",
    "    data = logger.dump(file = filename)\n",
    "\n",
    "    \n",
    "    amdc.cmd(\"inj const vq_ref set 0\")\n",
    "    amdc.cmd(\"inj const vd_ref set 0\")\n",
    "    amdc.cmd(\"inj const vy_ref set 0\")\n",
    "    amdc.cmd(\"inj chirp vx_ref set {:.6f} {:.6f} {:.6f} {:.6f}\".format(vd_ref_chirp_gain, vd_ref_chirp_freq_min, vd_ref_chirp_freq_max, vd_ref_chirp_period))\n",
    "    time.sleep(5)\n",
    "    logger.clear_all()\n",
    "    logger.start()\n",
    "    #DATA IS BEING RECORDED\n",
    "    time.sleep(period*1.1)\n",
    "\n",
    "    logger.stop()\n",
    "\n",
    "    ####################   DUMP DATA AND PLOT   ####################\n",
    "    filename = 'bim_data_vdc_50_w_00RPM_id_13_5_ix_vx'+ str(i)+'.csv'\n",
    "    data = logger.dump(file = filename)\n"
   ]
  },
  {
   "cell_type": "code",
   "execution_count": null,
   "metadata": {},
   "outputs": [],
   "source": [
    "amdc.cmd(\"inj const vd_ref set 0\")\n",
    "amdc.cmd(\"inj const vq_ref set 0\")\n",
    "amdc.cmd(\"inj const vx_ref set 0\")\n",
    "amdc.cmd(\"inj const vy_ref set 0\")\n",
    "amdc.cmd(\"inj const Fx_ref set 0\")\n",
    "amdc.cmd(\"inj const Fy_ref set 0\")\n",
    "amdc.cmd(\"inj const wrm_ref set 0\")"
   ]
  },
  {
   "cell_type": "code",
   "execution_count": null,
   "metadata": {},
   "outputs": [],
   "source": [
    "for i in [ 7, 9, 10, 11, 12, 13, 15, 17,20,30,40,50,60,75,80, 85, 90, 95, 100, 105, 110, 115, 120, 125, 130, 140]:\n",
    "    logger.stop()\n",
    "    #logger.unregister_all()\n",
    "    logger.clear_all()\n",
    "    sampling = 1000\n",
    "    period = 1\n",
    "    if i <= 1:\n",
    "        sampling = 500\n",
    "        period = 10\n",
    "    elif i <= 10:\n",
    "        sampling = 2000\n",
    "        period = 1\n",
    "    elif i<= 100:\n",
    "        sampling = 2000\n",
    "        period = 0.15\n",
    "    elif i<= 250:\n",
    "        sampling = 4000\n",
    "        period = 0.10\n",
    "    elif i<= 500:\n",
    "        sampling = 5000\n",
    "        period = 0.10\n",
    "\n",
    "    else:\n",
    "        sampling = 10000\n",
    "        period = 0.10\n",
    "\n",
    "    \n",
    "    vd_ref_chirp_gain     = 1000 * 1e-3; # [m]\n",
    "    vd_ref_chirp_freq_min = i; # [Hz]\n",
    "    vd_ref_chirp_freq_max = i; # [Hz]\n",
    "    vd_ref_chirp_period   = 50; # [sec]\n",
    "    logger.clear_all()\n",
    "    logger.unregister_all()\n",
    "    amdc.cmd(\"inj const Fy_ref set 0\")\n",
    "    amdc.cmd(\"inj chirp Fx_ref set {:.6f} {:.6f} {:.6f} {:.6f}\".format(vd_ref_chirp_gain, vd_ref_chirp_freq_min, vd_ref_chirp_freq_max, vd_ref_chirp_period))\n",
    "\n",
    "    #logger.register('Ia1_a Ia1_b Ia1_c Ib1_a Ib1_b Ib1_c Ia2_a Ia2_b Ia2_c Ib2_a Ib2_b Ib2_c', samples_per_sec = 1000, var_type = 'double')\n",
    "    #logger.register('Itq_d Itq_q vd_ref vq_ref Is1_x Is1_y vx_ref vy_ref', samples_per_sec = 1000, var_type = 'double')\n",
    "    logger.register('delta_x delta_y F_x F_y F_x_inject F_y_inject', samples_per_sec = sampling, var_type = 'double')\n",
    "\n",
    "\n",
    "    ###################   COLLECT DATA   ####################\n",
    "    # Clear the logger, then record data\n",
    "\n",
    "\n",
    "    \n",
    "    logger.start()\n",
    "    #DATA IS BEING RECORDED\n",
    "    time.sleep(period*1.1)\n",
    "\n",
    "    logger.stop()\n",
    "    ####################   DUMP DATA AND PLOT   ####################\n",
    "    filename = 'bim_data_vdc_100_80_w_000RPM_ob1.8_lev15Hz_ba1.8_M1.5_lpf_300_stiff_x_f_'+ str(i)+'.csv'\n",
    "    data = logger.dump(file = filename)\n",
    "\n",
    "    amdc.cmd(\"inj const Fx_ref set 0\")\n",
    "    amdc.cmd(\"inj chirp Fy_ref set {:.6f} {:.6f} {:.6f} {:.6f}\".format(vd_ref_chirp_gain, vd_ref_chirp_freq_min, vd_ref_chirp_freq_max, vd_ref_chirp_period))\n",
    "\n",
    "\n",
    "    \n",
    "    logger.clear_all()\n",
    "    time.sleep(5)\n",
    "    logger.start()\n",
    "    #DATA IS BEING RECORDED\n",
    "    time.sleep(period*1.1)\n",
    "\n",
    "    logger.stop()\n",
    "\n",
    "    ####################   DUMP DATA AND PLOT   ####################\n",
    "    filename = 'bim_data_vdc_100_80_w_000RPM_ob1.8_lev15Hz_ba1.8_M1.5_lpf_300_stiff_y_f_'+ str(i)+'.csv'\n",
    "    data = logger.dump(file = filename)\n"
   ]
  },
  {
   "cell_type": "code",
   "execution_count": null,
   "metadata": {},
   "outputs": [],
   "source": [
    "for i in [50, 1200, 2000]:\n",
    "   \n",
    "    logger.stop()\n",
    "    logger.unregister_all()\n",
    "    logger.clear_all()\n",
    "    sampling = 1000\n",
    "    period = 1\n",
    "    if i <= 10:\n",
    "        sampling = 1000\n",
    "        period = 1\n",
    "    elif i<= 100:\n",
    "        sampling = 1000\n",
    "        period = 0.2\n",
    "\n",
    "    else:\n",
    "        sampling = 10000\n",
    "        period = 0.1\n",
    "\n",
    "    logger.unregister_all()\n",
    "    #logger.register('Ia1_a Ia1_b Ia1_c Ib1_a Ib1_b Ib1_c Ia2_a Ia2_b Ia2_c Ib2_a Ib2_b Ib2_c', samples_per_sec = 1000, var_type = 'double')\n",
    "    #logger.register('Itq_d Itq_q vd_ref vq_ref Is1_x Is1_y vx_ref vy_ref', samples_per_sec = 1000, var_type = 'double')\n",
    "    logger.register('Itq_d Itq_d_ref Itq_q Is1_y Is1_x', samples_per_sec = sampling, var_type = 'double')\n",
    "\n",
    "    ###################   COLLECT DATA   ####################\n",
    "    # Clear the logger, then record data\n",
    "\n",
    "    logger.clear_all()\n",
    "    cmd.bim_set_id(2)\n",
    "    vd_ref_chirp_gain     = 500 * 1e-3; # [m]\n",
    "    vd_ref_chirp_freq_min = i; # [Hz]\n",
    "    vd_ref_chirp_freq_max = i; # [Hz]\n",
    "    vd_ref_chirp_period   = period; # [sec]\n",
    "    amdc.cmd(\"inj const ix_ref set 0\")\n",
    "    amdc.cmd(\"inj const iy_ref set 0\")\n",
    "    amdc.cmd(\"inj const iq_ref set 0\")\n",
    "    amdc.cmd(\"inj chirp id_ref set {:.6f} {:.6f} {:.6f} {:.6f}\".format(vd_ref_chirp_gain, vd_ref_chirp_freq_min, vd_ref_chirp_freq_max, vd_ref_chirp_period))\n",
    "\n",
    "    logger.start()\n",
    "    #DATA IS BEING RECORDED\n",
    "    time.sleep(period*1.1)\n",
    "\n",
    "    logger.stop()\n",
    "\n",
    "    ####################   DUMP DATA AND PLOT   ####################\n",
    "    filename = 'bim_data_id_id'+ str(i)+'.csv'\n",
    "    data = logger.dump(file = filename)\n",
    "\n",
    "    logger.unregister_all()\n",
    "    #logger.register('Ia1_a Ia1_b Ia1_c Ib1_a Ib1_b Ib1_c Ia2_a Ia2_b Ia2_c Ib2_a Ib2_b Ib2_c', samples_per_sec = 1000, var_type = 'double')\n",
    "    #logger.register('Itq_d Itq_q vd_ref vq_ref Is1_x Is1_y vx_ref vy_ref', samples_per_sec = 1000, var_type = 'double')\n",
    "    logger.register('Itq_d Is1_x_ref Itq_q Is1_y Is1_x', samples_per_sec = sampling, var_type = 'double')\n",
    "\n",
    "    ###################   COLLECT DATA   ####################\n",
    "    # Clear the logger, then record data\n",
    "    logger.clear_all()\n",
    "    cmd.bim_set_ixy(0,0)\n",
    "    amdc.cmd(\"inj const id_ref set 0\")\n",
    "    amdc.cmd(\"inj const iq_ref set 0\")\n",
    "    amdc.cmd(\"inj const iy_ref set 0\")\n",
    "    amdc.cmd(\"inj chirp ix_ref add {:.6f} {:.6f} {:.6f} {:.6f}\".format(vd_ref_chirp_gain, vd_ref_chirp_freq_min, vd_ref_chirp_freq_max, vd_ref_chirp_period))\n",
    "\n",
    "    logger.start()\n",
    "    #DATA IS BEING RECORDED\n",
    "    time.sleep(period*1.1)\n",
    "\n",
    "    logger.stop()\n",
    "\n",
    "    ####################   DUMP DATA AND PLOT   ####################\n",
    "    filename = 'bim_data_id_ix'+ str(i)+'.csv'\n",
    "    data = logger.dump(file = filename)"
   ]
  },
  {
   "cell_type": "code",
   "execution_count": null,
   "metadata": {},
   "outputs": [],
   "source": [
    "cmd.disable_pwm()\n",
    "cmd.bim_disable_levctrl()\n",
    "cmd.bim_disable_ob()\n",
    "cmd.bim_disable_vctrl()\n",
    "\n",
    "amdc.cmd(\"inj const vd_ref set 0\")\n",
    "amdc.cmd(\"inj const vq_ref set 0\")\n",
    "amdc.cmd(\"inj const vx_ref set 0\")\n",
    "amdc.cmd(\"inj const vy_ref set 0\")\n",
    "amdc.cmd(\"inj const Fx_ref set 0\")\n",
    "amdc.cmd(\"inj const Fy_ref set 0\")\n",
    "amdc.cmd(\"inj const wrm_ref set 0\")\n",
    "\n",
    "cmd.enable_pwm()"
   ]
  },
  {
   "cell_type": "code",
   "execution_count": null,
   "metadata": {},
   "outputs": [],
   "source": [
    "\n",
    "logger.unregister_all()\n",
    "#logger.register('Ia1_a Ia1_b Ia1_c Ib1_a Ib1_b Ib1_c Ia2_a Ia2_b Ia2_c Ib2_a Ib2_b Ib2_c', samples_per_sec = 1000, var_type = 'double')\n",
    "#logger.register('Itq_d Itq_q vd_ref vq_ref Is1_x Is1_y vx_ref vy_ref', samples_per_sec = 1000, var_type = 'double')\n",
    "logger.register('Itq_d vd_ref', samples_per_sec = 10000, var_type = 'double')\n"
   ]
  },
  {
   "cell_type": "code",
   "execution_count": null,
   "metadata": {},
   "outputs": [],
   "source": [
    "\n",
    "###################   COLLECT DATA   ####################\n",
    "# Clear the logger, then record data\n",
    "d_ref_chirp_gain     = 1000 * 1e-3; # [m]\n",
    "vd_ref_chirp_freq_min = 150; # [Hz]\n",
    "vd_ref_chirp_freq_max = 150; # [Hz]\n",
    "vd_ref_chirp_period   = 0.3; # [sec]\n",
    "logger.clear_all()\n",
    "\n",
    "amdc.cmd(\"inj const vq_ref set 0\")\n",
    "amdc.cmd(\"inj const vx_ref set 0\")\n",
    "amdc.cmd(\"inj const vy_ref set 0\")\n",
    "amdc.cmd(\"inj chirp vd_ref set {:.6f} {:.6f} {:.6f} {:.6f}\".format(vd_ref_chirp_gain, vd_ref_chirp_freq_min, vd_ref_chirp_freq_max, vd_ref_chirp_period))\n",
    "logger.start()\n",
    "\n",
    "#DATA IS BEING RECORDED\n",
    "time.sleep(0.1)\n",
    "\n",
    "logger.stop()\n",
    "\n",
    "####################   DUMP DATA AND PLOT   ####################\n",
    "data = logger.dump(file = 'bim_data_id_vd150.csv')\n",
    "\n",
    "logger.unregister_all()\n",
    "#logger.register('Ia1_a Ia1_b Ia1_c Ib1_a Ib1_b Ib1_c Ia2_a Ia2_b Ia2_c Ib2_a Ib2_b Ib2_c', samples_per_sec = 1000, var_type = 'double')\n",
    "#logger.register('Itq_d Itq_q vd_ref vq_ref Is1_x Is1_y vx_ref vy_ref', samples_per_sec = 1000, var_type = 'double')\n",
    "logger.register('Is1_x vx_ref', samples_per_sec = 20000, var_type = 'double')\n",
    "\n",
    "###################   COLLECT DATA   ####################\n",
    "# Clear the logger, then record data\n",
    "logger.clear_all()\n",
    "\n",
    "amdc.cmd(\"inj const vd_ref set 0\")\n",
    "amdc.cmd(\"inj const vq_ref set 0\")\n",
    "amdc.cmd(\"inj const vy_ref set 0\")\n",
    "amdc.cmd(\"inj chirp vx_ref set {:.6f} {:.6f} {:.6f} {:.6f}\".format(vd_ref_chirp_gain, vd_ref_chirp_freq_min, vd_ref_chirp_freq_max, vd_ref_chirp_period))\n",
    "logger.start()\n",
    "\n",
    "#DATA IS BEING RECORDED\n",
    "time.sleep(0.1)\n",
    "\n",
    "logger.stop()\n",
    "\n",
    "####################   DUMP DATA AND PLOT   ####################\n",
    "data = logger.dump(file = 'bim_data_id_vx150.csv')\n"
   ]
  },
  {
   "cell_type": "code",
   "execution_count": null,
   "metadata": {},
   "outputs": [],
   "source": [
    "\n",
    "logger.unregister_all()\n",
    "#logger.register('Ia1_a Ia1_b Ia1_c Ib1_a Ib1_b Ib1_c Ia2_a Ia2_b Ia2_c Ib2_a Ib2_b Ib2_c', samples_per_sec = 1000, var_type = 'double')\n",
    "#logger.register('Itq_d Itq_q vd_ref vq_ref Is1_x Is1_y vx_ref vy_ref', samples_per_sec = 1000, var_type = 'double')\n",
    "logger.register('Is1_y vy_ref', samples_per_sec = 10000, var_type = 'double')\n",
    "\n",
    "###################   COLLECT DATA   ####################\n",
    "# Clear the logger, then record data\n",
    "logger.clear_all()\n",
    "logger.start()\n",
    "amdc.cmd(\"inj const vd_ref set 0\")\n",
    "amdc.cmd(\"inj const vq_ref set 0\")\n",
    "amdc.cmd(\"inj const vx_ref set 0\")\n",
    "amdc.cmd(\"inj chirp vy_ref set {:.6f} {:.6f} {:.6f} {:.6f}\".format(vd_ref_chirp_gain, vd_ref_chirp_freq_min, vd_ref_chirp_freq_max, vd_ref_chirp_period))\n",
    "\n",
    "\n",
    "#DATA IS BEING RECORDED\n",
    "time.sleep(0.5)\n",
    "\n",
    "logger.stop()\n",
    "\n",
    "####################   DUMP DATA AND PLOT   ####################\n",
    "data = logger.dump(file = 'bim_data_id_vy200.csv')"
   ]
  },
  {
   "cell_type": "code",
   "execution_count": null,
   "metadata": {},
   "outputs": [],
   "source": [
    "amdc.cmd(\"inj const vd_ref set 0\")"
   ]
  },
  {
   "cell_type": "code",
   "execution_count": null,
   "metadata": {},
   "outputs": [],
   "source": [
    "\n",
    "#DATA IS BEING RECORDED\n",
    "time.sleep(4)\n",
    "\n",
    "logger.stop()\n"
   ]
  },
  {
   "cell_type": "code",
   "execution_count": null,
   "metadata": {},
   "outputs": [],
   "source": [
    "####################   DUMP DATA AND PLOT   ####################\n",
    "data = logger.dump(file = 'bim_data_id.csv')\n"
   ]
  },
  {
   "cell_type": "code",
   "execution_count": null,
   "metadata": {},
   "outputs": [],
   "source": [
    "####################   DUMP DATA AND PLOT   ####################\n",
    "\n",
    "#data.filter(regex=\"^theta_rm$\").plot()\n",
    "data.filter(regex=\"^vd_ref|Itq_d$\").plot()\n",
    "#data.filter(regex=\"^vq_ref|Itq_q$\").plot()\n",
    "#data.filter(regex=\"^vx_ref|Is1_x$\").plot()\n",
    "#data.filter(regex=\"^vy_ref|Is1_y$\").plot()\n"
   ]
  },
  {
   "cell_type": "code",
   "execution_count": null,
   "metadata": {},
   "outputs": [],
   "source": [
    "cmd.bim_enable_ob()"
   ]
  },
  {
   "cell_type": "code",
   "execution_count": null,
   "metadata": {},
   "outputs": [],
   "source": [
    "cmd.bim_set_Te(0.2)"
   ]
  },
  {
   "cell_type": "code",
   "execution_count": null,
   "metadata": {},
   "outputs": [],
   "source": [
    "cmd.bim_set_w(10)"
   ]
  },
  {
   "cell_type": "code",
   "execution_count": null,
   "metadata": {},
   "outputs": [],
   "source": [
    "cmd.bim_set_ixy(0, 0)\n",
    "cmd.bim_set_id(0)"
   ]
  },
  {
   "cell_type": "code",
   "execution_count": null,
   "metadata": {},
   "outputs": [],
   "source": [
    "cmd.disable_pwm()"
   ]
  },
  {
   "cell_type": "code",
   "execution_count": null,
   "metadata": {},
   "outputs": [],
   "source": [
    "vd_ref_chirp_gain     = 500 * 1e-3; # [m]\n",
    "vd_ref_chirp_freq_min = 1; # [Hz]\n",
    "vd_ref_chirp_freq_max = 100; # [Hz]\n",
    "vd_ref_chirp_period   = 1.0; # [sec]\n",
    "amdc.cmd(\"inj chirp vd_ref set {:.6f} {:.6f} {:.6f} {:.6f}\".format(vd_ref_chirp_gain, vd_ref_chirp_freq_min, vd_ref_chirp_freq_max, vd_ref_chirp_period))"
   ]
  },
  {
   "cell_type": "code",
   "execution_count": null,
   "metadata": {},
   "outputs": [],
   "source": [
    "vd_ref_chirp_gain     = 500 * 1e-3; # [m]\n",
    "vd_ref_chirp_freq_min = 1; # [Hz]\n",
    "vd_ref_chirp_freq_max = 100; # [Hz]\n",
    "vd_ref_chirp_period   = 1.0; # [sec]\n",
    "amdc.cmd(\"inj chirp vd_ref set {:.6f} {:.6f} {:.6f} {:.6f}\".format(vd_ref_chirp_gain, vd_ref_chirp_freq_min, vd_ref_chirp_freq_max, vd_ref_chirp_period))"
   ]
  },
  {
   "cell_type": "code",
   "execution_count": null,
   "metadata": {},
   "outputs": [],
   "source": [
    "amdc.disconnect()\n",
    "#amdc.connect()"
   ]
  },
  {
   "cell_type": "markdown",
   "metadata": {
    "pycharm": {
     "name": "#%% md\n"
    }
   },
   "source": [
    "## Logging\n"
   ]
  },
  {
   "cell_type": "code",
   "execution_count": null,
   "metadata": {},
   "outputs": [],
   "source": [
    "import matplotlib\n",
    "import time\n",
    "import pathlib as pl\n",
    "import sys\n",
    "repo_dir = '..'                                      # CHANGE THIS TO YOUR REPO DIRECTORY\n",
    "repo_dir = pl.Path(repo_dir)\n",
    "\n",
    "from AMDC_Logger import AMDC_Logger, find_mapfile\n",
    "mapfile_path = find_mapfile(repo_dir)\n",
    "logger = AMDC_Logger(AMDC = amdc, mapfile = mapfile_path)\n",
    "logger.sync()\n",
    "\n",
    "# View which variables are logged\n",
    "logger.info()\n",
    "#amdc.connect()\n",
    "cmd.c_loop_enable_log()"
   ]
  },
  {
   "cell_type": "code",
   "execution_count": null,
   "metadata": {
    "pycharm": {
     "name": "#%%\n"
    }
   },
   "outputs": [],
   "source": [
    "logger.unregister_all()\n",
    "#logger.register('Ia1_a Ia1_b Ia1_c Ib1_a Ib1_b Ib1_c Ia2_a Ia2_b Ia2_c Ib2_a Ib2_b Ib2_c', samples_per_sec = 1000, var_type = 'double')\n",
    "#logger.register('theta_rm wrm wsl theta_e we Itq_d_ref Itq_q_ref Itq_d Itq_q Te', samples_per_sec = 1000, var_type = 'double')\n",
    "logger.register('theta_rm theta_e wrm', samples_per_sec = 1000, var_type = 'double')\n",
    "\n",
    "\n",
    "\n",
    "# View which variables are logged\n",
    "logger.info()\n",
    "\n",
    "###################   COLLECT DATA   ####################\n",
    "# Clear the logger, then record data\n",
    "logger.clear_all()\n",
    "logger.start()\n"
   ]
  },
  {
   "cell_type": "code",
   "execution_count": null,
   "metadata": {},
   "outputs": [],
   "source": [
    "\n",
    "#DATA IS BEING RECORDED\n",
    "time.sleep(1)\n",
    "\n",
    "logger.stop()\n"
   ]
  },
  {
   "cell_type": "code",
   "execution_count": null,
   "metadata": {},
   "outputs": [],
   "source": [
    "####################   DUMP DATA AND PLOT   ####################\n",
    "data = logger.dump(file = 'bim_data_pos.csv')\n"
   ]
  },
  {
   "cell_type": "code",
   "execution_count": null,
   "metadata": {},
   "outputs": [],
   "source": [
    "data.filter(regex=\"^wrm$\").plot()\n",
    "#data.filter(regex=\"^we$\").plot()\n",
    "#data.filter(regex=\"^wsl$\").plot()\n",
    "data.filter(regex=\"^theta_e|theta_rm$\").plot()\n",
    "#data.filter(regex=\"^theta_rm$\").plot()\n",
    "#data.filter(regex=\"^Itq_d_ref|Itq_d$\").plot()\n",
    "#data.filter(regex=\"^Itq_q_ref|Itq_q$\").plot()\n",
    "#data.filter(regex=\"^Te$\").plot()\n"
   ]
  },
  {
   "cell_type": "code",
   "execution_count": null,
   "metadata": {},
   "outputs": [],
   "source": [
    "\n",
    "####################   DUMP DATA AND PLOT   ####################\n",
    "data = logger.dump(file = 'bim_data_pos.csv')\n",
    "#data\n"
   ]
  },
  {
   "cell_type": "code",
   "execution_count": null,
   "metadata": {},
   "outputs": [],
   "source": [
    "data.filter(regex=\"^wrm$\").plot()\n",
    "#data.filter(regex=\"^we$\").plot()\n",
    "data.filter(regex=\"^wsl$\").plot()\n",
    "data.filter(regex=\"^theta_e|theta_rm$\").plot()\n",
    "#data.filter(regex=\"^theta_rm$\").plot()\n",
    "data.filter(regex=\"^Itq_d_ref|Itq_d$\").plot()\n",
    "data.filter(regex=\"^Itq_q_ref|Itq_q$\").plot()\n",
    "data.filter(regex=\"^Te$\").plot()\n"
   ]
  },
  {
   "cell_type": "code",
   "execution_count": null,
   "metadata": {},
   "outputs": [],
   "source": [
    "logger.unregister_all()\n",
    "logger.register('Iabc1_a Iabc1_b Iabc1_c', samples_per_sec = 1000, var_type = 'double')\n",
    "\n",
    "# View which variables are logged\n",
    "logger.info()\n",
    "\n",
    "logger.clear_all()\n",
    "logger.start()\n",
    "\n",
    "# DATA IS BEING RECORDED\n",
    "#time.sleep(1)\n",
    "\n",
    "logger.stop()\n",
    "\n",
    "data = logger.dump(file = 'test_data_Iabc.csv')\n",
    "#data\n",
    "\n",
    "data.filter(regex=\"^Iabc1_a|Iabc1_b|Iabc1_c$\").plot()"
   ]
  },
  {
   "cell_type": "code",
   "execution_count": null,
   "metadata": {},
   "outputs": [],
   "source": [
    "logger.unregister_all()\n",
    "#logger.register('Itq_d_ref Itq_q_ref Itq_d Itq_q Is1_d_ref Is1_q_ref Is1_d Is1_q Is2_d_ref Is2_q_ref Is2_d Is2_q', samples_per_sec = 1000, var_type = 'double')\n",
    "logger.register('va_ref vb_ref vc_ref', samples_per_sec = 1000, var_type = 'double')\n",
    "# View which variables are logged\n",
    "logger.info()\n",
    "\n",
    "logger.clear_all()\n",
    "logger.start()\n",
    "time.sleep(0.5)\n",
    "logger.stop()\n",
    "\n",
    "data = logger.dump(file = 'bim_data_Idq.csv')\n",
    "#data\n",
    "\n",
    "data.filter(regex=\"^va_ref|vb_ref|vc_ref$\").plot()\n",
    "#data.filter(regex=\"^Itq_q_ref|Itq_q$\").plot()\n",
    "#data.filter(regex=\"^Te_ref$\").plot()"
   ]
  },
  {
   "cell_type": "code",
   "execution_count": null,
   "metadata": {},
   "outputs": [],
   "source": [
    "data.filter(regex=\"^Ib1_a|Ib1_b|Ib1_c$\").plot()"
   ]
  },
  {
   "cell_type": "code",
   "execution_count": null,
   "metadata": {},
   "outputs": [],
   "source": [
    "data.filter(regex=\"^Iabc2_a|Iabc2_b|Iabc2_c$\").plot()"
   ]
  },
  {
   "cell_type": "code",
   "execution_count": null,
   "metadata": {
    "scrolled": true
   },
   "outputs": [],
   "source": [
    "data.filter(regex=\"^Iabc3_a|Iabc3_b|Iabc3_c$\").plot()"
   ]
  },
  {
   "cell_type": "code",
   "execution_count": null,
   "metadata": {},
   "outputs": [],
   "source": [
    "logger.unregister_all()\n",
    "logger.register('vabc1_a vabc1_b vabc1_c', samples_per_sec = 1000, var_type = 'double')\n",
    "\n",
    "# View which variables are logged\n",
    "logger.info()\n",
    "\n",
    "logger.clear_all()\n",
    "logger.start()\n",
    "\n",
    "# DATA IS BEING RECORDED\n",
    "time.sleep(1)\n",
    "\n",
    "logger.stop()\n",
    "\n",
    "data = logger.dump(file = 'test_data.csv')\n",
    "data\n",
    "\n",
    "data.filter(regex=\"^vabc1_a|vabc1_b|vabc1_c$\").plot()"
   ]
  },
  {
   "cell_type": "code",
   "execution_count": null,
   "metadata": {},
   "outputs": [],
   "source": [
    "\n",
    "data = logger.dump(file = 'bim_data.csv')\n",
    "data\n"
   ]
  },
  {
   "cell_type": "code",
   "execution_count": null,
   "metadata": {},
   "outputs": [],
   "source": [
    "data.filter(regex=\"^Itq_d_ref|Itq_q_ref|Itq_d$|Itq_q\").plot()\n",
    "#data.filter(regex=\"^Is1_d_ref|Is1_q_ref|Is1_d|Is1_q$\").plot()\n",
    "#data.filter(regex=\"^Is2_d_ref|Is2_q_ref|Is2_d|Is2_q$\").plot()"
   ]
  },
  {
   "cell_type": "code",
   "execution_count": null,
   "metadata": {},
   "outputs": [],
   "source": [
    "logger.unregister_all()\n",
    "logger.register('Is1_d_ref Is1_q_ref Is1_d Is1_q', samples_per_sec = 1000, var_type = 'double')\n",
    "\n",
    "# View which variables are logged\n",
    "logger.info()\n",
    "\n",
    "logger.clear_all()\n",
    "logger.start()\n",
    "\n",
    "# DATA IS BEING RECORDED\n",
    "time.sleep(1)\n",
    "\n",
    "logger.stop()\n"
   ]
  },
  {
   "cell_type": "code",
   "execution_count": null,
   "metadata": {},
   "outputs": [],
   "source": [
    "#data = logger.dump(file = 'test_data.csv')\n",
    "#data\n",
    "data.filter(regex=\"^Is1_d_ref|Is1_q_ref|Is1_d|Is1_q$\").plot()"
   ]
  },
  {
   "cell_type": "code",
   "execution_count": null,
   "metadata": {},
   "outputs": [],
   "source": [
    "logger.unregister_all()\n",
    "logger.register('Is2_d_ref Is2_q_ref Is2_d Is2_q', samples_per_sec = 1000, var_type = 'double')\n",
    "\n",
    "# View which variables are logged\n",
    "logger.info()\n",
    "\n",
    "logger.clear_all()\n",
    "logger.start()\n",
    "\n",
    "# DATA IS BEING RECORDED\n",
    "time.sleep(1)\n",
    "\n",
    "logger.stop()\n",
    "\n",
    "data = logger.dump(file = 'test_data.csv')\n",
    "data\n",
    "\n",
    "data.filter(regex=\"^Is2_d_ref|Is2_q_ref|Is2_d|Is2_q$\").plot()"
   ]
  },
  {
   "cell_type": "code",
   "execution_count": null,
   "metadata": {},
   "outputs": [],
   "source": [
    "\n",
    "logger.unregister_all()\n",
    "logger.register('v_tq_d v_tq_q', samples_per_sec = 1000, var_type = 'double')\n",
    "\n",
    "# View which variables are logged\n",
    "logger.info()\n",
    "\n",
    "logger.clear_all()\n",
    "logger.start()\n",
    "\n",
    "# DATA IS BEING RECORDED\n",
    "time.sleep(1)\n",
    "\n",
    "logger.stop()\n",
    "\n",
    "data = logger.dump(file = 'test_data.csv')\n",
    "data\n",
    "\n",
    "data.filter(regex=\"^v_tq_d|v_tq_q$\").plot()"
   ]
  },
  {
   "cell_type": "code",
   "execution_count": null,
   "metadata": {},
   "outputs": [],
   "source": [
    "logger.unregister_all()\n",
    "logger.register('we_tq', samples_per_sec = 1000, var_type = 'double')\n",
    "\n",
    "# View which variables are logged\n",
    "logger.info()\n",
    "\n",
    "logger.clear_all()\n",
    "logger.start()\n",
    "\n",
    "# DATA IS BEING RECORDED\n",
    "time.sleep(1)\n",
    "\n",
    "logger.stop()\n",
    "\n",
    "data = logger.dump(file = 'test_data.csv')\n",
    "data\n",
    "\n",
    "data.filter(regex=\"^we_tq$\").plot()"
   ]
  }
 ],
 "metadata": {
  "interpreter": {
   "hash": "b3ba2566441a7c06988d0923437866b63cedc61552a5af99d1f4fb67d367b25f"
  },
  "kernelspec": {
   "display_name": "Python 3 (ipykernel)",
   "language": "python",
   "name": "python3"
  },
  "language_info": {
   "codemirror_mode": {
    "name": "ipython",
    "version": 3
   },
   "file_extension": ".py",
   "mimetype": "text/x-python",
   "name": "python",
   "nbconvert_exporter": "python",
   "pygments_lexer": "ipython3",
   "version": "3.9.6"
  }
 },
 "nbformat": 4,
 "nbformat_minor": 4
}
