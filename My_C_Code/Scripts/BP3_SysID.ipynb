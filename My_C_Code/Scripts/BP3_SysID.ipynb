{
 "cells": [
  {
   "cell_type": "markdown",
   "metadata": {},
   "source": [
    "# Cabinet Start-Up Procedure"
   ]
  },
  {
   "cell_type": "markdown",
   "metadata": {},
   "source": [
    "1. Turn on cabinet power in back of cabinet\n",
    "2. Turn on sensor power (24 Volts). The sensor power inputs are labeled.\n",
    "3. Compile code to AMDC\n",
    "4. Turn on power to DC bus of cabinet.\n",
    "5. Run Jupyter Notebook. "
   ]
  },
  {
   "cell_type": "markdown",
   "metadata": {},
   "source": [
    "Import neccessary modules"
   ]
  },
  {
   "cell_type": "code",
   "execution_count": 16,
   "metadata": {},
   "outputs": [],
   "source": [
    "amdc.disconnect()"
   ]
  },
  {
   "cell_type": "code",
   "execution_count": 18,
   "metadata": {},
   "outputs": [
    {
     "name": "stdout",
     "output_type": "stream",
     "text": [
      "\t> cabinet init_cb\n",
      "['cabinet init_cbENC:\\tSetting pulses per rev bits = 10...', '', 'SUCCESS']\n",
      "\t> cabinet set_vdc_all 200.00000\n",
      "['cabinet set_vdc_all 200.00000', 'SUCCESS']\n"
     ]
    }
   ],
   "source": [
    "from Cabinet_CMD import cmd\n",
    "import sys\n",
    "sys.path.append(r'..\\AMDC-Firmware\\scripts')\n",
    "from AMDC import AMDC\n",
    "amdc = AMDC(port = 'COM13', cmdEcho = True, printOutput=True)\n",
    "Vdc = 200\n",
    "cmd = cmd(Vdc, amdc, debug = False) \n"
   ]
  },
  {
   "cell_type": "code",
   "execution_count": 19,
   "metadata": {},
   "outputs": [
    {
     "name": "stdout",
     "output_type": "stream",
     "text": [
      "\t> log info\n",
      "\t> log info\n",
      "###################   AMDC LOGGER INFO   ###################\n",
      "\n",
      "Variable Name:      Index:         Type:         Sample Rate [Hz]:    Number of Samples:\n",
      "\n",
      "\t> c_loop enable_log\n",
      "['c_loop enable_log', 'SUCCESS']\n"
     ]
    }
   ],
   "source": [
    "\n",
    "import matplotlib\n",
    "import time\n",
    "import pathlib as pl\n",
    "import sys\n",
    "repo_dir = '..'                                      # CHANGE THIS TO YOUR REPO DIRECTORY\n",
    "repo_dir = pl.Path(repo_dir)\n",
    "\n",
    "from AMDC_Logger import AMDC_Logger, find_mapfile\n",
    "mapfile_path = find_mapfile(repo_dir)\n",
    "logger = AMDC_Logger(AMDC = amdc, mapfile = mapfile_path)\n",
    "logger.sync()\n",
    "\n",
    "# View which variables are logged\n",
    "logger.info()\n",
    "#amdc.connect()\n",
    "cmd.enable_log()"
   ]
  },
  {
   "cell_type": "code",
   "execution_count": 20,
   "metadata": {},
   "outputs": [
    {
     "name": "stdout",
     "output_type": "stream",
     "text": [
      "\t> hw pwm off\n",
      "['hw pwm off', 'FAILURE']\n",
      "\t> bp3 deinit\n",
      "['bp3 deinitENC:\\tSetting pulses per rev bits = 10...', '', 'SUCCESS']\n"
     ]
    }
   ],
   "source": [
    "cmd.disable_pwm()\n",
    "cmd.bp3_deinit()"
   ]
  },
  {
   "cell_type": "code",
   "execution_count": 21,
   "metadata": {},
   "outputs": [
    {
     "name": "stdout",
     "output_type": "stream",
     "text": [
      "\t> bp3 init\n",
      "['bp3 initENC:\\tSetting pulses per rev bits = 10...', '', 'SUCCESS']\n"
     ]
    }
   ],
   "source": [
    "cmd.bp3_init()\n"
   ]
  },
  {
   "cell_type": "code",
   "execution_count": 22,
   "metadata": {},
   "outputs": [
    {
     "name": "stdout",
     "output_type": "stream",
     "text": [
      "\t> bp3 enable_ctrl\n",
      "['bp3 enable_ctrl', 'SUCCESS']\n",
      "\t> bp3 set_vdc_tq 200.000000\n",
      "['bp3 set_vdc_tq 200.000000', 'SUCCESS']\n",
      "\t> bp3 enable_ob\n",
      "['bp3 enable_ob', 'SUCCESS']\n",
      "\t> c_loop enable_log\n",
      "['c_loop enable_log', 'SUCCESS']\n"
     ]
    }
   ],
   "source": [
    "cmd.bp3_enable_ctrl()\n",
    "cmd.bp3_set_Vdc_tq(200)\n",
    "cmd.bp3_enable_ob()\n",
    "cmd.enable_log()"
   ]
  },
  {
   "cell_type": "code",
   "execution_count": 23,
   "metadata": {},
   "outputs": [
    {
     "name": "stdout",
     "output_type": "stream",
     "text": [
      "\t> bp3 set_vdc_tq 200.000000\n",
      "['bp3 set_vdc_tq 200.000000', 'SUCCESS']\n",
      "\t> bp3 enable_align\n",
      "['bp3 enable_align', 'SUCCESS']\n",
      "\t> hw pwm on\n",
      "['hw pwm on', 'SUCCESS']\n",
      "\t> c_loop enable_log\n",
      "['c_loop enable_log', 'SUCCESS']\n"
     ]
    }
   ],
   "source": [
    "cmd.bp3_set_Vdc_tq(200)\n",
    "cmd.bp3_enable_align()\n",
    "\n",
    "cmd.enable_pwm()\n",
    "cmd.enable_log()"
   ]
  },
  {
   "cell_type": "code",
   "execution_count": 13,
   "metadata": {},
   "outputs": [
    {
     "name": "stdout",
     "output_type": "stream",
     "text": [
      "\t> bp3 set_id 0.000000\n",
      "['bp3 set_id 0.000000', 'SUCCESS']\n",
      "\t> bp3 enable_ctrl\n",
      "['bp3 enable_ctrl', 'SUCCESS']\n",
      "\t> bp3 enable_ob\n",
      "['bp3 enable_ob', 'SUCCESS']\n",
      "\t> c_loop enable_log\n",
      "['c_loop enable_log', 'SUCCESS']\n"
     ]
    }
   ],
   "source": [
    "cmd.bp3_set_id(0)\n",
    "cmd.bp3_enable_ctrl()\n",
    "\n",
    "cmd.bp3_enable_ob()\n",
    "cmd.enable_log()\n",
    "\n",
    "#cmd.bp3_set_id(2)"
   ]
  },
  {
   "cell_type": "code",
   "execution_count": 30,
   "metadata": {},
   "outputs": [
    {
     "name": "stdout",
     "output_type": "stream",
     "text": [
      "\t> log unreg 0\n",
      "['log unreg 0', 'SUCCESS']\n",
      "\t> log unreg 1\n",
      "['log unreg 1', 'SUCCESS']\n",
      "\t> log unreg 2\n",
      "['log unreg 2', 'SUCCESS']\n",
      "\t> log unreg 3\n",
      "['log unreg 3', 'SUCCESS']\n",
      "\t> log unreg 4\n",
      "['log unreg 4', 'SUCCESS']\n",
      "\t> log unreg 5\n",
      "['log unreg 5', 'SUCCESS']\n",
      "\t> log unreg 6\n",
      "['log unreg 6', 'SUCCESS']\n",
      "\t> log unreg 7\n",
      "['log unreg 7', 'SUCCESS']\n",
      "\t> log unreg 8\n",
      "['log unreg 8', 'SUCCESS']\n",
      "\t> log unreg 9\n",
      "['log unreg 9', 'SUCCESS']\n",
      "\t> log unreg 10\n",
      "['log unreg 10', 'SUCCESS']\n",
      "\t> log unreg 11\n",
      "['log unreg 11', 'SUCCESS']\n",
      "\t> log unreg 12\n",
      "['log unreg 12', 'SUCCESS']\n",
      "\t> log unreg 13\n",
      "['log unreg 13', 'SUCCESS']\n",
      "\t> log unreg 14\n",
      "['log unreg 14', 'SUCCESS']\n",
      "\t> log unreg 15\n",
      "['log unreg 15', 'SUCCESS']\n",
      "\t> log reg 0 LOG_wrm 1272712 1000 double\n",
      "['log reg 0 LOG_wrm 1272712 1000 double', 'SUCCESS']\n",
      "\t> log reg 1 LOG_theta_rm 1272744 1000 double\n",
      "['log reg 1 LOG_theta_rm 1272744 1000 double', 'SUCCESS']\n",
      "\t> log reg 2 LOG_theta_offset 1266720 1000 double\n",
      "['log reg 2 LOG_theta_offset 1266720 1000 double', 'SUCCESS']\n",
      "\t> log reg 3 LOG_theta_e 1272760 1000 double\n",
      "['log reg 3 LOG_theta_e 1272760 1000 double', 'SUCCESS']\n",
      "\t> log reg 4 LOG_Iabc1_a 1272496 1000 double\n",
      "['log reg 4 LOG_Iabc1_a 1272496 1000 double', 'SUCCESS']\n",
      "\t> log reg 5 LOG_Iabc1_b 1272504 1000 double\n",
      "['log reg 5 LOG_Iabc1_b 1272504 1000 double', 'SUCCESS']\n",
      "\t> log reg 6 LOG_Iabc1_c 1272512 1000 double\n",
      "['log reg 6 LOG_Iabc1_c 1272512 1000 double', 'SUCCESS']\n",
      "\t> log reg 7 LOG_va1_ref 1272784 1000 double\n",
      "['log reg 7 LOG_va1_ref 1272784 1000 double', 'SUCCESS']\n",
      "\t> log reg 8 LOG_vb1_ref 1272792 1000 double\n",
      "['log reg 8 LOG_vb1_ref 1272792 1000 double', 'SUCCESS']\n",
      "\t> log reg 9 LOG_vc1_ref 1272800 1000 double\n",
      "['log reg 9 LOG_vc1_ref 1272800 1000 double', 'SUCCESS']\n",
      "\t> log reg 10 LOG_vd_ref 1272832 1000 double\n",
      "['log reg 10 LOG_vd_ref 1272832 1000 double', 'SUCCESS']\n",
      "\t> log reg 11 LOG_vq_ref 1272840 1000 double\n",
      "['log reg 11 LOG_vq_ref 1272840 1000 double', 'SUCCESS']\n",
      "\t> log reg 12 LOG_Itq_d 1272608 1000 double\n",
      "['log reg 12 LOG_Itq_d 1272608 1000 double', 'SUCCESS']\n",
      "\t> log reg 13 LOG_Itq_q 1272616 1000 double\n",
      "['log reg 13 LOG_Itq_q 1272616 1000 double', 'SUCCESS']\n",
      "\t> log reg 14 LOG_Itq_d_ref 1272544 1000 double\n",
      "['log reg 14 LOG_Itq_d_ref 1272544 1000 double', 'SUCCESS']\n",
      "\t> log reg 15 LOG_Itq_q_ref 1272552 1000 double\n",
      "['log reg 15 LOG_Itq_q_ref 1272552 1000 double', 'SUCCESS']\n",
      "\t> log info\n",
      "###################   AMDC LOGGER INFO   ###################\n",
      "\n",
      "Variable Name:      Index:         Type:         Sample Rate [Hz]:    Number of Samples:\n",
      "LOG_wrm               0            double              1000.0                0       \n",
      "LOG_theta_rm          1            double              1000.0                0       \n",
      "LOG_theta_offset       2            double              1000.0                0       \n",
      "LOG_theta_e           3            double              1000.0                0       \n",
      "LOG_Iabc1_a           4            double              1000.0                0       \n",
      "LOG_Iabc1_b           5            double              1000.0                0       \n",
      "LOG_Iabc1_c           6            double              1000.0                0       \n",
      "LOG_va1_ref           7            double              1000.0                0       \n",
      "LOG_vb1_ref           8            double              1000.0                0       \n",
      "LOG_vc1_ref           9            double              1000.0                0       \n",
      "LOG_vd_ref            10           double              1000.0                0       \n",
      "LOG_vq_ref            11           double              1000.0                0       \n",
      "LOG_Itq_d             12           double              1000.0                0       \n",
      "LOG_Itq_q             13           double              1000.0                0       \n",
      "LOG_Itq_d_ref         14           double              1000.0                0       \n",
      "LOG_Itq_q_ref         15           double              1000.0                0       \n",
      "\n"
     ]
    }
   ],
   "source": [
    "\n",
    "logger.unregister_all()\n",
    "#logger.register('wrm_ref wrm wrm_hf Is1_x Is1_y Is1_x_ref Is1_y_ref Itq_d_ref Itq_q_ref Itq_d Itq_q delta_x delta_y', samples_per_sec = 5000, var_type = 'double')\n",
    "#logger.register('delta_x delta_y F_x F_y Is1_x Is1_y Is1_x_ref Is1_y_ref Itq_d_ref Itq_q_ref Itq_d Itq_q wrm_ref wrm wrm_hf va1_ref vb1_ref vc1_ref', samples_per_sec = 10000, var_type = 'double')\n",
    "\n",
    "#logger.register('delta_x delta_y F_x F_y Is1_x Is1_y Is1_x_ref Is1_y_ref Itq_d_ref Itq_q_ref Itq_d Itq_q va1_ref vb1_ref vc1_ref va2_ref vb2_ref vc2_ref', samples_per_sec = 1000, var_type = 'double')\n",
    "#logger.register('delta_x delta_y F_x F_y Is1_x Is1_y Is1_x_ref Is1_y_ref Itq_d_ref Itq_q_ref Itq_d Itq_q wrm_ref wrm', samples_per_sec = 5000, var_type = 'double')\n",
    "#logger.register('delta_x delta_y F_x F_y' , samples_per_sec = 500, var_type = 'double')\n",
    "logger.register('wrm theta_rm theta_offset theta_e Iabc1_a Iabc1_b Iabc1_c va1_ref vb1_ref vc1_ref vd_ref vq_ref Itq_d Itq_q  Itq_d_ref Itq_q_ref' , samples_per_sec = 1000, var_type = 'double')\n",
    "# View which variables are logged\n",
    "logger.info()\n"
   ]
  },
  {
   "cell_type": "code",
   "execution_count": 31,
   "metadata": {},
   "outputs": [
    {
     "name": "stdout",
     "output_type": "stream",
     "text": [
      "\t> log empty_all\n",
      "['log empty_all', 'SUCCESS']\n",
      "\t> log start\n",
      "['log start', 'SUCCESS']\n",
      "\t> log stop\n",
      "['log stop', 'SUCCESS']\n",
      "\t> log dump bin 0\n",
      "Dumping: LOG_wrm\n",
      "Dump took: 0.477  sec\n",
      "Dump rate: 964.341  sps\n",
      "Num samples: 460 \n",
      "\n",
      "\t> log dump bin 1\n",
      "Dumping: LOG_theta_rm\n",
      "Dump took: 0.471  sec\n",
      "Dump rate: 976.478  sps\n",
      "Num samples: 460 \n",
      "\n",
      "\t> log dump bin 2\n",
      "Dumping: LOG_theta_offset\n",
      "Dump took: 0.468  sec\n",
      "Dump rate: 982.852  sps\n",
      "Num samples: 460 \n",
      "\n",
      "\t> log dump bin 3\n",
      "Dumping: LOG_theta_e\n",
      "Dump took: 0.472  sec\n",
      "Dump rate: 973.683  sps\n",
      "Num samples: 460 \n",
      "\n",
      "\t> log dump bin 4\n",
      "Dumping: LOG_Iabc1_a\n",
      "Dump took: 0.464  sec\n",
      "Dump rate: 991.267  sps\n",
      "Num samples: 460 \n",
      "\n",
      "\t> log dump bin 5\n",
      "Dumping: LOG_Iabc1_b\n",
      "Dump took: 0.470  sec\n",
      "Dump rate: 978.007  sps\n",
      "Num samples: 460 \n",
      "\n",
      "\t> log dump bin 6\n",
      "Dumping: LOG_Iabc1_c\n",
      "Dump took: 0.473  sec\n",
      "Dump rate: 972.395  sps\n",
      "Num samples: 460 \n",
      "\n",
      "\t> log dump bin 7\n",
      "Dumping: LOG_va1_ref\n",
      "Dump took: 0.467  sec\n",
      "Dump rate: 984.854  sps\n",
      "Num samples: 460 \n",
      "\n",
      "\t> log dump bin 8\n",
      "Dumping: LOG_vb1_ref\n",
      "Dump took: 0.468  sec\n",
      "Dump rate: 982.929  sps\n",
      "Num samples: 460 \n",
      "\n",
      "\t> log dump bin 9\n",
      "Dumping: LOG_vc1_ref\n",
      "Dump took: 0.472  sec\n",
      "Dump rate: 974.448  sps\n",
      "Num samples: 460 \n",
      "\n",
      "\t> log dump bin 10\n",
      "Dumping: LOG_vd_ref\n",
      "Dump took: 0.470  sec\n",
      "Dump rate: 979.168  sps\n",
      "Num samples: 460 \n",
      "\n",
      "\t> log dump bin 11\n",
      "Dumping: LOG_vq_ref\n",
      "Dump took: 0.486  sec\n",
      "Dump rate: 946.402  sps\n",
      "Num samples: 460 \n",
      "\n",
      "\t> log dump bin 12\n",
      "Dumping: LOG_Itq_d\n",
      "Dump took: 0.481  sec\n",
      "Dump rate: 955.681  sps\n",
      "Num samples: 460 \n",
      "\n",
      "\t> log dump bin 13\n",
      "Dumping: LOG_Itq_q\n",
      "Dump took: 0.484  sec\n",
      "Dump rate: 949.753  sps\n",
      "Num samples: 460 \n",
      "\n",
      "\t> log dump bin 14\n",
      "Dumping: LOG_Itq_d_ref\n",
      "Dump took: 0.489  sec\n",
      "Dump rate: 940.774  sps\n",
      "Num samples: 460 \n",
      "\n",
      "\t> log dump bin 15\n",
      "Dumping: LOG_Itq_q_ref\n",
      "Dump took: 0.488  sec\n",
      "Dump rate: 942.603  sps\n",
      "Num samples: 460 \n",
      "\n"
     ]
    }
   ],
   "source": [
    "logger.clear_all()\n",
    "logger.start()\n",
    "time.sleep(0.1)\n",
    "logger.stop()\n",
    "\n",
    "####################   DUMP DATA AND PLOT   ####################\n",
    "data = logger.dump(file = 'bp3_data_150test_align.csv')"
   ]
  },
  {
   "cell_type": "code",
   "execution_count": null,
   "metadata": {},
   "outputs": [],
   "source": [
    "logger.clear()\n",
    "logger.start()\n",
    "time.sleep(1.5)\n",
    "cmd.bp3_enable_ctrl()\n",
    "time.sleep(1.5)\n",
    "cmd.bp3_set_id(0)\n",
    "time.sleep(1.5)\n",
    "cmd.bp3_set_Te(0.2)\n",
    "time.sleep(1.5)\n",
    "cmd.bp3_set_Te(0)\n",
    "time.sleep(1.5)\n",
    "cmd.bp3_set_id(2)\n",
    "time.sleep(1.5)\n",
    "logger.stop()\n",
    "\n",
    "####################   DUMP DATA AND PLOT   ####################\n",
    "data = logger.dump(file = 'bp3_data_debug.csv')"
   ]
  },
  {
   "cell_type": "code",
   "execution_count": null,
   "metadata": {},
   "outputs": [],
   "source": [
    "cmd.bp3_set_Vdc_tq(150)\n",
    "cmd.bp3_set_Vdc_s1(40)\n"
   ]
  },
  {
   "cell_type": "code",
   "execution_count": 9,
   "metadata": {},
   "outputs": [
    {
     "name": "stdout",
     "output_type": "stream",
     "text": [
      "\t> bp3 enable_align\n",
      "['bp3 enable_align', 'SUCCESS']\n",
      "\t> hw pwm on\n",
      "['hw pwm on', 'FAILURE']\n"
     ]
    }
   ],
   "source": [
    "\n",
    "cmd.bp3_enable_align()\n",
    "cmd.enable_pwm()"
   ]
  },
  {
   "cell_type": "code",
   "execution_count": 8,
   "metadata": {},
   "outputs": [
    {
     "name": "stdout",
     "output_type": "stream",
     "text": [
      "\t> log empty_all\n",
      "['log empty_all', 'SUCCESS']\n",
      "\t> log start\n",
      "['log start', 'SUCCESS']\n",
      "\t> bp3 enable_ctrl\n",
      "['bp3 enable_ctrl', 'SUCCESS']\n",
      "\t> bp3 set_id 0.000000\n",
      "['bp3 set_id 0.000000', 'SUCCESS']\n",
      "\t> bp3 set_Te 0.050000\n",
      "['bp3 set_Te 0.050000', 'SUCCESS']\n",
      "\t> bp3 set_Te 0.000000\n",
      "['bp3 set_Te 0.000000', 'SUCCESS']\n",
      "\t> log stop\n",
      "['log stop', 'SUCCESS']\n",
      "\t> log dump bin 0\n",
      "Dumping: LOG_wrm\n",
      "Dump took: 2.020  sec\n",
      "Dump rate: 1683.086  sps\n",
      "Num samples: 3400 \n",
      "\n",
      "\t> log dump bin 1\n",
      "Dumping: LOG_theta_rm\n",
      "Dump took: 2.015  sec\n",
      "Dump rate: 1687.015  sps\n",
      "Num samples: 3400 \n",
      "\n",
      "\t> log dump bin 2\n",
      "Dumping: LOG_theta_offset\n",
      "Dump took: 2.035  sec\n",
      "Dump rate: 1670.486  sps\n",
      "Num samples: 3400 \n",
      "\n",
      "\t> log dump bin 3\n",
      "Dumping: LOG_theta_e\n",
      "Dump took: 2.000  sec\n",
      "Dump rate: 1700.309  sps\n",
      "Num samples: 3400 \n",
      "\n",
      "\t> log dump bin 4\n",
      "Dumping: LOG_Iabc1_a\n",
      "Dump took: 2.037  sec\n",
      "Dump rate: 1669.442  sps\n",
      "Num samples: 3400 \n",
      "\n",
      "\t> log dump bin 5\n",
      "Dumping: LOG_Iabc1_b\n",
      "Dump took: 2.024  sec\n",
      "Dump rate: 1680.067  sps\n",
      "Num samples: 3400 \n",
      "\n",
      "\t> log dump bin 6\n",
      "Dumping: LOG_Iabc1_c\n",
      "Dump took: 2.010  sec\n",
      "Dump rate: 1691.230  sps\n",
      "Num samples: 3400 \n",
      "\n",
      "\t> log dump bin 7\n",
      "Dumping: LOG_va1_ref\n",
      "Dump took: 1.934  sec\n",
      "Dump rate: 1757.904  sps\n",
      "Num samples: 3400 \n",
      "\n",
      "\t> log dump bin 8\n",
      "Dumping: LOG_vb1_ref\n",
      "Dump took: 1.968  sec\n",
      "Dump rate: 1727.880  sps\n",
      "Num samples: 3400 \n",
      "\n",
      "\t> log dump bin 9\n",
      "Dumping: LOG_vc1_ref\n",
      "Dump took: 2.003  sec\n",
      "Dump rate: 1697.595  sps\n",
      "Num samples: 3400 \n",
      "\n",
      "\t> log dump bin 10\n",
      "Dumping: LOG_vd_ref\n",
      "Dump took: 2.016  sec\n",
      "Dump rate: 1686.414  sps\n",
      "Num samples: 3400 \n",
      "\n",
      "\t> log dump bin 11\n",
      "Dumping: LOG_vq_ref\n",
      "Dump took: 2.046  sec\n",
      "Dump rate: 1661.718  sps\n",
      "Num samples: 3400 \n",
      "\n",
      "\t> log dump bin 12\n",
      "Dumping: LOG_Itq_d\n",
      "Dump took: 2.011  sec\n",
      "Dump rate: 1690.721  sps\n",
      "Num samples: 3400 \n",
      "\n",
      "\t> log dump bin 13\n",
      "Dumping: LOG_Itq_q\n",
      "Dump took: 2.046  sec\n",
      "Dump rate: 1661.799  sps\n",
      "Num samples: 3400 \n",
      "\n",
      "\t> log dump bin 14\n",
      "Dumping: LOG_Itq_d_ref\n",
      "Dump took: 2.053  sec\n",
      "Dump rate: 1656.185  sps\n",
      "Num samples: 3400 \n",
      "\n",
      "\t> log dump bin 15\n",
      "Dumping: LOG_Itq_q_ref\n",
      "Dump took: 1.958  sec\n",
      "Dump rate: 1736.461  sps\n",
      "Num samples: 3400 \n",
      "\n"
     ]
    }
   ],
   "source": [
    "logger.clear_all()\n",
    "logger.start()\n",
    "time.sleep(0.5)\n",
    "cmd.bp3_enable_ctrl()\n",
    "cmd.bp3_set_id(0)\n",
    "cmd.bp3_set_Te(0.05)\n",
    "time.sleep(0.5)\n",
    "cmd.bp3_set_Te(0.0)\n",
    "logger.stop()\n",
    "\n",
    "####################   DUMP DATA AND PLOT   ####################\n",
    "data = logger.dump(file = 'bp3_data_debug.csv')\n"
   ]
  },
  {
   "cell_type": "code",
   "execution_count": null,
   "metadata": {},
   "outputs": [],
   "source": [
    "cmd.bp3_set_Te(0.01)"
   ]
  },
  {
   "cell_type": "code",
   "execution_count": null,
   "metadata": {},
   "outputs": [],
   "source": [
    "cmd.bp3_enable_ctrl()\n",
    "cmd.bp3_set_id(0)"
   ]
  },
  {
   "cell_type": "code",
   "execution_count": null,
   "metadata": {},
   "outputs": [],
   "source": [
    "cmd.disable_pwm()"
   ]
  },
  {
   "cell_type": "code",
   "execution_count": 29,
   "metadata": {},
   "outputs": [
    {
     "name": "stdout",
     "output_type": "stream",
     "text": [
      "\t> cabinet openloop_vsi_3_enable  3\n",
      "['cabinet openloop_vsi_3_enable  3', 'SUCCESS']\n",
      "\t> cabinet openloop_vsi_3 3 0.000000 -1.000000\n",
      "['cabinet openloop_vsi_3 3 0.000000 -1.000000', 'SUCCESS']\n",
      "\t> hw pwm on\n",
      "['hw pwm on', 'FAILURE']\n"
     ]
    }
   ],
   "source": [
    "cmd.openloop_vsi_3_enable(3)\n",
    "cmd.openloop_vsi_3(3, 0, -1)\n",
    "cmd.enable_pwm()"
   ]
  },
  {
   "cell_type": "code",
   "execution_count": null,
   "metadata": {},
   "outputs": [],
   "source": [
    "cmd.phase_volts_3p(0,0,0,5)"
   ]
  },
  {
   "cell_type": "code",
   "execution_count": null,
   "metadata": {},
   "outputs": [],
   "source": [
    "cmd.bp3_enable_ob()\n",
    "cmd.bp3_enable_ctrl()\n",
    "cmd.bp3_set_id(0)\n"
   ]
  },
  {
   "cell_type": "code",
   "execution_count": null,
   "metadata": {},
   "outputs": [],
   "source": [
    "cmd.bp3_enable_vctrl()\n",
    "#logger.clear_all()\n",
    "#logger.start()\n",
    "#cmd.bp3_set_id(13.5)\n",
    "\n",
    "#cmd.bp3_set_deltaxy(0, 0)\n",
    "#cmd.bp3_enable_levctrl()\n",
    "#time.sleep(5)\n",
    "#logger.stop()\n",
    "\n",
    "####################   DUMP DATA AND PLOT   ####################\n",
    "#data = logger.dump(file = 'bp3_data_vdc_60_start.csv')"
   ]
  },
  {
   "cell_type": "code",
   "execution_count": null,
   "metadata": {},
   "outputs": [],
   "source": [
    "import matplotlib\n",
    "import time\n",
    "import pathlib as pl\n",
    "import sys\n",
    "repo_dir = '..'                                      # CHANGE THIS TO YOUR REPO DIRECTORY\n",
    "repo_dir = pl.Path(repo_dir)\n",
    "\n",
    "from AMDC_Logger import AMDC_Logger, find_mapfile\n",
    "mapfile_path = find_mapfile(repo_dir)\n",
    "logger = AMDC_Logger(AMDC = amdc, mapfile = mapfile_path)\n",
    "logger.sync()\n",
    "\n",
    "# View which variables are logged\n",
    "logger.info()\n",
    "#amdc.connect()\n",
    "cmd.enable_log()\n"
   ]
  },
  {
   "cell_type": "code",
   "execution_count": null,
   "metadata": {},
   "outputs": [],
   "source": [
    "logger.unregister_all()\n",
    "#logger.register('wrm_ref wrm wrm_hf Is1_x Is1_y Is1_x_ref Is1_y_ref Itq_d_ref Itq_q_ref Itq_d Itq_q delta_x delta_y', samples_per_sec = 5000, var_type = 'double')\n",
    "#logger.register('delta_x delta_y F_x F_y Is1_x Is1_y Is1_x_ref Is1_y_ref Itq_d_ref Itq_q_ref Itq_d Itq_q wrm_ref wrm wrm_hf va1_ref vb1_ref vc1_ref', samples_per_sec = 10000, var_type = 'double')\n",
    "\n",
    "#logger.register('delta_x delta_y F_x F_y Is1_x Is1_y Is1_x_ref Is1_y_ref Itq_d_ref Itq_q_ref Itq_d Itq_q va1_ref vb1_ref vc1_ref va2_ref vb2_ref vc2_ref', samples_per_sec = 1000, var_type = 'double')\n",
    "#logger.register('delta_x delta_y F_x F_y Is1_x Is1_y Is1_x_ref Is1_y_ref Itq_d_ref Itq_q_ref Itq_d Itq_q wrm_ref wrm', samples_per_sec = 5000, var_type = 'double')\n",
    "#logger.register('delta_x delta_y F_x F_y' , samples_per_sec = 500, var_type = 'double')\n",
    "logger.register('wrm theta_rm theta_e Iabc1_a Iabc1_b Iabc1_c va1_ref vb1_ref vc1_ref Itq_d Itq_q  Itq_d_ref Itq_q_ref' , samples_per_sec = 500, var_type = 'double')\n",
    "# View which variables are logged\n",
    "logger.info()\n",
    "\n",
    "logger.start()\n",
    "time.sleep(1)\n",
    "logger.stop()\n",
    "\n",
    "####################   DUMP DATA AND PLOT   ####################\n",
    "data = logger.dump(file = 'bp3_data_Id2.csv')"
   ]
  },
  {
   "cell_type": "code",
   "execution_count": null,
   "metadata": {},
   "outputs": [],
   "source": [
    "logger.stop()\n",
    "\n",
    "####################   DUMP DATA AND PLOT   ####################\n",
    "data = logger.dump(file = 'bp3_data_test.csv')"
   ]
  },
  {
   "cell_type": "code",
   "execution_count": null,
   "metadata": {},
   "outputs": [],
   "source": [
    "PI = 3.141592653589793238462643383279\n"
   ]
  },
  {
   "cell_type": "code",
   "execution_count": null,
   "metadata": {},
   "outputs": [],
   "source": [
    "\n",
    "cmd.bp3_set_w(2000.0*PI/30)"
   ]
  },
  {
   "cell_type": "code",
   "execution_count": null,
   "metadata": {},
   "outputs": [],
   "source": [
    "x = 5e-7\n",
    "cmd.bp3_set_deltaxy(x, 0)"
   ]
  },
  {
   "cell_type": "code",
   "execution_count": null,
   "metadata": {},
   "outputs": [],
   "source": [
    "\n",
    "###################   COLLECT DATA   ####################\n",
    "# Clear the logger, then record data\n",
    "logger.clear_all()\n",
    "logger.start()\n",
    "#DATA IS BEING RECORDED\n",
    "time.sleep(0.05)\n",
    "logger.stop()\n",
    "\n",
    "####################   DUMP DATA AND PLOT   ####################\n",
    "data = logger.dump(file = 'bp3_data.csv')\n"
   ]
  },
  {
   "cell_type": "code",
   "execution_count": null,
   "metadata": {},
   "outputs": [],
   "source": [
    "\n",
    "logger.stop()\n",
    "\n",
    "####################   DUMP DATA AND PLOT   ####################\n",
    "data = logger.dump(file = 'bp3_data_w2000RPM_vdc_60_distr.csv')\n"
   ]
  },
  {
   "cell_type": "code",
   "execution_count": null,
   "metadata": {},
   "outputs": [],
   "source": [
    "data.filter(regex=\"^wrm|wrm_ref|wrm_hf$\").plot()\n"
   ]
  },
  {
   "cell_type": "code",
   "execution_count": null,
   "metadata": {},
   "outputs": [],
   "source": [
    "logger.unregister_all()\n",
    "logger.clear_all()\n"
   ]
  },
  {
   "cell_type": "code",
   "execution_count": null,
   "metadata": {},
   "outputs": [],
   "source": [
    "for i in [0, 1, 2, 5, 10, 12, 15, 20, 30, 40, 50, 100,150, 200]:\n",
    "   \n",
    "    logger.stop()\n",
    "    logger.unregister_all()\n",
    "    logger.clear_all()\n",
    "    sampling = 1000\n",
    "    period = 1\n",
    "    if i <= 10:\n",
    "        sampling = 5000\n",
    "        #period = 1\n",
    "    elif i<= 100:\n",
    "        sampling = 5000\n",
    "        #period = 0.2\n",
    "\n",
    "    else:\n",
    "        sampling = 5000\n",
    "        #period = 0.1\n",
    "    \n",
    "    logger.clear_all()\n",
    "    vd_ref_chirp_gain     = 2000 * 1e-3; # [m]\n",
    "    vd_ref_chirp_freq_min = i; # [Hz]\n",
    "    vd_ref_chirp_freq_max = i; # [Hz]\n",
    "    vd_ref_chirp_period   = 1; # [sec]\n",
    "\n",
    "    amdc.cmd(\"inj chirp wrm_ref set {:.6f} {:.6f} {:.6f} {:.6f}\".format(vd_ref_chirp_gain, vd_ref_chirp_freq_min, vd_ref_chirp_freq_max, vd_ref_chirp_period))\n",
    "    logger.unregister_all()\n",
    "    logger.register('wrm_ref wrm wrm_hf wrm_ref_inject delta_x delta_y', samples_per_sec = sampling, var_type = 'double')\n",
    "    logger.start()\n",
    "    #DATA IS BEING RECORDED\n",
    "    time.sleep(period*1.1)\n",
    "\n",
    "    logger.stop()\n",
    "\n",
    "    ####################   DUMP DATA AND PLOT   ####################\n",
    "    filename = 'bp3_data_Vdc_100_80_id13_5_wrm_00rpm_wrm_inj_'+ str(i)+'.csv'\n",
    "    data = logger.dump(file = filename)"
   ]
  },
  {
   "cell_type": "code",
   "execution_count": null,
   "metadata": {},
   "outputs": [],
   "source": [
    "logger.unregister_all()\n",
    "    #logger.register('Ia1_a Ia1_b Ia1_c Ib1_a Ib1_b Ib1_c Ia2_a Ia2_b Ia2_c Ib2_a Ib2_b Ib2_c', samples_per_sec = 1000, var_type = 'double')\n",
    "logger.register('Itq_d Itq_q vd_ref vq_ref Is1_x Is1_y vx_ref vy_ref', samples_per_sec = 1000, var_type = 'double')\n",
    "    #logger.register('Itq_d vd_ref', samples_per_sec = sampling, var_type = 'double')\n",
    "    ###################   COLLECT DATA   ####################\n",
    "    # Clear the logger, then record data\n",
    "\n",
    "for i in [50, 60, 75, 100, 150, 200]:\n",
    "   \n",
    "    logger.stop()\n",
    "    #logger.unregister_all()\n",
    "    logger.clear_all()\n",
    "    sampling = 1000\n",
    "    period = 1\n",
    "    if i <= 10:\n",
    "        sampling = 1000\n",
    "        period = 1\n",
    "    elif i<= 100:\n",
    "        sampling = 1000\n",
    "        period = 0.15\n",
    "\n",
    "    else:\n",
    "        sampling = 2500\n",
    "        period = 0.1\n",
    "\n",
    "    \n",
    "   \n",
    "    logger.clear_all()\n",
    "    vd_ref_chirp_gain     = 1000 * 1e-3; # [m]\n",
    "    vd_ref_chirp_freq_min = i; # [Hz]\n",
    "    vd_ref_chirp_freq_max = i; # [Hz]\n",
    "    vd_ref_chirp_period   = period; # [sec]\n",
    "    amdc.cmd(\"inj const vq_ref set 0\")\n",
    "    amdc.cmd(\"inj const vx_ref set 0\")\n",
    "    amdc.cmd(\"inj const vy_ref set 0\")\n",
    "    amdc.cmd(\"inj chirp vd_ref set {:.6f} {:.6f} {:.6f} {:.6f}\".format(vd_ref_chirp_gain, vd_ref_chirp_freq_min, vd_ref_chirp_freq_max, vd_ref_chirp_period))\n",
    "    logger.unregister_all()\n",
    "    #logger.register('Ia1_a Ia1_b Ia1_c Ib1_a Ib1_b Ib1_c Ia2_a Ia2_b Ia2_c Ib2_a Ib2_b Ib2_c', samples_per_sec = 1000, var_type = 'double')\n",
    "    logger.register('Itq_d Itq_q vd_ref vq_ref Is1_x Is1_y vx_ref vy_ref', samples_per_sec = sampling, var_type = 'double')\n",
    "    logger.start()\n",
    "    #DATA IS BEING RECORDED\n",
    "    time.sleep(period*1.1)\n",
    "\n",
    "    logger.stop()\n",
    "\n",
    "    ####################   DUMP DATA AND PLOT   ####################\n",
    "    filename = 'bp3_data_vdc_50_w_00RPM_id_13_5_id_vd'+ str(i)+'.csv'\n",
    "    data = logger.dump(file = filename)\n",
    "\n",
    "    \n",
    "    amdc.cmd(\"inj const vq_ref set 0\")\n",
    "    amdc.cmd(\"inj const vd_ref set 0\")\n",
    "    amdc.cmd(\"inj const vy_ref set 0\")\n",
    "    amdc.cmd(\"inj chirp vx_ref set {:.6f} {:.6f} {:.6f} {:.6f}\".format(vd_ref_chirp_gain, vd_ref_chirp_freq_min, vd_ref_chirp_freq_max, vd_ref_chirp_period))\n",
    "    time.sleep(5)\n",
    "    logger.clear_all()\n",
    "    logger.start()\n",
    "    #DATA IS BEING RECORDED\n",
    "    time.sleep(period*1.1)\n",
    "\n",
    "    logger.stop()\n",
    "\n",
    "    ####################   DUMP DATA AND PLOT   ####################\n",
    "    filename = 'bp3_data_vdc_50_w_00RPM_id_13_5_ix_vx'+ str(i)+'.csv'\n",
    "    data = logger.dump(file = filename)\n"
   ]
  },
  {
   "cell_type": "code",
   "execution_count": null,
   "metadata": {},
   "outputs": [],
   "source": [
    "amdc.cmd(\"inj const vd_ref set 0\")\n",
    "amdc.cmd(\"inj const vq_ref set 0\")\n",
    "amdc.cmd(\"inj const vx_ref set 0\")\n",
    "amdc.cmd(\"inj const vy_ref set 0\")\n",
    "amdc.cmd(\"inj const Fx_ref set 0\")\n",
    "amdc.cmd(\"inj const Fy_ref set 0\")\n",
    "amdc.cmd(\"inj const wrm_ref set 0\")"
   ]
  },
  {
   "cell_type": "code",
   "execution_count": null,
   "metadata": {},
   "outputs": [],
   "source": [
    "for i in [ 7, 9, 10, 11, 12, 13, 15, 17,20,30,40,50,60,75,80, 85, 90, 95, 100, 105, 110, 115, 120, 125, 130, 140]:\n",
    "    logger.stop()\n",
    "    #logger.unregister_all()\n",
    "    logger.clear_all()\n",
    "    sampling = 1000\n",
    "    period = 1\n",
    "    if i <= 1:\n",
    "        sampling = 500\n",
    "        period = 10\n",
    "    elif i <= 10:\n",
    "        sampling = 2000\n",
    "        period = 1\n",
    "    elif i<= 100:\n",
    "        sampling = 2000\n",
    "        period = 0.15\n",
    "    elif i<= 250:\n",
    "        sampling = 4000\n",
    "        period = 0.10\n",
    "    elif i<= 500:\n",
    "        sampling = 5000\n",
    "        period = 0.10\n",
    "\n",
    "    else:\n",
    "        sampling = 10000\n",
    "        period = 0.10\n",
    "\n",
    "    \n",
    "    vd_ref_chirp_gain     = 1000 * 1e-3; # [m]\n",
    "    vd_ref_chirp_freq_min = i; # [Hz]\n",
    "    vd_ref_chirp_freq_max = i; # [Hz]\n",
    "    vd_ref_chirp_period   = 50; # [sec]\n",
    "    logger.clear_all()\n",
    "    logger.unregister_all()\n",
    "    amdc.cmd(\"inj const Fy_ref set 0\")\n",
    "    amdc.cmd(\"inj chirp Fx_ref set {:.6f} {:.6f} {:.6f} {:.6f}\".format(vd_ref_chirp_gain, vd_ref_chirp_freq_min, vd_ref_chirp_freq_max, vd_ref_chirp_period))\n",
    "\n",
    "    #logger.register('Ia1_a Ia1_b Ia1_c Ib1_a Ib1_b Ib1_c Ia2_a Ia2_b Ia2_c Ib2_a Ib2_b Ib2_c', samples_per_sec = 1000, var_type = 'double')\n",
    "    #logger.register('Itq_d Itq_q vd_ref vq_ref Is1_x Is1_y vx_ref vy_ref', samples_per_sec = 1000, var_type = 'double')\n",
    "    logger.register('delta_x delta_y F_x F_y F_x_inject F_y_inject', samples_per_sec = sampling, var_type = 'double')\n",
    "\n",
    "\n",
    "    ###################   COLLECT DATA   ####################\n",
    "    # Clear the logger, then record data\n",
    "\n",
    "\n",
    "    \n",
    "    logger.start()\n",
    "    #DATA IS BEING RECORDED\n",
    "    time.sleep(period*1.1)\n",
    "\n",
    "    logger.stop()\n",
    "    ####################   DUMP DATA AND PLOT   ####################\n",
    "    filename = 'bp3_data_vdc_100_80_w_000RPM_ob1.8_lev15Hz_ba1.8_M1.5_lpf_300_stiff_x_f_'+ str(i)+'.csv'\n",
    "    data = logger.dump(file = filename)\n",
    "\n",
    "    amdc.cmd(\"inj const Fx_ref set 0\")\n",
    "    amdc.cmd(\"inj chirp Fy_ref set {:.6f} {:.6f} {:.6f} {:.6f}\".format(vd_ref_chirp_gain, vd_ref_chirp_freq_min, vd_ref_chirp_freq_max, vd_ref_chirp_period))\n",
    "\n",
    "\n",
    "    \n",
    "    logger.clear_all()\n",
    "    time.sleep(5)\n",
    "    logger.start()\n",
    "    #DATA IS BEING RECORDED\n",
    "    time.sleep(period*1.1)\n",
    "\n",
    "    logger.stop()\n",
    "\n",
    "    ####################   DUMP DATA AND PLOT   ####################\n",
    "    filename = 'bp3_data_vdc_100_80_w_000RPM_ob1.8_lev15Hz_ba1.8_M1.5_lpf_300_stiff_y_f_'+ str(i)+'.csv'\n",
    "    data = logger.dump(file = filename)"
   ]
  },
  {
   "cell_type": "code",
   "execution_count": null,
   "metadata": {},
   "outputs": [],
   "source": [
    "for i in [ 1]:\n",
    "    logger.stop()\n",
    "    #logger.unregister_all()\n",
    "    logger.clear_all()\n",
    "    sampling = 1000\n",
    "    period = 1\n",
    "    if i <= 1:\n",
    "        sampling = 500\n",
    "        period = 10\n",
    "    elif i <= 10:\n",
    "        sampling = 2000\n",
    "        period = 1\n",
    "    elif i<= 100:\n",
    "        sampling = 2000\n",
    "        period = 0.15\n",
    "    elif i<= 250:\n",
    "        sampling = 4000\n",
    "        period = 0.10\n",
    "    elif i<= 500:\n",
    "        sampling = 5000\n",
    "        period = 0.10\n",
    "\n",
    "    else:\n",
    "        sampling = 10000\n",
    "        period = 0.10\n",
    "\n",
    "    \n",
    "    vd_ref_chirp_gain     = 1000 * 1e-3; # [m]\n",
    "    vd_ref_chirp_freq_min = i; # [Hz]\n",
    "    vd_ref_chirp_freq_max = i; # [Hz]\n",
    "    vd_ref_chirp_period   = 50; # [sec]\n",
    "    logger.clear_all()\n",
    "    logger.unregister_all()\n",
    "    amdc.cmd(\"inj const vd_ref set 0\")\n",
    "    amdc.cmd(\"inj chirp vq_ref set {:.6f} {:.6f} {:.6f} {:.6f}\".format(vd_ref_chirp_gain, vd_ref_chirp_freq_min, vd_ref_chirp_freq_max, vd_ref_chirp_period))\n",
    "\n",
    "    #logger.register('Ia1_a Ia1_b Ia1_c Ib1_a Ib1_b Ib1_c Ia2_a Ia2_b Ia2_c Ib2_a Ib2_b Ib2_c', samples_per_sec = 1000, var_type = 'double')\n",
    "    #logger.register('Itq_d Itq_q vd_ref vq_ref Is1_x Is1_y vx_ref vy_ref', samples_per_sec = 1000, var_type = 'double')\n",
    "    logger.register('Itq_d Itq_q vd_ref vq_ref ', samples_per_sec = sampling, var_type = 'double')\n",
    "\n",
    "\n",
    "    ###################   COLLECT DATA   ####################\n",
    "    # Clear the logger, then record data\n",
    "\n",
    "\n",
    "    \n",
    "    logger.start()\n",
    "    #DATA IS BEING RECORDED\n",
    "    time.sleep(period*1.1)\n",
    "\n",
    "    logger.stop()\n",
    "    ####################   DUMP DATA AND PLOT   ####################\n",
    "    filename = 'bp3_data_vdc_60_000RPM_sysid_vq_'+ str(i)+'.csv'\n",
    "    data = logger.dump(file = filename)\n"
   ]
  },
  {
   "cell_type": "code",
   "execution_count": null,
   "metadata": {},
   "outputs": [],
   "source": [
    "for i in [50, 1200, 2000]:\n",
    "   \n",
    "    logger.stop()\n",
    "    logger.unregister_all()\n",
    "    logger.clear_all()\n",
    "    sampling = 1000\n",
    "    period = 1\n",
    "    if i <= 10:\n",
    "        sampling = 1000\n",
    "        period = 1\n",
    "    elif i<= 100:\n",
    "        sampling = 1000\n",
    "        period = 0.2\n",
    "\n",
    "    else:\n",
    "        sampling = 10000\n",
    "        period = 0.1\n",
    "\n",
    "    logger.unregister_all()\n",
    "    #logger.register('Ia1_a Ia1_b Ia1_c Ib1_a Ib1_b Ib1_c Ia2_a Ia2_b Ia2_c Ib2_a Ib2_b Ib2_c', samples_per_sec = 1000, var_type = 'double')\n",
    "    #logger.register('Itq_d Itq_q vd_ref vq_ref Is1_x Is1_y vx_ref vy_ref', samples_per_sec = 1000, var_type = 'double')\n",
    "    logger.register('Itq_d Itq_d_ref Itq_q Is1_y Is1_x', samples_per_sec = sampling, var_type = 'double')\n",
    "\n",
    "    ###################   COLLECT DATA   ####################\n",
    "    # Clear the logger, then record data\n",
    "\n",
    "    logger.clear_all()\n",
    "    cmd.bp3_set_id(2)\n",
    "    vd_ref_chirp_gain     = 500 * 1e-3; # [m]\n",
    "    vd_ref_chirp_freq_min = i; # [Hz]\n",
    "    vd_ref_chirp_freq_max = i; # [Hz]\n",
    "    vd_ref_chirp_period   = period; # [sec]\n",
    "    amdc.cmd(\"inj const ix_ref set 0\")\n",
    "    amdc.cmd(\"inj const iy_ref set 0\")\n",
    "    amdc.cmd(\"inj const iq_ref set 0\")\n",
    "    amdc.cmd(\"inj chirp id_ref set {:.6f} {:.6f} {:.6f} {:.6f}\".format(vd_ref_chirp_gain, vd_ref_chirp_freq_min, vd_ref_chirp_freq_max, vd_ref_chirp_period))\n",
    "\n",
    "    logger.start()\n",
    "    #DATA IS BEING RECORDED\n",
    "    time.sleep(period*1.1)\n",
    "\n",
    "    logger.stop()\n",
    "\n",
    "    ####################   DUMP DATA AND PLOT   ####################\n",
    "    filename = 'bp3_data_id_id'+ str(i)+'.csv'\n",
    "    data = logger.dump(file = filename)\n",
    "\n",
    "    logger.unregister_all()\n",
    "    #logger.register('Ia1_a Ia1_b Ia1_c Ib1_a Ib1_b Ib1_c Ia2_a Ia2_b Ia2_c Ib2_a Ib2_b Ib2_c', samples_per_sec = 1000, var_type = 'double')\n",
    "    #logger.register('Itq_d Itq_q vd_ref vq_ref Is1_x Is1_y vx_ref vy_ref', samples_per_sec = 1000, var_type = 'double')\n",
    "    logger.register('Itq_d Is1_x_ref Itq_q Is1_y Is1_x', samples_per_sec = sampling, var_type = 'double')\n",
    "\n",
    "    ###################   COLLECT DATA   ####################\n",
    "    # Clear the logger, then record data\n",
    "    logger.clear_all()\n",
    "    cmd.bp3_set_ixy(0,0)\n",
    "    amdc.cmd(\"inj const id_ref set 0\")\n",
    "    amdc.cmd(\"inj const iq_ref set 0\")\n",
    "    amdc.cmd(\"inj const iy_ref set 0\")\n",
    "    amdc.cmd(\"inj chirp ix_ref add {:.6f} {:.6f} {:.6f} {:.6f}\".format(vd_ref_chirp_gain, vd_ref_chirp_freq_min, vd_ref_chirp_freq_max, vd_ref_chirp_period))\n",
    "\n",
    "    logger.start()\n",
    "    #DATA IS BEING RECORDED\n",
    "    time.sleep(period*1.1)\n",
    "\n",
    "    logger.stop()\n",
    "\n",
    "    ####################   DUMP DATA AND PLOT   ####################\n",
    "    filename = 'bp3_data_id_ix'+ str(i)+'.csv'\n",
    "    data = logger.dump(file = filename)"
   ]
  },
  {
   "cell_type": "code",
   "execution_count": null,
   "metadata": {},
   "outputs": [],
   "source": [
    "cmd.disable_pwm()\n",
    "cmd.bp3_disable_levctrl()\n",
    "cmd.bp3_disable_ob()\n",
    "cmd.bp3_disable_vctrl()\n",
    "\n",
    "amdc.cmd(\"inj const vd_ref set 0\")\n",
    "amdc.cmd(\"inj const vq_ref set 0\")\n",
    "amdc.cmd(\"inj const vx_ref set 0\")\n",
    "amdc.cmd(\"inj const vy_ref set 0\")\n",
    "amdc.cmd(\"inj const Fx_ref set 0\")\n",
    "amdc.cmd(\"inj const Fy_ref set 0\")\n",
    "amdc.cmd(\"inj const wrm_ref set 0\")\n",
    "\n",
    "cmd.enable_pwm()"
   ]
  },
  {
   "cell_type": "code",
   "execution_count": null,
   "metadata": {},
   "outputs": [],
   "source": [
    "\n",
    "logger.unregister_all()\n",
    "#logger.register('Ia1_a Ia1_b Ia1_c Ib1_a Ib1_b Ib1_c Ia2_a Ia2_b Ia2_c Ib2_a Ib2_b Ib2_c', samples_per_sec = 1000, var_type = 'double')\n",
    "#logger.register('Itq_d Itq_q vd_ref vq_ref Is1_x Is1_y vx_ref vy_ref', samples_per_sec = 1000, var_type = 'double')\n",
    "logger.register('Itq_d vd_ref', samples_per_sec = 10000, var_type = 'double')\n"
   ]
  },
  {
   "cell_type": "code",
   "execution_count": null,
   "metadata": {},
   "outputs": [],
   "source": [
    "\n",
    "###################   COLLECT DATA   ####################\n",
    "# Clear the logger, then record data\n",
    "d_ref_chirp_gain     = 1000 * 1e-3; # [m]\n",
    "vd_ref_chirp_freq_min = 150; # [Hz]\n",
    "vd_ref_chirp_freq_max = 150; # [Hz]\n",
    "vd_ref_chirp_period   = 0.3; # [sec]\n",
    "logger.clear_all()\n",
    "\n",
    "amdc.cmd(\"inj const vq_ref set 0\")\n",
    "amdc.cmd(\"inj const vx_ref set 0\")\n",
    "amdc.cmd(\"inj const vy_ref set 0\")\n",
    "amdc.cmd(\"inj chirp vd_ref set {:.6f} {:.6f} {:.6f} {:.6f}\".format(vd_ref_chirp_gain, vd_ref_chirp_freq_min, vd_ref_chirp_freq_max, vd_ref_chirp_period))\n",
    "logger.start()\n",
    "\n",
    "#DATA IS BEING RECORDED\n",
    "time.sleep(0.1)\n",
    "\n",
    "logger.stop()\n",
    "\n",
    "####################   DUMP DATA AND PLOT   ####################\n",
    "data = logger.dump(file = 'bp3_data_id_vd150.csv')\n",
    "\n",
    "logger.unregister_all()\n",
    "#logger.register('Ia1_a Ia1_b Ia1_c Ib1_a Ib1_b Ib1_c Ia2_a Ia2_b Ia2_c Ib2_a Ib2_b Ib2_c', samples_per_sec = 1000, var_type = 'double')\n",
    "#logger.register('Itq_d Itq_q vd_ref vq_ref Is1_x Is1_y vx_ref vy_ref', samples_per_sec = 1000, var_type = 'double')\n",
    "logger.register('Is1_x vx_ref', samples_per_sec = 20000, var_type = 'double')\n",
    "\n",
    "###################   COLLECT DATA   ####################\n",
    "# Clear the logger, then record data\n",
    "logger.clear_all()\n",
    "\n",
    "amdc.cmd(\"inj const vd_ref set 0\")\n",
    "amdc.cmd(\"inj const vq_ref set 0\")\n",
    "amdc.cmd(\"inj const vy_ref set 0\")\n",
    "amdc.cmd(\"inj chirp vx_ref set {:.6f} {:.6f} {:.6f} {:.6f}\".format(vd_ref_chirp_gain, vd_ref_chirp_freq_min, vd_ref_chirp_freq_max, vd_ref_chirp_period))\n",
    "logger.start()\n",
    "\n",
    "#DATA IS BEING RECORDED\n",
    "time.sleep(0.1)\n",
    "\n",
    "logger.stop()\n",
    "\n",
    "####################   DUMP DATA AND PLOT   ####################\n",
    "data = logger.dump(file = 'bp3_data_id_vx150.csv')\n"
   ]
  },
  {
   "cell_type": "code",
   "execution_count": null,
   "metadata": {},
   "outputs": [],
   "source": [
    "\n",
    "logger.unregister_all()\n",
    "#logger.register('Ia1_a Ia1_b Ia1_c Ib1_a Ib1_b Ib1_c Ia2_a Ia2_b Ia2_c Ib2_a Ib2_b Ib2_c', samples_per_sec = 1000, var_type = 'double')\n",
    "#logger.register('Itq_d Itq_q vd_ref vq_ref Is1_x Is1_y vx_ref vy_ref', samples_per_sec = 1000, var_type = 'double')\n",
    "logger.register('Is1_y vy_ref', samples_per_sec = 10000, var_type = 'double')\n",
    "\n",
    "###################   COLLECT DATA   ####################\n",
    "# Clear the logger, then record data\n",
    "logger.clear_all()\n",
    "logger.start()\n",
    "amdc.cmd(\"inj const vd_ref set 0\")\n",
    "amdc.cmd(\"inj const vq_ref set 0\")\n",
    "amdc.cmd(\"inj const vx_ref set 0\")\n",
    "amdc.cmd(\"inj chirp vy_ref set {:.6f} {:.6f} {:.6f} {:.6f}\".format(vd_ref_chirp_gain, vd_ref_chirp_freq_min, vd_ref_chirp_freq_max, vd_ref_chirp_period))\n",
    "\n",
    "\n",
    "#DATA IS BEING RECORDED\n",
    "time.sleep(0.5)\n",
    "\n",
    "logger.stop()\n",
    "\n",
    "####################   DUMP DATA AND PLOT   ####################\n",
    "data = logger.dump(file = 'bp3_data_id_vy200.csv')"
   ]
  },
  {
   "cell_type": "code",
   "execution_count": null,
   "metadata": {},
   "outputs": [],
   "source": [
    "amdc.cmd(\"inj const vd_ref set 0\")"
   ]
  },
  {
   "cell_type": "code",
   "execution_count": null,
   "metadata": {},
   "outputs": [],
   "source": [
    "\n",
    "#DATA IS BEING RECORDED\n",
    "time.sleep(4)\n",
    "\n",
    "logger.stop()\n"
   ]
  },
  {
   "cell_type": "code",
   "execution_count": null,
   "metadata": {},
   "outputs": [],
   "source": [
    "####################   DUMP DATA AND PLOT   ####################\n",
    "data = logger.dump(file = 'bp3_data_id.csv')\n"
   ]
  },
  {
   "cell_type": "code",
   "execution_count": null,
   "metadata": {},
   "outputs": [],
   "source": [
    "####################   DUMP DATA AND PLOT   ####################\n",
    "\n",
    "#data.filter(regex=\"^theta_rm$\").plot()\n",
    "data.filter(regex=\"^vd_ref|Itq_d$\").plot()\n",
    "#data.filter(regex=\"^vq_ref|Itq_q$\").plot()\n",
    "#data.filter(regex=\"^vx_ref|Is1_x$\").plot()\n",
    "#data.filter(regex=\"^vy_ref|Is1_y$\").plot()\n"
   ]
  },
  {
   "cell_type": "code",
   "execution_count": null,
   "metadata": {},
   "outputs": [],
   "source": [
    "cmd.bp3_enable_ob()"
   ]
  },
  {
   "cell_type": "code",
   "execution_count": null,
   "metadata": {},
   "outputs": [],
   "source": [
    "cmd.bp3_set_Te(0.2)"
   ]
  },
  {
   "cell_type": "code",
   "execution_count": null,
   "metadata": {},
   "outputs": [],
   "source": [
    "cmd.bp3_set_w(10)"
   ]
  },
  {
   "cell_type": "code",
   "execution_count": null,
   "metadata": {},
   "outputs": [],
   "source": [
    "cmd.bp3_set_ixy(0, 0)\n",
    "cmd.bp3_set_id(0)"
   ]
  },
  {
   "cell_type": "code",
   "execution_count": null,
   "metadata": {},
   "outputs": [],
   "source": [
    "cmd.disable_pwm()"
   ]
  },
  {
   "cell_type": "code",
   "execution_count": null,
   "metadata": {},
   "outputs": [],
   "source": [
    "vd_ref_chirp_gain     = 500 * 1e-3; # [m]\n",
    "vd_ref_chirp_freq_min = 1; # [Hz]\n",
    "vd_ref_chirp_freq_max = 100; # [Hz]\n",
    "vd_ref_chirp_period   = 1.0; # [sec]\n",
    "amdc.cmd(\"inj chirp vd_ref set {:.6f} {:.6f} {:.6f} {:.6f}\".format(vd_ref_chirp_gain, vd_ref_chirp_freq_min, vd_ref_chirp_freq_max, vd_ref_chirp_period))"
   ]
  },
  {
   "cell_type": "code",
   "execution_count": null,
   "metadata": {},
   "outputs": [],
   "source": [
    "vd_ref_chirp_gain     = 500 * 1e-3; # [m]\n",
    "vd_ref_chirp_freq_min = 1; # [Hz]\n",
    "vd_ref_chirp_freq_max = 100; # [Hz]\n",
    "vd_ref_chirp_period   = 1.0; # [sec]\n",
    "amdc.cmd(\"inj chirp vd_ref set {:.6f} {:.6f} {:.6f} {:.6f}\".format(vd_ref_chirp_gain, vd_ref_chirp_freq_min, vd_ref_chirp_freq_max, vd_ref_chirp_period))"
   ]
  },
  {
   "cell_type": "code",
   "execution_count": null,
   "metadata": {},
   "outputs": [],
   "source": [
    "amdc.disconnect()\n",
    "#amdc.connect()"
   ]
  },
  {
   "cell_type": "markdown",
   "metadata": {
    "pycharm": {
     "name": "#%% md\n"
    }
   },
   "source": [
    "## Logging\n"
   ]
  },
  {
   "cell_type": "code",
   "execution_count": null,
   "metadata": {},
   "outputs": [],
   "source": [
    "import matplotlib\n",
    "import time\n",
    "import pathlib as pl\n",
    "import sys\n",
    "repo_dir = '..'                                      # CHANGE THIS TO YOUR REPO DIRECTORY\n",
    "repo_dir = pl.Path(repo_dir)\n",
    "\n",
    "from AMDC_Logger import AMDC_Logger, find_mapfile\n",
    "mapfile_path = find_mapfile(repo_dir)\n",
    "logger = AMDC_Logger(AMDC = amdc, mapfile = mapfile_path)\n",
    "logger.sync()\n",
    "\n",
    "# View which variables are logged\n",
    "logger.info()\n",
    "#amdc.connect()\n",
    "cmd.c_loop_enable_log()"
   ]
  },
  {
   "cell_type": "code",
   "execution_count": null,
   "metadata": {
    "pycharm": {
     "name": "#%%\n"
    }
   },
   "outputs": [],
   "source": [
    "logger.unregister_all()\n",
    "#logger.register('Ia1_a Ia1_b Ia1_c Ib1_a Ib1_b Ib1_c Ia2_a Ia2_b Ia2_c Ib2_a Ib2_b Ib2_c', samples_per_sec = 1000, var_type = 'double')\n",
    "#logger.register('theta_rm wrm wsl theta_e we Itq_d_ref Itq_q_ref Itq_d Itq_q Te', samples_per_sec = 1000, var_type = 'double')\n",
    "logger.register('theta_rm theta_e wrm', samples_per_sec = 1000, var_type = 'double')\n",
    "\n",
    "\n",
    "\n",
    "# View which variables are logged\n",
    "logger.info()\n",
    "\n",
    "###################   COLLECT DATA   ####################\n",
    "# Clear the logger, then record data\n",
    "logger.clear_all()\n",
    "logger.start()\n"
   ]
  },
  {
   "cell_type": "code",
   "execution_count": null,
   "metadata": {},
   "outputs": [],
   "source": [
    "\n",
    "#DATA IS BEING RECORDED\n",
    "time.sleep(1)\n",
    "\n",
    "logger.stop()\n"
   ]
  },
  {
   "cell_type": "code",
   "execution_count": null,
   "metadata": {},
   "outputs": [],
   "source": [
    "####################   DUMP DATA AND PLOT   ####################\n",
    "data = logger.dump(file = 'bp3_data_pos.csv')\n"
   ]
  },
  {
   "cell_type": "code",
   "execution_count": null,
   "metadata": {},
   "outputs": [],
   "source": [
    "data.filter(regex=\"^wrm$\").plot()\n",
    "#data.filter(regex=\"^we$\").plot()\n",
    "#data.filter(regex=\"^wsl$\").plot()\n",
    "data.filter(regex=\"^theta_e|theta_rm$\").plot()\n",
    "#data.filter(regex=\"^theta_rm$\").plot()\n",
    "#data.filter(regex=\"^Itq_d_ref|Itq_d$\").plot()\n",
    "#data.filter(regex=\"^Itq_q_ref|Itq_q$\").plot()\n",
    "#data.filter(regex=\"^Te$\").plot()\n"
   ]
  },
  {
   "cell_type": "code",
   "execution_count": null,
   "metadata": {},
   "outputs": [],
   "source": [
    "\n",
    "####################   DUMP DATA AND PLOT   ####################\n",
    "data = logger.dump(file = 'bp3_data_pos.csv')\n",
    "#data\n"
   ]
  },
  {
   "cell_type": "code",
   "execution_count": null,
   "metadata": {},
   "outputs": [],
   "source": [
    "data.filter(regex=\"^wrm$\").plot()\n",
    "#data.filter(regex=\"^we$\").plot()\n",
    "data.filter(regex=\"^wsl$\").plot()\n",
    "data.filter(regex=\"^theta_e|theta_rm$\").plot()\n",
    "#data.filter(regex=\"^theta_rm$\").plot()\n",
    "data.filter(regex=\"^Itq_d_ref|Itq_d$\").plot()\n",
    "data.filter(regex=\"^Itq_q_ref|Itq_q$\").plot()\n",
    "data.filter(regex=\"^Te$\").plot()\n"
   ]
  },
  {
   "cell_type": "code",
   "execution_count": null,
   "metadata": {},
   "outputs": [],
   "source": [
    "logger.unregister_all()\n",
    "logger.register('Iabc1_a Iabc1_b Iabc1_c', samples_per_sec = 1000, var_type = 'double')\n",
    "\n",
    "# View which variables are logged\n",
    "logger.info()\n",
    "\n",
    "logger.clear_all()\n",
    "logger.start()\n",
    "\n",
    "# DATA IS BEING RECORDED\n",
    "#time.sleep(1)\n",
    "\n",
    "logger.stop()\n",
    "\n",
    "data = logger.dump(file = 'test_data_Iabc.csv')\n",
    "#data\n",
    "\n",
    "data.filter(regex=\"^Iabc1_a|Iabc1_b|Iabc1_c$\").plot()"
   ]
  },
  {
   "cell_type": "code",
   "execution_count": null,
   "metadata": {},
   "outputs": [],
   "source": [
    "logger.unregister_all()\n",
    "#logger.register('Itq_d_ref Itq_q_ref Itq_d Itq_q Is1_d_ref Is1_q_ref Is1_d Is1_q Is2_d_ref Is2_q_ref Is2_d Is2_q', samples_per_sec = 1000, var_type = 'double')\n",
    "logger.register('va_ref vb_ref vc_ref', samples_per_sec = 1000, var_type = 'double')\n",
    "# View which variables are logged\n",
    "logger.info()\n",
    "\n",
    "logger.clear_all()\n",
    "logger.start()\n",
    "time.sleep(0.5)\n",
    "logger.stop()\n",
    "\n",
    "data = logger.dump(file = 'bp3_data_Idq.csv')\n",
    "#data\n",
    "\n",
    "data.filter(regex=\"^va_ref|vb_ref|vc_ref$\").plot()\n",
    "#data.filter(regex=\"^Itq_q_ref|Itq_q$\").plot()\n",
    "#data.filter(regex=\"^Te_ref$\").plot()"
   ]
  },
  {
   "cell_type": "code",
   "execution_count": null,
   "metadata": {},
   "outputs": [],
   "source": [
    "data.filter(regex=\"^Ib1_a|Ib1_b|Ib1_c$\").plot()"
   ]
  },
  {
   "cell_type": "code",
   "execution_count": null,
   "metadata": {},
   "outputs": [],
   "source": [
    "data.filter(regex=\"^Iabc2_a|Iabc2_b|Iabc2_c$\").plot()"
   ]
  },
  {
   "cell_type": "code",
   "execution_count": null,
   "metadata": {
    "scrolled": true
   },
   "outputs": [],
   "source": [
    "data.filter(regex=\"^Iabc3_a|Iabc3_b|Iabc3_c$\").plot()"
   ]
  },
  {
   "cell_type": "code",
   "execution_count": null,
   "metadata": {},
   "outputs": [],
   "source": [
    "logger.unregister_all()\n",
    "logger.register('vabc1_a vabc1_b vabc1_c', samples_per_sec = 1000, var_type = 'double')\n",
    "\n",
    "# View which variables are logged\n",
    "logger.info()\n",
    "\n",
    "logger.clear_all()\n",
    "logger.start()\n",
    "\n",
    "# DATA IS BEING RECORDED\n",
    "time.sleep(1)\n",
    "\n",
    "logger.stop()\n",
    "\n",
    "data = logger.dump(file = 'test_data.csv')\n",
    "data\n",
    "\n",
    "data.filter(regex=\"^vabc1_a|vabc1_b|vabc1_c$\").plot()"
   ]
  },
  {
   "cell_type": "code",
   "execution_count": null,
   "metadata": {},
   "outputs": [],
   "source": [
    "\n",
    "data = logger.dump(file = 'bp3_data.csv')\n",
    "data\n"
   ]
  },
  {
   "cell_type": "code",
   "execution_count": null,
   "metadata": {},
   "outputs": [],
   "source": [
    "data.filter(regex=\"^Itq_d_ref|Itq_q_ref|Itq_d$|Itq_q\").plot()\n",
    "#data.filter(regex=\"^Is1_d_ref|Is1_q_ref|Is1_d|Is1_q$\").plot()\n",
    "#data.filter(regex=\"^Is2_d_ref|Is2_q_ref|Is2_d|Is2_q$\").plot()"
   ]
  },
  {
   "cell_type": "code",
   "execution_count": null,
   "metadata": {},
   "outputs": [],
   "source": [
    "logger.unregister_all()\n",
    "logger.register('Is1_d_ref Is1_q_ref Is1_d Is1_q', samples_per_sec = 1000, var_type = 'double')\n",
    "\n",
    "# View which variables are logged\n",
    "logger.info()\n",
    "\n",
    "logger.clear_all()\n",
    "logger.start()\n",
    "\n",
    "# DATA IS BEING RECORDED\n",
    "time.sleep(1)\n",
    "\n",
    "logger.stop()\n"
   ]
  },
  {
   "cell_type": "code",
   "execution_count": null,
   "metadata": {},
   "outputs": [],
   "source": [
    "#data = logger.dump(file = 'test_data.csv')\n",
    "#data\n",
    "data.filter(regex=\"^Is1_d_ref|Is1_q_ref|Is1_d|Is1_q$\").plot()"
   ]
  },
  {
   "cell_type": "code",
   "execution_count": null,
   "metadata": {},
   "outputs": [],
   "source": [
    "logger.unregister_all()\n",
    "logger.register('Is2_d_ref Is2_q_ref Is2_d Is2_q', samples_per_sec = 1000, var_type = 'double')\n",
    "\n",
    "# View which variables are logged\n",
    "logger.info()\n",
    "\n",
    "logger.clear_all()\n",
    "logger.start()\n",
    "\n",
    "# DATA IS BEING RECORDED\n",
    "time.sleep(1)\n",
    "\n",
    "logger.stop()\n",
    "\n",
    "data = logger.dump(file = 'test_data.csv')\n",
    "data\n",
    "\n",
    "data.filter(regex=\"^Is2_d_ref|Is2_q_ref|Is2_d|Is2_q$\").plot()"
   ]
  },
  {
   "cell_type": "code",
   "execution_count": null,
   "metadata": {},
   "outputs": [],
   "source": [
    "\n",
    "logger.unregister_all()\n",
    "logger.register('v_tq_d v_tq_q', samples_per_sec = 1000, var_type = 'double')\n",
    "\n",
    "# View which variables are logged\n",
    "logger.info()\n",
    "\n",
    "logger.clear_all()\n",
    "logger.start()\n",
    "\n",
    "# DATA IS BEING RECORDED\n",
    "time.sleep(1)\n",
    "\n",
    "logger.stop()\n",
    "\n",
    "data = logger.dump(file = 'test_data.csv')\n",
    "data\n",
    "\n",
    "data.filter(regex=\"^v_tq_d|v_tq_q$\").plot()"
   ]
  },
  {
   "cell_type": "code",
   "execution_count": null,
   "metadata": {},
   "outputs": [],
   "source": [
    "logger.unregister_all()\n",
    "logger.register('we_tq', samples_per_sec = 1000, var_type = 'double')\n",
    "\n",
    "# View which variables are logged\n",
    "logger.info()\n",
    "\n",
    "logger.clear_all()\n",
    "logger.start()\n",
    "\n",
    "# DATA IS BEING RECORDED\n",
    "time.sleep(1)\n",
    "\n",
    "logger.stop()\n",
    "\n",
    "data = logger.dump(file = 'test_data.csv')\n",
    "data\n",
    "\n",
    "data.filter(regex=\"^we_tq$\").plot()"
   ]
  }
 ],
 "metadata": {
  "interpreter": {
   "hash": "b3ba2566441a7c06988d0923437866b63cedc61552a5af99d1f4fb67d367b25f"
  },
  "kernelspec": {
   "display_name": "Python 3.7.3 64-bit ('base': conda)",
   "name": "python3"
  },
  "language_info": {
   "codemirror_mode": {
    "name": "ipython",
    "version": 3
   },
   "file_extension": ".py",
   "mimetype": "text/x-python",
   "name": "python",
   "nbconvert_exporter": "python",
   "pygments_lexer": "ipython3",
   "version": "3.7.3"
  }
 },
 "nbformat": 4,
 "nbformat_minor": 2
}
