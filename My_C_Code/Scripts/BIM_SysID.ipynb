{
 "cells": [
  {
   "cell_type": "markdown",
   "metadata": {},
   "source": [
    "# Cabinet Start-Up Procedure"
   ]
  },
  {
   "cell_type": "markdown",
   "metadata": {},
   "source": [
    "1. Turn on cabinet power in back of cabinet\n",
    "2. Turn on sensor power (24 Volts). The sensor power inputs are labeled.\n",
    "3. Compile code to AMDC\n",
    "4. Turn on power to DC bus of cabinet.\n",
    "5. Run Jupyter Notebook. "
   ]
  },
  {
   "cell_type": "markdown",
   "metadata": {},
   "source": [
    "Import neccessary modules"
   ]
  },
  {
   "cell_type": "code",
   "execution_count": 9,
   "metadata": {},
   "outputs": [],
   "source": [
    "amdc.disconnect()"
   ]
  },
  {
   "cell_type": "code",
   "execution_count": 10,
   "metadata": {},
   "outputs": [
    {
     "name": "stdout",
     "output_type": "stream",
     "text": [
      "\t> cabinet init_cb\n",
      "['cabinet init_cb', 'SUCCESS']\n",
      "\t> cabinet set_vdc_all 60.00000\n",
      "['cabinet set_vdc_all 60.00000', 'SUCCESS']\n"
     ]
    }
   ],
   "source": [
    "from Cabinet_CMD import cmd\n",
    "import sys\n",
    "sys.path.append(r'..\\AMDC-Firmware\\scripts')\n",
    "from AMDC import AMDC\n",
    "amdc = AMDC(port = 'COM13', cmdEcho = True, printOutput=True)\n",
    "Vdc = 60\n",
    "cmd = cmd(Vdc, amdc, debug = False) "
   ]
  },
  {
   "cell_type": "code",
   "execution_count": 6,
   "metadata": {},
   "outputs": [
    {
     "name": "stdout",
     "output_type": "stream",
     "text": [
      "\t> hw pwm off\n",
      "['hw pwm off', 'SUCCESS']\n",
      "\t> bim deinit\n",
      "['bim deinit', 'SUCCESS']\n"
     ]
    }
   ],
   "source": [
    "cmd.disable_pwm()\n",
    "cmd.bim_deinit()"
   ]
  },
  {
   "cell_type": "code",
   "execution_count": 11,
   "metadata": {},
   "outputs": [
    {
     "name": "stdout",
     "output_type": "stream",
     "text": [
      "\t> bim init\n",
      "['bim init', 'SUCCESS']\n"
     ]
    }
   ],
   "source": [
    "cmd.bim_init()\n"
   ]
  },
  {
   "cell_type": "code",
   "execution_count": 12,
   "metadata": {},
   "outputs": [
    {
     "name": "stdout",
     "output_type": "stream",
     "text": [
      "\t> bim set_vdc_tq 60.000000\n",
      "['bim set_vdc_tq 60.000000', 'SUCCESS']\n",
      "\t> bim set_vdc_s1 60.000000\n",
      "['bim set_vdc_s1 60.000000', 'SUCCESS']\n",
      "\t> bim set_id 2.000000\n",
      "['bim set_id 2.000000', 'SUCCESS']\n",
      "\t> bim enable_ctrl\n",
      "['bim enable_ctrl', 'SUCCESS']\n",
      "\t> hw pwm on\n",
      "['hw pwm on', 'SUCCESS']\n"
     ]
    }
   ],
   "source": [
    "cmd.bim_set_Vdc_tq(60)\n",
    "cmd.bim_set_Vdc_s1(60)\n",
    "cmd.bim_set_id(2)\n",
    "#cmd.bim_set_Vdc(60)\n",
    "cmd.bim_enable_ctrl()\n",
    "cmd.enable_pwm()\n"
   ]
  },
  {
   "cell_type": "code",
   "execution_count": 13,
   "metadata": {},
   "outputs": [
    {
     "name": "stdout",
     "output_type": "stream",
     "text": [
      "\t> bim enable_ob\n",
      "['bim enable_ob', 'SUCCESS']\n",
      "\t> bim enable_vctrl\n",
      "['bim enable_vctrl', 'SUCCESS']\n",
      "\t> bim set_id 13.500000\n",
      "['bim set_id 13.500000', 'SUCCESS']\n"
     ]
    }
   ],
   "source": [
    "cmd.bim_enable_ob()\n",
    "cmd.bim_enable_vctrl()\n",
    "#logger.clear_all()\n",
    "#logger.start()\n",
    "cmd.bim_set_id(13.5)\n"
   ]
  },
  {
   "cell_type": "code",
   "execution_count": 14,
   "metadata": {},
   "outputs": [
    {
     "name": "stdout",
     "output_type": "stream",
     "text": [
      "\t> bim set_deltaxy 0.00000000 0.00000000\n",
      "['bim set_deltaxy 0.00000000 0.00000000', 'SUCCESS']\n",
      "\t> bim enable_levctrl\n",
      "['bim enable_levctrl', 'SUCCESS']\n"
     ]
    }
   ],
   "source": [
    "\n",
    "cmd.bim_set_deltaxy(0, 0)\n",
    "cmd.bim_enable_levctrl()\n",
    "#time.sleep(5)\n",
    "#logger.stop()\n",
    "\n",
    "####################   DUMP DATA AND PLOT   ####################\n",
    "#data = logger.dump(file = 'bim_data_vdc_60_start.csv')"
   ]
  },
  {
   "cell_type": "code",
   "execution_count": 20,
   "metadata": {},
   "outputs": [
    {
     "name": "stdout",
     "output_type": "stream",
     "text": [
      "\t> log info\n",
      "\t> log info\n",
      "###################   AMDC LOGGER INFO   ###################\n",
      "\n",
      "Variable Name:      Index:         Type:         Sample Rate [Hz]:    Number of Samples:\n",
      "\n",
      "\t> c_loop enable_log\n",
      "['c_loop enable_log', 'SUCCESS']\n"
     ]
    }
   ],
   "source": [
    "import matplotlib\n",
    "import time\n",
    "import pathlib as pl\n",
    "import sys\n",
    "repo_dir = '..'                                      # CHANGE THIS TO YOUR REPO DIRECTORY\n",
    "repo_dir = pl.Path(repo_dir)\n",
    "\n",
    "from AMDC_Logger import AMDC_Logger, find_mapfile\n",
    "mapfile_path = find_mapfile(repo_dir)\n",
    "logger = AMDC_Logger(AMDC = amdc, mapfile = mapfile_path)\n",
    "logger.sync()\n",
    "\n",
    "# View which variables are logged\n",
    "logger.info()\n",
    "#amdc.connect()\n",
    "cmd.enable_log()\n"
   ]
  },
  {
   "cell_type": "code",
   "execution_count": 21,
   "metadata": {},
   "outputs": [
    {
     "name": "stdout",
     "output_type": "stream",
     "text": [
      "\t> log reg 0 LOG_delta_x 1272968 1000 double\n",
      "['log reg 0 LOG_delta_x 1272968 1000 double', 'SUCCESS']\n",
      "\t> log reg 1 LOG_delta_y 1272976 1000 double\n",
      "['log reg 1 LOG_delta_y 1272976 1000 double', 'SUCCESS']\n",
      "\t> log reg 2 LOG_F_x 1272984 1000 double\n",
      "['log reg 2 LOG_F_x 1272984 1000 double', 'SUCCESS']\n",
      "\t> log reg 3 LOG_F_y 1272992 1000 double\n",
      "['log reg 3 LOG_F_y 1272992 1000 double', 'SUCCESS']\n",
      "\t> log reg 4 LOG_Is1_x 1272624 1000 double\n",
      "['log reg 4 LOG_Is1_x 1272624 1000 double', 'SUCCESS']\n",
      "\t> log reg 5 LOG_Is1_y 1272632 1000 double\n",
      "['log reg 5 LOG_Is1_y 1272632 1000 double', 'SUCCESS']\n",
      "\t> log reg 6 LOG_Is1_x_ref 1272560 1000 double\n",
      "['log reg 6 LOG_Is1_x_ref 1272560 1000 double', 'SUCCESS']\n",
      "\t> log reg 7 LOG_Is1_y_ref 1272568 1000 double\n",
      "['log reg 7 LOG_Is1_y_ref 1272568 1000 double', 'SUCCESS']\n",
      "\t> log reg 8 LOG_Itq_d_ref 1272544 1000 double\n",
      "['log reg 8 LOG_Itq_d_ref 1272544 1000 double', 'SUCCESS']\n",
      "\t> log reg 9 LOG_Itq_q_ref 1272552 1000 double\n",
      "['log reg 9 LOG_Itq_q_ref 1272552 1000 double', 'SUCCESS']\n",
      "\t> log reg 10 LOG_Itq_d 1272608 1000 double\n",
      "['log reg 10 LOG_Itq_d 1272608 1000 double', 'SUCCESS']\n",
      "\t> log reg 11 LOG_Itq_q 1272616 1000 double\n",
      "['log reg 11 LOG_Itq_q 1272616 1000 double', 'SUCCESS']\n",
      "\t> log reg 12 LOG_va1_ref 1272784 1000 double\n",
      "['log reg 12 LOG_va1_ref 1272784 1000 double', 'SUCCESS']\n",
      "\t> log reg 13 LOG_vb1_ref 1272792 1000 double\n",
      "['log reg 13 LOG_vb1_ref 1272792 1000 double', 'SUCCESS']\n",
      "\t> log reg 14 LOG_vc1_ref 1272800 1000 double\n",
      "['log reg 14 LOG_vc1_ref 1272800 1000 double', 'SUCCESS']\n",
      "\t> log reg 15 LOG_va2_ref 1272808 1000 double\n",
      "['log reg 15 LOG_va2_ref 1272808 1000 double', 'SUCCESS']\n",
      "\t> log reg 16 LOG_vb2_ref 1272816 1000 double\n",
      "['log reg 16 LOG_vb2_ref 1272816 1000 double', 'SUCCESS']\n",
      "\t> log reg 17 LOG_vc2_ref 1272824 1000 double\n",
      "['log reg 17 LOG_vc2_ref 1272824 1000 double', 'SUCCESS']\n",
      "\t> log info\n",
      "###################   AMDC LOGGER INFO   ###################\n",
      "\n",
      "Variable Name:      Index:         Type:         Sample Rate [Hz]:    Number of Samples:\n",
      "LOG_delta_x           0            double              1000.0                0       \n",
      "LOG_delta_y           1            double              1000.0                0       \n",
      "LOG_F_x               2            double              1000.0                0       \n",
      "LOG_F_y               3            double              1000.0                0       \n",
      "LOG_Is1_x             4            double              1000.0                0       \n",
      "LOG_Is1_y             5            double              1000.0                0       \n",
      "LOG_Is1_x_ref         6            double              1000.0                0       \n",
      "LOG_Is1_y_ref         7            double              1000.0                0       \n",
      "LOG_Itq_d_ref         8            double              1000.0                0       \n",
      "LOG_Itq_q_ref         9            double              1000.0                0       \n",
      "LOG_Itq_d             10           double              1000.0                0       \n",
      "LOG_Itq_q             11           double              1000.0                0       \n",
      "LOG_va1_ref           12           double              1000.0                0       \n",
      "LOG_vb1_ref           13           double              1000.0                0       \n",
      "LOG_vc1_ref           14           double              1000.0                0       \n",
      "LOG_va2_ref           15           double              1000.0                0       \n",
      "LOG_vb2_ref           16           double              1000.0                0       \n",
      "LOG_vc2_ref           17           double              1000.0                0       \n",
      "\n",
      "\t> log start\n",
      "['log start', 'SUCCESS']\n"
     ]
    }
   ],
   "source": [
    "logger.unregister_all()\n",
    "#logger.register('wrm_ref wrm wrm_hf Is1_x Is1_y Is1_x_ref Is1_y_ref Itq_d_ref Itq_q_ref Itq_d Itq_q delta_x delta_y', samples_per_sec = 5000, var_type = 'double')\n",
    "#logger.register('delta_x delta_y F_x F_y Is1_x Is1_y Is1_x_ref Is1_y_ref Itq_d_ref Itq_q_ref Itq_d Itq_q wrm_ref wrm wrm_hf va1_ref vb1_ref vc1_ref', samples_per_sec = 10000, var_type = 'double')\n",
    "\n",
    "logger.register('delta_x delta_y F_x F_y Is1_x Is1_y Is1_x_ref Is1_y_ref Itq_d_ref Itq_q_ref Itq_d Itq_q va1_ref vb1_ref vc1_ref va2_ref vb2_ref vc2_ref', samples_per_sec = 1000, var_type = 'double')\n",
    "#logger.register('delta_x delta_y F_x F_y Is1_x Is1_y Is1_x_ref Is1_y_ref Itq_d_ref Itq_q_ref Itq_d Itq_q wrm_ref wrm', samples_per_sec = 5000, var_type = 'double')\n",
    "#logger.register('delta_x delta_y F_x F_y' , samples_per_sec = 500, var_type = 'double')\n",
    "#logger.register('theta_rm' , samples_per_sec = 500, var_type = 'double')\n",
    "# View which variables are logged\n",
    "logger.info()\n",
    "\n",
    "logger.start()\n",
    "#time.sleep(10)\n"
   ]
  },
  {
   "cell_type": "code",
   "execution_count": 22,
   "metadata": {},
   "outputs": [
    {
     "name": "stdout",
     "output_type": "stream",
     "text": [
      "\t> log stop\n",
      "['log stop', 'SUCCESS']\n",
      "\t> log dump bin 0\n",
      "Dumping: LOG_delta_x\n",
      "Dump took: 0.461  sec\n",
      "Dump rate: 963.536  sps\n",
      "Num samples: 444 \n",
      "\n",
      "\t> log dump bin 1\n",
      "Dumping: LOG_delta_y\n",
      "Dump took: 0.464  sec\n",
      "Dump rate: 956.915  sps\n",
      "Num samples: 444 \n",
      "\n",
      "\t> log dump bin 2\n",
      "Dumping: LOG_F_x\n",
      "Dump took: 0.475  sec\n",
      "Dump rate: 934.339  sps\n",
      "Num samples: 444 \n",
      "\n",
      "\t> log dump bin 3\n",
      "Dumping: LOG_F_y\n",
      "Dump took: 0.460  sec\n",
      "Dump rate: 964.697  sps\n",
      "Num samples: 444 \n",
      "\n",
      "\t> log dump bin 4\n",
      "Dumping: LOG_Is1_x\n",
      "Dump took: 0.481  sec\n",
      "Dump rate: 922.641  sps\n",
      "Num samples: 444 \n",
      "\n",
      "\t> log dump bin 5\n",
      "Dumping: LOG_Is1_y\n",
      "Dump took: 0.466  sec\n",
      "Dump rate: 953.225  sps\n",
      "Num samples: 444 \n",
      "\n",
      "\t> log dump bin 6\n",
      "Dumping: LOG_Is1_x_ref\n",
      "Dump took: 0.465  sec\n",
      "Dump rate: 955.314  sps\n",
      "Num samples: 444 \n",
      "\n",
      "\t> log dump bin 7\n",
      "Dumping: LOG_Is1_y_ref\n",
      "Dump took: 0.466  sec\n",
      "Dump rate: 953.507  sps\n",
      "Num samples: 444 \n",
      "\n",
      "\t> log dump bin 8\n",
      "Dumping: LOG_Itq_d_ref\n",
      "Dump took: 0.468  sec\n",
      "Dump rate: 948.443  sps\n",
      "Num samples: 444 \n",
      "\n",
      "\t> log dump bin 9\n",
      "Dumping: LOG_Itq_q_ref\n",
      "Dump took: 0.466  sec\n",
      "Dump rate: 952.228  sps\n",
      "Num samples: 444 \n",
      "\n",
      "\t> log dump bin 10\n",
      "Dumping: LOG_Itq_d\n",
      "Dump took: 0.463  sec\n",
      "Dump rate: 959.453  sps\n",
      "Num samples: 444 \n",
      "\n",
      "\t> log dump bin 11\n",
      "Dumping: LOG_Itq_q\n",
      "Dump took: 0.473  sec\n",
      "Dump rate: 938.666  sps\n",
      "Num samples: 444 \n",
      "\n",
      "\t> log dump bin 12\n",
      "Dumping: LOG_va1_ref\n",
      "Dump took: 0.419  sec\n",
      "Dump rate: 1059.731  sps\n",
      "Num samples: 444 \n",
      "\n",
      "\t> log dump bin 13\n",
      "Dumping: LOG_vb1_ref\n",
      "Dump took: 0.440  sec\n",
      "Dump rate: 1009.046  sps\n",
      "Num samples: 444 \n",
      "\n",
      "\t> log dump bin 14\n",
      "Dumping: LOG_vc1_ref\n",
      "Dump took: 0.476  sec\n",
      "Dump rate: 933.665  sps\n",
      "Num samples: 444 \n",
      "\n",
      "\t> log dump bin 15\n",
      "Dumping: LOG_va2_ref\n",
      "Dump took: 0.547  sec\n",
      "Dump rate: 811.204  sps\n",
      "Num samples: 444 \n",
      "\n",
      "\t> log dump bin 16\n",
      "Dumping: LOG_vb2_ref\n",
      "Dump took: 0.421  sec\n",
      "Dump rate: 1055.601  sps\n",
      "Num samples: 444 \n",
      "\n",
      "\t> log dump bin 17\n",
      "Dumping: LOG_vc2_ref\n",
      "Dump took: 0.468  sec\n",
      "Dump rate: 948.032  sps\n",
      "Num samples: 444 \n",
      "\n"
     ]
    }
   ],
   "source": [
    "logger.stop()\n",
    "\n",
    "####################   DUMP DATA AND PLOT   ####################\n",
    "data = logger.dump(file = 'bim_data_test.csv')"
   ]
  },
  {
   "cell_type": "code",
   "execution_count": 15,
   "metadata": {},
   "outputs": [],
   "source": [
    "PI = 3.141592653589793238462643383279"
   ]
  },
  {
   "cell_type": "code",
   "execution_count": 23,
   "metadata": {},
   "outputs": [
    {
     "name": "stdout",
     "output_type": "stream",
     "text": [
      "\t> bim set_w 0.000000\n",
      "['bim set_w 0.000000', 'SUCCESS']\n"
     ]
    }
   ],
   "source": [
    "cmd.bim_set_w(00.0*PI/30)"
   ]
  },
  {
   "cell_type": "code",
   "execution_count": null,
   "metadata": {},
   "outputs": [],
   "source": [
    "for x in [-35e-5, -30e-5, -25e-5, -20e-5, -15e-5, -10e-5, -5e-5, 0, 5e-5, 10e-5, 15e-5, 20e-5, 25e-5, 30e-5, 35e-5]:\n",
    "    for y in [-35e-5, -30e-5, -25e-5, -20e-5, -15e-5, -10e-5, -5e-5, 0, 5e-5, 10e-5, 15e-5, 20e-5, 25e-5, 30e-5, 35e-5]:\n",
    "        cmd.bim_set_deltaxy(x, 0)\n",
    "        time.sleep(5)\n",
    "        logger.clear_all()\n",
    "        logger.start()\n",
    "        #DATA IS BEING RECORDED\n",
    "        time.sleep(0.1)\n",
    "        logger.stop()\n",
    "        filename = 'bim_data_standstill_x_'+ str(x)+'_y_'+str(y)+'.csv'\n",
    "        data = logger.dump(file = filename)"
   ]
  },
  {
   "cell_type": "code",
   "execution_count": 32,
   "metadata": {},
   "outputs": [
    {
     "name": "stdout",
     "output_type": "stream",
     "text": [
      "\t> log empty_all\n",
      "['log empty_all', 'SUCCESS']\n",
      "\t> log start\n",
      "['log start', 'FAILURE']\n",
      "\t> log stop\n",
      "['log stop', 'SUCCESS']\n",
      "\t> log dump bin 0\n",
      "Dumping: LOG_theta_rm\n",
      "Dump took: 0.696  sec\n",
      "Dump rate: 1129.248  sps\n",
      "Num samples: 786 \n",
      "\n"
     ]
    }
   ],
   "source": [
    "\n",
    "###################   COLLECT DATA   ####################\n",
    "# Clear the logger, then record data\n",
    "logger.clear_all()\n",
    "logger.start()\n",
    "#DATA IS BEING RECORDED\n",
    "time.sleep(0.05)\n",
    "logger.stop()\n",
    "\n",
    "####################   DUMP DATA AND PLOT   ####################\n",
    "data = logger.dump(file = 'bim_data_w000RPM_vdc_100_80_ob1.8_lev10Hz_ba1.8_M1.5_lpf_300_x_5e-7.csv')\n"
   ]
  },
  {
   "cell_type": "code",
   "execution_count": null,
   "metadata": {},
   "outputs": [],
   "source": [
    "\n",
    "logger.stop()\n",
    "\n",
    "####################   DUMP DATA AND PLOT   ####################\n",
    "data = logger.dump(file = 'bim_data_w2000RPM_vdc_60_distr.csv')\n"
   ]
  },
  {
   "cell_type": "code",
   "execution_count": null,
   "metadata": {},
   "outputs": [],
   "source": [
    "data.filter(regex=\"^wrm|wrm_ref|wrm_hf$\").plot()\n"
   ]
  },
  {
   "cell_type": "code",
   "execution_count": null,
   "metadata": {},
   "outputs": [],
   "source": [
    "logger.unregister_all()\n",
    "logger.clear_all()\n"
   ]
  },
  {
   "cell_type": "code",
   "execution_count": null,
   "metadata": {},
   "outputs": [],
   "source": [
    "for i in [0, 1, 2, 5, 10, 12, 15, 20, 30, 40, 50, 100,150, 200]:\n",
    "   \n",
    "    logger.stop()\n",
    "    logger.unregister_all()\n",
    "    logger.clear_all()\n",
    "    sampling = 1000\n",
    "    period = 1\n",
    "    if i <= 10:\n",
    "        sampling = 5000\n",
    "        #period = 1\n",
    "    elif i<= 100:\n",
    "        sampling = 5000\n",
    "        #period = 0.2\n",
    "\n",
    "    else:\n",
    "        sampling = 5000\n",
    "        #period = 0.1\n",
    "    \n",
    "    logger.clear_all()\n",
    "    vd_ref_chirp_gain     = 2000 * 1e-3; # [m]\n",
    "    vd_ref_chirp_freq_min = i; # [Hz]\n",
    "    vd_ref_chirp_freq_max = i; # [Hz]\n",
    "    vd_ref_chirp_period   = 1; # [sec]\n",
    "\n",
    "    amdc.cmd(\"inj chirp wrm_ref set {:.6f} {:.6f} {:.6f} {:.6f}\".format(vd_ref_chirp_gain, vd_ref_chirp_freq_min, vd_ref_chirp_freq_max, vd_ref_chirp_period))\n",
    "    logger.unregister_all()\n",
    "    logger.register('wrm_ref wrm wrm_hf wrm_ref_inject delta_x delta_y', samples_per_sec = sampling, var_type = 'double')\n",
    "    logger.start()\n",
    "    #DATA IS BEING RECORDED\n",
    "    time.sleep(period*1.1)\n",
    "\n",
    "    logger.stop()\n",
    "\n",
    "    ####################   DUMP DATA AND PLOT   ####################\n",
    "    filename = 'bim_data_Vdc_100_80_id13_5_wrm_00rpm_wrm_inj_'+ str(i)+'.csv'\n",
    "    data = logger.dump(file = filename)"
   ]
  },
  {
   "cell_type": "code",
   "execution_count": null,
   "metadata": {},
   "outputs": [],
   "source": [
    "logger.unregister_all()\n",
    "    #logger.register('Ia1_a Ia1_b Ia1_c Ib1_a Ib1_b Ib1_c Ia2_a Ia2_b Ia2_c Ib2_a Ib2_b Ib2_c', samples_per_sec = 1000, var_type = 'double')\n",
    "logger.register('Itq_d Itq_q vd_ref vq_ref Is1_x Is1_y vx_ref vy_ref', samples_per_sec = 1000, var_type = 'double')\n",
    "    #logger.register('Itq_d vd_ref', samples_per_sec = sampling, var_type = 'double')\n",
    "    ###################   COLLECT DATA   ####################\n",
    "    # Clear the logger, then record data\n",
    "\n",
    "for i in [50, 60, 75, 100, 150, 200]:\n",
    "   \n",
    "    logger.stop()\n",
    "    #logger.unregister_all()\n",
    "    logger.clear_all()\n",
    "    sampling = 1000\n",
    "    period = 1\n",
    "    if i <= 10:\n",
    "        sampling = 1000\n",
    "        period = 1\n",
    "    elif i<= 100:\n",
    "        sampling = 1000\n",
    "        period = 0.15\n",
    "\n",
    "    else:\n",
    "        sampling = 2500\n",
    "        period = 0.1\n",
    "\n",
    "    \n",
    "   \n",
    "    logger.clear_all()\n",
    "    vd_ref_chirp_gain     = 1000 * 1e-3; # [m]\n",
    "    vd_ref_chirp_freq_min = i; # [Hz]\n",
    "    vd_ref_chirp_freq_max = i; # [Hz]\n",
    "    vd_ref_chirp_period   = period; # [sec]\n",
    "    amdc.cmd(\"inj const vq_ref set 0\")\n",
    "    amdc.cmd(\"inj const vx_ref set 0\")\n",
    "    amdc.cmd(\"inj const vy_ref set 0\")\n",
    "    amdc.cmd(\"inj chirp vd_ref set {:.6f} {:.6f} {:.6f} {:.6f}\".format(vd_ref_chirp_gain, vd_ref_chirp_freq_min, vd_ref_chirp_freq_max, vd_ref_chirp_period))\n",
    "    logger.unregister_all()\n",
    "    #logger.register('Ia1_a Ia1_b Ia1_c Ib1_a Ib1_b Ib1_c Ia2_a Ia2_b Ia2_c Ib2_a Ib2_b Ib2_c', samples_per_sec = 1000, var_type = 'double')\n",
    "    logger.register('Itq_d Itq_q vd_ref vq_ref Is1_x Is1_y vx_ref vy_ref', samples_per_sec = sampling, var_type = 'double')\n",
    "    logger.start()\n",
    "    #DATA IS BEING RECORDED\n",
    "    time.sleep(period*1.1)\n",
    "\n",
    "    logger.stop()\n",
    "\n",
    "    ####################   DUMP DATA AND PLOT   ####################\n",
    "    filename = 'bim_data_vdc_50_w_00RPM_id_13_5_id_vd'+ str(i)+'.csv'\n",
    "    data = logger.dump(file = filename)\n",
    "\n",
    "    \n",
    "    amdc.cmd(\"inj const vq_ref set 0\")\n",
    "    amdc.cmd(\"inj const vd_ref set 0\")\n",
    "    amdc.cmd(\"inj const vy_ref set 0\")\n",
    "    amdc.cmd(\"inj chirp vx_ref set {:.6f} {:.6f} {:.6f} {:.6f}\".format(vd_ref_chirp_gain, vd_ref_chirp_freq_min, vd_ref_chirp_freq_max, vd_ref_chirp_period))\n",
    "    time.sleep(5)\n",
    "    logger.clear_all()\n",
    "    logger.start()\n",
    "    #DATA IS BEING RECORDED\n",
    "    time.sleep(period*1.1)\n",
    "\n",
    "    logger.stop()\n",
    "\n",
    "    ####################   DUMP DATA AND PLOT   ####################\n",
    "    filename = 'bim_data_vdc_50_w_00RPM_id_13_5_ix_vx'+ str(i)+'.csv'\n",
    "    data = logger.dump(file = filename)\n"
   ]
  },
  {
   "cell_type": "code",
   "execution_count": 49,
   "metadata": {},
   "outputs": [
    {
     "name": "stdout",
     "output_type": "stream",
     "text": [
      "\t> inj const vd_ref set 0\n",
      "\t> inj const vq_ref set 0\n",
      "\t> inj const vx_ref set 0\n",
      "\t> inj const vy_ref set 0\n",
      "\t> inj const Fx_ref set 0\n",
      "\t> inj const Fy_ref set 0\n",
      "\t> inj const wrm_ref set 0\n"
     ]
    }
   ],
   "source": [
    "amdc.cmd(\"inj const vd_ref set 0\")\n",
    "amdc.cmd(\"inj const vq_ref set 0\")\n",
    "amdc.cmd(\"inj const vx_ref set 0\")\n",
    "amdc.cmd(\"inj const vy_ref set 0\")\n",
    "amdc.cmd(\"inj const Fx_ref set 0\")\n",
    "amdc.cmd(\"inj const Fy_ref set 0\")\n",
    "amdc.cmd(\"inj const wrm_ref set 0\")"
   ]
  },
  {
   "cell_type": "code",
   "execution_count": 50,
   "metadata": {},
   "outputs": [
    {
     "name": "stdout",
     "output_type": "stream",
     "text": [
      "\t> log stop\n",
      "\t> log empty_all\n",
      "\t> log empty_all\n",
      "\t> log unreg 0\n",
      "\t> inj const Fy_ref set 0\n",
      "\t> inj chirp Fx_ref set 1.000000 7.000000 7.000000 50.000000\n",
      "\t> log reg 0 LOG_delta_x 1249624 2000 double\n"
     ]
    },
    {
     "ename": "TypeError",
     "evalue": "'NoneType' object is not subscriptable",
     "output_type": "error",
     "traceback": [
      "\u001b[1;31m---------------------------------------------------------------------------\u001b[0m",
      "\u001b[1;31mTypeError\u001b[0m                                 Traceback (most recent call last)",
      "\u001b[1;32m<ipython-input-50-83b397de49d1>\u001b[0m in \u001b[0;36m<module>\u001b[1;34m\u001b[0m\n\u001b[0;32m     37\u001b[0m     \u001b[1;31m#logger.register('Ia1_a Ia1_b Ia1_c Ib1_a Ib1_b Ib1_c Ia2_a Ia2_b Ia2_c Ib2_a Ib2_b Ib2_c', samples_per_sec = 1000, var_type = 'double')\u001b[0m\u001b[1;33m\u001b[0m\u001b[1;33m\u001b[0m\u001b[1;33m\u001b[0m\u001b[0m\n\u001b[0;32m     38\u001b[0m     \u001b[1;31m#logger.register('Itq_d Itq_q vd_ref vq_ref Is1_x Is1_y vx_ref vy_ref', samples_per_sec = 1000, var_type = 'double')\u001b[0m\u001b[1;33m\u001b[0m\u001b[1;33m\u001b[0m\u001b[1;33m\u001b[0m\u001b[0m\n\u001b[1;32m---> 39\u001b[1;33m     \u001b[0mlogger\u001b[0m\u001b[1;33m.\u001b[0m\u001b[0mregister\u001b[0m\u001b[1;33m(\u001b[0m\u001b[1;34m'delta_x delta_y F_x F_y F_x_inject F_y_inject'\u001b[0m\u001b[1;33m,\u001b[0m \u001b[0msamples_per_sec\u001b[0m \u001b[1;33m=\u001b[0m \u001b[0msampling\u001b[0m\u001b[1;33m,\u001b[0m \u001b[0mvar_type\u001b[0m \u001b[1;33m=\u001b[0m \u001b[1;34m'double'\u001b[0m\u001b[1;33m)\u001b[0m\u001b[1;33m\u001b[0m\u001b[1;33m\u001b[0m\u001b[0m\n\u001b[0m\u001b[0;32m     40\u001b[0m \u001b[1;33m\u001b[0m\u001b[0m\n\u001b[0;32m     41\u001b[0m \u001b[1;33m\u001b[0m\u001b[0m\n",
      "\u001b[1;32m~\\Zhouzhou_AMDC\\AMDC-Firmware\\scripts\\AMDC_Logger.py\u001b[0m in \u001b[0;36mregister\u001b[1;34m(self, log_vars, samples_per_sec, var_type)\u001b[0m\n\u001b[0;32m     77\u001b[0m                     \u001b[0mcmd\u001b[0m \u001b[1;33m=\u001b[0m \u001b[1;34mf'log reg {LV.index} {LV.name} {LV.memory_addr} {LV.samples_per_sec} {LV.var_type}'\u001b[0m\u001b[1;33m\u001b[0m\u001b[1;33m\u001b[0m\u001b[0m\n\u001b[0;32m     78\u001b[0m                     \u001b[0mout\u001b[0m \u001b[1;33m=\u001b[0m \u001b[0mself\u001b[0m\u001b[1;33m.\u001b[0m\u001b[0mamdc\u001b[0m\u001b[1;33m.\u001b[0m\u001b[0mcmd\u001b[0m\u001b[1;33m(\u001b[0m\u001b[0mcmd\u001b[0m\u001b[1;33m)\u001b[0m\u001b[1;33m\u001b[0m\u001b[1;33m\u001b[0m\u001b[0m\n\u001b[1;32m---> 79\u001b[1;33m                     \u001b[1;32mif\u001b[0m \u001b[0mout\u001b[0m\u001b[1;33m[\u001b[0m\u001b[1;36m1\u001b[0m\u001b[1;33m]\u001b[0m \u001b[1;33m==\u001b[0m \u001b[1;34m'FAILURE'\u001b[0m\u001b[1;33m:\u001b[0m\u001b[1;33m\u001b[0m\u001b[1;33m\u001b[0m\u001b[0m\n\u001b[0m\u001b[0;32m     80\u001b[0m                         \u001b[0mself\u001b[0m\u001b[1;33m.\u001b[0m\u001b[0m_pop\u001b[0m\u001b[1;33m(\u001b[0m\u001b[0mLV\u001b[0m\u001b[1;33m)\u001b[0m\u001b[1;33m\u001b[0m\u001b[1;33m\u001b[0m\u001b[0m\n\u001b[0;32m     81\u001b[0m \u001b[1;33m\u001b[0m\u001b[0m\n",
      "\u001b[1;31mTypeError\u001b[0m: 'NoneType' object is not subscriptable"
     ]
    }
   ],
   "source": [
    "for i in [ 7, 9, 10, 11, 12, 13, 15, 17,20,30,40,50,60,75,80, 85, 90, 95, 100, 105, 110, 115, 120, 125, 130, 140]:\n",
    "    logger.stop()\n",
    "    #logger.unregister_all()\n",
    "    logger.clear_all()\n",
    "    sampling = 1000\n",
    "    period = 1\n",
    "    if i <= 1:\n",
    "        sampling = 500\n",
    "        period = 10\n",
    "    elif i <= 10:\n",
    "        sampling = 2000\n",
    "        period = 1\n",
    "    elif i<= 100:\n",
    "        sampling = 2000\n",
    "        period = 0.15\n",
    "    elif i<= 250:\n",
    "        sampling = 4000\n",
    "        period = 0.10\n",
    "    elif i<= 500:\n",
    "        sampling = 5000\n",
    "        period = 0.10\n",
    "\n",
    "    else:\n",
    "        sampling = 10000\n",
    "        period = 0.10\n",
    "\n",
    "    \n",
    "    vd_ref_chirp_gain     = 1000 * 1e-3; # [m]\n",
    "    vd_ref_chirp_freq_min = i; # [Hz]\n",
    "    vd_ref_chirp_freq_max = i; # [Hz]\n",
    "    vd_ref_chirp_period   = 50; # [sec]\n",
    "    logger.clear_all()\n",
    "    logger.unregister_all()\n",
    "    amdc.cmd(\"inj const Fy_ref set 0\")\n",
    "    amdc.cmd(\"inj chirp Fx_ref set {:.6f} {:.6f} {:.6f} {:.6f}\".format(vd_ref_chirp_gain, vd_ref_chirp_freq_min, vd_ref_chirp_freq_max, vd_ref_chirp_period))\n",
    "\n",
    "    #logger.register('Ia1_a Ia1_b Ia1_c Ib1_a Ib1_b Ib1_c Ia2_a Ia2_b Ia2_c Ib2_a Ib2_b Ib2_c', samples_per_sec = 1000, var_type = 'double')\n",
    "    #logger.register('Itq_d Itq_q vd_ref vq_ref Is1_x Is1_y vx_ref vy_ref', samples_per_sec = 1000, var_type = 'double')\n",
    "    logger.register('delta_x delta_y F_x F_y F_x_inject F_y_inject', samples_per_sec = sampling, var_type = 'double')\n",
    "\n",
    "\n",
    "    ###################   COLLECT DATA   ####################\n",
    "    # Clear the logger, then record data\n",
    "\n",
    "\n",
    "    \n",
    "    logger.start()\n",
    "    #DATA IS BEING RECORDED\n",
    "    time.sleep(period*1.1)\n",
    "\n",
    "    logger.stop()\n",
    "    ####################   DUMP DATA AND PLOT   ####################\n",
    "    filename = 'bim_data_vdc_100_80_w_000RPM_ob1.8_lev15Hz_ba1.8_M1.5_lpf_300_stiff_x_f_'+ str(i)+'.csv'\n",
    "    data = logger.dump(file = filename)\n",
    "\n",
    "    amdc.cmd(\"inj const Fx_ref set 0\")\n",
    "    amdc.cmd(\"inj chirp Fy_ref set {:.6f} {:.6f} {:.6f} {:.6f}\".format(vd_ref_chirp_gain, vd_ref_chirp_freq_min, vd_ref_chirp_freq_max, vd_ref_chirp_period))\n",
    "\n",
    "\n",
    "    \n",
    "    logger.clear_all()\n",
    "    time.sleep(5)\n",
    "    logger.start()\n",
    "    #DATA IS BEING RECORDED\n",
    "    time.sleep(period*1.1)\n",
    "\n",
    "    logger.stop()\n",
    "\n",
    "    ####################   DUMP DATA AND PLOT   ####################\n",
    "    filename = 'bim_data_vdc_100_80_w_000RPM_ob1.8_lev15Hz_ba1.8_M1.5_lpf_300_stiff_y_f_'+ str(i)+'.csv'\n",
    "    data = logger.dump(file = filename)\n"
   ]
  },
  {
   "cell_type": "code",
   "execution_count": null,
   "metadata": {},
   "outputs": [],
   "source": [
    "for i in [50, 1200, 2000]:\n",
    "   \n",
    "    logger.stop()\n",
    "    logger.unregister_all()\n",
    "    logger.clear_all()\n",
    "    sampling = 1000\n",
    "    period = 1\n",
    "    if i <= 10:\n",
    "        sampling = 1000\n",
    "        period = 1\n",
    "    elif i<= 100:\n",
    "        sampling = 1000\n",
    "        period = 0.2\n",
    "\n",
    "    else:\n",
    "        sampling = 10000\n",
    "        period = 0.1\n",
    "\n",
    "    logger.unregister_all()\n",
    "    #logger.register('Ia1_a Ia1_b Ia1_c Ib1_a Ib1_b Ib1_c Ia2_a Ia2_b Ia2_c Ib2_a Ib2_b Ib2_c', samples_per_sec = 1000, var_type = 'double')\n",
    "    #logger.register('Itq_d Itq_q vd_ref vq_ref Is1_x Is1_y vx_ref vy_ref', samples_per_sec = 1000, var_type = 'double')\n",
    "    logger.register('Itq_d Itq_d_ref Itq_q Is1_y Is1_x', samples_per_sec = sampling, var_type = 'double')\n",
    "\n",
    "    ###################   COLLECT DATA   ####################\n",
    "    # Clear the logger, then record data\n",
    "\n",
    "    logger.clear_all()\n",
    "    cmd.bim_set_id(2)\n",
    "    vd_ref_chirp_gain     = 500 * 1e-3; # [m]\n",
    "    vd_ref_chirp_freq_min = i; # [Hz]\n",
    "    vd_ref_chirp_freq_max = i; # [Hz]\n",
    "    vd_ref_chirp_period   = period; # [sec]\n",
    "    amdc.cmd(\"inj const ix_ref set 0\")\n",
    "    amdc.cmd(\"inj const iy_ref set 0\")\n",
    "    amdc.cmd(\"inj const iq_ref set 0\")\n",
    "    amdc.cmd(\"inj chirp id_ref set {:.6f} {:.6f} {:.6f} {:.6f}\".format(vd_ref_chirp_gain, vd_ref_chirp_freq_min, vd_ref_chirp_freq_max, vd_ref_chirp_period))\n",
    "\n",
    "    logger.start()\n",
    "    #DATA IS BEING RECORDED\n",
    "    time.sleep(period*1.1)\n",
    "\n",
    "    logger.stop()\n",
    "\n",
    "    ####################   DUMP DATA AND PLOT   ####################\n",
    "    filename = 'bim_data_id_id'+ str(i)+'.csv'\n",
    "    data = logger.dump(file = filename)\n",
    "\n",
    "    logger.unregister_all()\n",
    "    #logger.register('Ia1_a Ia1_b Ia1_c Ib1_a Ib1_b Ib1_c Ia2_a Ia2_b Ia2_c Ib2_a Ib2_b Ib2_c', samples_per_sec = 1000, var_type = 'double')\n",
    "    #logger.register('Itq_d Itq_q vd_ref vq_ref Is1_x Is1_y vx_ref vy_ref', samples_per_sec = 1000, var_type = 'double')\n",
    "    logger.register('Itq_d Is1_x_ref Itq_q Is1_y Is1_x', samples_per_sec = sampling, var_type = 'double')\n",
    "\n",
    "    ###################   COLLECT DATA   ####################\n",
    "    # Clear the logger, then record data\n",
    "    logger.clear_all()\n",
    "    cmd.bim_set_ixy(0,0)\n",
    "    amdc.cmd(\"inj const id_ref set 0\")\n",
    "    amdc.cmd(\"inj const iq_ref set 0\")\n",
    "    amdc.cmd(\"inj const iy_ref set 0\")\n",
    "    amdc.cmd(\"inj chirp ix_ref add {:.6f} {:.6f} {:.6f} {:.6f}\".format(vd_ref_chirp_gain, vd_ref_chirp_freq_min, vd_ref_chirp_freq_max, vd_ref_chirp_period))\n",
    "\n",
    "    logger.start()\n",
    "    #DATA IS BEING RECORDED\n",
    "    time.sleep(period*1.1)\n",
    "\n",
    "    logger.stop()\n",
    "\n",
    "    ####################   DUMP DATA AND PLOT   ####################\n",
    "    filename = 'bim_data_id_ix'+ str(i)+'.csv'\n",
    "    data = logger.dump(file = filename)"
   ]
  },
  {
   "cell_type": "code",
   "execution_count": 37,
   "metadata": {},
   "outputs": [
    {
     "name": "stdout",
     "output_type": "stream",
     "text": [
      "\t> hw pwm off\n",
      "['hw pwm off', 'SUCCESS']\n",
      "\t> bim disable_levctrl\n",
      "['bim disable_levctrl', 'SUCCESS']\n",
      "\t> bim disable_ob\n",
      "['bim disable_ob', 'SUCCESS']\n",
      "\t> bim disable_vctrl\n",
      "['bim disable_vctrl', 'SUCCESS']\n",
      "\t> inj const vd_ref set 0\n",
      "['inj const vd_ref set 0', 'SUCCESS']\n",
      "\t> inj const vq_ref set 0\n",
      "['inj const vq_ref set 0', 'SUCCESS']\n",
      "\t> inj const vx_ref set 0\n",
      "['inj const vx_ref set 0', 'SUCCESS']\n",
      "\t> inj const vy_ref set 0\n",
      "['inj const vy_ref set 0', 'SUCCESS']\n",
      "\t> inj const Fx_ref set 0\n",
      "['inj const Fx_ref set 0', 'SUCCESS']\n",
      "\t> inj const Fy_ref set 0\n",
      "['inj const Fy_ref set 0', 'SUCCESS']\n",
      "\t> inj const wrm_ref set 0\n",
      "['inj const wrm_ref set 0', 'SUCCESS']\n"
     ]
    },
    {
     "data": {
      "text/plain": [
       "['inj const wrm_ref set 0', 'SUCCESS']"
      ]
     },
     "execution_count": 37,
     "metadata": {},
     "output_type": "execute_result"
    }
   ],
   "source": [
    "cmd.disable_pwm()\n",
    "cmd.bim_disable_levctrl()\n",
    "cmd.bim_disable_ob()\n",
    "cmd.bim_disable_vctrl()\n",
    "\n",
    "amdc.cmd(\"inj const vd_ref set 0\")\n",
    "amdc.cmd(\"inj const vq_ref set 0\")\n",
    "amdc.cmd(\"inj const vx_ref set 0\")\n",
    "amdc.cmd(\"inj const vy_ref set 0\")\n",
    "amdc.cmd(\"inj const Fx_ref set 0\")\n",
    "amdc.cmd(\"inj const Fy_ref set 0\")\n",
    "amdc.cmd(\"inj const wrm_ref set 0\")\n",
    "\n",
    "cmd.enable_pwm()"
   ]
  },
  {
   "cell_type": "code",
   "execution_count": null,
   "metadata": {},
   "outputs": [],
   "source": [
    "\n",
    "logger.unregister_all()\n",
    "#logger.register('Ia1_a Ia1_b Ia1_c Ib1_a Ib1_b Ib1_c Ia2_a Ia2_b Ia2_c Ib2_a Ib2_b Ib2_c', samples_per_sec = 1000, var_type = 'double')\n",
    "#logger.register('Itq_d Itq_q vd_ref vq_ref Is1_x Is1_y vx_ref vy_ref', samples_per_sec = 1000, var_type = 'double')\n",
    "logger.register('Itq_d vd_ref', samples_per_sec = 10000, var_type = 'double')\n"
   ]
  },
  {
   "cell_type": "code",
   "execution_count": null,
   "metadata": {},
   "outputs": [],
   "source": [
    "\n",
    "###################   COLLECT DATA   ####################\n",
    "# Clear the logger, then record data\n",
    "d_ref_chirp_gain     = 1000 * 1e-3; # [m]\n",
    "vd_ref_chirp_freq_min = 150; # [Hz]\n",
    "vd_ref_chirp_freq_max = 150; # [Hz]\n",
    "vd_ref_chirp_period   = 0.3; # [sec]\n",
    "logger.clear_all()\n",
    "\n",
    "amdc.cmd(\"inj const vq_ref set 0\")\n",
    "amdc.cmd(\"inj const vx_ref set 0\")\n",
    "amdc.cmd(\"inj const vy_ref set 0\")\n",
    "amdc.cmd(\"inj chirp vd_ref set {:.6f} {:.6f} {:.6f} {:.6f}\".format(vd_ref_chirp_gain, vd_ref_chirp_freq_min, vd_ref_chirp_freq_max, vd_ref_chirp_period))\n",
    "logger.start()\n",
    "\n",
    "#DATA IS BEING RECORDED\n",
    "time.sleep(0.1)\n",
    "\n",
    "logger.stop()\n",
    "\n",
    "####################   DUMP DATA AND PLOT   ####################\n",
    "data = logger.dump(file = 'bim_data_id_vd150.csv')\n",
    "\n",
    "logger.unregister_all()\n",
    "#logger.register('Ia1_a Ia1_b Ia1_c Ib1_a Ib1_b Ib1_c Ia2_a Ia2_b Ia2_c Ib2_a Ib2_b Ib2_c', samples_per_sec = 1000, var_type = 'double')\n",
    "#logger.register('Itq_d Itq_q vd_ref vq_ref Is1_x Is1_y vx_ref vy_ref', samples_per_sec = 1000, var_type = 'double')\n",
    "logger.register('Is1_x vx_ref', samples_per_sec = 20000, var_type = 'double')\n",
    "\n",
    "###################   COLLECT DATA   ####################\n",
    "# Clear the logger, then record data\n",
    "logger.clear_all()\n",
    "\n",
    "amdc.cmd(\"inj const vd_ref set 0\")\n",
    "amdc.cmd(\"inj const vq_ref set 0\")\n",
    "amdc.cmd(\"inj const vy_ref set 0\")\n",
    "amdc.cmd(\"inj chirp vx_ref set {:.6f} {:.6f} {:.6f} {:.6f}\".format(vd_ref_chirp_gain, vd_ref_chirp_freq_min, vd_ref_chirp_freq_max, vd_ref_chirp_period))\n",
    "logger.start()\n",
    "\n",
    "#DATA IS BEING RECORDED\n",
    "time.sleep(0.1)\n",
    "\n",
    "logger.stop()\n",
    "\n",
    "####################   DUMP DATA AND PLOT   ####################\n",
    "data = logger.dump(file = 'bim_data_id_vx150.csv')\n"
   ]
  },
  {
   "cell_type": "code",
   "execution_count": null,
   "metadata": {},
   "outputs": [],
   "source": [
    "\n",
    "logger.unregister_all()\n",
    "#logger.register('Ia1_a Ia1_b Ia1_c Ib1_a Ib1_b Ib1_c Ia2_a Ia2_b Ia2_c Ib2_a Ib2_b Ib2_c', samples_per_sec = 1000, var_type = 'double')\n",
    "#logger.register('Itq_d Itq_q vd_ref vq_ref Is1_x Is1_y vx_ref vy_ref', samples_per_sec = 1000, var_type = 'double')\n",
    "logger.register('Is1_y vy_ref', samples_per_sec = 10000, var_type = 'double')\n",
    "\n",
    "###################   COLLECT DATA   ####################\n",
    "# Clear the logger, then record data\n",
    "logger.clear_all()\n",
    "logger.start()\n",
    "amdc.cmd(\"inj const vd_ref set 0\")\n",
    "amdc.cmd(\"inj const vq_ref set 0\")\n",
    "amdc.cmd(\"inj const vx_ref set 0\")\n",
    "amdc.cmd(\"inj chirp vy_ref set {:.6f} {:.6f} {:.6f} {:.6f}\".format(vd_ref_chirp_gain, vd_ref_chirp_freq_min, vd_ref_chirp_freq_max, vd_ref_chirp_period))\n",
    "\n",
    "\n",
    "#DATA IS BEING RECORDED\n",
    "time.sleep(0.5)\n",
    "\n",
    "logger.stop()\n",
    "\n",
    "####################   DUMP DATA AND PLOT   ####################\n",
    "data = logger.dump(file = 'bim_data_id_vy200.csv')"
   ]
  },
  {
   "cell_type": "code",
   "execution_count": null,
   "metadata": {},
   "outputs": [],
   "source": [
    "amdc.cmd(\"inj const vd_ref set 0\")"
   ]
  },
  {
   "cell_type": "code",
   "execution_count": null,
   "metadata": {},
   "outputs": [],
   "source": [
    "\n",
    "#DATA IS BEING RECORDED\n",
    "time.sleep(4)\n",
    "\n",
    "logger.stop()\n"
   ]
  },
  {
   "cell_type": "code",
   "execution_count": null,
   "metadata": {},
   "outputs": [],
   "source": [
    "####################   DUMP DATA AND PLOT   ####################\n",
    "data = logger.dump(file = 'bim_data_id.csv')\n"
   ]
  },
  {
   "cell_type": "code",
   "execution_count": null,
   "metadata": {},
   "outputs": [],
   "source": [
    "####################   DUMP DATA AND PLOT   ####################\n",
    "\n",
    "#data.filter(regex=\"^theta_rm$\").plot()\n",
    "data.filter(regex=\"^vd_ref|Itq_d$\").plot()\n",
    "#data.filter(regex=\"^vq_ref|Itq_q$\").plot()\n",
    "#data.filter(regex=\"^vx_ref|Is1_x$\").plot()\n",
    "#data.filter(regex=\"^vy_ref|Is1_y$\").plot()\n"
   ]
  },
  {
   "cell_type": "code",
   "execution_count": null,
   "metadata": {},
   "outputs": [],
   "source": [
    "cmd.bim_enable_ob()"
   ]
  },
  {
   "cell_type": "code",
   "execution_count": null,
   "metadata": {},
   "outputs": [],
   "source": [
    "cmd.bim_set_Te(0.2)"
   ]
  },
  {
   "cell_type": "code",
   "execution_count": null,
   "metadata": {},
   "outputs": [],
   "source": [
    "cmd.bim_set_w(10)"
   ]
  },
  {
   "cell_type": "code",
   "execution_count": null,
   "metadata": {},
   "outputs": [],
   "source": [
    "cmd.bim_set_ixy(0, 0)\n",
    "cmd.bim_set_id(0)"
   ]
  },
  {
   "cell_type": "code",
   "execution_count": null,
   "metadata": {},
   "outputs": [],
   "source": [
    "cmd.disable_pwm()"
   ]
  },
  {
   "cell_type": "code",
   "execution_count": null,
   "metadata": {},
   "outputs": [],
   "source": [
    "vd_ref_chirp_gain     = 500 * 1e-3; # [m]\n",
    "vd_ref_chirp_freq_min = 1; # [Hz]\n",
    "vd_ref_chirp_freq_max = 100; # [Hz]\n",
    "vd_ref_chirp_period   = 1.0; # [sec]\n",
    "amdc.cmd(\"inj chirp vd_ref set {:.6f} {:.6f} {:.6f} {:.6f}\".format(vd_ref_chirp_gain, vd_ref_chirp_freq_min, vd_ref_chirp_freq_max, vd_ref_chirp_period))"
   ]
  },
  {
   "cell_type": "code",
   "execution_count": null,
   "metadata": {},
   "outputs": [],
   "source": [
    "vd_ref_chirp_gain     = 500 * 1e-3; # [m]\n",
    "vd_ref_chirp_freq_min = 1; # [Hz]\n",
    "vd_ref_chirp_freq_max = 100; # [Hz]\n",
    "vd_ref_chirp_period   = 1.0; # [sec]\n",
    "amdc.cmd(\"inj chirp vd_ref set {:.6f} {:.6f} {:.6f} {:.6f}\".format(vd_ref_chirp_gain, vd_ref_chirp_freq_min, vd_ref_chirp_freq_max, vd_ref_chirp_period))"
   ]
  },
  {
   "cell_type": "code",
   "execution_count": null,
   "metadata": {},
   "outputs": [],
   "source": [
    "amdc.disconnect()\n",
    "#amdc.connect()"
   ]
  },
  {
   "cell_type": "markdown",
   "metadata": {
    "pycharm": {
     "name": "#%% md\n"
    }
   },
   "source": [
    "## Logging\n"
   ]
  },
  {
   "cell_type": "code",
   "execution_count": null,
   "metadata": {},
   "outputs": [],
   "source": [
    "import matplotlib\n",
    "import time\n",
    "import pathlib as pl\n",
    "import sys\n",
    "repo_dir = '..'                                      # CHANGE THIS TO YOUR REPO DIRECTORY\n",
    "repo_dir = pl.Path(repo_dir)\n",
    "\n",
    "from AMDC_Logger import AMDC_Logger, find_mapfile\n",
    "mapfile_path = find_mapfile(repo_dir)\n",
    "logger = AMDC_Logger(AMDC = amdc, mapfile = mapfile_path)\n",
    "logger.sync()\n",
    "\n",
    "# View which variables are logged\n",
    "logger.info()\n",
    "#amdc.connect()\n",
    "cmd.c_loop_enable_log()"
   ]
  },
  {
   "cell_type": "code",
   "execution_count": null,
   "metadata": {
    "pycharm": {
     "name": "#%%\n"
    }
   },
   "outputs": [],
   "source": [
    "logger.unregister_all()\n",
    "#logger.register('Ia1_a Ia1_b Ia1_c Ib1_a Ib1_b Ib1_c Ia2_a Ia2_b Ia2_c Ib2_a Ib2_b Ib2_c', samples_per_sec = 1000, var_type = 'double')\n",
    "#logger.register('theta_rm wrm wsl theta_e we Itq_d_ref Itq_q_ref Itq_d Itq_q Te', samples_per_sec = 1000, var_type = 'double')\n",
    "logger.register('theta_rm theta_e wrm', samples_per_sec = 1000, var_type = 'double')\n",
    "\n",
    "\n",
    "\n",
    "# View which variables are logged\n",
    "logger.info()\n",
    "\n",
    "###################   COLLECT DATA   ####################\n",
    "# Clear the logger, then record data\n",
    "logger.clear_all()\n",
    "logger.start()\n"
   ]
  },
  {
   "cell_type": "code",
   "execution_count": null,
   "metadata": {},
   "outputs": [],
   "source": [
    "\n",
    "#DATA IS BEING RECORDED\n",
    "time.sleep(1)\n",
    "\n",
    "logger.stop()\n"
   ]
  },
  {
   "cell_type": "code",
   "execution_count": null,
   "metadata": {},
   "outputs": [],
   "source": [
    "####################   DUMP DATA AND PLOT   ####################\n",
    "data = logger.dump(file = 'bim_data_pos.csv')\n"
   ]
  },
  {
   "cell_type": "code",
   "execution_count": null,
   "metadata": {},
   "outputs": [],
   "source": [
    "data.filter(regex=\"^wrm$\").plot()\n",
    "#data.filter(regex=\"^we$\").plot()\n",
    "#data.filter(regex=\"^wsl$\").plot()\n",
    "data.filter(regex=\"^theta_e|theta_rm$\").plot()\n",
    "#data.filter(regex=\"^theta_rm$\").plot()\n",
    "#data.filter(regex=\"^Itq_d_ref|Itq_d$\").plot()\n",
    "#data.filter(regex=\"^Itq_q_ref|Itq_q$\").plot()\n",
    "#data.filter(regex=\"^Te$\").plot()\n"
   ]
  },
  {
   "cell_type": "code",
   "execution_count": null,
   "metadata": {},
   "outputs": [],
   "source": [
    "\n",
    "####################   DUMP DATA AND PLOT   ####################\n",
    "data = logger.dump(file = 'bim_data_pos.csv')\n",
    "#data\n"
   ]
  },
  {
   "cell_type": "code",
   "execution_count": null,
   "metadata": {},
   "outputs": [],
   "source": [
    "data.filter(regex=\"^wrm$\").plot()\n",
    "#data.filter(regex=\"^we$\").plot()\n",
    "data.filter(regex=\"^wsl$\").plot()\n",
    "data.filter(regex=\"^theta_e|theta_rm$\").plot()\n",
    "#data.filter(regex=\"^theta_rm$\").plot()\n",
    "data.filter(regex=\"^Itq_d_ref|Itq_d$\").plot()\n",
    "data.filter(regex=\"^Itq_q_ref|Itq_q$\").plot()\n",
    "data.filter(regex=\"^Te$\").plot()\n"
   ]
  },
  {
   "cell_type": "code",
   "execution_count": null,
   "metadata": {},
   "outputs": [],
   "source": [
    "logger.unregister_all()\n",
    "logger.register('Iabc1_a Iabc1_b Iabc1_c', samples_per_sec = 1000, var_type = 'double')\n",
    "\n",
    "# View which variables are logged\n",
    "logger.info()\n",
    "\n",
    "logger.clear_all()\n",
    "logger.start()\n",
    "\n",
    "# DATA IS BEING RECORDED\n",
    "#time.sleep(1)\n",
    "\n",
    "logger.stop()\n",
    "\n",
    "data = logger.dump(file = 'test_data_Iabc.csv')\n",
    "#data\n",
    "\n",
    "data.filter(regex=\"^Iabc1_a|Iabc1_b|Iabc1_c$\").plot()"
   ]
  },
  {
   "cell_type": "code",
   "execution_count": null,
   "metadata": {},
   "outputs": [],
   "source": [
    "logger.unregister_all()\n",
    "#logger.register('Itq_d_ref Itq_q_ref Itq_d Itq_q Is1_d_ref Is1_q_ref Is1_d Is1_q Is2_d_ref Is2_q_ref Is2_d Is2_q', samples_per_sec = 1000, var_type = 'double')\n",
    "logger.register('va_ref vb_ref vc_ref', samples_per_sec = 1000, var_type = 'double')\n",
    "# View which variables are logged\n",
    "logger.info()\n",
    "\n",
    "logger.clear_all()\n",
    "logger.start()\n",
    "time.sleep(0.5)\n",
    "logger.stop()\n",
    "\n",
    "data = logger.dump(file = 'bim_data_Idq.csv')\n",
    "#data\n",
    "\n",
    "data.filter(regex=\"^va_ref|vb_ref|vc_ref$\").plot()\n",
    "#data.filter(regex=\"^Itq_q_ref|Itq_q$\").plot()\n",
    "#data.filter(regex=\"^Te_ref$\").plot()"
   ]
  },
  {
   "cell_type": "code",
   "execution_count": null,
   "metadata": {},
   "outputs": [],
   "source": [
    "data.filter(regex=\"^Ib1_a|Ib1_b|Ib1_c$\").plot()"
   ]
  },
  {
   "cell_type": "code",
   "execution_count": null,
   "metadata": {},
   "outputs": [],
   "source": [
    "data.filter(regex=\"^Iabc2_a|Iabc2_b|Iabc2_c$\").plot()"
   ]
  },
  {
   "cell_type": "code",
   "execution_count": null,
   "metadata": {
    "scrolled": true
   },
   "outputs": [],
   "source": [
    "data.filter(regex=\"^Iabc3_a|Iabc3_b|Iabc3_c$\").plot()"
   ]
  },
  {
   "cell_type": "code",
   "execution_count": null,
   "metadata": {},
   "outputs": [],
   "source": [
    "logger.unregister_all()\n",
    "logger.register('vabc1_a vabc1_b vabc1_c', samples_per_sec = 1000, var_type = 'double')\n",
    "\n",
    "# View which variables are logged\n",
    "logger.info()\n",
    "\n",
    "logger.clear_all()\n",
    "logger.start()\n",
    "\n",
    "# DATA IS BEING RECORDED\n",
    "time.sleep(1)\n",
    "\n",
    "logger.stop()\n",
    "\n",
    "data = logger.dump(file = 'test_data.csv')\n",
    "data\n",
    "\n",
    "data.filter(regex=\"^vabc1_a|vabc1_b|vabc1_c$\").plot()"
   ]
  },
  {
   "cell_type": "code",
   "execution_count": null,
   "metadata": {},
   "outputs": [],
   "source": [
    "\n",
    "data = logger.dump(file = 'bim_data.csv')\n",
    "data\n"
   ]
  },
  {
   "cell_type": "code",
   "execution_count": null,
   "metadata": {},
   "outputs": [],
   "source": [
    "data.filter(regex=\"^Itq_d_ref|Itq_q_ref|Itq_d$|Itq_q\").plot()\n",
    "#data.filter(regex=\"^Is1_d_ref|Is1_q_ref|Is1_d|Is1_q$\").plot()\n",
    "#data.filter(regex=\"^Is2_d_ref|Is2_q_ref|Is2_d|Is2_q$\").plot()"
   ]
  },
  {
   "cell_type": "code",
   "execution_count": null,
   "metadata": {},
   "outputs": [],
   "source": [
    "logger.unregister_all()\n",
    "logger.register('Is1_d_ref Is1_q_ref Is1_d Is1_q', samples_per_sec = 1000, var_type = 'double')\n",
    "\n",
    "# View which variables are logged\n",
    "logger.info()\n",
    "\n",
    "logger.clear_all()\n",
    "logger.start()\n",
    "\n",
    "# DATA IS BEING RECORDED\n",
    "time.sleep(1)\n",
    "\n",
    "logger.stop()\n"
   ]
  },
  {
   "cell_type": "code",
   "execution_count": null,
   "metadata": {},
   "outputs": [],
   "source": [
    "#data = logger.dump(file = 'test_data.csv')\n",
    "#data\n",
    "data.filter(regex=\"^Is1_d_ref|Is1_q_ref|Is1_d|Is1_q$\").plot()"
   ]
  },
  {
   "cell_type": "code",
   "execution_count": null,
   "metadata": {},
   "outputs": [],
   "source": [
    "logger.unregister_all()\n",
    "logger.register('Is2_d_ref Is2_q_ref Is2_d Is2_q', samples_per_sec = 1000, var_type = 'double')\n",
    "\n",
    "# View which variables are logged\n",
    "logger.info()\n",
    "\n",
    "logger.clear_all()\n",
    "logger.start()\n",
    "\n",
    "# DATA IS BEING RECORDED\n",
    "time.sleep(1)\n",
    "\n",
    "logger.stop()\n",
    "\n",
    "data = logger.dump(file = 'test_data.csv')\n",
    "data\n",
    "\n",
    "data.filter(regex=\"^Is2_d_ref|Is2_q_ref|Is2_d|Is2_q$\").plot()"
   ]
  },
  {
   "cell_type": "code",
   "execution_count": null,
   "metadata": {},
   "outputs": [],
   "source": [
    "\n",
    "logger.unregister_all()\n",
    "logger.register('v_tq_d v_tq_q', samples_per_sec = 1000, var_type = 'double')\n",
    "\n",
    "# View which variables are logged\n",
    "logger.info()\n",
    "\n",
    "logger.clear_all()\n",
    "logger.start()\n",
    "\n",
    "# DATA IS BEING RECORDED\n",
    "time.sleep(1)\n",
    "\n",
    "logger.stop()\n",
    "\n",
    "data = logger.dump(file = 'test_data.csv')\n",
    "data\n",
    "\n",
    "data.filter(regex=\"^v_tq_d|v_tq_q$\").plot()"
   ]
  },
  {
   "cell_type": "code",
   "execution_count": null,
   "metadata": {},
   "outputs": [],
   "source": [
    "logger.unregister_all()\n",
    "logger.register('we_tq', samples_per_sec = 1000, var_type = 'double')\n",
    "\n",
    "# View which variables are logged\n",
    "logger.info()\n",
    "\n",
    "logger.clear_all()\n",
    "logger.start()\n",
    "\n",
    "# DATA IS BEING RECORDED\n",
    "time.sleep(1)\n",
    "\n",
    "logger.stop()\n",
    "\n",
    "data = logger.dump(file = 'test_data.csv')\n",
    "data\n",
    "\n",
    "data.filter(regex=\"^we_tq$\").plot()"
   ]
  }
 ],
 "metadata": {
  "interpreter": {
   "hash": "b3ba2566441a7c06988d0923437866b63cedc61552a5af99d1f4fb67d367b25f"
  },
  "kernelspec": {
   "display_name": "Python 3.7.3 64-bit ('base': conda)",
   "name": "python3"
  },
  "language_info": {
   "codemirror_mode": {
    "name": "ipython",
    "version": 3
   },
   "file_extension": ".py",
   "mimetype": "text/x-python",
   "name": "python",
   "nbconvert_exporter": "python",
   "pygments_lexer": "ipython3",
   "version": "3.7.3"
  }
 },
 "nbformat": 4,
 "nbformat_minor": 2
}
