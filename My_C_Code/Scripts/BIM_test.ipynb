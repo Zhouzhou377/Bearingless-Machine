{
 "cells": [
  {
   "cell_type": "markdown",
   "source": [
    "# Cabinet Start-Up Procedure"
   ],
   "metadata": {}
  },
  {
   "cell_type": "markdown",
   "source": [
    "1. Turn on cabinet power in back of cabinet\n",
    "2. Turn on sensor power (24 Volts). The sensor power inputs are labeled.\n",
    "3. Compile code to AMDC\n",
    "4. Turn on power to DC bus of cabinet.\n",
    "5. Run Jupyter Notebook. "
   ],
   "metadata": {}
  },
  {
   "cell_type": "markdown",
   "source": [
    "Import neccessary modules"
   ],
   "metadata": {}
  },
  {
   "cell_type": "code",
   "execution_count": 976,
   "source": [
    "amdc.disconnect()"
   ],
   "outputs": [],
   "metadata": {}
  },
  {
   "cell_type": "code",
   "execution_count": 978,
   "source": [
    "from Cabinet_Test import cmd\r\n",
    "\r\n",
    "import sys\r\n",
    "sys.path.append(r'..\\AMDC-Firmware\\scripts')\r\n",
    "from AMDC import AMDC\r\n",
    "amdc = AMDC(port = 'COM13', cmdEcho = True, printOutput=True)\r\n",
    "Vdc = 40\r\n",
    "cmd = cmd(Vdc, amdc, debug = False) "
   ],
   "outputs": [
    {
     "output_type": "stream",
     "name": "stdout",
     "text": [
      "\t> cabinet setup 40.00000\n",
      "['cabinet setup 40.00000', 'SUCCESS']\n",
      "\t> cabinet init_cb\n",
      "['cabinet init_cbENC:\\tSetting pulses per rev bits = 10...', '', 'SUCCESS']\n"
     ]
    }
   ],
   "metadata": {}
  },
  {
   "cell_type": "code",
   "execution_count": 961,
   "source": [
    "cmd.disable_pwm()"
   ],
   "outputs": [
    {
     "output_type": "stream",
     "name": "stdout",
     "text": [
      "\t> hw pwm off\n",
      "['hw pwm off', 'FAILURE']\n"
     ]
    }
   ],
   "metadata": {}
  },
  {
   "cell_type": "code",
   "execution_count": 979,
   "source": [
    "cmd.BIM_init()\r\n",
    "cmd.BIM_set_Vdc(40)\r\n",
    "cmd.BIM_set_id(10)\r\n",
    "cmd.enable_pwm()\r\n",
    "cmd.BIM_enable_ctrl()\r\n",
    "\r\n"
   ],
   "outputs": [
    {
     "output_type": "stream",
     "name": "stdout",
     "text": [
      "\t> BIM init\n",
      "['BIM initENC:\\tSetting pulses per rev bits = 10...', '', 'SUCCESS']\n",
      "\t> BIM set_vdc 40.000000\n",
      "['BIM set_vdc 40.000000', 'SUCCESS']\n",
      "\t> BIM set_id 10.000000\n",
      "['BIM set_id 10.000000', 'SUCCESS']\n",
      "\t> hw pwm on\n",
      "['hw pwm on', 'SUCCESS']\n",
      "\t> BIM enable_ctrl\n",
      "['BIM enable_ctrl', 'SUCCESS']\n"
     ]
    }
   ],
   "metadata": {}
  },
  {
   "cell_type": "code",
   "execution_count": 980,
   "source": [
    "PI = 3.1415926\r\n",
    "#cmd.BIM_set_theta_offset(-PI/12)\r\n",
    "cmd.BIM_set_deltaxy(0, 0)\r\n",
    "cmd.BIM_enable_ob()\r\n",
    "cmd.BIM_enable_vctrl()\r\n",
    "cmd.BIM_set_id(10)\r\n",
    "#cmd.BIM_set_Fxy(0,3)\r\n",
    "\r\n",
    "cmd.BIM_enable_levctrl()\r\n",
    "#cmd.BIM_set_id(10)"
   ],
   "outputs": [
    {
     "output_type": "stream",
     "name": "stdout",
     "text": [
      "\t> BIM set_deltaxy 0.000000 0.000000\n",
      "['BIM set_deltaxy 0.000000 0.000000', 'SUCCESS']\n",
      "\t> BIM enable_ob\n",
      "['BIM enable_ob', 'SUCCESS']\n",
      "\t> BIM enable_vctrl\n",
      "['BIM enable_vctrl', 'SUCCESS']\n",
      "\t> BIM set_id 10.000000\n",
      "['BIM set_id 10.000000', 'SUCCESS']\n",
      "\t> BIM enable_levctrl\n",
      "['BIM enable_levctrl', 'SUCCESS']\n"
     ]
    }
   ],
   "metadata": {}
  },
  {
   "cell_type": "code",
   "execution_count": 981,
   "source": [
    "#import matplotlib\r\n",
    "import time\r\n",
    "\r\n",
    "import pathlib as pl\r\n",
    "import sys\r\n",
    "repo_dir = '..'                                      # CHANGE THIS TO YOUR REPO DIRECTORY\r\n",
    "repo_dir = pl.Path(repo_dir)\r\n",
    "\r\n",
    "from AMDC_Logger import AMDC_Logger, find_mapfile\r\n",
    "mapfile_path = find_mapfile(repo_dir)\r\n",
    "logger = AMDC_Logger(AMDC = amdc, mapfile = mapfile_path)\r\n",
    "logger.sync()\r\n",
    "\r\n",
    "# View which variables are logged\r\n",
    "logger.info()\r\n",
    "#amdc.connect()\r\n",
    "cmd.enable_log()"
   ],
   "outputs": [
    {
     "output_type": "stream",
     "name": "stdout",
     "text": [
      "\t> log info\n",
      "\t> log info\n",
      "###################   AMDC LOGGER INFO   ###################\n",
      "\n",
      "Variable Name:      Index:         Type:         Sample Rate [Hz]:    Number of Samples:\n",
      "\n",
      "\t> twin enable_log\n",
      "['twin enable_log', 'SUCCESS']\n"
     ]
    }
   ],
   "metadata": {}
  },
  {
   "cell_type": "code",
   "execution_count": 982,
   "source": [
    "logger.unregister_all()\r\n",
    "#logger.register('Ia1_a Ia1_b Ia1_c Ib1_a Ib1_b Ib1_c Ia2_a Ia2_b Ia2_c Ib2_a Ib2_b Ib2_c', samples_per_sec = 1000, var_type = 'double')\r\n",
    "#logger.register('theta_rm wrm wsl theta_e we Itq_d_ref Itq_q_ref Itq_d Itq_q Te', samples_per_sec = 1000, var_type = 'double')\r\n",
    "#logger.register('theta_rm theta_e wsl', samples_per_sec = 1000, var_type = 'double')\r\n",
    "#logger.register('wsl wrm theta_e theta_rm Itq_d_ref Itq_q_ref Itq_d Itq_q va1_ref vb1_ref vc1_ref va2_ref vb2_ref vc2_ref Is1_x Is1_y Is1_x_ref Is1_y_ref delta_x delta_y', samples_per_sec = 1000, var_type = 'double')\r\n",
    "#logger.register('Is1_x Is1_y Is1_x_ref Is1_y_ref delta_x delta_y', samples_per_sec = 1000, var_type = 'double')\r\n",
    "#logger.register('delta_x delta_y delta_x_ref delta_y_ref delta_x_ref_lpf delta_y_ref_lpf Is1_x Is1_y Is1_x_ref Is1_y_ref', samples_per_sec = 1000, var_type = 'double')\r\n",
    "#logger.register('wrm Itq_d_ref Itq_q_ref Itq_d Itq_q Is1_x Is1_y Is1_x_ref Is1_y_ref', samples_per_sec = 1000, var_type = 'double')\r\n",
    "logger.register('delta_x delta_y F_x F_y Is1_x Is1_y Is1_x_ref Is1_y_ref', samples_per_sec = 1000, var_type = 'double')\r\n",
    "#logger.register('delta_x delta_y', samples_per_sec = 1000, var_type = 'double')\r\n",
    "\r\n",
    "# View which variables are logged\r\n",
    "logger.info()\r\n"
   ],
   "outputs": [
    {
     "output_type": "stream",
     "name": "stdout",
     "text": [
      "\t> log reg 0 LOG_delta_x 1249176 1000 double\n",
      "['log reg 0 LOG_delta_x 1249176 1000 double', 'SUCCESS']\n",
      "\t> log reg 1 LOG_delta_y 1249184 1000 double\n",
      "['log reg 1 LOG_delta_y 1249184 1000 double', 'SUCCESS']\n",
      "\t> log reg 2 LOG_F_x 1249192 1000 double\n",
      "['log reg 2 LOG_F_x 1249192 1000 double', 'SUCCESS']\n",
      "\t> log reg 3 LOG_F_y 1249200 1000 double\n",
      "['log reg 3 LOG_F_y 1249200 1000 double', 'SUCCESS']\n",
      "\t> log reg 4 LOG_Is1_x 1249008 1000 double\n",
      "['log reg 4 LOG_Is1_x 1249008 1000 double', 'SUCCESS']\n",
      "\t> log reg 5 LOG_Is1_y 1249016 1000 double\n",
      "['log reg 5 LOG_Is1_y 1249016 1000 double', 'SUCCESS']\n",
      "\t> log reg 6 LOG_Is1_x_ref 1248976 1000 double\n",
      "['log reg 6 LOG_Is1_x_ref 1248976 1000 double', 'SUCCESS']\n",
      "\t> log reg 7 LOG_Is1_y_ref 1248984 1000 double\n",
      "['log reg 7 LOG_Is1_y_ref 1248984 1000 double', 'SUCCESS']\n",
      "\t> log info\n",
      "###################   AMDC LOGGER INFO   ###################\n",
      "\n",
      "Variable Name:      Index:         Type:         Sample Rate [Hz]:    Number of Samples:\n",
      "LOG_delta_x           0            double              1000.0                0       \n",
      "LOG_delta_y           1            double              1000.0                0       \n",
      "LOG_F_x               2            double              1000.0                0       \n",
      "LOG_F_y               3            double              1000.0                0       \n",
      "LOG_Is1_x             4            double              1000.0                0       \n",
      "LOG_Is1_y             5            double              1000.0                0       \n",
      "LOG_Is1_x_ref         6            double              1000.0                0       \n",
      "LOG_Is1_y_ref         7            double              1000.0                0       \n",
      "\n"
     ]
    }
   ],
   "metadata": {}
  },
  {
   "cell_type": "code",
   "execution_count": null,
   "source": [
    "cmd.BIM_set_id(0)\r\n",
    "cmd.BIM_set_ixy(0,0)\r\n",
    "logger.clear_all()\r\n",
    "cmd.BIM_set_ixy(0,0)\r\n",
    "###################   COLLECT DATA   ####################\r\n",
    "# Clear the logger, then record data\r\n",
    "\r\n",
    "logger.start()\r\n",
    "cmd.BIM_set_ixy(3,0)\r\n",
    "#cmd.BIM_set_ixy(6, 0)\r\n",
    "#DATA IS BEING RECORDED\r\n",
    "time.sleep(0.02)\r\n",
    "\r\n",
    "logger.stop()"
   ],
   "outputs": [],
   "metadata": {}
  },
  {
   "cell_type": "code",
   "execution_count": null,
   "source": [
    "cmd.BIM_set_deltaxy(0, 0)"
   ],
   "outputs": [],
   "metadata": {}
  },
  {
   "cell_type": "code",
   "execution_count": 937,
   "source": [
    "#cmd.BIM_disable_levctrl()\r\n",
    "#cmd.BIM_set_Fxy(0,0)\r\n",
    "#cmd.BIM_set_ixy(4,-3)\r\n",
    "#cmd.BIM_set_theta_offset(-PI/24-PI/2)\r\n",
    "cmd.BIM_set_Fxy(-30,0)\r\n",
    "#cmd.BIM_set_ixy(0,5)"
   ],
   "outputs": [
    {
     "output_type": "stream",
     "name": "stdout",
     "text": [
      "\t> BIM set_Fxy_ref -30.000000 0.000000\n",
      "['BIM set_Fxy_ref -30.000000 0.000000', 'SUCCESS']\n"
     ]
    }
   ],
   "metadata": {}
  },
  {
   "cell_type": "code",
   "execution_count": 989,
   "source": [
    "logger.clear_all()\r\n",
    "logger.start()\r\n",
    "#cmd.BIM_set_ixy(3,0)\r\n",
    "#cmd.BIM_set_ixy(6, 0)\r\n",
    "#DATA IS BEING RECORDED\r\n",
    "time.sleep(0.1)\r\n",
    "logger.stop()"
   ],
   "outputs": [
    {
     "output_type": "stream",
     "name": "stdout",
     "text": [
      "\t> log empty_all\n",
      "['log empty_all', 'SUCCESS']\n",
      "\t> log start\n",
      "['log start', 'SUCCESS']\n",
      "\t> log stop\n",
      "['log stop', 'SUCCESS']\n"
     ]
    }
   ],
   "metadata": {}
  },
  {
   "cell_type": "code",
   "execution_count": 990,
   "source": [
    "\r\n",
    "####################   DUMP DATA AND PLOT   ####################\r\n",
    "data = logger.dump(file = 'BIM_data_Ilooptest100.csv')"
   ],
   "outputs": [
    {
     "output_type": "stream",
     "name": "stdout",
     "text": [
      "\t> log dump bin 0\n",
      "Dumping: LOG_delta_x\n",
      "Dump took: 0.486  sec\n",
      "Dump rate: 944.439  sps\n",
      "Num samples: 459 \n",
      "\n",
      "\t> log dump bin 1\n",
      "Dumping: LOG_delta_y\n",
      "Dump took: 0.476  sec\n",
      "Dump rate: 964.278  sps\n",
      "Num samples: 459 \n",
      "\n",
      "\t> log dump bin 2\n",
      "Dumping: LOG_F_x\n",
      "Dump took: 0.469  sec\n",
      "Dump rate: 978.671  sps\n",
      "Num samples: 459 \n",
      "\n",
      "\t> log dump bin 3\n",
      "Dumping: LOG_F_y\n",
      "Dump took: 0.472  sec\n",
      "Dump rate: 972.530  sps\n",
      "Num samples: 459 \n",
      "\n",
      "\t> log dump bin 4\n",
      "Dumping: LOG_Is1_x\n",
      "Dump took: 0.470  sec\n",
      "Dump rate: 976.591  sps\n",
      "Num samples: 459 \n",
      "\n",
      "\t> log dump bin 5\n",
      "Dumping: LOG_Is1_y\n",
      "Dump took: 0.472  sec\n",
      "Dump rate: 972.351  sps\n",
      "Num samples: 459 \n",
      "\n",
      "\t> log dump bin 6\n",
      "Dumping: LOG_Is1_x_ref\n",
      "Dump took: 0.468  sec\n",
      "Dump rate: 980.800  sps\n",
      "Num samples: 459 \n",
      "\n",
      "\t> log dump bin 7\n",
      "Dumping: LOG_Is1_y_ref\n",
      "Dump took: 0.465  sec\n",
      "Dump rate: 987.016  sps\n",
      "Num samples: 459 \n",
      "\n"
     ]
    }
   ],
   "metadata": {}
  },
  {
   "cell_type": "code",
   "execution_count": 991,
   "source": [
    "\r\n",
    "#data.filter(regex=\"^wrm$\").plot()\r\n",
    "#data.filter(regex=\"^we$\").plot()\r\n",
    "#data.filter(regex=\"^wsl$\").plot()\r\n",
    "#data.filter(regex=\"^theta_e|theta_rm$\").plot()\r\n",
    "#data.filter(regex=\"^theta_rm$\").plot()\r\n",
    "#data.filter(regex=\"^Itq_d_ref|Itq_d$\").plot()\r\n",
    "#data.filter(regex=\"^Itq_q_ref|Itq_q$\").plot()\r\n",
    "data.filter(regex=\"^Is1_x_ref|Is1_x$\").plot()\r\n",
    "data.filter(regex=\"^Is1_y_ref|Is1_y$\").plot()\r\n",
    "\r\n",
    "#data.filter(regex=\"^va1_ref|vb1_ref|vc1_ref$\").plot()\r\n",
    "#data.filter(regex=\"^va2_ref|vb2_ref|vc2_ref$\").plot()\r\n",
    "#data.filter(regex=\"^Te$\").plot()\r\n",
    "data.filter(regex=\"^F_x|F_y$\").plot()\r\n",
    "data.filter(regex=\"^delta_x|delta_y$\").plot()\r\n",
    "data.filter(regex=\"^error_x|error_y$\").plot()\r\n",
    "#data.filter(regex=\"^delta_x|delta_y|delta_x_ref|delta_y_ref|delta_x_ref_lpf|delta_y_ref_lpf$\").plot()"
   ],
   "outputs": [
    {
     "output_type": "execute_result",
     "data": {
      "text/plain": [
       "<matplotlib.axes._subplots.AxesSubplot at 0x20c7927cfd0>"
      ]
     },
     "metadata": {},
     "execution_count": 991
    },
    {
     "output_type": "display_data",
     "data": {
      "image/png": "[encoded data removed]",
      "text/plain": [
       "<Figure size 432x288 with 1 Axes>"
      ]
     },
     "metadata": {
      "needs_background": "light"
     }
    },
    {
     "output_type": "display_data",
     "data": {
      "image/png": "[encoded data removed]",
      "text/plain": [
       "<Figure size 432x288 with 1 Axes>"
      ]
     },
     "metadata": {
      "needs_background": "light"
     }
    },
    {
     "output_type": "display_data",
     "data": {
      "image/png": "[encoded data removed]",
      "text/plain": [
       "<Figure size 432x288 with 1 Axes>"
      ]
     },
     "metadata": {
      "needs_background": "light"
     }
    },
    {
     "output_type": "display_data",
     "data": {
      "image/png": "[encoded data removed]",
      "text/plain": [
       "<Figure size 432x288 with 1 Axes>"
      ]
     },
     "metadata": {
      "needs_background": "light"
     }
    }
   ],
   "metadata": {}
  },
  {
   "cell_type": "code",
   "execution_count": null,
   "source": [
    "cmd.BIM_enable_vctrl()\r\n",
    "\r\n",
    "cmd.BIM_set_w(0)\r\n",
    "#cmd.BIM_set_id(10)"
   ],
   "outputs": [],
   "metadata": {}
  },
  {
   "cell_type": "code",
   "execution_count": null,
   "source": [
    "cmd.BIM_set_ixy(0, 3)\r\n"
   ],
   "outputs": [],
   "metadata": {}
  },
  {
   "cell_type": "code",
   "execution_count": null,
   "source": [
    "cmd.BIM_set_id(6)\r\n"
   ],
   "outputs": [],
   "metadata": {}
  },
  {
   "cell_type": "code",
   "execution_count": null,
   "source": [
    "cmd.BIM_disable_levctrl()\r\n",
    "cmd.BIM_disable_vctrl()"
   ],
   "outputs": [],
   "metadata": {}
  },
  {
   "cell_type": "code",
   "execution_count": null,
   "source": [
    "cmd.disable_pwm()\r\n"
   ],
   "outputs": [],
   "metadata": {}
  },
  {
   "cell_type": "code",
   "execution_count": null,
   "source": [
    "amdc.disconnect()\r\n",
    "#amdc.connect()"
   ],
   "outputs": [],
   "metadata": {}
  },
  {
   "cell_type": "markdown",
   "source": [
    "## Logging\n"
   ],
   "metadata": {
    "pycharm": {
     "name": "#%% md\n"
    }
   }
  },
  {
   "cell_type": "code",
   "execution_count": null,
   "source": [
    "import glob, os\r\n",
    "from pandas import *\r\n",
    "import matplotlib.pyplot as plt\r\n",
    "import numpy as np\r\n",
    "import time\r\n",
    "import pathlib as pl\r\n",
    "import sys\r\n",
    "repo_dir = '..'                                      # CHANGE THIS TO YOUR REPO DIRECTORY\r\n",
    "repo_dir = pl.Path(repo_dir)\r\n"
   ],
   "outputs": [],
   "metadata": {}
  },
  {
   "cell_type": "code",
   "execution_count": null,
   "source": [
    "for file in glob.glob(\"*.csv\"):\r\n",
    "    print(file)\r\n"
   ],
   "outputs": [],
   "metadata": {}
  },
  {
   "cell_type": "code",
   "execution_count": null,
   "source": [
    "list_of_files = glob.glob('*.csv')\r\n",
    "file_name = max(list_of_files, key=os.path.getctime)\r\n",
    "print(file_name)\r\n",
    "\r\n",
    "data = read_csv(file_name)\r\n",
    "\r\n",
    "delta_x = data['delta_x'].tolist()\r\n",
    "delta_y = data['delta_y'].tolist()\r\n",
    "\r\n",
    "plt.plot(delta_x, delta_y)\r\n",
    "\r\n",
    "plt.show"
   ],
   "outputs": [],
   "metadata": {}
  },
  {
   "cell_type": "code",
   "execution_count": null,
   "source": [
    "\r\n",
    "from AMDC_Logger import AMDC_Logger, find_mapfile\r\n",
    "mapfile_path = find_mapfile(repo_dir)\r\n",
    "logger = AMDC_Logger(AMDC = amdc, mapfile = mapfile_path)\r\n",
    "logger.sync()\r\n",
    "\r\n",
    "# View which variables are logged\r\n",
    "logger.info()\r\n",
    "#amdc.connect()\r\n",
    "cmd.twin_enable_log()"
   ],
   "outputs": [],
   "metadata": {}
  },
  {
   "cell_type": "code",
   "execution_count": null,
   "source": [
    "logger.unregister_all()\r\n",
    "#logger.register('Ia1_a Ia1_b Ia1_c Ib1_a Ib1_b Ib1_c Ia2_a Ia2_b Ia2_c Ib2_a Ib2_b Ib2_c', samples_per_sec = 1000, var_type = 'double')\r\n",
    "#logger.register('theta_rm wrm wsl theta_e we Itq_d_ref Itq_q_ref Itq_d Itq_q Te', samples_per_sec = 1000, var_type = 'double')\r\n",
    "logger.register('theta_rm theta_e wrm', samples_per_sec = 1000, var_type = 'double')\r\n",
    "\r\n",
    "\r\n",
    "\r\n",
    "# View which variables are logged\r\n",
    "logger.info()\r\n",
    "\r\n",
    "###################   COLLECT DATA   ####################\r\n",
    "# Clear the logger, then record data\r\n",
    "logger.clear_all()\r\n",
    "logger.start()\r\n"
   ],
   "outputs": [],
   "metadata": {
    "pycharm": {
     "name": "#%%\n"
    }
   }
  },
  {
   "cell_type": "code",
   "execution_count": null,
   "source": [
    "\r\n",
    "#DATA IS BEING RECORDED\r\n",
    "time.sleep(1)\r\n",
    "\r\n",
    "logger.stop()\r\n"
   ],
   "outputs": [],
   "metadata": {}
  },
  {
   "cell_type": "code",
   "execution_count": null,
   "source": [
    "####################   DUMP DATA AND PLOT   ####################\r\n",
    "data = logger.dump(file = 'BIM_data_pos.csv')\r\n"
   ],
   "outputs": [],
   "metadata": {}
  },
  {
   "cell_type": "code",
   "execution_count": null,
   "source": [
    "data.filter(regex=\"^wrm$\").plot()\r\n",
    "#data.filter(regex=\"^we$\").plot()\r\n",
    "#data.filter(regex=\"^wsl$\").plot()\r\n",
    "data.filter(regex=\"^theta_e|theta_rm$\").plot()\r\n",
    "#data.filter(regex=\"^theta_rm$\").plot()\r\n",
    "#data.filter(regex=\"^Itq_d_ref|Itq_d$\").plot()\r\n",
    "#data.filter(regex=\"^Itq_q_ref|Itq_q$\").plot()\r\n",
    "#data.filter(regex=\"^Te$\").plot()\r\n"
   ],
   "outputs": [],
   "metadata": {}
  },
  {
   "cell_type": "code",
   "execution_count": null,
   "source": [
    "\r\n",
    "####################   DUMP DATA AND PLOT   ####################\r\n",
    "data = logger.dump(file = 'BIM_data_pos.csv')\r\n",
    "#data\r\n"
   ],
   "outputs": [],
   "metadata": {}
  },
  {
   "cell_type": "code",
   "execution_count": null,
   "source": [
    "data.filter(regex=\"^wrm$\").plot()\r\n",
    "#data.filter(regex=\"^we$\").plot()\r\n",
    "data.filter(regex=\"^wsl$\").plot()\r\n",
    "data.filter(regex=\"^theta_e|theta_rm$\").plot()\r\n",
    "#data.filter(regex=\"^theta_rm$\").plot()\r\n",
    "data.filter(regex=\"^Itq_d_ref|Itq_d$\").plot()\r\n",
    "data.filter(regex=\"^Itq_q_ref|Itq_q$\").plot()\r\n",
    "data.filter(regex=\"^Te$\").plot()\r\n"
   ],
   "outputs": [],
   "metadata": {}
  },
  {
   "cell_type": "code",
   "execution_count": null,
   "source": [
    "logger.unregister_all()\r\n",
    "logger.register('Iabc1_a Iabc1_b Iabc1_c', samples_per_sec = 1000, var_type = 'double')\r\n",
    "\r\n",
    "# View which variables are logged\r\n",
    "logger.info()\r\n",
    "\r\n",
    "logger.clear_all()\r\n",
    "logger.start()\r\n",
    "\r\n",
    "# DATA IS BEING RECORDED\r\n",
    "#time.sleep(1)\r\n",
    "\r\n",
    "logger.stop()\r\n",
    "\r\n",
    "data = logger.dump(file = 'test_data_Iabc.csv')\r\n",
    "#data\r\n",
    "\r\n",
    "data.filter(regex=\"^Iabc1_a|Iabc1_b|Iabc1_c$\").plot()"
   ],
   "outputs": [],
   "metadata": {}
  },
  {
   "cell_type": "code",
   "execution_count": null,
   "source": [
    "logger.unregister_all()\r\n",
    "#logger.register('Itq_d_ref Itq_q_ref Itq_d Itq_q Is1_d_ref Is1_q_ref Is1_d Is1_q Is2_d_ref Is2_q_ref Is2_d Is2_q', samples_per_sec = 1000, var_type = 'double')\r\n",
    "logger.register('va_ref vb_ref vc_ref', samples_per_sec = 1000, var_type = 'double')\r\n",
    "# View which variables are logged\r\n",
    "logger.info()\r\n",
    "\r\n",
    "logger.clear_all()\r\n",
    "logger.start()\r\n",
    "time.sleep(0.5)\r\n",
    "logger.stop()\r\n",
    "\r\n",
    "data = logger.dump(file = 'BIM_data_Idq.csv')\r\n",
    "#data\r\n",
    "\r\n",
    "data.filter(regex=\"^va_ref|vb_ref|vc_ref$\").plot()\r\n",
    "#data.filter(regex=\"^Itq_q_ref|Itq_q$\").plot()\r\n",
    "#data.filter(regex=\"^Te_ref$\").plot()"
   ],
   "outputs": [],
   "metadata": {}
  },
  {
   "cell_type": "code",
   "execution_count": null,
   "source": [
    "data.filter(regex=\"^Ib1_a|Ib1_b|Ib1_c$\").plot()"
   ],
   "outputs": [],
   "metadata": {}
  },
  {
   "cell_type": "code",
   "execution_count": null,
   "source": [
    "data.filter(regex=\"^Iabc2_a|Iabc2_b|Iabc2_c$\").plot()"
   ],
   "outputs": [],
   "metadata": {}
  },
  {
   "cell_type": "code",
   "execution_count": null,
   "source": [
    "data.filter(regex=\"^Iabc3_a|Iabc3_b|Iabc3_c$\").plot()"
   ],
   "outputs": [],
   "metadata": {
    "scrolled": true
   }
  },
  {
   "cell_type": "code",
   "execution_count": null,
   "source": [
    "logger.unregister_all()\r\n",
    "logger.register('vabc1_a vabc1_b vabc1_c', samples_per_sec = 1000, var_type = 'double')\r\n",
    "\r\n",
    "# View which variables are logged\r\n",
    "logger.info()\r\n",
    "\r\n",
    "logger.clear_all()\r\n",
    "logger.start()\r\n",
    "\r\n",
    "# DATA IS BEING RECORDED\r\n",
    "time.sleep(1)\r\n",
    "\r\n",
    "logger.stop()\r\n",
    "\r\n",
    "data = logger.dump(file = 'test_data.csv')\r\n",
    "data\r\n",
    "\r\n",
    "data.filter(regex=\"^vabc1_a|vabc1_b|vabc1_c$\").plot()"
   ],
   "outputs": [],
   "metadata": {}
  },
  {
   "cell_type": "code",
   "execution_count": null,
   "source": [
    "\r\n",
    "data = logger.dump(file = 'BIM_data.csv')\r\n",
    "data\r\n"
   ],
   "outputs": [],
   "metadata": {}
  },
  {
   "cell_type": "code",
   "execution_count": null,
   "source": [
    "data.filter(regex=\"^Itq_d_ref|Itq_q_ref|Itq_d$|Itq_q\").plot()\r\n",
    "#data.filter(regex=\"^Is1_d_ref|Is1_q_ref|Is1_d|Is1_q$\").plot()\r\n",
    "#data.filter(regex=\"^Is2_d_ref|Is2_q_ref|Is2_d|Is2_q$\").plot()"
   ],
   "outputs": [],
   "metadata": {}
  },
  {
   "cell_type": "code",
   "execution_count": null,
   "source": [
    "logger.unregister_all()\r\n",
    "logger.register('Is1_d_ref Is1_q_ref Is1_d Is1_q', samples_per_sec = 1000, var_type = 'double')\r\n",
    "\r\n",
    "# View which variables are logged\r\n",
    "logger.info()\r\n",
    "\r\n",
    "logger.clear_all()\r\n",
    "logger.start()\r\n",
    "\r\n",
    "# DATA IS BEING RECORDED\r\n",
    "time.sleep(1)\r\n",
    "\r\n",
    "logger.stop()\r\n"
   ],
   "outputs": [],
   "metadata": {}
  },
  {
   "cell_type": "code",
   "execution_count": null,
   "source": [
    "#data = logger.dump(file = 'test_data.csv')\r\n",
    "#data\r\n",
    "data.filter(regex=\"^Is1_d_ref|Is1_q_ref|Is1_d|Is1_q$\").plot()"
   ],
   "outputs": [],
   "metadata": {}
  },
  {
   "cell_type": "code",
   "execution_count": null,
   "source": [
    "logger.unregister_all()\r\n",
    "logger.register('Is2_d_ref Is2_q_ref Is2_d Is2_q', samples_per_sec = 1000, var_type = 'double')\r\n",
    "\r\n",
    "# View which variables are logged\r\n",
    "logger.info()\r\n",
    "\r\n",
    "logger.clear_all()\r\n",
    "logger.start()\r\n",
    "\r\n",
    "# DATA IS BEING RECORDED\r\n",
    "time.sleep(1)\r\n",
    "\r\n",
    "logger.stop()\r\n",
    "\r\n",
    "data = logger.dump(file = 'test_data.csv')\r\n",
    "data\r\n",
    "\r\n",
    "data.filter(regex=\"^Is2_d_ref|Is2_q_ref|Is2_d|Is2_q$\").plot()"
   ],
   "outputs": [],
   "metadata": {}
  },
  {
   "cell_type": "code",
   "execution_count": null,
   "source": [
    "\r\n",
    "logger.unregister_all()\r\n",
    "logger.register('v_tq_d v_tq_q', samples_per_sec = 1000, var_type = 'double')\r\n",
    "\r\n",
    "# View which variables are logged\r\n",
    "logger.info()\r\n",
    "\r\n",
    "logger.clear_all()\r\n",
    "logger.start()\r\n",
    "\r\n",
    "# DATA IS BEING RECORDED\r\n",
    "time.sleep(1)\r\n",
    "\r\n",
    "logger.stop()\r\n",
    "\r\n",
    "data = logger.dump(file = 'test_data.csv')\r\n",
    "data\r\n",
    "\r\n",
    "data.filter(regex=\"^v_tq_d|v_tq_q$\").plot()"
   ],
   "outputs": [],
   "metadata": {}
  },
  {
   "cell_type": "code",
   "execution_count": null,
   "source": [
    "logger.unregister_all()\r\n",
    "logger.register('we_tq', samples_per_sec = 1000, var_type = 'double')\r\n",
    "\r\n",
    "# View which variables are logged\r\n",
    "logger.info()\r\n",
    "\r\n",
    "logger.clear_all()\r\n",
    "logger.start()\r\n",
    "\r\n",
    "# DATA IS BEING RECORDED\r\n",
    "time.sleep(1)\r\n",
    "\r\n",
    "logger.stop()\r\n",
    "\r\n",
    "data = logger.dump(file = 'test_data.csv')\r\n",
    "data\r\n",
    "\r\n",
    "data.filter(regex=\"^we_tq$\").plot()"
   ],
   "outputs": [],
   "metadata": {}
  }
 ],
 "metadata": {
  "interpreter": {
   "hash": "b3ba2566441a7c06988d0923437866b63cedc61552a5af99d1f4fb67d367b25f"
  },
  "kernelspec": {
   "name": "python3",
   "display_name": "Python 3.7.3 64-bit ('base': conda)"
  },
  "language_info": {
   "codemirror_mode": {
    "name": "ipython",
    "version": 3
   },
   "file_extension": ".py",
   "mimetype": "text/x-python",
   "name": "python",
   "nbconvert_exporter": "python",
   "pygments_lexer": "ipython3",
   "version": "3.7.3"
  }
 },
 "nbformat": 4,
 "nbformat_minor": 2
}