{
 "cells": [
  {
   "cell_type": "markdown",
   "metadata": {},
   "source": [
    "# Cabinet Start-Up Procedure"
   ]
  },
  {
   "cell_type": "markdown",
   "metadata": {},
   "source": [
    "1. Turn on cabinet power in back of cabinet\n",
    "2. Turn on sensor power (24 Volts). The sensor power inputs are labeled.\n",
    "3. Compile code to AMDC\n",
    "4. Turn on power to DC bus of cabinet.\n",
    "5. Run Jupyter Notebook. "
   ]
  },
  {
   "cell_type": "markdown",
   "metadata": {},
   "source": [
    "Import neccessary modules"
   ]
  },
  {
   "cell_type": "code",
   "execution_count": 6,
   "metadata": {},
   "outputs": [],
   "source": [
    "amdc.disconnect()"
   ]
  },
  {
   "cell_type": "code",
   "execution_count": 2,
   "metadata": {},
   "outputs": [
    {
     "name": "stdout",
     "output_type": "stream",
     "text": [
      "\t> cabinet setup 40.00000\n",
      "['cabinet setup 40.00000', 'SUCCESS']\n",
      "\t> cabinet init_cb\n",
      "['cabinet init_cbENC:\\tSetting pulses per rev bits = 10...', '', 'SUCCESS']\n"
     ]
    }
   ],
   "source": [
    "from Cabinet_CMD import cmd\n",
    "\n",
    "import sys\n",
    "sys.path.append(r'..\\AMDC-Firmware\\scripts')\n",
    "from AMDC import AMDC\n",
    "amdc = AMDC(port = 'COM13', cmdEcho = True, printOutput=True)\n",
    "Vdc = 40\n",
    "cmd = cmd(Vdc, amdc, debug = False) "
   ]
  },
  {
   "cell_type": "code",
   "execution_count": 5,
   "metadata": {},
   "outputs": [
    {
     "name": "stdout",
     "output_type": "stream",
     "text": [
      "\t> hw pwm off\n",
      "['hw pwm off', 'SUCCESS']\n"
     ]
    }
   ],
   "source": [
    "cmd.disable_pwm()"
   ]
  },
  {
   "cell_type": "code",
   "execution_count": 4,
   "metadata": {},
   "outputs": [
    {
     "name": "stdout",
     "output_type": "stream",
     "text": [
      "\t> bim init\n",
      "['bim initENC:\\tSetting pulses per rev bits = 10...', '', 'SUCCESS']\n",
      "\t> bim set_vdc 40.000000\n",
      "['bim set_vdc 40.000000', 'SUCCESS']\n",
      "\t> bim set_id 10.000000\n",
      "['bim set_id 10.000000', 'SUCCESS']\n",
      "\t> hw pwm on\n",
      "['hw pwm on', 'SUCCESS']\n",
      "\t> bim enable_ctrl\n",
      "['bim enable_ctrl', 'SUCCESS']\n"
     ]
    }
   ],
   "source": [
    "cmd.bim_init()\n",
    "cmd.bim_set_Vdc(40)\n",
    "cmd.bim_set_id(10)\n",
    "cmd.enable_pwm()\n",
    "cmd.bim_enable_ctrl()\n",
    "\n"
   ]
  },
  {
   "cell_type": "code",
   "execution_count": null,
   "metadata": {},
   "outputs": [],
   "source": [
    "PI = 3.1415926\n",
    "#cmd.bim_set_theta_offset(-PI/12)\n",
    "#logger.clear_all()\n",
    "\n",
    "cmd.bim_enable_ob()\n",
    "cmd.bim_enable_vctrl()\n",
    "cmd.bim_set_id(13.5)\n",
    "#logger.start()\n",
    "#cmd.bim_set_Fxy(0,3)\n",
    "cmd.bim_set_deltaxy(0, 0)\n",
    "cmd.bim_enable_levctrl()\n",
    "#time.sleep(6)\n",
    "#logger.stop()\n",
    "#cmd.bim_set_id(10)\n",
    "#data = logger.dump(file = 'bim_data_start.csv')"
   ]
  },
  {
   "cell_type": "code",
   "execution_count": null,
   "metadata": {},
   "outputs": [],
   "source": [
    "#import matplotlib\n",
    "import time\n",
    "\n",
    "import pathlib as pl\n",
    "import sys\n",
    "repo_dir = '..'                                      # CHANGE THIS TO YOUR REPO DIRECTORY\n",
    "repo_dir = pl.Path(repo_dir)\n",
    "\n",
    "from AMDC_Logger import AMDC_Logger, find_mapfile\n",
    "mapfile_path = find_mapfile(repo_dir)\n",
    "logger = AMDC_Logger(AMDC = amdc, mapfile = mapfile_path)\n",
    "logger.sync()\n",
    "\n",
    "# View which variables are logged\n",
    "logger.info()\n",
    "#amdc.connect()\n",
    "cmd.enable_log()"
   ]
  },
  {
   "cell_type": "code",
   "execution_count": null,
   "metadata": {},
   "outputs": [],
   "source": [
    "logger.unregister_all()\n",
    "#logger.register('Ia1_a Ia1_b Ia1_c Ib1_a Ib1_b Ib1_c Ia2_a Ia2_b Ia2_c Ib2_a Ib2_b Ib2_c', samples_per_sec = 1000, var_type = 'double')\n",
    "#logger.register('theta_rm wrm wsl theta_e we Itq_d_ref Itq_q_ref Itq_d Itq_q Te', samples_per_sec = 1000, var_type = 'double')\n",
    "#logger.register('theta_rm theta_e wsl', samples_per_sec = 1000, var_type = 'double')\n",
    "#logger.register('wsl wrm theta_e theta_rm Itq_d_ref Itq_q_ref Itq_d Itq_q va1_ref vb1_ref vc1_ref va2_ref vb2_ref vc2_ref Is1_x Is1_y Is1_x_ref Is1_y_ref delta_x delta_y', samples_per_sec = 1000, var_type = 'double')\n",
    "#logger.register('Is1_x Is1_y Is1_x_ref Is1_y_ref delta_x delta_y', samples_per_sec = 1000, var_type = 'double')\n",
    "#logger.register('delta_x delta_y delta_x_ref delta_y_ref delta_x_ref_lpf delta_y_ref_lpf Is1_x Is1_y Is1_x_ref Is1_y_ref', samples_per_sec = 1000, var_type = 'double')\n",
    "#logger.register('wrm Itq_d_ref Itq_q_ref Itq_d Itq_q Is1_x Is1_y Is1_x_ref Is1_y_ref', samples_per_sec = 1000, var_type = 'double')\n",
    "logger.register('delta_x delta_y F_x F_y Is1_x Is1_y Is1_x_ref Is1_y_ref Itq_d_ref Itq_q_ref Itq_d Itq_q', samples_per_sec = 10000, var_type = 'double')\n",
    "#logger.register('delta_x delta_y', samples_per_sec = 1000, var_type = 'double')\n",
    "\n",
    "# View which variables are logged\n",
    "logger.info()\n"
   ]
  },
  {
   "cell_type": "code",
   "execution_count": null,
   "metadata": {},
   "outputs": [],
   "source": [
    "cmd.bim_set_id(0)\n",
    "cmd.bim_set_ixy(0,0)\n",
    "logger.clear_all()\n",
    "cmd.bim_set_ixy(0,0)\n",
    "###################   COLLECT DATA   ####################\n",
    "# Clear the logger, then record data\n",
    "\n",
    "logger.start()\n",
    "cmd.bim_set_ixy(3,0)\n",
    "#cmd.bim_set_ixy(6, 0)\n",
    "#DATA IS BEING RECORDED\n",
    "time.sleep(0.02)\n",
    "\n",
    "logger.stop()"
   ]
  },
  {
   "cell_type": "code",
   "execution_count": null,
   "metadata": {},
   "outputs": [],
   "source": [
    "cmd.bim_set_w(00*PI/30)\n"
   ]
  },
  {
   "cell_type": "code",
   "execution_count": null,
   "metadata": {},
   "outputs": [],
   "source": [
    "f = 20\n",
    "w = 2*PI*f\n",
    "cmd.bim_set_injection_Fxy(w, 10)\n"
   ]
  },
  {
   "cell_type": "code",
   "execution_count": null,
   "metadata": {},
   "outputs": [],
   "source": [
    "cmd.bim_disable_injection()"
   ]
  },
  {
   "cell_type": "code",
   "execution_count": null,
   "metadata": {},
   "outputs": [],
   "source": [
    "\n",
    "for f in [75, 100, 150, 200, 250, 300, 350, 400, 450, 500, 550, 600, 700, 800, 900]:\n",
    "    logger.stop()\n",
    "    w = 2*PI*f\n",
    "\n",
    "    cmd.bim_set_injection_Fxy(w, 5)\n",
    "    logger.clear_all()\n",
    "    logger.start()\n",
    "#cmd.bim_set_ixy(3,0)\n",
    "#cmd.bim_set_ixy(6, 0)\n",
    "#DATA IS BEING RECORDED\n",
    "    time.sleep(0.05)\n",
    "    logger.stop()\n",
    "    filename = 'bim_data_2000RPM_stiff_f' + str(f)+'.csv'\n",
    "####################   DUMP DATA AND PLOT   ####################\n",
    "    data = logger.dump(file = filename)\n",
    "cmd.bim_disable_injection()\n",
    "cmd.bim_set_w(100*PI/30)"
   ]
  },
  {
   "cell_type": "code",
   "execution_count": null,
   "metadata": {},
   "outputs": [],
   "source": [
    "i = 2\n",
    "vd_ref_chirp_gain     = 5000 * 1e-3; # [m]\n",
    "vd_ref_chirp_freq_min = i; # [Hz]\n",
    "vd_ref_chirp_freq_max = i; # [Hz]\n",
    "vd_ref_chirp_period   = 0.1; # [sec]\n",
    "amdc.cmd(\"inj const vq_ref add 0\")\n",
    "amdc.cmd(\"inj const vx_ref add 0\")\n",
    "amdc.cmd(\"inj const vy_ref add 0\")\n",
    "amdc.cmd(\"inj chirp vd_ref add {:.6f} {:.6f} {:.6f} {:.6f}\".format(vd_ref_chirp_gain, vd_ref_chirp_freq_min, vd_ref_chirp_freq_max, vd_ref_chirp_period))\n"
   ]
  },
  {
   "cell_type": "code",
   "execution_count": null,
   "metadata": {},
   "outputs": [],
   "source": [
    "\n",
    "logger.unregister_all()\n",
    "    #logger.register('Ia1_a Ia1_b Ia1_c Ib1_a Ib1_b Ib1_c Ia2_a Ia2_b Ia2_c Ib2_a Ib2_b Ib2_c', samples_per_sec = 1000, var_type = 'double')\n",
    "logger.register('Itq_d Itq_q vd_ref vq_ref Is1_x Is1_y vx_ref vy_ref', samples_per_sec = 1000, var_type = 'double')\n",
    "#for i in [1, 2, 3, 5, 8, 10, 15, 20, 30, 40, 50, 60, 75, 90, 100]:\n",
    "for i in [1, 2]:\n",
    "   \n",
    "    logger.stop()\n",
    "    logger.unregister_all()\n",
    "    logger.clear_all()\n",
    "    sampling = 1000\n",
    "    period = 1\n",
    "    if i <= 10:\n",
    "        sampling = 1000\n",
    "        period = 1\n",
    "    elif i<= 100:\n",
    "        sampling = 1000\n",
    "        period = 0.2\n",
    "\n",
    "    else:\n",
    "        sampling = 2500\n",
    "        period = 0.1\n",
    "\n",
    "    logger.unregister_all()\n",
    "    #logger.register('Ia1_a Ia1_b Ia1_c Ib1_a Ib1_b Ib1_c Ia2_a Ia2_b Ia2_c Ib2_a Ib2_b Ib2_c', samples_per_sec = 1000, var_type = 'double')\n",
    "    logger.register('Itq_d Itq_q vd_ref vq_ref Is1_x Is1_y vx_ref vy_ref', samples_per_sec = 1000, var_type = 'double')\n",
    "    #logger.register('Itq_d vd_ref', samples_per_sec = sampling, var_type = 'double')\n",
    "    ###################   COLLECT DATA   ####################\n",
    "    # Clear the logger, then record data\n",
    "   \n",
    "    logger.clear_all()\n",
    "    vd_ref_chirp_gain     = 3000 * 1e-3; # [m]\n",
    "    vd_ref_chirp_freq_min = i; # [Hz]\n",
    "    vd_ref_chirp_freq_max = i; # [Hz]\n",
    "    vd_ref_chirp_period   = period; # [sec]\n",
    "    amdc.cmd(\"inj const vq_ref add 0\")\n",
    "    amdc.cmd(\"inj const vx_ref add 0\")\n",
    "    amdc.cmd(\"inj const vy_ref add 0\")\n",
    "    amdc.cmd(\"inj chirp vd_ref add {:.6f} {:.6f} {:.6f} {:.6f}\".format(vd_ref_chirp_gain, vd_ref_chirp_freq_min, vd_ref_chirp_freq_max, vd_ref_chirp_period))\n",
    "\n",
    "    logger.start()\n",
    "    #DATA IS BEING RECORDED\n",
    "    time.sleep(period*1.1)\n",
    "\n",
    "    logger.stop()\n",
    "\n",
    "    ####################   DUMP DATA AND PLOT   ####################\n",
    "    filename = 'bim_data_id_vd'+ str(i)+'.csv'\n",
    "    data = logger.dump(file = filename)\n",
    "\n",
    " \n",
    "\n",
    "    ###################   COLLECT DATA   ####################\n",
    "    # Clear the logger, then record data\n",
    "\n",
    "    logger.clear_all()\n",
    "    amdc.cmd(\"inj const vd_ref add 0\")\n",
    "    amdc.cmd(\"inj const vq_ref add 0\")\n",
    "    amdc.cmd(\"inj const vy_ref add 0\")\n",
    "    amdc.cmd(\"inj chirp vx_ref add {:.6f} {:.6f} {:.6f} {:.6f}\".format(vd_ref_chirp_gain, vd_ref_chirp_freq_min, vd_ref_chirp_freq_max, vd_ref_chirp_period))\n",
    "\n",
    "    logger.start()\n",
    "    #DATA IS BEING RECORDED\n",
    "    time.sleep(period*1.1)\n",
    "\n",
    "    logger.stop()\n",
    "\n",
    "    ####################   DUMP DATA AND PLOT   ####################\n",
    "    filename = 'bim_data_id_vx'+ str(i)+'.csv'\n",
    "    data = logger.dump(file = filename)"
   ]
  },
  {
   "cell_type": "code",
   "execution_count": null,
   "metadata": {},
   "outputs": [],
   "source": [
    "logger.clear_all()\n",
    "logger.start()\n",
    "#cmd.bim_set_ixy(3,0)\n",
    "#cmd.bim_set_ixy(6, 0)\n",
    "#DATA IS BEING RECORDED\n",
    "time.sleep(0.1)\n",
    "logger.stop()\n",
    "####################   DUMP DATA AND PLOT   ####################\n",
    "data = logger.dump(file = 'bim_data_3100RPM.csv')"
   ]
  },
  {
   "cell_type": "code",
   "execution_count": null,
   "metadata": {},
   "outputs": [],
   "source": [
    "time.sleep(0.1)\n",
    "logger.stop()"
   ]
  },
  {
   "cell_type": "code",
   "execution_count": null,
   "metadata": {},
   "outputs": [],
   "source": [
    "\n",
    "####################   DUMP DATA AND PLOT   ####################\n",
    "data = logger.dump(file = 'bim_data_Dis.csv')"
   ]
  },
  {
   "cell_type": "code",
   "execution_count": null,
   "metadata": {},
   "outputs": [],
   "source": [
    "\n",
    "#data.filter(regex=\"^wrm$\").plot()\n",
    "#data.filter(regex=\"^we$\").plot()\n",
    "#data.filter(regex=\"^wsl$\").plot()\n",
    "#data.filter(regex=\"^theta_e|theta_rm$\").plot()\n",
    "#data.filter(regex=\"^theta_rm$\").plot()\n",
    "#data.filter(regex=\"^Itq_d_ref|Itq_d$\").plot()\n",
    "#data.filter(regex=\"^Itq_q_ref|Itq_q$\").plot()\n",
    "data.filter(regex=\"^Is1_x_ref|Is1_x$\").plot()\n",
    "data.filter(regex=\"^Is1_y_ref|Is1_y$\").plot()\n",
    "\n",
    "#data.filter(regex=\"^va1_ref|vb1_ref|vc1_ref$\").plot()\n",
    "#data.filter(regex=\"^va2_ref|vb2_ref|vc2_ref$\").plot()\n",
    "#data.filter(regex=\"^Te$\").plot()\n",
    "data.filter(regex=\"^F_x|F_y$\").plot()\n",
    "data.filter(regex=\"^delta_x|delta_y$\").plot()\n",
    "#data.filter(regex=\"^error_x|error_y$\").plot()\n",
    "#data.filter(regex=\"^delta_x|delta_y|delta_x_ref|delta_y_ref|delta_x_ref_lpf|delta_y_ref_lpf$\").plot()"
   ]
  },
  {
   "cell_type": "code",
   "execution_count": null,
   "metadata": {},
   "outputs": [],
   "source": [
    "#cmd.bim_enable_vctrl()\n",
    "\n",
    "cmd.bim_set_w(1000*PI/30)\n",
    "#cmd.bim_set_id(10)"
   ]
  },
  {
   "cell_type": "code",
   "execution_count": null,
   "metadata": {},
   "outputs": [],
   "source": [
    "cmd.bim_set_ixy(0, 3)\n"
   ]
  },
  {
   "cell_type": "code",
   "execution_count": null,
   "metadata": {},
   "outputs": [],
   "source": [
    "cmd.bim_enable_vctrl()\n",
    "cmd.bim_set_id(6)\n"
   ]
  },
  {
   "cell_type": "code",
   "execution_count": null,
   "metadata": {},
   "outputs": [],
   "source": [
    "cmd.bim_disable_levctrl()\n",
    "cmd.bim_disable_vctrl()"
   ]
  },
  {
   "cell_type": "code",
   "execution_count": null,
   "metadata": {},
   "outputs": [],
   "source": [
    "cmd.disable_pwm()\n"
   ]
  },
  {
   "cell_type": "code",
   "execution_count": null,
   "metadata": {},
   "outputs": [],
   "source": [
    "amdc.disconnect()\n",
    "#amdc.connect()"
   ]
  },
  {
   "cell_type": "markdown",
   "metadata": {
    "pycharm": {
     "name": "#%% md\n"
    }
   },
   "source": [
    "## Logging\n"
   ]
  },
  {
   "cell_type": "code",
   "execution_count": null,
   "metadata": {},
   "outputs": [],
   "source": [
    "import glob, os\n",
    "from pandas import *\n",
    "import matplotlib.pyplot as plt\n",
    "import numpy as np\n",
    "import time\n",
    "import pathlib as pl\n",
    "import sys\n",
    "repo_dir = '..'                                      # CHANGE THIS TO YOUR REPO DIRECTORY\n",
    "repo_dir = pl.Path(repo_dir)\n"
   ]
  },
  {
   "cell_type": "code",
   "execution_count": null,
   "metadata": {},
   "outputs": [],
   "source": [
    "for file in glob.glob(\"*.csv\"):\n",
    "    print(file)\n"
   ]
  },
  {
   "cell_type": "code",
   "execution_count": null,
   "metadata": {},
   "outputs": [],
   "source": [
    "list_of_files = glob.glob('*.csv')\n",
    "file_name = max(list_of_files, key=os.path.getctime)\n",
    "print(file_name)\n",
    "\n",
    "data = read_csv('bim_data_3000RPM_2021-10-05_H13-M42-S47.csv')\n",
    "\n",
    "delta_x = data['delta_x'].tolist()\n",
    "delta_y = data['delta_y'].tolist()\n",
    "\n",
    "plt.plot(delta_x, delta_y)\n",
    "\n",
    "plt.show"
   ]
  },
  {
   "cell_type": "code",
   "execution_count": null,
   "metadata": {},
   "outputs": [],
   "source": [
    "\n",
    "from AMDC_Logger import AMDC_Logger, find_mapfile\n",
    "mapfile_path = find_mapfile(repo_dir)\n",
    "logger = AMDC_Logger(AMDC = amdc, mapfile = mapfile_path)\n",
    "logger.sync()\n",
    "\n",
    "# View which variables are logged\n",
    "logger.info()\n",
    "#amdc.connect()\n",
    "cmd.c_loop_enable_log()"
   ]
  },
  {
   "cell_type": "code",
   "execution_count": null,
   "metadata": {
    "pycharm": {
     "name": "#%%\n"
    }
   },
   "outputs": [],
   "source": [
    "logger.unregister_all()\n",
    "#logger.register('Ia1_a Ia1_b Ia1_c Ib1_a Ib1_b Ib1_c Ia2_a Ia2_b Ia2_c Ib2_a Ib2_b Ib2_c', samples_per_sec = 1000, var_type = 'double')\n",
    "#logger.register('theta_rm wrm wsl theta_e we Itq_d_ref Itq_q_ref Itq_d Itq_q Te', samples_per_sec = 1000, var_type = 'double')\n",
    "logger.register('theta_rm theta_e wrm', samples_per_sec = 1000, var_type = 'double')\n",
    "\n",
    "\n",
    "\n",
    "# View which variables are logged\n",
    "logger.info()\n",
    "\n",
    "###################   COLLECT DATA   ####################\n",
    "# Clear the logger, then record data\n",
    "logger.clear_all()\n",
    "logger.start()\n"
   ]
  },
  {
   "cell_type": "code",
   "execution_count": null,
   "metadata": {},
   "outputs": [],
   "source": [
    "\n",
    "#DATA IS BEING RECORDED\n",
    "time.sleep(1)\n",
    "\n",
    "logger.stop()\n"
   ]
  },
  {
   "cell_type": "code",
   "execution_count": null,
   "metadata": {},
   "outputs": [],
   "source": [
    "####################   DUMP DATA AND PLOT   ####################\n",
    "data = logger.dump(file = 'bim_data_pos.csv')\n"
   ]
  },
  {
   "cell_type": "code",
   "execution_count": null,
   "metadata": {},
   "outputs": [],
   "source": [
    "data.filter(regex=\"^wrm$\").plot()\n",
    "#data.filter(regex=\"^we$\").plot()\n",
    "#data.filter(regex=\"^wsl$\").plot()\n",
    "data.filter(regex=\"^theta_e|theta_rm$\").plot()\n",
    "#data.filter(regex=\"^theta_rm$\").plot()\n",
    "#data.filter(regex=\"^Itq_d_ref|Itq_d$\").plot()\n",
    "#data.filter(regex=\"^Itq_q_ref|Itq_q$\").plot()\n",
    "#data.filter(regex=\"^Te$\").plot()\n"
   ]
  },
  {
   "cell_type": "code",
   "execution_count": null,
   "metadata": {},
   "outputs": [],
   "source": [
    "\n",
    "####################   DUMP DATA AND PLOT   ####################\n",
    "data = logger.dump(file = 'bim_data_pos.csv')\n",
    "#data\n"
   ]
  },
  {
   "cell_type": "code",
   "execution_count": null,
   "metadata": {},
   "outputs": [],
   "source": [
    "data.filter(regex=\"^wrm$\").plot()\n",
    "#data.filter(regex=\"^we$\").plot()\n",
    "data.filter(regex=\"^wsl$\").plot()\n",
    "data.filter(regex=\"^theta_e|theta_rm$\").plot()\n",
    "#data.filter(regex=\"^theta_rm$\").plot()\n",
    "data.filter(regex=\"^Itq_d_ref|Itq_d$\").plot()\n",
    "data.filter(regex=\"^Itq_q_ref|Itq_q$\").plot()\n",
    "data.filter(regex=\"^Te$\").plot()\n"
   ]
  },
  {
   "cell_type": "code",
   "execution_count": null,
   "metadata": {},
   "outputs": [],
   "source": [
    "logger.unregister_all()\n",
    "logger.register('Iabc1_a Iabc1_b Iabc1_c', samples_per_sec = 1000, var_type = 'double')\n",
    "\n",
    "# View which variables are logged\n",
    "logger.info()\n",
    "\n",
    "logger.clear_all()\n",
    "logger.start()\n",
    "\n",
    "# DATA IS BEING RECORDED\n",
    "#time.sleep(1)\n",
    "\n",
    "logger.stop()\n",
    "\n",
    "data = logger.dump(file = 'test_data_Iabc.csv')\n",
    "#data\n",
    "\n",
    "data.filter(regex=\"^Iabc1_a|Iabc1_b|Iabc1_c$\").plot()"
   ]
  },
  {
   "cell_type": "code",
   "execution_count": null,
   "metadata": {},
   "outputs": [],
   "source": [
    "logger.unregister_all()\n",
    "#logger.register('Itq_d_ref Itq_q_ref Itq_d Itq_q Is1_d_ref Is1_q_ref Is1_d Is1_q Is2_d_ref Is2_q_ref Is2_d Is2_q', samples_per_sec = 1000, var_type = 'double')\n",
    "logger.register('va_ref vb_ref vc_ref', samples_per_sec = 1000, var_type = 'double')\n",
    "# View which variables are logged\n",
    "logger.info()\n",
    "\n",
    "logger.clear_all()\n",
    "logger.start()\n",
    "time.sleep(0.5)\n",
    "logger.stop()\n",
    "\n",
    "data = logger.dump(file = 'bim_data_Idq.csv')\n",
    "#data\n",
    "\n",
    "data.filter(regex=\"^va_ref|vb_ref|vc_ref$\").plot()\n",
    "#data.filter(regex=\"^Itq_q_ref|Itq_q$\").plot()\n",
    "#data.filter(regex=\"^Te_ref$\").plot()"
   ]
  },
  {
   "cell_type": "code",
   "execution_count": null,
   "metadata": {},
   "outputs": [],
   "source": [
    "data.filter(regex=\"^Ib1_a|Ib1_b|Ib1_c$\").plot()"
   ]
  },
  {
   "cell_type": "code",
   "execution_count": null,
   "metadata": {},
   "outputs": [],
   "source": [
    "data.filter(regex=\"^Iabc2_a|Iabc2_b|Iabc2_c$\").plot()"
   ]
  },
  {
   "cell_type": "code",
   "execution_count": null,
   "metadata": {
    "scrolled": true
   },
   "outputs": [],
   "source": [
    "data.filter(regex=\"^Iabc3_a|Iabc3_b|Iabc3_c$\").plot()"
   ]
  },
  {
   "cell_type": "code",
   "execution_count": null,
   "metadata": {},
   "outputs": [],
   "source": [
    "logger.unregister_all()\n",
    "logger.register('vabc1_a vabc1_b vabc1_c', samples_per_sec = 1000, var_type = 'double')\n",
    "\n",
    "# View which variables are logged\n",
    "logger.info()\n",
    "\n",
    "logger.clear_all()\n",
    "logger.start()\n",
    "\n",
    "# DATA IS BEING RECORDED\n",
    "time.sleep(1)\n",
    "\n",
    "logger.stop()\n",
    "\n",
    "data = logger.dump(file = 'test_data.csv')\n",
    "data\n",
    "\n",
    "data.filter(regex=\"^vabc1_a|vabc1_b|vabc1_c$\").plot()"
   ]
  },
  {
   "cell_type": "code",
   "execution_count": null,
   "metadata": {},
   "outputs": [],
   "source": [
    "\n",
    "data = logger.dump(file = 'bim_data.csv')\n",
    "data\n"
   ]
  },
  {
   "cell_type": "code",
   "execution_count": null,
   "metadata": {},
   "outputs": [],
   "source": [
    "data.filter(regex=\"^Itq_d_ref|Itq_q_ref|Itq_d$|Itq_q\").plot()\n",
    "#data.filter(regex=\"^Is1_d_ref|Is1_q_ref|Is1_d|Is1_q$\").plot()\n",
    "#data.filter(regex=\"^Is2_d_ref|Is2_q_ref|Is2_d|Is2_q$\").plot()"
   ]
  },
  {
   "cell_type": "code",
   "execution_count": null,
   "metadata": {},
   "outputs": [],
   "source": [
    "logger.unregister_all()\n",
    "logger.register('Is1_d_ref Is1_q_ref Is1_d Is1_q', samples_per_sec = 1000, var_type = 'double')\n",
    "\n",
    "# View which variables are logged\n",
    "logger.info()\n",
    "\n",
    "logger.clear_all()\n",
    "logger.start()\n",
    "\n",
    "# DATA IS BEING RECORDED\n",
    "time.sleep(1)\n",
    "\n",
    "logger.stop()\n"
   ]
  },
  {
   "cell_type": "code",
   "execution_count": null,
   "metadata": {},
   "outputs": [],
   "source": [
    "#data = logger.dump(file = 'test_data.csv')\n",
    "#data\n",
    "data.filter(regex=\"^Is1_d_ref|Is1_q_ref|Is1_d|Is1_q$\").plot()"
   ]
  },
  {
   "cell_type": "code",
   "execution_count": null,
   "metadata": {},
   "outputs": [],
   "source": [
    "logger.unregister_all()\n",
    "logger.register('Is2_d_ref Is2_q_ref Is2_d Is2_q', samples_per_sec = 1000, var_type = 'double')\n",
    "\n",
    "# View which variables are logged\n",
    "logger.info()\n",
    "\n",
    "logger.clear_all()\n",
    "logger.start()\n",
    "\n",
    "# DATA IS BEING RECORDED\n",
    "time.sleep(1)\n",
    "\n",
    "logger.stop()\n",
    "\n",
    "data = logger.dump(file = 'test_data.csv')\n",
    "data\n",
    "\n",
    "data.filter(regex=\"^Is2_d_ref|Is2_q_ref|Is2_d|Is2_q$\").plot()"
   ]
  },
  {
   "cell_type": "code",
   "execution_count": null,
   "metadata": {},
   "outputs": [],
   "source": [
    "\n",
    "logger.unregister_all()\n",
    "logger.register('v_tq_d v_tq_q', samples_per_sec = 1000, var_type = 'double')\n",
    "\n",
    "# View which variables are logged\n",
    "logger.info()\n",
    "\n",
    "logger.clear_all()\n",
    "logger.start()\n",
    "\n",
    "# DATA IS BEING RECORDED\n",
    "time.sleep(1)\n",
    "\n",
    "logger.stop()\n",
    "\n",
    "data = logger.dump(file = 'test_data.csv')\n",
    "data\n",
    "\n",
    "data.filter(regex=\"^v_tq_d|v_tq_q$\").plot()"
   ]
  },
  {
   "cell_type": "code",
   "execution_count": null,
   "metadata": {},
   "outputs": [],
   "source": [
    "logger.unregister_all()\n",
    "logger.register('we_tq', samples_per_sec = 1000, var_type = 'double')\n",
    "\n",
    "# View which variables are logged\n",
    "logger.info()\n",
    "\n",
    "logger.clear_all()\n",
    "logger.start()\n",
    "\n",
    "# DATA IS BEING RECORDED\n",
    "time.sleep(1)\n",
    "\n",
    "logger.stop()\n",
    "\n",
    "data = logger.dump(file = 'test_data.csv')\n",
    "data\n",
    "\n",
    "data.filter(regex=\"^we_tq$\").plot()"
   ]
  }
 ],
 "metadata": {
  "interpreter": {
   "hash": "b3ba2566441a7c06988d0923437866b63cedc61552a5af99d1f4fb67d367b25f"
  },
  "kernelspec": {
   "display_name": "Python 3.7.3 64-bit ('base': conda)",
   "name": "python3"
  },
  "language_info": {
   "codemirror_mode": {
    "name": "ipython",
    "version": 3
   },
   "file_extension": ".py",
   "mimetype": "text/x-python",
   "name": "python",
   "nbconvert_exporter": "python",
   "pygments_lexer": "ipython3",
   "version": "3.7.3"
  }
 },
 "nbformat": 4,
 "nbformat_minor": 2
}
