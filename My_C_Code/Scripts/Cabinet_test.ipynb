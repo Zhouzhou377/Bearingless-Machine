{
 "cells": [
  {
   "cell_type": "markdown",
   "source": [
    "# Cabinet Start-Up Procedure"
   ],
   "metadata": {}
  },
  {
   "cell_type": "markdown",
   "source": [
    "1. Turn on cabinet power in back of cabinet\n",
    "2. Turn on sensor power (24 Volts). The sensor power inputs are labeled.\n",
    "3. Compile code to AMDC\n",
    "4. Turn on power to DC bus of cabinet.\n",
    "5. Run Jupyter Notebook. "
   ],
   "metadata": {}
  },
  {
   "cell_type": "markdown",
   "source": [
    "Import neccessary modules"
   ],
   "metadata": {}
  },
  {
   "cell_type": "code",
   "execution_count": 1,
   "source": [
    "from Cabinet_Test import Cabinet\r\n",
    "import sys\r\n",
    "\r\n",
    "\r\n",
    "sys.path.append(r'..\\AMDC-Firmware\\scripts')"
   ],
   "outputs": [],
   "metadata": {}
  },
  {
   "cell_type": "code",
   "execution_count": 2,
   "source": [
    "from AMDC import AMDC"
   ],
   "outputs": [],
   "metadata": {}
  },
  {
   "cell_type": "code",
   "execution_count": null,
   "source": [],
   "outputs": [],
   "metadata": {}
  },
  {
   "cell_type": "markdown",
   "source": [
    "Set up CRAMB and AMDC"
   ],
   "metadata": {}
  },
  {
   "cell_type": "code",
   "execution_count": 3,
   "source": [
    "Vdc = 10\r\n",
    "amdc = AMDC(port = 'COM13', cmdEcho = True, printOutput=True)\r\n",
    "cabinet = Cabinet(Vdc, amdc, debug = False)   "
   ],
   "outputs": [
    {
     "output_type": "stream",
     "name": "stdout",
     "text": [
      "\t> cabinet setup 10.00000\n",
      "['cabinet setup 10.00000', 'SUCCESS']\n",
      "\t> cabinet init_cb\n",
      "['cabinet init_cb', 'FAILURE']\n"
     ]
    }
   ],
   "metadata": {}
  },
  {
   "cell_type": "code",
   "execution_count": 4,
   "source": [
    "cabinet.enable_pwm()\r\n",
    "cabinet.openloop_vsi_3(5, 50, 5)\r\n",
    "cabinet.openloop_vsi_3_disable(5)"
   ],
   "outputs": [
    {
     "output_type": "stream",
     "name": "stdout",
     "text": [
      "\t> hw pwm on\n",
      "['hw pwm on', 'FAILURE']\n",
      "\t> cabinet openloop_vsi_3 5 50.000000 5.000000\n",
      "['cabinet openloop_vsi_3 5 50.000000 5.000000', 'SUCCESS']\n"
     ]
    },
    {
     "output_type": "error",
     "ename": "TypeError",
     "evalue": "openloop_vsi_3_disable() missing 1 required positional argument: 'inverter'",
     "traceback": [
      "\u001b[1;31m---------------------------------------------------------------------------\u001b[0m",
      "\u001b[1;31mTypeError\u001b[0m                                 Traceback (most recent call last)",
      "\u001b[1;32m<ipython-input-4-92e694a72639>\u001b[0m in \u001b[0;36m<module>\u001b[1;34m\u001b[0m\n\u001b[0;32m      1\u001b[0m \u001b[0mcabinet\u001b[0m\u001b[1;33m.\u001b[0m\u001b[0menable_pwm\u001b[0m\u001b[1;33m(\u001b[0m\u001b[1;33m)\u001b[0m\u001b[1;33m\u001b[0m\u001b[1;33m\u001b[0m\u001b[0m\n\u001b[0;32m      2\u001b[0m \u001b[0mcabinet\u001b[0m\u001b[1;33m.\u001b[0m\u001b[0mopenloop_vsi_3\u001b[0m\u001b[1;33m(\u001b[0m\u001b[1;36m5\u001b[0m\u001b[1;33m,\u001b[0m \u001b[1;36m50\u001b[0m\u001b[1;33m,\u001b[0m \u001b[1;36m5\u001b[0m\u001b[1;33m)\u001b[0m\u001b[1;33m\u001b[0m\u001b[1;33m\u001b[0m\u001b[0m\n\u001b[1;32m----> 3\u001b[1;33m \u001b[0mcabinet\u001b[0m\u001b[1;33m.\u001b[0m\u001b[0mopenloop_vsi_3_disable\u001b[0m\u001b[1;33m(\u001b[0m\u001b[1;33m)\u001b[0m\u001b[1;33m\u001b[0m\u001b[1;33m\u001b[0m\u001b[0m\n\u001b[0m",
      "\u001b[1;31mTypeError\u001b[0m: openloop_vsi_3_disable() missing 1 required positional argument: 'inverter'"
     ]
    }
   ],
   "metadata": {}
  },
  {
   "cell_type": "code",
   "execution_count": null,
   "source": [
    "cabinet.stop_levitate()\r\n",
    "cabinet.disable_pwm()"
   ],
   "outputs": [],
   "metadata": {}
  },
  {
   "cell_type": "code",
   "execution_count": null,
   "source": [
    "\r\n",
    "cabinet.disconnect()"
   ],
   "outputs": [],
   "metadata": {
    "pycharm": {
     "name": "#%%\n"
    }
   }
  },
  {
   "cell_type": "markdown",
   "source": [
    "## Logging\n"
   ],
   "metadata": {
    "pycharm": {
     "name": "#%% md\n"
    }
   }
  },
  {
   "cell_type": "code",
   "execution_count": null,
   "source": [
    "import matplotlib"
   ],
   "outputs": [],
   "metadata": {}
  },
  {
   "cell_type": "code",
   "execution_count": null,
   "source": [
    "import time\r\n",
    "import pathlib as pl\r\n",
    "import sys\r\n",
    "repo_dir = '..'                                      # CHANGE THIS TO YOUR REPO DIRECTORY\r\n",
    "repo_dir = pl.Path(repo_dir)\r\n",
    "\r\n",
    "from AMDC_Logger import AMDC_Logger, find_mapfile"
   ],
   "outputs": [],
   "metadata": {}
  },
  {
   "cell_type": "code",
   "execution_count": 11,
   "source": [
    "amdc.disconnect()"
   ],
   "outputs": [],
   "metadata": {}
  },
  {
   "cell_type": "code",
   "execution_count": null,
   "source": [
    "mapfile_path = find_mapfile(repo_dir)\r\n",
    "logger = AMDC_Logger(AMDC = amdc, mapfile = mapfile_path)\r\n",
    "logger.sync()\r\n",
    "\r\n",
    "# View which variables are logged\r\n",
    "logger.info()"
   ],
   "outputs": [],
   "metadata": {
    "pycharm": {
     "name": "#%%\n"
    }
   }
  },
  {
   "cell_type": "code",
   "execution_count": null,
   "source": [
    "logger.unregister_all()\r\n",
    "logger.register('x_sens y_sens', samples_per_sec = 1000, var_type = 'double')\r\n",
    "\r\n",
    "# View which variables are logged\r\n",
    "logger.info()"
   ],
   "outputs": [],
   "metadata": {
    "pycharm": {
     "name": "#%%\n"
    }
   }
  },
  {
   "cell_type": "code",
   "execution_count": null,
   "source": [
    "####################   COLLECT DATA   ####################\r\n",
    "# Clear the logger, then record data\r\n",
    "logger.clear_all()\r\n",
    "logger.start()\r\n",
    "\r\n",
    "# DATA IS BEING RECORDED\r\n",
    "time.sleep(5)\r\n",
    "\r\n",
    "logger.stop()"
   ],
   "outputs": [],
   "metadata": {}
  },
  {
   "cell_type": "code",
   "execution_count": null,
   "source": [
    "####################   DUMP DATA AND PLOT   ####################\r\n",
    "data = logger.dump(file = 'test_data.csv')\r\n",
    "data"
   ],
   "outputs": [],
   "metadata": {}
  },
  {
   "cell_type": "code",
   "execution_count": null,
   "source": [
    "data.filter(regex=\"^x_sens|y_sens$\").plot()"
   ],
   "outputs": [],
   "metadata": {}
  },
  {
   "cell_type": "code",
   "execution_count": null,
   "source": [
    "data.filter(regex=\"_star\").plot()"
   ],
   "outputs": [],
   "metadata": {}
  },
  {
   "cell_type": "code",
   "execution_count": null,
   "source": [
    "data.filter(regex=\"Ix_star\").plot()"
   ],
   "outputs": [],
   "metadata": {
    "scrolled": true
   }
  },
  {
   "cell_type": "code",
   "execution_count": null,
   "source": [],
   "outputs": [],
   "metadata": {
    "collapsed": false,
    "pycharm": {
     "name": "#%%\n"
    }
   }
  },
  {
   "cell_type": "code",
   "execution_count": null,
   "source": [],
   "outputs": [],
   "metadata": {
    "pycharm": {
     "name": "#%%\n"
    }
   }
  },
  {
   "cell_type": "code",
   "execution_count": null,
   "source": [],
   "outputs": [],
   "metadata": {
    "pycharm": {
     "name": "#%%\n"
    }
   }
  },
  {
   "cell_type": "code",
   "execution_count": null,
   "source": [],
   "outputs": [],
   "metadata": {}
  }
 ],
 "metadata": {
  "kernelspec": {
   "name": "python3",
   "display_name": "Python 3.7.3 64-bit ('base': conda)"
  },
  "language_info": {
   "codemirror_mode": {
    "name": "ipython",
    "version": 3
   },
   "file_extension": ".py",
   "mimetype": "text/x-python",
   "name": "python",
   "nbconvert_exporter": "python",
   "pygments_lexer": "ipython3",
   "version": "3.7.3"
  },
  "interpreter": {
   "hash": "b3ba2566441a7c06988d0923437866b63cedc61552a5af99d1f4fb67d367b25f"
  }
 },
 "nbformat": 4,
 "nbformat_minor": 2
}