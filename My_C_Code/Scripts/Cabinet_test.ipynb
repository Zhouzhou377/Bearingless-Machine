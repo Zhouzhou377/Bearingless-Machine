{
 "cells": [
  {
   "cell_type": "markdown",
   "source": [
    "# Cabinet Start-Up Procedure"
   ],
   "metadata": {}
  },
  {
   "cell_type": "markdown",
   "source": [
    "1. Turn on cabinet power in back of cabinet\n",
    "2. Turn on sensor power (24 Volts). The sensor power inputs are labeled.\n",
    "3. Compile code to AMDC\n",
    "4. Turn on power to DC bus of cabinet.\n",
    "5. Run Jupyter Notebook. "
   ],
   "metadata": {}
  },
  {
   "cell_type": "markdown",
   "source": [
    "Import neccessary modules"
   ],
   "metadata": {}
  },
  {
   "cell_type": "code",
   "execution_count": 41,
   "source": [
    "from Cabinet_Test import Cabinet\r\n",
    "import sys\r\n",
    "\r\n",
    "\r\n",
    "sys.path.append(r'..\\AMDC-Firmware\\scripts')"
   ],
   "outputs": [],
   "metadata": {}
  },
  {
   "cell_type": "code",
   "execution_count": 42,
   "source": [
    "from AMDC import AMDC"
   ],
   "outputs": [],
   "metadata": {}
  },
  {
   "cell_type": "code",
   "execution_count": null,
   "source": [
    "amdc = AMDC(port = 'COM13', cmdEcho = True, printOutput=True)"
   ],
   "outputs": [],
   "metadata": {}
  },
  {
   "cell_type": "markdown",
   "source": [
    "Set up CRAMB and AMDC"
   ],
   "metadata": {}
  },
  {
   "cell_type": "code",
   "execution_count": 43,
   "source": [
    "Vdc = 20\r\n",
    "cabinet = Cabinet(Vdc, amdc, debug = False)   "
   ],
   "outputs": [
    {
     "output_type": "stream",
     "name": "stdout",
     "text": [
      "\t> cabinet setup 20.00000\n",
      "['cabinet setup 20.00000', 'SUCCESS']\n",
      "\t> cabinet init_cb\n",
      "['cabinet init_cb', 'SUCCESS']\n"
     ]
    }
   ],
   "metadata": {}
  },
  {
   "cell_type": "code",
   "execution_count": 44,
   "source": [
    "cabinet.enable_pwm()\r\n",
    "cabinet.openloop_vsi_3(5, 10, 10)\r\n",
    "cabinet.openloop_vsi_3_enable(5)"
   ],
   "outputs": [
    {
     "output_type": "stream",
     "name": "stdout",
     "text": [
      "\t> hw pwm on\n",
      "['hw pwm on', 'SUCCESS']\n",
      "\t> cabinet openloop_vsi_3 5 10.000000 10.000000\n",
      "['cabinet openloop_vsi_3 5 10.000000 10.000000', 'SUCCESS']\n",
      "\t> cabinet openloop_vsi_3_enable  5\n",
      "['cabinet openloop_vsi_3_enable  5', 'SUCCESS']\n"
     ]
    }
   ],
   "metadata": {}
  },
  {
   "cell_type": "code",
   "execution_count": 46,
   "source": [
    "cabinet.openloop_vsi_3(5, 5, 3)"
   ],
   "outputs": [
    {
     "output_type": "stream",
     "name": "stdout",
     "text": [
      "\t> cabinet openloop_vsi_3 5 5.000000 3.000000\n",
      "['cabinet openloop_vsi_3 5 5.000000 3.000000', 'SUCCESS']\n"
     ]
    }
   ],
   "metadata": {}
  },
  {
   "cell_type": "code",
   "execution_count": 47,
   "source": [
    "cabinet.disable_pwm()"
   ],
   "outputs": [
    {
     "output_type": "stream",
     "name": "stdout",
     "text": [
      "\t> hw pwm off\n",
      "['hw pwm off', 'SUCCESS']\n"
     ]
    }
   ],
   "metadata": {}
  },
  {
   "cell_type": "code",
   "execution_count": 19,
   "source": [
    "\r\n",
    "cabinet.disconnect()"
   ],
   "outputs": [],
   "metadata": {
    "pycharm": {
     "name": "#%%\n"
    }
   }
  },
  {
   "cell_type": "markdown",
   "source": [
    "## Logging\n"
   ],
   "metadata": {
    "pycharm": {
     "name": "#%% md\n"
    }
   }
  },
  {
   "cell_type": "code",
   "execution_count": 24,
   "source": [
    "import matplotlib"
   ],
   "outputs": [],
   "metadata": {}
  },
  {
   "cell_type": "code",
   "execution_count": 25,
   "source": [
    "import time\r\n",
    "import pathlib as pl\r\n",
    "import sys\r\n",
    "repo_dir = '..'                                      # CHANGE THIS TO YOUR REPO DIRECTORY\r\n",
    "repo_dir = pl.Path(repo_dir)\r\n",
    "\r\n",
    "from AMDC_Logger import AMDC_Logger, find_mapfile"
   ],
   "outputs": [],
   "metadata": {}
  },
  {
   "cell_type": "code",
   "execution_count": 11,
   "source": [
    "amdc.disconnect()"
   ],
   "outputs": [],
   "metadata": {}
  },
  {
   "cell_type": "code",
   "execution_count": 26,
   "source": [
    "mapfile_path = find_mapfile(repo_dir)\r\n",
    "logger = AMDC_Logger(AMDC = amdc, mapfile = mapfile_path)\r\n",
    "logger.sync()\r\n",
    "\r\n",
    "# View which variables are logged\r\n",
    "logger.info()"
   ],
   "outputs": [
    {
     "output_type": "stream",
     "name": "stdout",
     "text": [
      "\t> log info\n",
      "\t> log info\n",
      "###################   AMDC LOGGER INFO   ###################\n",
      "\n",
      "Variable Name:      Index:         Type:         Sample Rate [Hz]:    Number of Samples:\n",
      "\n"
     ]
    }
   ],
   "metadata": {
    "pycharm": {
     "name": "#%%\n"
    }
   }
  },
  {
   "cell_type": "code",
   "execution_count": 32,
   "source": [
    "logger.unregister_all()\r\n",
    "logger.register('mb_I1 mb_I2 mb_I3 mb_I4 mb_I5 mb_I6', samples_per_sec = 1000, var_type = 'double')\r\n",
    "\r\n",
    "# View which variables are logged\r\n",
    "logger.info()"
   ],
   "outputs": [
    {
     "output_type": "stream",
     "name": "stdout",
     "text": [
      "\t> log unreg 0\n",
      "['log unreg 0', 'SUCCESS']\n",
      "\t> log unreg 1\n",
      "['log unreg 1', 'SUCCESS']\n",
      "\t> log unreg 2\n",
      "['log unreg 2', 'SUCCESS']\n",
      "\t> log unreg 3\n",
      "['log unreg 3', 'SUCCESS']\n",
      "\t> log reg 0 LOG_va 1213072 1000 double\n",
      "['log reg 0 LOG_va 1213072 1000 double', 'SUCCESS']\n",
      "\t> log reg 1 LOG_vb 1213080 1000 double\n",
      "['log reg 1 LOG_vb 1213080 1000 double', 'SUCCESS']\n",
      "\t> log reg 2 LOG_vc 1213088 1000 double\n",
      "['log reg 2 LOG_vc 1213088 1000 double', 'SUCCESS']\n",
      "\t> log reg 3 LOG_vdc 1213128 1000 double\n",
      "['log reg 3 LOG_vdc 1213128 1000 double', 'SUCCESS']\n",
      "\t> log info\n",
      "###################   AMDC LOGGER INFO   ###################\n",
      "\n",
      "Variable Name:      Index:         Type:         Sample Rate [Hz]:    Number of Samples:\n",
      "LOG_va                0            double              1000.0                0       \n",
      "LOG_vb                1            double              1000.0                0       \n",
      "LOG_vc                2            double              1000.0                0       \n",
      "LOG_vdc               3            double              1000.0                0       \n",
      "\n"
     ]
    }
   ],
   "metadata": {
    "pycharm": {
     "name": "#%%\n"
    }
   }
  },
  {
   "cell_type": "code",
   "execution_count": 33,
   "source": [
    "####################   COLLECT DATA   ####################\r\n",
    "# Clear the logger, then record data\r\n",
    "logger.clear_all()\r\n",
    "logger.start()\r\n",
    "\r\n",
    "# DATA IS BEING RECORDED\r\n",
    "time.sleep(1)\r\n",
    "\r\n",
    "logger.stop()"
   ],
   "outputs": [
    {
     "output_type": "stream",
     "name": "stdout",
     "text": [
      "\t> log empty_all\n",
      "['log empty_all', 'SUCCESS']\n",
      "\t> log start\n",
      "['log start', 'SUCCESS']\n",
      "\t> log stop\n",
      "['log stop', 'SUCCESS']\n"
     ]
    }
   ],
   "metadata": {}
  },
  {
   "cell_type": "code",
   "execution_count": 34,
   "source": [
    "####################   DUMP DATA AND PLOT   ####################\r\n",
    "data = logger.dump(file = 'test_data.csv')\r\n",
    "data"
   ],
   "outputs": [
    {
     "output_type": "stream",
     "name": "stdout",
     "text": [
      "\t> log dump bin 0\n",
      "Dumping: LOG_va\n",
      "Dump took: 0.999  sec\n",
      "Dump rate: 1355.344  sps\n",
      "Num samples: 1354 \n",
      "\n",
      "\t> log dump bin 1\n",
      "Dumping: LOG_vb\n",
      "Dump took: 0.908  sec\n",
      "Dump rate: 1491.178  sps\n",
      "Num samples: 1354 \n",
      "\n",
      "\t> log dump bin 2\n",
      "Dumping: LOG_vc\n",
      "Dump took: 1.001  sec\n",
      "Dump rate: 1352.555  sps\n",
      "Num samples: 1354 \n",
      "\n",
      "\t> log dump bin 3\n",
      "Dumping: LOG_vdc\n",
      "Dump took: 0.895  sec\n",
      "Dump rate: 1512.858  sps\n",
      "Num samples: 1354 \n",
      "\n"
     ]
    },
    {
     "output_type": "execute_result",
     "data": {
      "text/plain": [
       "                 va        vb        vc   vdc\n",
       "t                                            \n",
       "0.000 -4.817537e-01  0.999781 -0.518027  20.0\n",
       "0.001 -4.257793e-01  0.996493 -0.570714  20.0\n",
       "0.002 -3.681245e-01  0.989272 -0.621148  20.0\n",
       "0.003 -3.090170e-01  0.978148 -0.669131  20.0\n",
       "0.004 -2.486899e-01  0.963163 -0.714473  20.0\n",
       "0.005 -1.873813e-01  0.944376 -0.756995  20.0\n",
       "0.006 -1.253332e-01  0.921863 -0.796530  20.0\n",
       "0.007 -6.279052e-02  0.895712 -0.832921  20.0\n",
       "0.008 -1.491351e-10  0.866025 -0.866025  20.0\n",
       "0.009  6.279052e-02  0.832921 -0.895712  20.0\n",
       "0.010  1.253332e-01  0.796530 -0.921863  20.0\n",
       "0.011  1.873813e-01  0.756995 -0.944376  20.0\n",
       "0.012  2.486899e-01  0.714473 -0.963163  20.0\n",
       "0.013  3.090170e-01  0.669131 -0.978148  20.0\n",
       "0.014  3.681245e-01  0.621148 -0.989272  20.0\n",
       "0.015  4.257793e-01  0.570714 -0.996493  20.0\n",
       "0.016  4.817537e-01  0.518027 -0.999781  20.0\n",
       "0.017  5.358268e-01  0.463296 -0.999123  20.0\n",
       "0.018  5.877852e-01  0.406737 -0.994522  20.0\n",
       "0.019  6.374240e-01  0.348572 -0.985996  20.0\n",
       "0.020  6.845471e-01  0.289032 -0.973579  20.0\n",
       "0.021  7.289686e-01  0.228351 -0.957319  20.0\n",
       "0.022  7.705132e-01  0.166769 -0.937282  20.0\n",
       "0.023  8.090170e-01  0.104528 -0.913545  20.0\n",
       "0.024  8.443279e-01  0.041876 -0.886204  20.0\n",
       "0.025  8.763067e-01 -0.020942 -0.855364  20.0\n",
       "0.026  9.048271e-01 -0.083678 -0.821149  20.0\n",
       "0.027  9.297765e-01 -0.146083 -0.783693  20.0\n",
       "0.028  9.510565e-01 -0.207912 -0.743145  20.0\n",
       "0.029  9.685832e-01 -0.268920 -0.699663  20.0\n",
       "...             ...       ...       ...   ...\n",
       "1.324  8.443279e-01  0.041876 -0.886204  20.0\n",
       "1.325  8.763067e-01 -0.020942 -0.855364  20.0\n",
       "1.326  9.048271e-01 -0.083678 -0.821149  20.0\n",
       "1.327  9.297765e-01 -0.146083 -0.783693  20.0\n",
       "1.328  9.510565e-01 -0.207912 -0.743145  20.0\n",
       "1.329  9.685832e-01 -0.268920 -0.699663  20.0\n",
       "1.330  9.822872e-01 -0.328867 -0.653421  20.0\n",
       "1.331  9.921147e-01 -0.387516 -0.604599  20.0\n",
       "1.332  9.980267e-01 -0.444635 -0.553392  20.0\n",
       "1.333  1.000000e+00 -0.500000 -0.500000  20.0\n",
       "1.334  9.980267e-01 -0.553392 -0.444635  20.0\n",
       "1.335  9.921147e-01 -0.604599 -0.387516  20.0\n",
       "1.336  9.822872e-01 -0.653421 -0.328867  20.0\n",
       "1.337  9.685832e-01 -0.699663 -0.268920  20.0\n",
       "1.338  9.510565e-01 -0.743145 -0.207912  20.0\n",
       "1.339  9.297765e-01 -0.783693 -0.146083  20.0\n",
       "1.340  9.048271e-01 -0.821149 -0.083678  20.0\n",
       "1.341  8.763067e-01 -0.855364 -0.020942  20.0\n",
       "1.342  8.443279e-01 -0.886204  0.041876  20.0\n",
       "1.343  8.090170e-01 -0.913545  0.104528  20.0\n",
       "1.344  7.705132e-01 -0.937282  0.166769  20.0\n",
       "1.345  7.289686e-01 -0.957319  0.228351  20.0\n",
       "1.346  6.845471e-01 -0.973579  0.289032  20.0\n",
       "1.347  6.374240e-01 -0.985996  0.348572  20.0\n",
       "1.348  5.877852e-01 -0.994522  0.406737  20.0\n",
       "1.349  5.358268e-01 -0.999123  0.463296  20.0\n",
       "1.350  4.817537e-01 -0.999781  0.518027  20.0\n",
       "1.351  4.257793e-01 -0.996493  0.570714  20.0\n",
       "1.352  3.681245e-01 -0.989272  0.621148  20.0\n",
       "1.353  3.090170e-01 -0.978148  0.669131  20.0\n",
       "\n",
       "[1354 rows x 4 columns]"
      ],
      "text/html": [
       "<div>\n",
       "<style scoped>\n",
       "    .dataframe tbody tr th:only-of-type {\n",
       "        vertical-align: middle;\n",
       "    }\n",
       "\n",
       "    .dataframe tbody tr th {\n",
       "        vertical-align: top;\n",
       "    }\n",
       "\n",
       "    .dataframe thead th {\n",
       "        text-align: right;\n",
       "    }\n",
       "</style>\n",
       "<table border=\"1\" class=\"dataframe\">\n",
       "  <thead>\n",
       "    <tr style=\"text-align: right;\">\n",
       "      <th></th>\n",
       "      <th>va</th>\n",
       "      <th>vb</th>\n",
       "      <th>vc</th>\n",
       "      <th>vdc</th>\n",
       "    </tr>\n",
       "    <tr>\n",
       "      <th>t</th>\n",
       "      <th></th>\n",
       "      <th></th>\n",
       "      <th></th>\n",
       "      <th></th>\n",
       "    </tr>\n",
       "  </thead>\n",
       "  <tbody>\n",
       "    <tr>\n",
       "      <th>0.000</th>\n",
       "      <td>-4.817537e-01</td>\n",
       "      <td>0.999781</td>\n",
       "      <td>-0.518027</td>\n",
       "      <td>20.0</td>\n",
       "    </tr>\n",
       "    <tr>\n",
       "      <th>0.001</th>\n",
       "      <td>-4.257793e-01</td>\n",
       "      <td>0.996493</td>\n",
       "      <td>-0.570714</td>\n",
       "      <td>20.0</td>\n",
       "    </tr>\n",
       "    <tr>\n",
       "      <th>0.002</th>\n",
       "      <td>-3.681245e-01</td>\n",
       "      <td>0.989272</td>\n",
       "      <td>-0.621148</td>\n",
       "      <td>20.0</td>\n",
       "    </tr>\n",
       "    <tr>\n",
       "      <th>0.003</th>\n",
       "      <td>-3.090170e-01</td>\n",
       "      <td>0.978148</td>\n",
       "      <td>-0.669131</td>\n",
       "      <td>20.0</td>\n",
       "    </tr>\n",
       "    <tr>\n",
       "      <th>0.004</th>\n",
       "      <td>-2.486899e-01</td>\n",
       "      <td>0.963163</td>\n",
       "      <td>-0.714473</td>\n",
       "      <td>20.0</td>\n",
       "    </tr>\n",
       "    <tr>\n",
       "      <th>0.005</th>\n",
       "      <td>-1.873813e-01</td>\n",
       "      <td>0.944376</td>\n",
       "      <td>-0.756995</td>\n",
       "      <td>20.0</td>\n",
       "    </tr>\n",
       "    <tr>\n",
       "      <th>0.006</th>\n",
       "      <td>-1.253332e-01</td>\n",
       "      <td>0.921863</td>\n",
       "      <td>-0.796530</td>\n",
       "      <td>20.0</td>\n",
       "    </tr>\n",
       "    <tr>\n",
       "      <th>0.007</th>\n",
       "      <td>-6.279052e-02</td>\n",
       "      <td>0.895712</td>\n",
       "      <td>-0.832921</td>\n",
       "      <td>20.0</td>\n",
       "    </tr>\n",
       "    <tr>\n",
       "      <th>0.008</th>\n",
       "      <td>-1.491351e-10</td>\n",
       "      <td>0.866025</td>\n",
       "      <td>-0.866025</td>\n",
       "      <td>20.0</td>\n",
       "    </tr>\n",
       "    <tr>\n",
       "      <th>0.009</th>\n",
       "      <td>6.279052e-02</td>\n",
       "      <td>0.832921</td>\n",
       "      <td>-0.895712</td>\n",
       "      <td>20.0</td>\n",
       "    </tr>\n",
       "    <tr>\n",
       "      <th>0.010</th>\n",
       "      <td>1.253332e-01</td>\n",
       "      <td>0.796530</td>\n",
       "      <td>-0.921863</td>\n",
       "      <td>20.0</td>\n",
       "    </tr>\n",
       "    <tr>\n",
       "      <th>0.011</th>\n",
       "      <td>1.873813e-01</td>\n",
       "      <td>0.756995</td>\n",
       "      <td>-0.944376</td>\n",
       "      <td>20.0</td>\n",
       "    </tr>\n",
       "    <tr>\n",
       "      <th>0.012</th>\n",
       "      <td>2.486899e-01</td>\n",
       "      <td>0.714473</td>\n",
       "      <td>-0.963163</td>\n",
       "      <td>20.0</td>\n",
       "    </tr>\n",
       "    <tr>\n",
       "      <th>0.013</th>\n",
       "      <td>3.090170e-01</td>\n",
       "      <td>0.669131</td>\n",
       "      <td>-0.978148</td>\n",
       "      <td>20.0</td>\n",
       "    </tr>\n",
       "    <tr>\n",
       "      <th>0.014</th>\n",
       "      <td>3.681245e-01</td>\n",
       "      <td>0.621148</td>\n",
       "      <td>-0.989272</td>\n",
       "      <td>20.0</td>\n",
       "    </tr>\n",
       "    <tr>\n",
       "      <th>0.015</th>\n",
       "      <td>4.257793e-01</td>\n",
       "      <td>0.570714</td>\n",
       "      <td>-0.996493</td>\n",
       "      <td>20.0</td>\n",
       "    </tr>\n",
       "    <tr>\n",
       "      <th>0.016</th>\n",
       "      <td>4.817537e-01</td>\n",
       "      <td>0.518027</td>\n",
       "      <td>-0.999781</td>\n",
       "      <td>20.0</td>\n",
       "    </tr>\n",
       "    <tr>\n",
       "      <th>0.017</th>\n",
       "      <td>5.358268e-01</td>\n",
       "      <td>0.463296</td>\n",
       "      <td>-0.999123</td>\n",
       "      <td>20.0</td>\n",
       "    </tr>\n",
       "    <tr>\n",
       "      <th>0.018</th>\n",
       "      <td>5.877852e-01</td>\n",
       "      <td>0.406737</td>\n",
       "      <td>-0.994522</td>\n",
       "      <td>20.0</td>\n",
       "    </tr>\n",
       "    <tr>\n",
       "      <th>0.019</th>\n",
       "      <td>6.374240e-01</td>\n",
       "      <td>0.348572</td>\n",
       "      <td>-0.985996</td>\n",
       "      <td>20.0</td>\n",
       "    </tr>\n",
       "    <tr>\n",
       "      <th>0.020</th>\n",
       "      <td>6.845471e-01</td>\n",
       "      <td>0.289032</td>\n",
       "      <td>-0.973579</td>\n",
       "      <td>20.0</td>\n",
       "    </tr>\n",
       "    <tr>\n",
       "      <th>0.021</th>\n",
       "      <td>7.289686e-01</td>\n",
       "      <td>0.228351</td>\n",
       "      <td>-0.957319</td>\n",
       "      <td>20.0</td>\n",
       "    </tr>\n",
       "    <tr>\n",
       "      <th>0.022</th>\n",
       "      <td>7.705132e-01</td>\n",
       "      <td>0.166769</td>\n",
       "      <td>-0.937282</td>\n",
       "      <td>20.0</td>\n",
       "    </tr>\n",
       "    <tr>\n",
       "      <th>0.023</th>\n",
       "      <td>8.090170e-01</td>\n",
       "      <td>0.104528</td>\n",
       "      <td>-0.913545</td>\n",
       "      <td>20.0</td>\n",
       "    </tr>\n",
       "    <tr>\n",
       "      <th>0.024</th>\n",
       "      <td>8.443279e-01</td>\n",
       "      <td>0.041876</td>\n",
       "      <td>-0.886204</td>\n",
       "      <td>20.0</td>\n",
       "    </tr>\n",
       "    <tr>\n",
       "      <th>0.025</th>\n",
       "      <td>8.763067e-01</td>\n",
       "      <td>-0.020942</td>\n",
       "      <td>-0.855364</td>\n",
       "      <td>20.0</td>\n",
       "    </tr>\n",
       "    <tr>\n",
       "      <th>0.026</th>\n",
       "      <td>9.048271e-01</td>\n",
       "      <td>-0.083678</td>\n",
       "      <td>-0.821149</td>\n",
       "      <td>20.0</td>\n",
       "    </tr>\n",
       "    <tr>\n",
       "      <th>0.027</th>\n",
       "      <td>9.297765e-01</td>\n",
       "      <td>-0.146083</td>\n",
       "      <td>-0.783693</td>\n",
       "      <td>20.0</td>\n",
       "    </tr>\n",
       "    <tr>\n",
       "      <th>0.028</th>\n",
       "      <td>9.510565e-01</td>\n",
       "      <td>-0.207912</td>\n",
       "      <td>-0.743145</td>\n",
       "      <td>20.0</td>\n",
       "    </tr>\n",
       "    <tr>\n",
       "      <th>0.029</th>\n",
       "      <td>9.685832e-01</td>\n",
       "      <td>-0.268920</td>\n",
       "      <td>-0.699663</td>\n",
       "      <td>20.0</td>\n",
       "    </tr>\n",
       "    <tr>\n",
       "      <th>...</th>\n",
       "      <td>...</td>\n",
       "      <td>...</td>\n",
       "      <td>...</td>\n",
       "      <td>...</td>\n",
       "    </tr>\n",
       "    <tr>\n",
       "      <th>1.324</th>\n",
       "      <td>8.443279e-01</td>\n",
       "      <td>0.041876</td>\n",
       "      <td>-0.886204</td>\n",
       "      <td>20.0</td>\n",
       "    </tr>\n",
       "    <tr>\n",
       "      <th>1.325</th>\n",
       "      <td>8.763067e-01</td>\n",
       "      <td>-0.020942</td>\n",
       "      <td>-0.855364</td>\n",
       "      <td>20.0</td>\n",
       "    </tr>\n",
       "    <tr>\n",
       "      <th>1.326</th>\n",
       "      <td>9.048271e-01</td>\n",
       "      <td>-0.083678</td>\n",
       "      <td>-0.821149</td>\n",
       "      <td>20.0</td>\n",
       "    </tr>\n",
       "    <tr>\n",
       "      <th>1.327</th>\n",
       "      <td>9.297765e-01</td>\n",
       "      <td>-0.146083</td>\n",
       "      <td>-0.783693</td>\n",
       "      <td>20.0</td>\n",
       "    </tr>\n",
       "    <tr>\n",
       "      <th>1.328</th>\n",
       "      <td>9.510565e-01</td>\n",
       "      <td>-0.207912</td>\n",
       "      <td>-0.743145</td>\n",
       "      <td>20.0</td>\n",
       "    </tr>\n",
       "    <tr>\n",
       "      <th>1.329</th>\n",
       "      <td>9.685832e-01</td>\n",
       "      <td>-0.268920</td>\n",
       "      <td>-0.699663</td>\n",
       "      <td>20.0</td>\n",
       "    </tr>\n",
       "    <tr>\n",
       "      <th>1.330</th>\n",
       "      <td>9.822872e-01</td>\n",
       "      <td>-0.328867</td>\n",
       "      <td>-0.653421</td>\n",
       "      <td>20.0</td>\n",
       "    </tr>\n",
       "    <tr>\n",
       "      <th>1.331</th>\n",
       "      <td>9.921147e-01</td>\n",
       "      <td>-0.387516</td>\n",
       "      <td>-0.604599</td>\n",
       "      <td>20.0</td>\n",
       "    </tr>\n",
       "    <tr>\n",
       "      <th>1.332</th>\n",
       "      <td>9.980267e-01</td>\n",
       "      <td>-0.444635</td>\n",
       "      <td>-0.553392</td>\n",
       "      <td>20.0</td>\n",
       "    </tr>\n",
       "    <tr>\n",
       "      <th>1.333</th>\n",
       "      <td>1.000000e+00</td>\n",
       "      <td>-0.500000</td>\n",
       "      <td>-0.500000</td>\n",
       "      <td>20.0</td>\n",
       "    </tr>\n",
       "    <tr>\n",
       "      <th>1.334</th>\n",
       "      <td>9.980267e-01</td>\n",
       "      <td>-0.553392</td>\n",
       "      <td>-0.444635</td>\n",
       "      <td>20.0</td>\n",
       "    </tr>\n",
       "    <tr>\n",
       "      <th>1.335</th>\n",
       "      <td>9.921147e-01</td>\n",
       "      <td>-0.604599</td>\n",
       "      <td>-0.387516</td>\n",
       "      <td>20.0</td>\n",
       "    </tr>\n",
       "    <tr>\n",
       "      <th>1.336</th>\n",
       "      <td>9.822872e-01</td>\n",
       "      <td>-0.653421</td>\n",
       "      <td>-0.328867</td>\n",
       "      <td>20.0</td>\n",
       "    </tr>\n",
       "    <tr>\n",
       "      <th>1.337</th>\n",
       "      <td>9.685832e-01</td>\n",
       "      <td>-0.699663</td>\n",
       "      <td>-0.268920</td>\n",
       "      <td>20.0</td>\n",
       "    </tr>\n",
       "    <tr>\n",
       "      <th>1.338</th>\n",
       "      <td>9.510565e-01</td>\n",
       "      <td>-0.743145</td>\n",
       "      <td>-0.207912</td>\n",
       "      <td>20.0</td>\n",
       "    </tr>\n",
       "    <tr>\n",
       "      <th>1.339</th>\n",
       "      <td>9.297765e-01</td>\n",
       "      <td>-0.783693</td>\n",
       "      <td>-0.146083</td>\n",
       "      <td>20.0</td>\n",
       "    </tr>\n",
       "    <tr>\n",
       "      <th>1.340</th>\n",
       "      <td>9.048271e-01</td>\n",
       "      <td>-0.821149</td>\n",
       "      <td>-0.083678</td>\n",
       "      <td>20.0</td>\n",
       "    </tr>\n",
       "    <tr>\n",
       "      <th>1.341</th>\n",
       "      <td>8.763067e-01</td>\n",
       "      <td>-0.855364</td>\n",
       "      <td>-0.020942</td>\n",
       "      <td>20.0</td>\n",
       "    </tr>\n",
       "    <tr>\n",
       "      <th>1.342</th>\n",
       "      <td>8.443279e-01</td>\n",
       "      <td>-0.886204</td>\n",
       "      <td>0.041876</td>\n",
       "      <td>20.0</td>\n",
       "    </tr>\n",
       "    <tr>\n",
       "      <th>1.343</th>\n",
       "      <td>8.090170e-01</td>\n",
       "      <td>-0.913545</td>\n",
       "      <td>0.104528</td>\n",
       "      <td>20.0</td>\n",
       "    </tr>\n",
       "    <tr>\n",
       "      <th>1.344</th>\n",
       "      <td>7.705132e-01</td>\n",
       "      <td>-0.937282</td>\n",
       "      <td>0.166769</td>\n",
       "      <td>20.0</td>\n",
       "    </tr>\n",
       "    <tr>\n",
       "      <th>1.345</th>\n",
       "      <td>7.289686e-01</td>\n",
       "      <td>-0.957319</td>\n",
       "      <td>0.228351</td>\n",
       "      <td>20.0</td>\n",
       "    </tr>\n",
       "    <tr>\n",
       "      <th>1.346</th>\n",
       "      <td>6.845471e-01</td>\n",
       "      <td>-0.973579</td>\n",
       "      <td>0.289032</td>\n",
       "      <td>20.0</td>\n",
       "    </tr>\n",
       "    <tr>\n",
       "      <th>1.347</th>\n",
       "      <td>6.374240e-01</td>\n",
       "      <td>-0.985996</td>\n",
       "      <td>0.348572</td>\n",
       "      <td>20.0</td>\n",
       "    </tr>\n",
       "    <tr>\n",
       "      <th>1.348</th>\n",
       "      <td>5.877852e-01</td>\n",
       "      <td>-0.994522</td>\n",
       "      <td>0.406737</td>\n",
       "      <td>20.0</td>\n",
       "    </tr>\n",
       "    <tr>\n",
       "      <th>1.349</th>\n",
       "      <td>5.358268e-01</td>\n",
       "      <td>-0.999123</td>\n",
       "      <td>0.463296</td>\n",
       "      <td>20.0</td>\n",
       "    </tr>\n",
       "    <tr>\n",
       "      <th>1.350</th>\n",
       "      <td>4.817537e-01</td>\n",
       "      <td>-0.999781</td>\n",
       "      <td>0.518027</td>\n",
       "      <td>20.0</td>\n",
       "    </tr>\n",
       "    <tr>\n",
       "      <th>1.351</th>\n",
       "      <td>4.257793e-01</td>\n",
       "      <td>-0.996493</td>\n",
       "      <td>0.570714</td>\n",
       "      <td>20.0</td>\n",
       "    </tr>\n",
       "    <tr>\n",
       "      <th>1.352</th>\n",
       "      <td>3.681245e-01</td>\n",
       "      <td>-0.989272</td>\n",
       "      <td>0.621148</td>\n",
       "      <td>20.0</td>\n",
       "    </tr>\n",
       "    <tr>\n",
       "      <th>1.353</th>\n",
       "      <td>3.090170e-01</td>\n",
       "      <td>-0.978148</td>\n",
       "      <td>0.669131</td>\n",
       "      <td>20.0</td>\n",
       "    </tr>\n",
       "  </tbody>\n",
       "</table>\n",
       "<p>1354 rows × 4 columns</p>\n",
       "</div>"
      ]
     },
     "metadata": {},
     "execution_count": 34
    }
   ],
   "metadata": {}
  },
  {
   "cell_type": "code",
   "execution_count": 35,
   "source": [
    "data.filter(regex=\"^va|vb|vc|vdc$\").plot()"
   ],
   "outputs": [
    {
     "output_type": "execute_result",
     "data": {
      "text/plain": [
       "<matplotlib.axes._subplots.AxesSubplot at 0x1c1fa557898>"
      ]
     },
     "metadata": {},
     "execution_count": 35
    },
    {
     "output_type": "display_data",
     "data": {
      "text/plain": [
       "<Figure size 432x288 with 1 Axes>"
      ],
      "image/svg+xml": "<?xml version=\"1.0\" encoding=\"utf-8\" standalone=\"no\"?>\r\n<!DOCTYPE svg PUBLIC \"-//W3C//DTD SVG 1.1//EN\"\r\n  \"http://www.w3.org/Graphics/SVG/1.1/DTD/svg11.dtd\">\r\n<!-- Created with matplotlib (https://matplotlib.org/) -->\r\n<svg height=\"265.69625pt\" version=\"1.1\" viewBox=\"0 0 372.425 265.69625\" width=\"372.425pt\" xmlns=\"http://www.w3.org/2000/svg\" xmlns:xlink=\"http://www.w3.org/1999/xlink\">\r\n <defs>\r\n  <style type=\"text/css\">\r\n*{stroke-linecap:butt;stroke-linejoin:round;}\r\n  </style>\r\n </defs>\r\n <g id=\"figure_1\">\r\n  <g id=\"patch_1\">\r\n   <path d=\"M -0 265.69625 \r\nL 372.425 265.69625 \r\nL 372.425 0 \r\nL -0 0 \r\nz\r\n\" style=\"fill:none;\"/>\r\n  </g>\r\n  <g id=\"axes_1\">\r\n   <g id=\"patch_2\">\r\n    <path d=\"M 26.925 228.14 \r\nL 361.725 228.14 \r\nL 361.725 10.7 \r\nL 26.925 10.7 \r\nz\r\n\" style=\"fill:#ffffff;\"/>\r\n   </g>\r\n   <g id=\"matplotlib.axis_1\">\r\n    <g id=\"xtick_1\">\r\n     <g id=\"line2d_1\">\r\n      <defs>\r\n       <path d=\"M 0 0 \r\nL 0 3.5 \r\n\" id=\"m39bb8e4348\" style=\"stroke:#000000;stroke-width:0.8;\"/>\r\n      </defs>\r\n      <g>\r\n       <use style=\"stroke:#000000;stroke-width:0.8;\" x=\"26.925\" xlink:href=\"#m39bb8e4348\" y=\"228.14\"/>\r\n      </g>\r\n     </g>\r\n     <g id=\"text_1\">\r\n      <!-- 0.0 -->\r\n      <defs>\r\n       <path d=\"M 31.78125 66.40625 \r\nQ 24.171875 66.40625 20.328125 58.90625 \r\nQ 16.5 51.421875 16.5 36.375 \r\nQ 16.5 21.390625 20.328125 13.890625 \r\nQ 24.171875 6.390625 31.78125 6.390625 \r\nQ 39.453125 6.390625 43.28125 13.890625 \r\nQ 47.125 21.390625 47.125 36.375 \r\nQ 47.125 51.421875 43.28125 58.90625 \r\nQ 39.453125 66.40625 31.78125 66.40625 \r\nz\r\nM 31.78125 74.21875 \r\nQ 44.046875 74.21875 50.515625 64.515625 \r\nQ 56.984375 54.828125 56.984375 36.375 \r\nQ 56.984375 17.96875 50.515625 8.265625 \r\nQ 44.046875 -1.421875 31.78125 -1.421875 \r\nQ 19.53125 -1.421875 13.0625 8.265625 \r\nQ 6.59375 17.96875 6.59375 36.375 \r\nQ 6.59375 54.828125 13.0625 64.515625 \r\nQ 19.53125 74.21875 31.78125 74.21875 \r\nz\r\n\" id=\"DejaVuSans-48\"/>\r\n       <path d=\"M 10.6875 12.40625 \r\nL 21 12.40625 \r\nL 21 0 \r\nL 10.6875 0 \r\nz\r\n\" id=\"DejaVuSans-46\"/>\r\n      </defs>\r\n      <g transform=\"translate(18.973438 242.738437)scale(0.1 -0.1)\">\r\n       <use xlink:href=\"#DejaVuSans-48\"/>\r\n       <use x=\"63.623047\" xlink:href=\"#DejaVuSans-46\"/>\r\n       <use x=\"95.410156\" xlink:href=\"#DejaVuSans-48\"/>\r\n      </g>\r\n     </g>\r\n    </g>\r\n    <g id=\"xtick_2\">\r\n     <g id=\"line2d_2\">\r\n      <g>\r\n       <use style=\"stroke:#000000;stroke-width:0.8;\" x=\"76.415022\" xlink:href=\"#m39bb8e4348\" y=\"228.14\"/>\r\n      </g>\r\n     </g>\r\n     <g id=\"text_2\">\r\n      <!-- 0.2 -->\r\n      <defs>\r\n       <path d=\"M 19.1875 8.296875 \r\nL 53.609375 8.296875 \r\nL 53.609375 0 \r\nL 7.328125 0 \r\nL 7.328125 8.296875 \r\nQ 12.9375 14.109375 22.625 23.890625 \r\nQ 32.328125 33.6875 34.8125 36.53125 \r\nQ 39.546875 41.84375 41.421875 45.53125 \r\nQ 43.3125 49.21875 43.3125 52.78125 \r\nQ 43.3125 58.59375 39.234375 62.25 \r\nQ 35.15625 65.921875 28.609375 65.921875 \r\nQ 23.96875 65.921875 18.8125 64.3125 \r\nQ 13.671875 62.703125 7.8125 59.421875 \r\nL 7.8125 69.390625 \r\nQ 13.765625 71.78125 18.9375 73 \r\nQ 24.125 74.21875 28.421875 74.21875 \r\nQ 39.75 74.21875 46.484375 68.546875 \r\nQ 53.21875 62.890625 53.21875 53.421875 \r\nQ 53.21875 48.921875 51.53125 44.890625 \r\nQ 49.859375 40.875 45.40625 35.40625 \r\nQ 44.1875 33.984375 37.640625 27.21875 \r\nQ 31.109375 20.453125 19.1875 8.296875 \r\nz\r\n\" id=\"DejaVuSans-50\"/>\r\n      </defs>\r\n      <g transform=\"translate(68.46346 242.738437)scale(0.1 -0.1)\">\r\n       <use xlink:href=\"#DejaVuSans-48\"/>\r\n       <use x=\"63.623047\" xlink:href=\"#DejaVuSans-46\"/>\r\n       <use x=\"95.410156\" xlink:href=\"#DejaVuSans-50\"/>\r\n      </g>\r\n     </g>\r\n    </g>\r\n    <g id=\"xtick_3\">\r\n     <g id=\"line2d_3\">\r\n      <g>\r\n       <use style=\"stroke:#000000;stroke-width:0.8;\" x=\"125.905044\" xlink:href=\"#m39bb8e4348\" y=\"228.14\"/>\r\n      </g>\r\n     </g>\r\n     <g id=\"text_3\">\r\n      <!-- 0.4 -->\r\n      <defs>\r\n       <path d=\"M 37.796875 64.3125 \r\nL 12.890625 25.390625 \r\nL 37.796875 25.390625 \r\nz\r\nM 35.203125 72.90625 \r\nL 47.609375 72.90625 \r\nL 47.609375 25.390625 \r\nL 58.015625 25.390625 \r\nL 58.015625 17.1875 \r\nL 47.609375 17.1875 \r\nL 47.609375 0 \r\nL 37.796875 0 \r\nL 37.796875 17.1875 \r\nL 4.890625 17.1875 \r\nL 4.890625 26.703125 \r\nz\r\n\" id=\"DejaVuSans-52\"/>\r\n      </defs>\r\n      <g transform=\"translate(117.953482 242.738437)scale(0.1 -0.1)\">\r\n       <use xlink:href=\"#DejaVuSans-48\"/>\r\n       <use x=\"63.623047\" xlink:href=\"#DejaVuSans-46\"/>\r\n       <use x=\"95.410156\" xlink:href=\"#DejaVuSans-52\"/>\r\n      </g>\r\n     </g>\r\n    </g>\r\n    <g id=\"xtick_4\">\r\n     <g id=\"line2d_4\">\r\n      <g>\r\n       <use style=\"stroke:#000000;stroke-width:0.8;\" x=\"175.395067\" xlink:href=\"#m39bb8e4348\" y=\"228.14\"/>\r\n      </g>\r\n     </g>\r\n     <g id=\"text_4\">\r\n      <!-- 0.6 -->\r\n      <defs>\r\n       <path d=\"M 33.015625 40.375 \r\nQ 26.375 40.375 22.484375 35.828125 \r\nQ 18.609375 31.296875 18.609375 23.390625 \r\nQ 18.609375 15.53125 22.484375 10.953125 \r\nQ 26.375 6.390625 33.015625 6.390625 \r\nQ 39.65625 6.390625 43.53125 10.953125 \r\nQ 47.40625 15.53125 47.40625 23.390625 \r\nQ 47.40625 31.296875 43.53125 35.828125 \r\nQ 39.65625 40.375 33.015625 40.375 \r\nz\r\nM 52.59375 71.296875 \r\nL 52.59375 62.3125 \r\nQ 48.875 64.0625 45.09375 64.984375 \r\nQ 41.3125 65.921875 37.59375 65.921875 \r\nQ 27.828125 65.921875 22.671875 59.328125 \r\nQ 17.53125 52.734375 16.796875 39.40625 \r\nQ 19.671875 43.65625 24.015625 45.921875 \r\nQ 28.375 48.1875 33.59375 48.1875 \r\nQ 44.578125 48.1875 50.953125 41.515625 \r\nQ 57.328125 34.859375 57.328125 23.390625 \r\nQ 57.328125 12.15625 50.6875 5.359375 \r\nQ 44.046875 -1.421875 33.015625 -1.421875 \r\nQ 20.359375 -1.421875 13.671875 8.265625 \r\nQ 6.984375 17.96875 6.984375 36.375 \r\nQ 6.984375 53.65625 15.1875 63.9375 \r\nQ 23.390625 74.21875 37.203125 74.21875 \r\nQ 40.921875 74.21875 44.703125 73.484375 \r\nQ 48.484375 72.75 52.59375 71.296875 \r\nz\r\n\" id=\"DejaVuSans-54\"/>\r\n      </defs>\r\n      <g transform=\"translate(167.443504 242.738437)scale(0.1 -0.1)\">\r\n       <use xlink:href=\"#DejaVuSans-48\"/>\r\n       <use x=\"63.623047\" xlink:href=\"#DejaVuSans-46\"/>\r\n       <use x=\"95.410156\" xlink:href=\"#DejaVuSans-54\"/>\r\n      </g>\r\n     </g>\r\n    </g>\r\n    <g id=\"xtick_5\">\r\n     <g id=\"line2d_5\">\r\n      <g>\r\n       <use style=\"stroke:#000000;stroke-width:0.8;\" x=\"224.885089\" xlink:href=\"#m39bb8e4348\" y=\"228.14\"/>\r\n      </g>\r\n     </g>\r\n     <g id=\"text_5\">\r\n      <!-- 0.8 -->\r\n      <defs>\r\n       <path d=\"M 31.78125 34.625 \r\nQ 24.75 34.625 20.71875 30.859375 \r\nQ 16.703125 27.09375 16.703125 20.515625 \r\nQ 16.703125 13.921875 20.71875 10.15625 \r\nQ 24.75 6.390625 31.78125 6.390625 \r\nQ 38.8125 6.390625 42.859375 10.171875 \r\nQ 46.921875 13.96875 46.921875 20.515625 \r\nQ 46.921875 27.09375 42.890625 30.859375 \r\nQ 38.875 34.625 31.78125 34.625 \r\nz\r\nM 21.921875 38.8125 \r\nQ 15.578125 40.375 12.03125 44.71875 \r\nQ 8.5 49.078125 8.5 55.328125 \r\nQ 8.5 64.0625 14.71875 69.140625 \r\nQ 20.953125 74.21875 31.78125 74.21875 \r\nQ 42.671875 74.21875 48.875 69.140625 \r\nQ 55.078125 64.0625 55.078125 55.328125 \r\nQ 55.078125 49.078125 51.53125 44.71875 \r\nQ 48 40.375 41.703125 38.8125 \r\nQ 48.828125 37.15625 52.796875 32.3125 \r\nQ 56.78125 27.484375 56.78125 20.515625 \r\nQ 56.78125 9.90625 50.3125 4.234375 \r\nQ 43.84375 -1.421875 31.78125 -1.421875 \r\nQ 19.734375 -1.421875 13.25 4.234375 \r\nQ 6.78125 9.90625 6.78125 20.515625 \r\nQ 6.78125 27.484375 10.78125 32.3125 \r\nQ 14.796875 37.15625 21.921875 38.8125 \r\nz\r\nM 18.3125 54.390625 \r\nQ 18.3125 48.734375 21.84375 45.5625 \r\nQ 25.390625 42.390625 31.78125 42.390625 \r\nQ 38.140625 42.390625 41.71875 45.5625 \r\nQ 45.3125 48.734375 45.3125 54.390625 \r\nQ 45.3125 60.0625 41.71875 63.234375 \r\nQ 38.140625 66.40625 31.78125 66.40625 \r\nQ 25.390625 66.40625 21.84375 63.234375 \r\nQ 18.3125 60.0625 18.3125 54.390625 \r\nz\r\n\" id=\"DejaVuSans-56\"/>\r\n      </defs>\r\n      <g transform=\"translate(216.933526 242.738437)scale(0.1 -0.1)\">\r\n       <use xlink:href=\"#DejaVuSans-48\"/>\r\n       <use x=\"63.623047\" xlink:href=\"#DejaVuSans-46\"/>\r\n       <use x=\"95.410156\" xlink:href=\"#DejaVuSans-56\"/>\r\n      </g>\r\n     </g>\r\n    </g>\r\n    <g id=\"xtick_6\">\r\n     <g id=\"line2d_6\">\r\n      <g>\r\n       <use style=\"stroke:#000000;stroke-width:0.8;\" x=\"274.375111\" xlink:href=\"#m39bb8e4348\" y=\"228.14\"/>\r\n      </g>\r\n     </g>\r\n     <g id=\"text_6\">\r\n      <!-- 1.0 -->\r\n      <defs>\r\n       <path d=\"M 12.40625 8.296875 \r\nL 28.515625 8.296875 \r\nL 28.515625 63.921875 \r\nL 10.984375 60.40625 \r\nL 10.984375 69.390625 \r\nL 28.421875 72.90625 \r\nL 38.28125 72.90625 \r\nL 38.28125 8.296875 \r\nL 54.390625 8.296875 \r\nL 54.390625 0 \r\nL 12.40625 0 \r\nz\r\n\" id=\"DejaVuSans-49\"/>\r\n      </defs>\r\n      <g transform=\"translate(266.423548 242.738437)scale(0.1 -0.1)\">\r\n       <use xlink:href=\"#DejaVuSans-49\"/>\r\n       <use x=\"63.623047\" xlink:href=\"#DejaVuSans-46\"/>\r\n       <use x=\"95.410156\" xlink:href=\"#DejaVuSans-48\"/>\r\n      </g>\r\n     </g>\r\n    </g>\r\n    <g id=\"xtick_7\">\r\n     <g id=\"line2d_7\">\r\n      <g>\r\n       <use style=\"stroke:#000000;stroke-width:0.8;\" x=\"323.865133\" xlink:href=\"#m39bb8e4348\" y=\"228.14\"/>\r\n      </g>\r\n     </g>\r\n     <g id=\"text_7\">\r\n      <!-- 1.2 -->\r\n      <g transform=\"translate(315.913571 242.738437)scale(0.1 -0.1)\">\r\n       <use xlink:href=\"#DejaVuSans-49\"/>\r\n       <use x=\"63.623047\" xlink:href=\"#DejaVuSans-46\"/>\r\n       <use x=\"95.410156\" xlink:href=\"#DejaVuSans-50\"/>\r\n      </g>\r\n     </g>\r\n    </g>\r\n    <g id=\"text_8\">\r\n     <!-- t -->\r\n     <defs>\r\n      <path d=\"M 18.3125 70.21875 \r\nL 18.3125 54.6875 \r\nL 36.8125 54.6875 \r\nL 36.8125 47.703125 \r\nL 18.3125 47.703125 \r\nL 18.3125 18.015625 \r\nQ 18.3125 11.328125 20.140625 9.421875 \r\nQ 21.96875 7.515625 27.59375 7.515625 \r\nL 36.8125 7.515625 \r\nL 36.8125 0 \r\nL 27.59375 0 \r\nQ 17.1875 0 13.234375 3.875 \r\nQ 9.28125 7.765625 9.28125 18.015625 \r\nL 9.28125 47.703125 \r\nL 2.6875 47.703125 \r\nL 2.6875 54.6875 \r\nL 9.28125 54.6875 \r\nL 9.28125 70.21875 \r\nz\r\n\" id=\"DejaVuSans-116\"/>\r\n     </defs>\r\n     <g transform=\"translate(192.364844 256.416562)scale(0.1 -0.1)\">\r\n      <use xlink:href=\"#DejaVuSans-116\"/>\r\n     </g>\r\n    </g>\r\n   </g>\r\n   <g id=\"matplotlib.axis_2\">\r\n    <g id=\"ytick_1\">\r\n     <g id=\"line2d_8\">\r\n      <defs>\r\n       <path d=\"M 0 0 \r\nL -3.5 0 \r\n\" id=\"mc626db1845\" style=\"stroke:#000000;stroke-width:0.8;\"/>\r\n      </defs>\r\n      <g>\r\n       <use style=\"stroke:#000000;stroke-width:0.8;\" x=\"26.925\" xlink:href=\"#mc626db1845\" y=\"208.843377\"/>\r\n      </g>\r\n     </g>\r\n     <g id=\"text_9\">\r\n      <!-- 0 -->\r\n      <g transform=\"translate(13.5625 212.642595)scale(0.1 -0.1)\">\r\n       <use xlink:href=\"#DejaVuSans-48\"/>\r\n      </g>\r\n     </g>\r\n    </g>\r\n    <g id=\"ytick_2\">\r\n     <g id=\"line2d_9\">\r\n      <g>\r\n       <use style=\"stroke:#000000;stroke-width:0.8;\" x=\"26.925\" xlink:href=\"#mc626db1845\" y=\"161.778442\"/>\r\n      </g>\r\n     </g>\r\n     <g id=\"text_10\">\r\n      <!-- 5 -->\r\n      <defs>\r\n       <path d=\"M 10.796875 72.90625 \r\nL 49.515625 72.90625 \r\nL 49.515625 64.59375 \r\nL 19.828125 64.59375 \r\nL 19.828125 46.734375 \r\nQ 21.96875 47.46875 24.109375 47.828125 \r\nQ 26.265625 48.1875 28.421875 48.1875 \r\nQ 40.625 48.1875 47.75 41.5 \r\nQ 54.890625 34.8125 54.890625 23.390625 \r\nQ 54.890625 11.625 47.5625 5.09375 \r\nQ 40.234375 -1.421875 26.90625 -1.421875 \r\nQ 22.3125 -1.421875 17.546875 -0.640625 \r\nQ 12.796875 0.140625 7.71875 1.703125 \r\nL 7.71875 11.625 \r\nQ 12.109375 9.234375 16.796875 8.0625 \r\nQ 21.484375 6.890625 26.703125 6.890625 \r\nQ 35.15625 6.890625 40.078125 11.328125 \r\nQ 45.015625 15.765625 45.015625 23.390625 \r\nQ 45.015625 31 40.078125 35.4375 \r\nQ 35.15625 39.890625 26.703125 39.890625 \r\nQ 22.75 39.890625 18.8125 39.015625 \r\nQ 14.890625 38.140625 10.796875 36.28125 \r\nz\r\n\" id=\"DejaVuSans-53\"/>\r\n      </defs>\r\n      <g transform=\"translate(13.5625 165.57766)scale(0.1 -0.1)\">\r\n       <use xlink:href=\"#DejaVuSans-53\"/>\r\n      </g>\r\n     </g>\r\n    </g>\r\n    <g id=\"ytick_3\">\r\n     <g id=\"line2d_10\">\r\n      <g>\r\n       <use style=\"stroke:#000000;stroke-width:0.8;\" x=\"26.925\" xlink:href=\"#mc626db1845\" y=\"114.713506\"/>\r\n      </g>\r\n     </g>\r\n     <g id=\"text_11\">\r\n      <!-- 10 -->\r\n      <g transform=\"translate(7.2 118.512725)scale(0.1 -0.1)\">\r\n       <use xlink:href=\"#DejaVuSans-49\"/>\r\n       <use x=\"63.623047\" xlink:href=\"#DejaVuSans-48\"/>\r\n      </g>\r\n     </g>\r\n    </g>\r\n    <g id=\"ytick_4\">\r\n     <g id=\"line2d_11\">\r\n      <g>\r\n       <use style=\"stroke:#000000;stroke-width:0.8;\" x=\"26.925\" xlink:href=\"#mc626db1845\" y=\"67.648571\"/>\r\n      </g>\r\n     </g>\r\n     <g id=\"text_12\">\r\n      <!-- 15 -->\r\n      <g transform=\"translate(7.2 71.44779)scale(0.1 -0.1)\">\r\n       <use xlink:href=\"#DejaVuSans-49\"/>\r\n       <use x=\"63.623047\" xlink:href=\"#DejaVuSans-53\"/>\r\n      </g>\r\n     </g>\r\n    </g>\r\n    <g id=\"ytick_5\">\r\n     <g id=\"line2d_12\">\r\n      <g>\r\n       <use style=\"stroke:#000000;stroke-width:0.8;\" x=\"26.925\" xlink:href=\"#mc626db1845\" y=\"20.583636\"/>\r\n      </g>\r\n     </g>\r\n     <g id=\"text_13\">\r\n      <!-- 20 -->\r\n      <g transform=\"translate(7.2 24.382855)scale(0.1 -0.1)\">\r\n       <use xlink:href=\"#DejaVuSans-50\"/>\r\n       <use x=\"63.623047\" xlink:href=\"#DejaVuSans-48\"/>\r\n      </g>\r\n     </g>\r\n    </g>\r\n   </g>\r\n   <g id=\"line2d_13\">\r\n    <path clip-path=\"url(#p3f8c624472)\" d=\"M 26.925 213.378118 \r\nL 28.657151 209.434423 \r\nL 31.131652 203.799646 \r\nL 32.368902 201.590546 \r\nL 33.358703 200.326251 \r\nL 34.101053 199.726116 \r\nL 34.843404 199.448964 \r\nL 35.585754 199.504614 \r\nL 36.328104 199.891094 \r\nL 37.070455 200.594713 \r\nL 37.812805 201.590546 \r\nL 38.802605 203.310562 \r\nL 40.039856 205.934604 \r\nL 43.999058 214.84344 \r\nL 44.988858 216.458643 \r\nL 45.731208 217.360502 \r\nL 46.473559 217.960637 \r\nL 47.215909 218.237789 \r\nL 47.958259 218.18214 \r\nL 48.70061 217.795659 \r\nL 49.44296 217.09204 \r\nL 50.18531 216.096208 \r\nL 51.175111 214.376191 \r\nL 52.412361 211.75215 \r\nL 56.371563 202.843313 \r\nL 57.361364 201.22811 \r\nL 58.103714 200.326251 \r\nL 58.846064 199.726116 \r\nL 59.588415 199.448964 \r\nL 60.330765 199.504614 \r\nL 61.073115 199.891094 \r\nL 61.815466 200.594713 \r\nL 62.557816 201.590546 \r\nL 63.547616 203.310562 \r\nL 64.784867 205.934604 \r\nL 68.744069 214.84344 \r\nL 69.733869 216.458643 \r\nL 70.47622 217.360502 \r\nL 71.21857 217.960637 \r\nL 71.96092 218.237789 \r\nL 72.703271 218.18214 \r\nL 73.445621 217.795659 \r\nL 74.187971 217.09204 \r\nL 74.930322 216.096208 \r\nL 75.920122 214.376191 \r\nL 77.157373 211.75215 \r\nL 81.116574 202.843313 \r\nL 82.106375 201.22811 \r\nL 82.848725 200.326251 \r\nL 83.591075 199.726116 \r\nL 84.333426 199.448964 \r\nL 85.075776 199.504614 \r\nL 85.818126 199.891094 \r\nL 86.560477 200.594713 \r\nL 87.302827 201.590546 \r\nL 88.292627 203.310562 \r\nL 89.529878 205.934604 \r\nL 93.48908 214.84344 \r\nL 94.47888 216.458643 \r\nL 95.221231 217.360502 \r\nL 95.963581 217.960637 \r\nL 96.705931 218.237789 \r\nL 97.448282 218.18214 \r\nL 98.190632 217.795659 \r\nL 98.932982 217.09204 \r\nL 99.675333 216.096208 \r\nL 100.665133 214.376191 \r\nL 101.902384 211.75215 \r\nL 105.861585 202.843313 \r\nL 106.851386 201.22811 \r\nL 107.593736 200.326251 \r\nL 108.336086 199.726116 \r\nL 109.078437 199.448964 \r\nL 109.820787 199.504614 \r\nL 110.563137 199.891094 \r\nL 111.305488 200.594713 \r\nL 112.047838 201.590546 \r\nL 113.037639 203.310562 \r\nL 114.274889 205.934604 \r\nL 118.234091 214.84344 \r\nL 119.223891 216.458643 \r\nL 119.966242 217.360502 \r\nL 120.708592 217.960637 \r\nL 121.450942 218.237789 \r\nL 122.193293 218.18214 \r\nL 122.935643 217.795659 \r\nL 123.677993 217.09204 \r\nL 124.420344 216.096208 \r\nL 125.410144 214.376191 \r\nL 126.647395 211.75215 \r\nL 130.606596 202.843313 \r\nL 131.596397 201.22811 \r\nL 132.338747 200.326251 \r\nL 133.081098 199.726116 \r\nL 133.823448 199.448964 \r\nL 134.565798 199.504614 \r\nL 135.308149 199.891094 \r\nL 136.050499 200.594713 \r\nL 136.792849 201.590546 \r\nL 137.78265 203.310562 \r\nL 139.0199 205.934604 \r\nL 142.979102 214.84344 \r\nL 143.968902 216.458643 \r\nL 144.711253 217.360502 \r\nL 145.453603 217.960637 \r\nL 146.195953 218.237789 \r\nL 146.938304 218.18214 \r\nL 147.680654 217.795659 \r\nL 148.423004 217.09204 \r\nL 149.165355 216.096208 \r\nL 150.155155 214.376191 \r\nL 151.392406 211.75215 \r\nL 155.351608 202.843313 \r\nL 156.341408 201.22811 \r\nL 157.083758 200.326251 \r\nL 157.826109 199.726116 \r\nL 158.568459 199.448964 \r\nL 159.310809 199.504614 \r\nL 160.05316 199.891094 \r\nL 160.79551 200.594713 \r\nL 161.53786 201.590546 \r\nL 162.527661 203.310562 \r\nL 163.764911 205.934604 \r\nL 167.724113 214.84344 \r\nL 168.713914 216.458643 \r\nL 169.456264 217.360502 \r\nL 170.198614 217.960637 \r\nL 170.940965 218.237789 \r\nL 171.683315 218.18214 \r\nL 172.425665 217.795659 \r\nL 173.168016 217.09204 \r\nL 173.910366 216.096208 \r\nL 174.900166 214.376191 \r\nL 176.137417 211.75215 \r\nL 180.096619 202.843313 \r\nL 181.086419 201.22811 \r\nL 181.828769 200.326251 \r\nL 182.57112 199.726116 \r\nL 183.31347 199.448964 \r\nL 184.05582 199.504614 \r\nL 184.798171 199.891094 \r\nL 185.540521 200.594713 \r\nL 186.282871 201.590546 \r\nL 187.272672 203.310562 \r\nL 188.509922 205.934604 \r\nL 192.469124 214.84344 \r\nL 193.458925 216.458643 \r\nL 194.201275 217.360502 \r\nL 194.943625 217.960637 \r\nL 195.685976 218.237789 \r\nL 196.428326 218.18214 \r\nL 197.170676 217.795659 \r\nL 197.913027 217.09204 \r\nL 198.655377 216.096208 \r\nL 199.645177 214.376191 \r\nL 200.882428 211.75215 \r\nL 204.84163 202.843313 \r\nL 205.83143 201.22811 \r\nL 206.57378 200.326251 \r\nL 207.316131 199.726116 \r\nL 208.058481 199.448964 \r\nL 208.800831 199.504614 \r\nL 209.543182 199.891094 \r\nL 210.285532 200.594713 \r\nL 211.027882 201.590546 \r\nL 212.017683 203.310562 \r\nL 213.254933 205.934604 \r\nL 217.214135 214.84344 \r\nL 218.203936 216.458643 \r\nL 218.946286 217.360502 \r\nL 219.688636 217.960637 \r\nL 220.430987 218.237789 \r\nL 221.173337 218.18214 \r\nL 221.915687 217.795659 \r\nL 222.658038 217.09204 \r\nL 223.400388 216.096208 \r\nL 224.390188 214.376191 \r\nL 225.627439 211.75215 \r\nL 229.586641 202.843313 \r\nL 230.576441 201.22811 \r\nL 231.318792 200.326251 \r\nL 232.061142 199.726116 \r\nL 232.803492 199.448964 \r\nL 233.545843 199.504614 \r\nL 234.288193 199.891094 \r\nL 235.030543 200.594713 \r\nL 235.772894 201.590546 \r\nL 236.762694 203.310562 \r\nL 237.999945 205.934604 \r\nL 241.959146 214.84344 \r\nL 242.948947 216.458643 \r\nL 243.691297 217.360502 \r\nL 244.433647 217.960637 \r\nL 245.175998 218.237789 \r\nL 245.918348 218.18214 \r\nL 246.660698 217.795659 \r\nL 247.403049 217.09204 \r\nL 248.145399 216.096208 \r\nL 249.1352 214.376191 \r\nL 250.37245 211.75215 \r\nL 254.331652 202.843313 \r\nL 255.321452 201.22811 \r\nL 256.063803 200.326251 \r\nL 256.806153 199.726116 \r\nL 257.548503 199.448964 \r\nL 258.290854 199.504614 \r\nL 259.033204 199.891094 \r\nL 259.775554 200.594713 \r\nL 260.517905 201.590546 \r\nL 261.507705 203.310562 \r\nL 262.744956 205.934604 \r\nL 266.704157 214.84344 \r\nL 267.693958 216.458643 \r\nL 268.436308 217.360502 \r\nL 269.178659 217.960637 \r\nL 269.921009 218.237789 \r\nL 270.663359 218.18214 \r\nL 271.40571 217.795659 \r\nL 272.14806 217.09204 \r\nL 272.89041 216.096208 \r\nL 273.880211 214.376191 \r\nL 275.117461 211.75215 \r\nL 279.076663 202.843313 \r\nL 280.066463 201.22811 \r\nL 280.808814 200.326251 \r\nL 281.551164 199.726116 \r\nL 282.293514 199.448964 \r\nL 283.035865 199.504614 \r\nL 283.778215 199.891094 \r\nL 284.520565 200.594713 \r\nL 285.262916 201.590546 \r\nL 286.252716 203.310562 \r\nL 287.489967 205.934604 \r\nL 291.449169 214.84344 \r\nL 292.438969 216.458643 \r\nL 293.181319 217.360502 \r\nL 293.92367 217.960637 \r\nL 294.66602 218.237789 \r\nL 295.40837 218.18214 \r\nL 296.150721 217.795659 \r\nL 296.893071 217.09204 \r\nL 297.635421 216.096208 \r\nL 298.625222 214.376191 \r\nL 299.862472 211.75215 \r\nL 303.821674 202.843313 \r\nL 304.811475 201.22811 \r\nL 305.553825 200.326251 \r\nL 306.296175 199.726116 \r\nL 307.038525 199.448964 \r\nL 307.780876 199.504614 \r\nL 308.523226 199.891094 \r\nL 309.265576 200.594713 \r\nL 310.007927 201.590546 \r\nL 310.997727 203.310562 \r\nL 312.234978 205.934604 \r\nL 316.19418 214.84344 \r\nL 317.18398 216.458643 \r\nL 317.92633 217.360502 \r\nL 318.668681 217.960637 \r\nL 319.411031 218.237789 \r\nL 320.153381 218.18214 \r\nL 320.895732 217.795659 \r\nL 321.638082 217.09204 \r\nL 322.380432 216.096208 \r\nL 323.370233 214.376191 \r\nL 324.607483 211.75215 \r\nL 328.566685 202.843313 \r\nL 329.556486 201.22811 \r\nL 330.298836 200.326251 \r\nL 331.041186 199.726116 \r\nL 331.783537 199.448964 \r\nL 332.525887 199.504614 \r\nL 333.268237 199.891094 \r\nL 334.010588 200.594713 \r\nL 334.752938 201.590546 \r\nL 335.742738 203.310562 \r\nL 336.979989 205.934604 \r\nL 340.939191 214.84344 \r\nL 341.928991 216.458643 \r\nL 342.671341 217.360502 \r\nL 343.413692 217.960637 \r\nL 344.156042 218.237789 \r\nL 344.898392 218.18214 \r\nL 345.640743 217.795659 \r\nL 346.383093 217.09204 \r\nL 347.125443 216.096208 \r\nL 348.115244 214.376191 \r\nL 349.352494 211.75215 \r\nL 353.311696 202.843313 \r\nL 354.301497 201.22811 \r\nL 355.043847 200.326251 \r\nL 355.786197 199.726116 \r\nL 356.528548 199.448964 \r\nL 357.270898 199.504614 \r\nL 358.013248 199.891094 \r\nL 358.755599 200.594713 \r\nL 359.497949 201.590546 \r\nL 360.487749 203.310562 \r\nL 361.725 205.934604 \r\nL 361.725 205.934604 \r\n\" style=\"fill:none;stroke:#1f77b4;stroke-linecap:square;stroke-width:1.5;\"/>\r\n   </g>\r\n   <g id=\"line2d_14\">\r\n    <path clip-path=\"url(#p3f8c624472)\" d=\"M 26.925 199.432454 \r\nL 27.66735 199.636086 \r\nL 28.409701 200.165891 \r\nL 29.152051 201.0031 \r\nL 30.141851 202.544859 \r\nL 31.379102 205.01477 \r\nL 33.358703 209.631035 \r\nL 35.338304 214.052444 \r\nL 36.575554 216.220273 \r\nL 37.565355 217.442568 \r\nL 38.307705 218.007662 \r\nL 39.050055 218.248107 \r\nL 39.544956 218.223351 \r\nL 40.287306 217.909613 \r\nL 41.029656 217.2747 \r\nL 41.772007 216.341102 \r\nL 42.761807 214.690232 \r\nL 43.999058 212.124481 \r\nL 48.45316 202.257455 \r\nL 49.44296 200.791844 \r\nL 50.18531 200.020754 \r\nL 50.927661 199.562209 \r\nL 51.670011 199.432454 \r\nL 52.412361 199.636086 \r\nL 53.154712 200.165891 \r\nL 53.897062 201.0031 \r\nL 54.886863 202.544859 \r\nL 56.124113 205.01477 \r\nL 58.103714 209.631035 \r\nL 60.083315 214.052444 \r\nL 61.320565 216.220273 \r\nL 62.310366 217.442568 \r\nL 63.052716 218.007662 \r\nL 63.795067 218.248107 \r\nL 64.289967 218.223351 \r\nL 65.032317 217.909613 \r\nL 65.774667 217.2747 \r\nL 66.517018 216.341102 \r\nL 67.506818 214.690232 \r\nL 68.744069 212.124481 \r\nL 73.198171 202.257455 \r\nL 74.187971 200.791844 \r\nL 74.930322 200.020754 \r\nL 75.672672 199.562209 \r\nL 76.415022 199.432454 \r\nL 77.157373 199.636086 \r\nL 77.899723 200.165891 \r\nL 78.642073 201.0031 \r\nL 79.631874 202.544859 \r\nL 80.869124 205.01477 \r\nL 82.848725 209.631035 \r\nL 84.828326 214.052444 \r\nL 86.065576 216.220273 \r\nL 87.055377 217.442568 \r\nL 87.797727 218.007662 \r\nL 88.540078 218.248107 \r\nL 89.034978 218.223351 \r\nL 89.777328 217.909613 \r\nL 90.519678 217.2747 \r\nL 91.262029 216.341102 \r\nL 92.251829 214.690232 \r\nL 93.48908 212.124481 \r\nL 97.943182 202.257455 \r\nL 98.932982 200.791844 \r\nL 99.675333 200.020754 \r\nL 100.417683 199.562209 \r\nL 101.160033 199.432454 \r\nL 101.902384 199.636086 \r\nL 102.644734 200.165891 \r\nL 103.387084 201.0031 \r\nL 104.376885 202.544859 \r\nL 105.614135 205.01477 \r\nL 107.593736 209.631035 \r\nL 109.573337 214.052444 \r\nL 110.810588 216.220273 \r\nL 111.800388 217.442568 \r\nL 112.542738 218.007662 \r\nL 113.285089 218.248107 \r\nL 113.779989 218.223351 \r\nL 114.522339 217.909613 \r\nL 115.26469 217.2747 \r\nL 116.00704 216.341102 \r\nL 116.99684 214.690232 \r\nL 118.234091 212.124481 \r\nL 122.688193 202.257455 \r\nL 123.677993 200.791844 \r\nL 124.420344 200.020754 \r\nL 125.162694 199.562209 \r\nL 125.905044 199.432454 \r\nL 126.647395 199.636086 \r\nL 127.389745 200.165891 \r\nL 128.132095 201.0031 \r\nL 129.121896 202.544859 \r\nL 130.359146 205.01477 \r\nL 132.338747 209.631035 \r\nL 134.318348 214.052444 \r\nL 135.555599 216.220273 \r\nL 136.545399 217.442568 \r\nL 137.287749 218.007662 \r\nL 138.0301 218.248107 \r\nL 138.525 218.223351 \r\nL 139.26735 217.909613 \r\nL 140.009701 217.2747 \r\nL 140.752051 216.341102 \r\nL 141.741851 214.690232 \r\nL 142.979102 212.124481 \r\nL 147.433204 202.257455 \r\nL 148.423004 200.791844 \r\nL 149.165355 200.020754 \r\nL 149.907705 199.562209 \r\nL 150.650055 199.432454 \r\nL 151.392406 199.636086 \r\nL 152.134756 200.165891 \r\nL 152.877106 201.0031 \r\nL 153.866907 202.544859 \r\nL 155.104157 205.01477 \r\nL 157.083758 209.631035 \r\nL 159.063359 214.052444 \r\nL 160.30061 216.220273 \r\nL 161.29041 217.442568 \r\nL 162.032761 218.007662 \r\nL 162.775111 218.248107 \r\nL 163.270011 218.223351 \r\nL 164.012361 217.909613 \r\nL 164.754712 217.2747 \r\nL 165.497062 216.341102 \r\nL 166.486863 214.690232 \r\nL 167.724113 212.124481 \r\nL 172.178215 202.257455 \r\nL 173.168016 200.791844 \r\nL 173.910366 200.020754 \r\nL 174.652716 199.562209 \r\nL 175.395067 199.432454 \r\nL 176.137417 199.636086 \r\nL 176.879767 200.165891 \r\nL 177.622118 201.0031 \r\nL 178.611918 202.544859 \r\nL 179.849169 205.01477 \r\nL 181.828769 209.631035 \r\nL 183.80837 214.052444 \r\nL 185.045621 216.220273 \r\nL 186.035421 217.442568 \r\nL 186.777772 218.007662 \r\nL 187.520122 218.248107 \r\nL 188.015022 218.223351 \r\nL 188.757373 217.909613 \r\nL 189.499723 217.2747 \r\nL 190.242073 216.341102 \r\nL 191.231874 214.690232 \r\nL 192.469124 212.124481 \r\nL 196.923226 202.257455 \r\nL 197.913027 200.791844 \r\nL 198.655377 200.020754 \r\nL 199.397727 199.562209 \r\nL 200.140078 199.432454 \r\nL 200.882428 199.636086 \r\nL 201.624778 200.165891 \r\nL 202.367129 201.0031 \r\nL 203.356929 202.544859 \r\nL 204.59418 205.01477 \r\nL 206.57378 209.631035 \r\nL 208.553381 214.052444 \r\nL 209.790632 216.220273 \r\nL 210.780432 217.442568 \r\nL 211.522783 218.007662 \r\nL 212.265133 218.248107 \r\nL 212.760033 218.223351 \r\nL 213.502384 217.909613 \r\nL 214.244734 217.2747 \r\nL 214.987084 216.341102 \r\nL 215.976885 214.690232 \r\nL 217.214135 212.124481 \r\nL 221.668237 202.257455 \r\nL 222.658038 200.791844 \r\nL 223.400388 200.020754 \r\nL 224.142738 199.562209 \r\nL 224.885089 199.432454 \r\nL 225.627439 199.636086 \r\nL 226.369789 200.165891 \r\nL 227.11214 201.0031 \r\nL 228.10194 202.544859 \r\nL 229.339191 205.01477 \r\nL 231.318792 209.631035 \r\nL 233.298392 214.052444 \r\nL 234.535643 216.220273 \r\nL 235.525443 217.442568 \r\nL 236.267794 218.007662 \r\nL 237.010144 218.248107 \r\nL 237.505044 218.223351 \r\nL 238.247395 217.909613 \r\nL 238.989745 217.2747 \r\nL 239.732095 216.341102 \r\nL 240.721896 214.690232 \r\nL 241.959146 212.124481 \r\nL 246.413248 202.257455 \r\nL 247.403049 200.791844 \r\nL 248.145399 200.020754 \r\nL 248.887749 199.562209 \r\nL 249.6301 199.432454 \r\nL 250.37245 199.636086 \r\nL 251.1148 200.165891 \r\nL 251.857151 201.0031 \r\nL 252.846951 202.544859 \r\nL 254.084202 205.01477 \r\nL 256.063803 209.631035 \r\nL 258.043404 214.052444 \r\nL 259.280654 216.220273 \r\nL 260.270455 217.442568 \r\nL 261.012805 218.007662 \r\nL 261.755155 218.248107 \r\nL 262.250055 218.223351 \r\nL 262.992406 217.909613 \r\nL 263.734756 217.2747 \r\nL 264.477106 216.341102 \r\nL 265.466907 214.690232 \r\nL 266.704157 212.124481 \r\nL 271.158259 202.257455 \r\nL 272.14806 200.791844 \r\nL 272.89041 200.020754 \r\nL 273.632761 199.562209 \r\nL 274.375111 199.432454 \r\nL 275.117461 199.636086 \r\nL 275.859812 200.165891 \r\nL 276.602162 201.0031 \r\nL 277.591962 202.544859 \r\nL 278.829213 205.01477 \r\nL 280.808814 209.631035 \r\nL 282.788415 214.052444 \r\nL 284.025665 216.220273 \r\nL 285.015466 217.442568 \r\nL 285.757816 218.007662 \r\nL 286.500166 218.248107 \r\nL 286.995067 218.223351 \r\nL 287.737417 217.909613 \r\nL 288.479767 217.2747 \r\nL 289.222118 216.341102 \r\nL 290.211918 214.690232 \r\nL 291.449169 212.124481 \r\nL 295.903271 202.257455 \r\nL 296.893071 200.791844 \r\nL 297.635421 200.020754 \r\nL 298.377772 199.562209 \r\nL 299.120122 199.432454 \r\nL 299.862472 199.636086 \r\nL 300.604823 200.165891 \r\nL 301.347173 201.0031 \r\nL 302.336973 202.544859 \r\nL 303.574224 205.01477 \r\nL 305.553825 209.631035 \r\nL 307.533426 214.052444 \r\nL 308.770676 216.220273 \r\nL 309.760477 217.442568 \r\nL 310.502827 218.007662 \r\nL 311.245177 218.248107 \r\nL 311.740078 218.223351 \r\nL 312.482428 217.909613 \r\nL 313.224778 217.2747 \r\nL 313.967129 216.341102 \r\nL 314.956929 214.690232 \r\nL 316.19418 212.124481 \r\nL 320.648282 202.257455 \r\nL 321.638082 200.791844 \r\nL 322.380432 200.020754 \r\nL 323.122783 199.562209 \r\nL 323.865133 199.432454 \r\nL 324.607483 199.636086 \r\nL 325.349834 200.165891 \r\nL 326.092184 201.0031 \r\nL 327.081984 202.544859 \r\nL 328.319235 205.01477 \r\nL 330.298836 209.631035 \r\nL 332.278437 214.052444 \r\nL 333.515687 216.220273 \r\nL 334.505488 217.442568 \r\nL 335.247838 218.007662 \r\nL 335.990188 218.248107 \r\nL 336.485089 218.223351 \r\nL 337.227439 217.909613 \r\nL 337.969789 217.2747 \r\nL 338.71214 216.341102 \r\nL 339.70194 214.690232 \r\nL 340.939191 212.124481 \r\nL 345.393293 202.257455 \r\nL 346.383093 200.791844 \r\nL 347.125443 200.020754 \r\nL 347.867794 199.562209 \r\nL 348.610144 199.432454 \r\nL 349.352494 199.636086 \r\nL 350.094845 200.165891 \r\nL 350.837195 201.0031 \r\nL 351.826996 202.544859 \r\nL 353.064246 205.01477 \r\nL 355.043847 209.631035 \r\nL 357.023448 214.052444 \r\nL 358.260698 216.220273 \r\nL 359.250499 217.442568 \r\nL 359.992849 218.007662 \r\nL 360.7352 218.248107 \r\nL 361.2301 218.223351 \r\nL 361.725 218.050668 \r\nL 361.725 218.050668 \r\n\" style=\"fill:none;stroke:#ff7f0e;stroke-linecap:square;stroke-width:1.5;\"/>\r\n   </g>\r\n   <g id=\"line2d_15\">\r\n    <path clip-path=\"url(#p3f8c624472)\" d=\"M 26.925 213.719558 \r\nL 28.162251 215.968961 \r\nL 29.152051 217.2747 \r\nL 29.894401 217.909613 \r\nL 30.636752 218.223351 \r\nL 31.379102 218.204799 \r\nL 32.121452 217.854613 \r\nL 32.863803 217.185199 \r\nL 33.606153 216.220273 \r\nL 34.595953 214.53446 \r\nL 35.833204 211.938994 \r\nL 40.039856 202.544859 \r\nL 41.029656 201.0031 \r\nL 41.772007 200.165891 \r\nL 42.514357 199.636086 \r\nL 43.256707 199.432454 \r\nL 43.751608 199.481955 \r\nL 44.493958 199.832141 \r\nL 45.236308 200.501554 \r\nL 45.978659 201.466481 \r\nL 46.968459 203.152293 \r\nL 48.20571 205.747759 \r\nL 52.412361 215.141894 \r\nL 53.402162 216.683654 \r\nL 54.144512 217.520862 \r\nL 54.886863 218.050668 \r\nL 55.629213 218.254299 \r\nL 56.124113 218.204799 \r\nL 56.866463 217.854613 \r\nL 57.608814 217.185199 \r\nL 58.351164 216.220273 \r\nL 59.340965 214.53446 \r\nL 60.578215 211.938994 \r\nL 64.784867 202.544859 \r\nL 65.774667 201.0031 \r\nL 66.517018 200.165891 \r\nL 67.259368 199.636086 \r\nL 68.001718 199.432454 \r\nL 68.496619 199.481955 \r\nL 69.238969 199.832141 \r\nL 69.981319 200.501554 \r\nL 70.72367 201.466481 \r\nL 71.71347 203.152293 \r\nL 72.950721 205.747759 \r\nL 77.157373 215.141894 \r\nL 78.147173 216.683654 \r\nL 78.889523 217.520862 \r\nL 79.631874 218.050668 \r\nL 80.374224 218.254299 \r\nL 80.869124 218.204799 \r\nL 81.611475 217.854613 \r\nL 82.353825 217.185199 \r\nL 83.096175 216.220273 \r\nL 84.085976 214.53446 \r\nL 85.323226 211.938994 \r\nL 89.529878 202.544859 \r\nL 90.519678 201.0031 \r\nL 91.262029 200.165891 \r\nL 92.004379 199.636086 \r\nL 92.746729 199.432454 \r\nL 93.24163 199.481955 \r\nL 93.98398 199.832141 \r\nL 94.72633 200.501554 \r\nL 95.468681 201.466481 \r\nL 96.458481 203.152293 \r\nL 97.695732 205.747759 \r\nL 101.902384 215.141894 \r\nL 102.892184 216.683654 \r\nL 103.634534 217.520862 \r\nL 104.376885 218.050668 \r\nL 105.119235 218.254299 \r\nL 105.614135 218.204799 \r\nL 106.356486 217.854613 \r\nL 107.098836 217.185199 \r\nL 107.841186 216.220273 \r\nL 108.830987 214.53446 \r\nL 110.068237 211.938994 \r\nL 114.274889 202.544859 \r\nL 115.26469 201.0031 \r\nL 116.00704 200.165891 \r\nL 116.74939 199.636086 \r\nL 117.491741 199.432454 \r\nL 117.986641 199.481955 \r\nL 118.728991 199.832141 \r\nL 119.471341 200.501554 \r\nL 120.213692 201.466481 \r\nL 121.203492 203.152293 \r\nL 122.440743 205.747759 \r\nL 126.647395 215.141894 \r\nL 127.637195 216.683654 \r\nL 128.379545 217.520862 \r\nL 129.121896 218.050668 \r\nL 129.864246 218.254299 \r\nL 130.359146 218.204799 \r\nL 131.101497 217.854613 \r\nL 131.843847 217.185199 \r\nL 132.586197 216.220273 \r\nL 133.575998 214.53446 \r\nL 134.813248 211.938994 \r\nL 139.0199 202.544859 \r\nL 140.009701 201.0031 \r\nL 140.752051 200.165891 \r\nL 141.494401 199.636086 \r\nL 142.236752 199.432454 \r\nL 142.731652 199.481955 \r\nL 143.474002 199.832141 \r\nL 144.216353 200.501554 \r\nL 144.958703 201.466481 \r\nL 145.948503 203.152293 \r\nL 147.185754 205.747759 \r\nL 151.392406 215.141894 \r\nL 152.382206 216.683654 \r\nL 153.124557 217.520862 \r\nL 153.866907 218.050668 \r\nL 154.609257 218.254299 \r\nL 155.104157 218.204799 \r\nL 155.846508 217.854613 \r\nL 156.588858 217.185199 \r\nL 157.331208 216.220273 \r\nL 158.321009 214.53446 \r\nL 159.558259 211.938994 \r\nL 163.764911 202.544859 \r\nL 164.754712 201.0031 \r\nL 165.497062 200.165891 \r\nL 166.239412 199.636086 \r\nL 166.981763 199.432454 \r\nL 167.476663 199.481955 \r\nL 168.219013 199.832141 \r\nL 168.961364 200.501554 \r\nL 169.703714 201.466481 \r\nL 170.693514 203.152293 \r\nL 171.930765 205.747759 \r\nL 176.137417 215.141894 \r\nL 177.127217 216.683654 \r\nL 177.869568 217.520862 \r\nL 178.611918 218.050668 \r\nL 179.354268 218.254299 \r\nL 179.849169 218.204799 \r\nL 180.591519 217.854613 \r\nL 181.333869 217.185199 \r\nL 182.07622 216.220273 \r\nL 183.06602 214.53446 \r\nL 184.303271 211.938994 \r\nL 188.509922 202.544859 \r\nL 189.499723 201.0031 \r\nL 190.242073 200.165891 \r\nL 190.984424 199.636086 \r\nL 191.726774 199.432454 \r\nL 192.221674 199.481955 \r\nL 192.964024 199.832141 \r\nL 193.706375 200.501554 \r\nL 194.448725 201.466481 \r\nL 195.438525 203.152293 \r\nL 196.675776 205.747759 \r\nL 200.882428 215.141894 \r\nL 201.872228 216.683654 \r\nL 202.614579 217.520862 \r\nL 203.356929 218.050668 \r\nL 204.099279 218.254299 \r\nL 204.59418 218.204799 \r\nL 205.33653 217.854613 \r\nL 206.07888 217.185199 \r\nL 206.821231 216.220273 \r\nL 207.811031 214.53446 \r\nL 209.048282 211.938994 \r\nL 213.254933 202.544859 \r\nL 214.244734 201.0031 \r\nL 214.987084 200.165891 \r\nL 215.729435 199.636086 \r\nL 216.471785 199.432454 \r\nL 216.966685 199.481955 \r\nL 217.709035 199.832141 \r\nL 218.451386 200.501554 \r\nL 219.193736 201.466481 \r\nL 220.183537 203.152293 \r\nL 221.420787 205.747759 \r\nL 225.627439 215.141894 \r\nL 226.617239 216.683654 \r\nL 227.35959 217.520862 \r\nL 228.10194 218.050668 \r\nL 228.84429 218.254299 \r\nL 229.339191 218.204799 \r\nL 230.081541 217.854613 \r\nL 230.823891 217.185199 \r\nL 231.566242 216.220273 \r\nL 232.556042 214.53446 \r\nL 233.793293 211.938994 \r\nL 237.999945 202.544859 \r\nL 238.989745 201.0031 \r\nL 239.732095 200.165891 \r\nL 240.474446 199.636086 \r\nL 241.216796 199.432454 \r\nL 241.711696 199.481955 \r\nL 242.454047 199.832141 \r\nL 243.196397 200.501554 \r\nL 243.938747 201.466481 \r\nL 244.928548 203.152293 \r\nL 246.165798 205.747759 \r\nL 250.37245 215.141894 \r\nL 251.362251 216.683654 \r\nL 252.104601 217.520862 \r\nL 252.846951 218.050668 \r\nL 253.589302 218.254299 \r\nL 254.084202 218.204799 \r\nL 254.826552 217.854613 \r\nL 255.568902 217.185199 \r\nL 256.311253 216.220273 \r\nL 257.301053 214.53446 \r\nL 258.538304 211.938994 \r\nL 262.744956 202.544859 \r\nL 263.734756 201.0031 \r\nL 264.477106 200.165891 \r\nL 265.219457 199.636086 \r\nL 265.961807 199.432454 \r\nL 266.456707 199.481955 \r\nL 267.199058 199.832141 \r\nL 267.941408 200.501554 \r\nL 268.683758 201.466481 \r\nL 269.673559 203.152293 \r\nL 270.910809 205.747759 \r\nL 275.117461 215.141894 \r\nL 276.107262 216.683654 \r\nL 276.849612 217.520862 \r\nL 277.591962 218.050668 \r\nL 278.334313 218.254299 \r\nL 278.829213 218.204799 \r\nL 279.571563 217.854613 \r\nL 280.313914 217.185199 \r\nL 281.056264 216.220273 \r\nL 282.046064 214.53446 \r\nL 283.283315 211.938994 \r\nL 287.489967 202.544859 \r\nL 288.479767 201.0031 \r\nL 289.222118 200.165891 \r\nL 289.964468 199.636086 \r\nL 290.706818 199.432454 \r\nL 291.201718 199.481955 \r\nL 291.944069 199.832141 \r\nL 292.686419 200.501554 \r\nL 293.428769 201.466481 \r\nL 294.41857 203.152293 \r\nL 295.65582 205.747759 \r\nL 299.862472 215.141894 \r\nL 300.852273 216.683654 \r\nL 301.594623 217.520862 \r\nL 302.336973 218.050668 \r\nL 303.079324 218.254299 \r\nL 303.574224 218.204799 \r\nL 304.316574 217.854613 \r\nL 305.058925 217.185199 \r\nL 305.801275 216.220273 \r\nL 306.791075 214.53446 \r\nL 308.028326 211.938994 \r\nL 312.234978 202.544859 \r\nL 313.224778 201.0031 \r\nL 313.967129 200.165891 \r\nL 314.709479 199.636086 \r\nL 315.451829 199.432454 \r\nL 315.946729 199.481955 \r\nL 316.68908 199.832141 \r\nL 317.43143 200.501554 \r\nL 318.17378 201.466481 \r\nL 319.163581 203.152293 \r\nL 320.400831 205.747759 \r\nL 324.607483 215.141894 \r\nL 325.597284 216.683654 \r\nL 326.339634 217.520862 \r\nL 327.081984 218.050668 \r\nL 327.824335 218.254299 \r\nL 328.319235 218.204799 \r\nL 329.061585 217.854613 \r\nL 329.803936 217.185199 \r\nL 330.546286 216.220273 \r\nL 331.536086 214.53446 \r\nL 332.773337 211.938994 \r\nL 336.979989 202.544859 \r\nL 337.969789 201.0031 \r\nL 338.71214 200.165891 \r\nL 339.45449 199.636086 \r\nL 340.19684 199.432454 \r\nL 340.691741 199.481955 \r\nL 341.434091 199.832141 \r\nL 342.176441 200.501554 \r\nL 342.918792 201.466481 \r\nL 343.908592 203.152293 \r\nL 345.145843 205.747759 \r\nL 349.352494 215.141894 \r\nL 350.342295 216.683654 \r\nL 351.084645 217.520862 \r\nL 351.826996 218.050668 \r\nL 352.569346 218.254299 \r\nL 353.064246 218.204799 \r\nL 353.806596 217.854613 \r\nL 354.548947 217.185199 \r\nL 355.291297 216.220273 \r\nL 356.281098 214.53446 \r\nL 357.518348 211.938994 \r\nL 361.725 202.544859 \r\nL 361.725 202.544859 \r\n\" style=\"fill:none;stroke:#2ca02c;stroke-linecap:square;stroke-width:1.5;\"/>\r\n   </g>\r\n   <g id=\"line2d_16\">\r\n    <path clip-path=\"url(#p3f8c624472)\" d=\"M 26.925 20.583636 \r\nL 361.725 20.583636 \r\nL 361.725 20.583636 \r\n\" style=\"fill:none;stroke:#d62728;stroke-linecap:square;stroke-width:1.5;\"/>\r\n   </g>\r\n   <g id=\"patch_3\">\r\n    <path d=\"M 26.925 228.14 \r\nL 26.925 10.7 \r\n\" style=\"fill:none;stroke:#000000;stroke-linecap:square;stroke-linejoin:miter;stroke-width:0.8;\"/>\r\n   </g>\r\n   <g id=\"patch_4\">\r\n    <path d=\"M 361.725 228.14 \r\nL 361.725 10.7 \r\n\" style=\"fill:none;stroke:#000000;stroke-linecap:square;stroke-linejoin:miter;stroke-width:0.8;\"/>\r\n   </g>\r\n   <g id=\"patch_5\">\r\n    <path d=\"M 26.925 228.14 \r\nL 361.725 228.14 \r\n\" style=\"fill:none;stroke:#000000;stroke-linecap:square;stroke-linejoin:miter;stroke-width:0.8;\"/>\r\n   </g>\r\n   <g id=\"patch_6\">\r\n    <path d=\"M 26.925 10.7 \r\nL 361.725 10.7 \r\n\" style=\"fill:none;stroke:#000000;stroke-linecap:square;stroke-linejoin:miter;stroke-width:0.8;\"/>\r\n   </g>\r\n   <g id=\"legend_1\">\r\n    <g id=\"patch_7\">\r\n     <path d=\"M 304.959375 150.27625 \r\nL 354.725 150.27625 \r\nQ 356.725 150.27625 356.725 148.27625 \r\nL 356.725 90.56375 \r\nQ 356.725 88.56375 354.725 88.56375 \r\nL 304.959375 88.56375 \r\nQ 302.959375 88.56375 302.959375 90.56375 \r\nL 302.959375 148.27625 \r\nQ 302.959375 150.27625 304.959375 150.27625 \r\nz\r\n\" style=\"fill:#ffffff;opacity:0.8;stroke:#cccccc;stroke-linejoin:miter;\"/>\r\n    </g>\r\n    <g id=\"line2d_17\">\r\n     <path d=\"M 306.959375 96.662187 \r\nL 326.959375 96.662187 \r\n\" style=\"fill:none;stroke:#1f77b4;stroke-linecap:square;stroke-width:1.5;\"/>\r\n    </g>\r\n    <g id=\"line2d_18\"/>\r\n    <g id=\"text_14\">\r\n     <!-- va -->\r\n     <defs>\r\n      <path d=\"M 2.984375 54.6875 \r\nL 12.5 54.6875 \r\nL 29.59375 8.796875 \r\nL 46.6875 54.6875 \r\nL 56.203125 54.6875 \r\nL 35.6875 0 \r\nL 23.484375 0 \r\nz\r\n\" id=\"DejaVuSans-118\"/>\r\n      <path d=\"M 34.28125 27.484375 \r\nQ 23.390625 27.484375 19.1875 25 \r\nQ 14.984375 22.515625 14.984375 16.5 \r\nQ 14.984375 11.71875 18.140625 8.90625 \r\nQ 21.296875 6.109375 26.703125 6.109375 \r\nQ 34.1875 6.109375 38.703125 11.40625 \r\nQ 43.21875 16.703125 43.21875 25.484375 \r\nL 43.21875 27.484375 \r\nz\r\nM 52.203125 31.203125 \r\nL 52.203125 0 \r\nL 43.21875 0 \r\nL 43.21875 8.296875 \r\nQ 40.140625 3.328125 35.546875 0.953125 \r\nQ 30.953125 -1.421875 24.3125 -1.421875 \r\nQ 15.921875 -1.421875 10.953125 3.296875 \r\nQ 6 8.015625 6 15.921875 \r\nQ 6 25.140625 12.171875 29.828125 \r\nQ 18.359375 34.515625 30.609375 34.515625 \r\nL 43.21875 34.515625 \r\nL 43.21875 35.40625 \r\nQ 43.21875 41.609375 39.140625 45 \r\nQ 35.0625 48.390625 27.6875 48.390625 \r\nQ 23 48.390625 18.546875 47.265625 \r\nQ 14.109375 46.140625 10.015625 43.890625 \r\nL 10.015625 52.203125 \r\nQ 14.9375 54.109375 19.578125 55.046875 \r\nQ 24.21875 56 28.609375 56 \r\nQ 40.484375 56 46.34375 49.84375 \r\nQ 52.203125 43.703125 52.203125 31.203125 \r\nz\r\n\" id=\"DejaVuSans-97\"/>\r\n     </defs>\r\n     <g transform=\"translate(334.959375 100.162187)scale(0.1 -0.1)\">\r\n      <use xlink:href=\"#DejaVuSans-118\"/>\r\n      <use x=\"59.179688\" xlink:href=\"#DejaVuSans-97\"/>\r\n     </g>\r\n    </g>\r\n    <g id=\"line2d_19\">\r\n     <path d=\"M 306.959375 111.340312 \r\nL 326.959375 111.340312 \r\n\" style=\"fill:none;stroke:#ff7f0e;stroke-linecap:square;stroke-width:1.5;\"/>\r\n    </g>\r\n    <g id=\"line2d_20\"/>\r\n    <g id=\"text_15\">\r\n     <!-- vb -->\r\n     <defs>\r\n      <path d=\"M 48.6875 27.296875 \r\nQ 48.6875 37.203125 44.609375 42.84375 \r\nQ 40.53125 48.484375 33.40625 48.484375 \r\nQ 26.265625 48.484375 22.1875 42.84375 \r\nQ 18.109375 37.203125 18.109375 27.296875 \r\nQ 18.109375 17.390625 22.1875 11.75 \r\nQ 26.265625 6.109375 33.40625 6.109375 \r\nQ 40.53125 6.109375 44.609375 11.75 \r\nQ 48.6875 17.390625 48.6875 27.296875 \r\nz\r\nM 18.109375 46.390625 \r\nQ 20.953125 51.265625 25.265625 53.625 \r\nQ 29.59375 56 35.59375 56 \r\nQ 45.5625 56 51.78125 48.09375 \r\nQ 58.015625 40.1875 58.015625 27.296875 \r\nQ 58.015625 14.40625 51.78125 6.484375 \r\nQ 45.5625 -1.421875 35.59375 -1.421875 \r\nQ 29.59375 -1.421875 25.265625 0.953125 \r\nQ 20.953125 3.328125 18.109375 8.203125 \r\nL 18.109375 0 \r\nL 9.078125 0 \r\nL 9.078125 75.984375 \r\nL 18.109375 75.984375 \r\nz\r\n\" id=\"DejaVuSans-98\"/>\r\n     </defs>\r\n     <g transform=\"translate(334.959375 114.840312)scale(0.1 -0.1)\">\r\n      <use xlink:href=\"#DejaVuSans-118\"/>\r\n      <use x=\"59.179688\" xlink:href=\"#DejaVuSans-98\"/>\r\n     </g>\r\n    </g>\r\n    <g id=\"line2d_21\">\r\n     <path d=\"M 306.959375 126.018437 \r\nL 326.959375 126.018437 \r\n\" style=\"fill:none;stroke:#2ca02c;stroke-linecap:square;stroke-width:1.5;\"/>\r\n    </g>\r\n    <g id=\"line2d_22\"/>\r\n    <g id=\"text_16\">\r\n     <!-- vc -->\r\n     <defs>\r\n      <path d=\"M 48.78125 52.59375 \r\nL 48.78125 44.1875 \r\nQ 44.96875 46.296875 41.140625 47.34375 \r\nQ 37.3125 48.390625 33.40625 48.390625 \r\nQ 24.65625 48.390625 19.8125 42.84375 \r\nQ 14.984375 37.3125 14.984375 27.296875 \r\nQ 14.984375 17.28125 19.8125 11.734375 \r\nQ 24.65625 6.203125 33.40625 6.203125 \r\nQ 37.3125 6.203125 41.140625 7.25 \r\nQ 44.96875 8.296875 48.78125 10.40625 \r\nL 48.78125 2.09375 \r\nQ 45.015625 0.34375 40.984375 -0.53125 \r\nQ 36.96875 -1.421875 32.421875 -1.421875 \r\nQ 20.0625 -1.421875 12.78125 6.34375 \r\nQ 5.515625 14.109375 5.515625 27.296875 \r\nQ 5.515625 40.671875 12.859375 48.328125 \r\nQ 20.21875 56 33.015625 56 \r\nQ 37.15625 56 41.109375 55.140625 \r\nQ 45.0625 54.296875 48.78125 52.59375 \r\nz\r\n\" id=\"DejaVuSans-99\"/>\r\n     </defs>\r\n     <g transform=\"translate(334.959375 129.518437)scale(0.1 -0.1)\">\r\n      <use xlink:href=\"#DejaVuSans-118\"/>\r\n      <use x=\"59.179688\" xlink:href=\"#DejaVuSans-99\"/>\r\n     </g>\r\n    </g>\r\n    <g id=\"line2d_23\">\r\n     <path d=\"M 306.959375 140.696562 \r\nL 326.959375 140.696562 \r\n\" style=\"fill:none;stroke:#d62728;stroke-linecap:square;stroke-width:1.5;\"/>\r\n    </g>\r\n    <g id=\"line2d_24\"/>\r\n    <g id=\"text_17\">\r\n     <!-- vdc -->\r\n     <defs>\r\n      <path d=\"M 45.40625 46.390625 \r\nL 45.40625 75.984375 \r\nL 54.390625 75.984375 \r\nL 54.390625 0 \r\nL 45.40625 0 \r\nL 45.40625 8.203125 \r\nQ 42.578125 3.328125 38.25 0.953125 \r\nQ 33.9375 -1.421875 27.875 -1.421875 \r\nQ 17.96875 -1.421875 11.734375 6.484375 \r\nQ 5.515625 14.40625 5.515625 27.296875 \r\nQ 5.515625 40.1875 11.734375 48.09375 \r\nQ 17.96875 56 27.875 56 \r\nQ 33.9375 56 38.25 53.625 \r\nQ 42.578125 51.265625 45.40625 46.390625 \r\nz\r\nM 14.796875 27.296875 \r\nQ 14.796875 17.390625 18.875 11.75 \r\nQ 22.953125 6.109375 30.078125 6.109375 \r\nQ 37.203125 6.109375 41.296875 11.75 \r\nQ 45.40625 17.390625 45.40625 27.296875 \r\nQ 45.40625 37.203125 41.296875 42.84375 \r\nQ 37.203125 48.484375 30.078125 48.484375 \r\nQ 22.953125 48.484375 18.875 42.84375 \r\nQ 14.796875 37.203125 14.796875 27.296875 \r\nz\r\n\" id=\"DejaVuSans-100\"/>\r\n     </defs>\r\n     <g transform=\"translate(334.959375 144.196562)scale(0.1 -0.1)\">\r\n      <use xlink:href=\"#DejaVuSans-118\"/>\r\n      <use x=\"59.179688\" xlink:href=\"#DejaVuSans-100\"/>\r\n      <use x=\"122.65625\" xlink:href=\"#DejaVuSans-99\"/>\r\n     </g>\r\n    </g>\r\n   </g>\r\n  </g>\r\n </g>\r\n <defs>\r\n  <clipPath id=\"p3f8c624472\">\r\n   <rect height=\"217.44\" width=\"334.8\" x=\"26.925\" y=\"10.7\"/>\r\n  </clipPath>\r\n </defs>\r\n</svg>\r\n",
      "image/png": "[encoded data removed]"
     },
     "metadata": {
      "needs_background": "light"
     }
    }
   ],
   "metadata": {}
  },
  {
   "cell_type": "code",
   "execution_count": null,
   "source": [
    "data.filter(regex=\"_star\").plot()"
   ],
   "outputs": [],
   "metadata": {}
  },
  {
   "cell_type": "code",
   "execution_count": null,
   "source": [
    "data.filter(regex=\"Ix_star\").plot()"
   ],
   "outputs": [],
   "metadata": {
    "scrolled": true
   }
  },
  {
   "cell_type": "code",
   "execution_count": null,
   "source": [],
   "outputs": [],
   "metadata": {
    "collapsed": false,
    "pycharm": {
     "name": "#%%\n"
    }
   }
  },
  {
   "cell_type": "code",
   "execution_count": null,
   "source": [],
   "outputs": [],
   "metadata": {
    "pycharm": {
     "name": "#%%\n"
    }
   }
  },
  {
   "cell_type": "code",
   "execution_count": null,
   "source": [],
   "outputs": [],
   "metadata": {
    "pycharm": {
     "name": "#%%\n"
    }
   }
  },
  {
   "cell_type": "code",
   "execution_count": null,
   "source": [],
   "outputs": [],
   "metadata": {}
  }
 ],
 "metadata": {
  "kernelspec": {
   "name": "python3",
   "display_name": "Python 3.7.3 64-bit ('base': conda)"
  },
  "language_info": {
   "codemirror_mode": {
    "name": "ipython",
    "version": 3
   },
   "file_extension": ".py",
   "mimetype": "text/x-python",
   "name": "python",
   "nbconvert_exporter": "python",
   "pygments_lexer": "ipython3",
   "version": "3.7.3"
  },
  "interpreter": {
   "hash": "b3ba2566441a7c06988d0923437866b63cedc61552a5af99d1f4fb67d367b25f"
  }
 },
 "nbformat": 4,
 "nbformat_minor": 2
}