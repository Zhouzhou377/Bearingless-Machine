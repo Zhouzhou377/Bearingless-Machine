{
 "cells": [
  {
   "cell_type": "markdown",
   "source": [
    "# Cabinet Start-Up Procedure"
   ],
   "metadata": {}
  },
  {
   "cell_type": "markdown",
   "source": [
    "1. Turn on cabinet power in back of cabinet\n",
    "2. Turn on sensor power (24 Volts). The sensor power inputs are labeled.\n",
    "3. Compile code to AMDC\n",
    "4. Turn on power to DC bus of cabinet.\n",
    "5. Run Jupyter Notebook. "
   ],
   "metadata": {}
  },
  {
   "cell_type": "markdown",
   "source": [
    "Import neccessary modules"
   ],
   "metadata": {}
  },
  {
   "cell_type": "code",
   "execution_count": null,
   "source": [
    "amdc.disconnect()\r\n",
    "\r\n"
   ],
   "outputs": [],
   "metadata": {}
  },
  {
   "cell_type": "code",
   "execution_count": null,
   "source": [
    "from Cabinet_Test import cmd\r\n",
    "import sys\r\n",
    "sys.path.append(r'..\\AMDC-Firmware\\scriptss')"
   ],
   "outputs": [],
   "metadata": {}
  },
  {
   "cell_type": "code",
   "execution_count": null,
   "source": [
    "from AMDC import AMDC"
   ],
   "outputs": [],
   "metadata": {}
  },
  {
   "cell_type": "code",
   "execution_count": null,
   "source": [
    "amdc = AMDC(port = 'COM13', cmdEcho = True, printOutput=True)"
   ],
   "outputs": [],
   "metadata": {}
  },
  {
   "cell_type": "code",
   "execution_count": null,
   "source": [
    "Vdc = 20\r\n",
    "cmd = cmd(Vdc, amdc, debug = False)   "
   ],
   "outputs": [],
   "metadata": {}
  },
  {
   "cell_type": "code",
   "execution_count": null,
   "source": [
    "cmd.init_twin_ctrl()\r\n",
    "cmd.twin_sel_config(0)\r\n",
    "cmd.twin_set_vdc(20)\r\n",
    "cmd.twin_set_trq(0,0)\r\n",
    "cmd.twin_set_s1(0,0)\r\n",
    "cmd.twin_set_s2(0,0)\r\n",
    "cmd.twin_set_freq(0)\r\n",
    "cmd.enable_pwm()\r\n",
    "cmd.twin_enable_ctrl()"
   ],
   "outputs": [],
   "metadata": {}
  },
  {
   "cell_type": "code",
   "execution_count": null,
   "source": [
    "cmd.twin_set_freq(100)\r\n",
    "cmd.twin_enable_testloop()\r\n"
   ],
   "outputs": [],
   "metadata": {}
  },
  {
   "cell_type": "code",
   "execution_count": null,
   "source": [
    "n=100\r\n",
    "i=0\r\n",
    "while i<n:\r\n",
    "    cmd.twin_set_trq(0,0)\r\n",
    "    cmd.twin_set_s1(0,0)\r\n",
    "    cmd.twin_set_s2(0,0)\r\n",
    "    #time.sleep(0.1)\r\n",
    "    cmd.twin_set_trq(0,3)\r\n",
    "    #time.sleep(0.1)\r\n",
    "    cmd.twin_set_s1(1,0)\r\n",
    "    #time.sleep(0.1)\r\n",
    "    cmd.twin_set_s2(1,0)\r\n",
    "    #time.sleep(0.1)\r\n",
    "    i+=1\r\n",
    "\r\n",
    "\r\n"
   ],
   "outputs": [],
   "metadata": {}
  },
  {
   "cell_type": "code",
   "execution_count": null,
   "source": [
    "\r\n",
    "cmd.twin_set_freq(100)\r\n",
    "cmd.twin_set_trq(0,3)\r\n",
    "cmd.twin_set_s1(0,1)\r\n",
    "cmd.twin_set_s2(1,0)\r\n",
    "\r\n"
   ],
   "outputs": [],
   "metadata": {}
  },
  {
   "cell_type": "code",
   "execution_count": null,
   "source": [
    "cmd.twin_disable_ctrl()\r\n",
    "cmd.disable_pwm()"
   ],
   "outputs": [],
   "metadata": {}
  },
  {
   "cell_type": "code",
   "execution_count": null,
   "source": [
    "cmd.twin_enable_ctrl()"
   ],
   "outputs": [],
   "metadata": {}
  },
  {
   "cell_type": "code",
   "execution_count": null,
   "source": [
    "cmd.twin_set_freq(10)\r\n",
    "cmd.twin_set_trq(0,1)\r\n",
    "cmd.twin_set_s1(0,1)\r\n",
    "cmd.twin_set_s2(0,1)"
   ],
   "outputs": [],
   "metadata": {
    "pycharm": {
     "name": "#%%\n"
    }
   }
  },
  {
   "cell_type": "code",
   "execution_count": null,
   "source": [
    "amdc.disconnect()"
   ],
   "outputs": [],
   "metadata": {}
  },
  {
   "cell_type": "markdown",
   "source": [
    "## Logging\n"
   ],
   "metadata": {
    "pycharm": {
     "name": "#%% md\n"
    }
   }
  },
  {
   "cell_type": "code",
   "execution_count": null,
   "source": [
    "import matplotlib"
   ],
   "outputs": [],
   "metadata": {}
  },
  {
   "cell_type": "code",
   "execution_count": null,
   "source": [
    "import time\r\n",
    "import pathlib as pl\r\n",
    "import sys\r\n",
    "repo_dir = '..'                                      # CHANGE THIS TO YOUR REPO DIRECTORY\r\n",
    "repo_dir = pl.Path(repo_dir)\r\n",
    "\r\n",
    "from AMDC_Logger import AMDC_Logger, find_mapfile"
   ],
   "outputs": [],
   "metadata": {}
  },
  {
   "cell_type": "code",
   "execution_count": null,
   "source": [
    "amdc.connect()"
   ],
   "outputs": [],
   "metadata": {}
  },
  {
   "cell_type": "code",
   "execution_count": null,
   "source": [
    "cmd.twin_enable_log()\r\n",
    "\r\n",
    "mapfile_path = find_mapfile(repo_dir)\r\n",
    "logger = AMDC_Logger(AMDC = amdc, mapfile = mapfile_path)\r\n",
    "logger.sync()\r\n",
    "\r\n",
    "# View which variables are logged\r\n",
    "#logger.info()"
   ],
   "outputs": [],
   "metadata": {
    "pycharm": {
     "name": "#%%\n"
    }
   }
  },
  {
   "cell_type": "code",
   "execution_count": null,
   "source": [
    "logger.unregister_all()\r\n",
    "#logger.register('Ia1_a Ia1_b Ia1_c Ib1_a Ib1_b Ib1_c Ia2_a Ia2_b Ia2_c Ib2_a Ib2_b Ib2_c', samples_per_sec = 1000, var_type = 'double')\r\n",
    "logger.register('Iabc1_a Iabc1_b Iabc1_c Iabc2_a Iabc2_b Iabc2_c Iabc3_a Iabc3_b Iabc3_c', samples_per_sec = 1000, var_type = 'double')\r\n",
    "\r\n",
    "# View which variables are logged\r\n",
    "logger.info()"
   ],
   "outputs": [],
   "metadata": {
    "pycharm": {
     "name": "#%%\n"
    }
   }
  },
  {
   "cell_type": "code",
   "execution_count": null,
   "source": [
    "####################   COLLECT DATA   ####################\r\n",
    "# Clear the logger, then record data\r\n",
    "logger.clear_all()\r\n",
    "logger.start()\r\n",
    "\r\n",
    "# DATA IS BEING RECORDED\r\n",
    "time.sleep(1)\r\n",
    "\r\n",
    "logger.stop()"
   ],
   "outputs": [],
   "metadata": {}
  },
  {
   "cell_type": "code",
   "execution_count": null,
   "source": [
    "####################   DUMP DATA AND PLOT   ####################\r\n",
    "data = logger.dump(file = 'test_data.csv')\r\n",
    "data"
   ],
   "outputs": [],
   "metadata": {}
  },
  {
   "cell_type": "code",
   "execution_count": null,
   "source": [
    "data.filter(regex=\"^Iabc1_a|Iabc2_a$\").plot()"
   ],
   "outputs": [],
   "metadata": {}
  },
  {
   "cell_type": "code",
   "execution_count": null,
   "source": [
    "data.filter(regex=\"^Ib1_a|Ib1_b|Ib1_c$\").plot()"
   ],
   "outputs": [],
   "metadata": {}
  },
  {
   "cell_type": "code",
   "execution_count": null,
   "source": [
    "data.filter(regex=\"^Iabc2_a|Iabc2_b|Iabc2_c$\").plot()"
   ],
   "outputs": [],
   "metadata": {}
  },
  {
   "cell_type": "code",
   "execution_count": null,
   "source": [
    "data.filter(regex=\"^Iabc3_a|Iabc3_b|Iabc3_c$\").plot()"
   ],
   "outputs": [],
   "metadata": {
    "scrolled": true
   }
  },
  {
   "cell_type": "code",
   "execution_count": null,
   "source": [
    "logger.unregister_all()\r\n",
    "logger.register('Iabc1_a Iabc1_b Iabc1_c', samples_per_sec = 1000, var_type = 'double')\r\n",
    "\r\n",
    "# View which variables are logged\r\n",
    "logger.info()\r\n",
    "\r\n",
    "logger.clear_all()\r\n",
    "logger.start()\r\n",
    "\r\n",
    "# DATA IS BEING RECORDED\r\n",
    "time.sleep(1)\r\n",
    "\r\n",
    "logger.stop()\r\n",
    "\r\n",
    "data = logger.dump(file = 'test_data.csv')\r\n",
    "data\r\n",
    "\r\n",
    "data.filter(regex=\"^Iabc1_a|Iabc1_b|Iabc1_c$\").plot()"
   ],
   "outputs": [],
   "metadata": {
    "collapsed": false,
    "pycharm": {
     "name": "#%%\n"
    }
   }
  },
  {
   "cell_type": "code",
   "execution_count": null,
   "source": [
    "cmd.init_twin_ctrl()\r\n"
   ],
   "outputs": [],
   "metadata": {
    "pycharm": {
     "name": "#%%\n"
    }
   }
  },
  {
   "cell_type": "code",
   "execution_count": null,
   "source": [
    "logger.unregister_all()\r\n",
    "logger.register('vabc1_a vabc1_b vabc1_c', samples_per_sec = 1000, var_type = 'double')\r\n",
    "\r\n",
    "# View which variables are logged\r\n",
    "logger.info()\r\n",
    "\r\n",
    "logger.clear_all()\r\n",
    "logger.start()\r\n",
    "\r\n",
    "# DATA IS BEING RECORDED\r\n",
    "time.sleep(1)\r\n",
    "\r\n",
    "logger.stop()\r\n",
    "\r\n",
    "data = logger.dump(file = 'test_data.csv')\r\n",
    "data\r\n",
    "\r\n",
    "data.filter(regex=\"^vabc1_a|vabc1_b|vabc1_c$\").plot()"
   ],
   "outputs": [],
   "metadata": {}
  },
  {
   "cell_type": "code",
   "execution_count": null,
   "source": [
    "cmd.twin_set_trq(0,0)\r\n",
    "cmd.twin_set_s1(0,0)\r\n",
    "cmd.twin_set_s2(0,0)"
   ],
   "outputs": [],
   "metadata": {
    "pycharm": {
     "name": "#%%\n"
    }
   }
  },
  {
   "cell_type": "code",
   "execution_count": null,
   "source": [
    "cmd.twin_set_freq(100)\r\n",
    "logger.unregister_all()\r\n",
    "logger.register('Itq_d_ref Itq_q_ref Itq_d Itq_q Is1_d_ref Is1_q_ref Is1_d Is1_q Is2_d_ref Is2_q_ref Is2_d Is2_q', samples_per_sec = 1000, var_type = 'double')\r\n",
    "\r\n",
    "# View which variables are logged\r\n",
    "logger.info()\r\n",
    "\r\n",
    "logger.clear_all()\r\n",
    "logger.start()\r\n",
    "cmd.twin_set_trq(0,0)\r\n",
    "cmd.twin_set_s1(0,0)\r\n",
    "cmd.twin_set_s2(0,0)\r\n",
    "    #time.sleep(0.05)\r\n",
    "cmd.twin_set_trq(0,3)\r\n",
    "    #time.sleep(0.05)\r\n",
    "cmd.twin_set_s1(1,0)\r\n",
    "    #time.sleep(0.05)\r\n",
    "cmd.twin_set_s2(1,0)\r\n",
    "cmd.twin_set_trq(0,0)\r\n",
    "cmd.twin_set_s1(0,0)\r\n",
    "cmd.twin_set_s2(0,0)\r\n",
    "    #time.sleep(0.05)\r\n",
    "cmd.twin_set_trq(0,3)\r\n",
    "    #time.sleep(0.05)\r\n",
    "cmd.twin_set_s1(1,0)\r\n",
    "    #time.sleep(0.05)\r\n",
    "cmd.twin_set_s2(1,0)\r\n",
    "logger.stop()"
   ],
   "outputs": [],
   "metadata": {}
  },
  {
   "cell_type": "code",
   "execution_count": null,
   "source": [
    "#cmd.twin_set_freq(10)\r\n",
    "cmd.twin_set_trq(0,3)\r\n",
    "cmd.twin_set_s1(0,0)\r\n",
    "#cmd.twin_set_s2(0,-1)\r\n",
    "# DATA IS BEING RECORDED\r\n",
    "time.sleep(0.5)\r\n",
    "\r\n",
    "cmd.twin_set_s1(1,0)\r\n",
    "time.sleep(0.5)\r\n",
    "\r\n",
    "logger.stop()\r\n"
   ],
   "outputs": [],
   "metadata": {}
  },
  {
   "cell_type": "code",
   "execution_count": null,
   "source": [
    "\r\n",
    "data = logger.dump(file = 'test_data.csv')\r\n",
    "data\r\n"
   ],
   "outputs": [],
   "metadata": {}
  },
  {
   "cell_type": "code",
   "execution_count": null,
   "source": [
    "data.filter(regex=\"^Itq_d_ref|Itq_q_ref|Itq_d|Itq_q$\").plot()\r\n",
    "data.filter(regex=\"^Is1_d_ref|Is1_q_ref|Is1_d|Is1_q$\").plot()\r\n",
    "data.filter(regex=\"^Is2_d_ref|Is2_q_ref|Is2_d|Is2_q$\").plot()"
   ],
   "outputs": [],
   "metadata": {}
  },
  {
   "cell_type": "code",
   "execution_count": null,
   "source": [
    "logger.unregister_all()\r\n",
    "logger.register('Is1_d_ref Is1_q_ref Is1_d Is1_q', samples_per_sec = 1000, var_type = 'double')\r\n",
    "\r\n",
    "# View which variables are logged\r\n",
    "logger.info()\r\n",
    "\r\n",
    "logger.clear_all()\r\n",
    "logger.start()\r\n",
    "\r\n",
    "# DATA IS BEING RECORDED\r\n",
    "time.sleep(1)\r\n",
    "\r\n",
    "logger.stop()\r\n"
   ],
   "outputs": [],
   "metadata": {}
  },
  {
   "cell_type": "code",
   "execution_count": null,
   "source": [
    "#data = logger.dump(file = 'test_data.csv')\r\n",
    "#data\r\n",
    "data.filter(regex=\"^Is1_d_ref|Is1_q_ref|Is1_d|Is1_q$\").plot()"
   ],
   "outputs": [],
   "metadata": {}
  },
  {
   "cell_type": "code",
   "execution_count": null,
   "source": [
    "logger.unregister_all()\r\n",
    "logger.register('Is2_d_ref Is2_q_ref Is2_d Is2_q', samples_per_sec = 1000, var_type = 'double')\r\n",
    "\r\n",
    "# View which variables are logged\r\n",
    "logger.info()\r\n",
    "\r\n",
    "logger.clear_all()\r\n",
    "logger.start()\r\n",
    "\r\n",
    "# DATA IS BEING RECORDED\r\n",
    "time.sleep(1)\r\n",
    "\r\n",
    "logger.stop()\r\n",
    "\r\n",
    "data = logger.dump(file = 'test_data.csv')\r\n",
    "data\r\n",
    "\r\n",
    "data.filter(regex=\"^Is2_d_ref|Is2_q_ref|Is2_d|Is2_q$\").plot()"
   ],
   "outputs": [],
   "metadata": {}
  },
  {
   "cell_type": "code",
   "execution_count": null,
   "source": [
    "\r\n",
    "logger.unregister_all()\r\n",
    "logger.register('v_tq_d v_tq_q', samples_per_sec = 1000, var_type = 'double')\r\n",
    "\r\n",
    "# View which variables are logged\r\n",
    "logger.info()\r\n",
    "\r\n",
    "logger.clear_all()\r\n",
    "logger.start()\r\n",
    "\r\n",
    "# DATA IS BEING RECORDED\r\n",
    "time.sleep(1)\r\n",
    "\r\n",
    "logger.stop()\r\n",
    "\r\n",
    "data = logger.dump(file = 'test_data.csv')\r\n",
    "data\r\n",
    "\r\n",
    "data.filter(regex=\"^v_tq_d|v_tq_q$\").plot()"
   ],
   "outputs": [],
   "metadata": {}
  },
  {
   "cell_type": "code",
   "execution_count": null,
   "source": [
    "logger.unregister_all()\r\n",
    "logger.register('we_tq', samples_per_sec = 1000, var_type = 'double')\r\n",
    "\r\n",
    "# View which variables are logged\r\n",
    "logger.info()\r\n",
    "\r\n",
    "logger.clear_all()\r\n",
    "logger.start()\r\n",
    "\r\n",
    "# DATA IS BEING RECORDED\r\n",
    "time.sleep(1)\r\n",
    "\r\n",
    "logger.stop()\r\n",
    "\r\n",
    "data = logger.dump(file = 'test_data.csv')\r\n",
    "data\r\n",
    "\r\n",
    "data.filter(regex=\"^we_tq$\").plot()"
   ],
   "outputs": [],
   "metadata": {}
  },
  {
   "cell_type": "code",
   "execution_count": null,
   "source": [],
   "outputs": [],
   "metadata": {}
  }
 ],
 "metadata": {
  "kernelspec": {
   "name": "python3",
   "display_name": "Python 3.7.3 64-bit ('base': conda)"
  },
  "language_info": {
   "codemirror_mode": {
    "name": "ipython",
    "version": 3
   },
   "file_extension": ".py",
   "mimetype": "text/x-python",
   "name": "python",
   "nbconvert_exporter": "python",
   "pygments_lexer": "ipython3",
   "version": "3.7.3"
  },
  "interpreter": {
   "hash": "b3ba2566441a7c06988d0923437866b63cedc61552a5af99d1f4fb67d367b25f"
  }
 },
 "nbformat": 4,
 "nbformat_minor": 2
}